{
 "cells": [
  {
   "cell_type": "code",
   "execution_count": 60,
   "metadata": {},
   "outputs": [],
   "source": [
    "import pandas as pd\n",
    "import numpy as np\n",
    "from sklearn.preprocessing import StandardScaler\n",
    "from sklearn.decomposition import PCA\n",
    "import plotly.express as px"
   ]
  },
  {
   "cell_type": "markdown",
   "metadata": {},
   "source": [
    "Load dataset from .csv file"
   ]
  },
  {
   "cell_type": "code",
   "execution_count": 61,
   "metadata": {},
   "outputs": [],
   "source": [
    "dataset = pd.read_csv(\"data.csv\", encoding='latin-1')"
   ]
  },
  {
   "cell_type": "code",
   "execution_count": 62,
   "metadata": {
    "scrolled": true
   },
   "outputs": [
    {
     "name": "stdout",
     "output_type": "stream",
     "text": [
      "(439, 80)\n"
     ]
    }
   ],
   "source": [
    "print(dataset.shape)\n",
    "dataset = dataset.drop(columns = ['Museum', 'Subspecies',  'Elevation', 'Species.1', 'Museum.1', '[H]a', 'Preparation', 'Unnamed: 76', 'State/Province', 'Region', 'Locality', 'Species.2', 'Museum.2', 'Specimen_Number.1',  'Isotope_Samp_ID'], axis = 1)\n",
    "dataset = dataset.dropna()"
   ]
  },
  {
   "cell_type": "code",
   "execution_count": 63,
   "metadata": {},
   "outputs": [
    {
     "name": "stdout",
     "output_type": "stream",
     "text": [
      "     Specimen _Number        Species  Clade      Sex  Body Mass (g)  \\\n",
      "59           608512.0  albidiventris  Small     Male           34.0   \n",
      "125          609498.0    albiventris  Small   Female           28.3   \n",
      "146          793177.0    atacamensis  Large   female           49.0   \n",
      "147          798897.0    atacamensis  Large   female           54.7   \n",
      "204          814047.0      excelsior  Large   female           65.0   \n",
      "225          779487.0         fuscus  Small     male           28.4   \n",
      "226          779488.0         fuscus  Small     male           31.3   \n",
      "227          779489.0         fuscus  Small     male           29.3   \n",
      "228          779490.0         fuscus  Small     male           31.3   \n",
      "229          779491.0         fuscus  Small   female           26.2   \n",
      "230          779492.0         fuscus  Small   female           27.1   \n",
      "231          779493.0         fuscus  Small   female           30.3   \n",
      "278          485619.0         fuscus  Small   Female           31.0   \n",
      "279          485622.0         fuscus  Small     Male           34.0   \n",
      "280          485623.0         fuscus  Small     Male           31.0   \n",
      "333          485617.0      oustaleti  Small   Female           32.0   \n",
      "334          485618.0      oustaleti  Small     Male           30.5   \n",
      "335          536371.0      oustaleti  Small     Male           31.3   \n",
      "336          536372.0      oustaleti  Small     Male           33.0   \n",
      "339          536375.0      oustaleti  Small     Male           34.7   \n",
      "352          826128.0    patagonicus  Large   female           48.0   \n",
      "397          485548.0    patagonicus  Large   Female           45.0   \n",
      "398          485613.0    patagonicus  Large   Female           49.5   \n",
      "399          485614.0    patagonicus  Large     Male           48.0   \n",
      "400          536365.0    patagonicus  Large   Female           52.0   \n",
      "401          536366.0    patagonicus  Large     Male           50.0   \n",
      "402          536367.0    patagonicus  Large     Male           49.6   \n",
      "404          536369.0    patagonicus  Large     Male           50.2   \n",
      "405          536370.0    patagonicus  Large     Male           52.6   \n",
      "406          536376.0    patagonicus  Large     Male           54.4   \n",
      "407          536377.0    patagonicus  Large     Male           60.7   \n",
      "408          608287.0    patagonicus  Large  Unknown           42.0   \n",
      "409          608288.0    patagonicus  Large  Unknown           44.0   \n",
      "410          608289.0    patagonicus  Large  Unknown           36.0   \n",
      "\n",
      "     Body _Length _(mm)  Head _Length _(mm)  Bill Length (mm)  \\\n",
      "59                174.0               35.97             13.00   \n",
      "125               169.0               39.85             11.96   \n",
      "146               202.0               43.53             18.98   \n",
      "147               204.0               47.38             19.87   \n",
      "204               211.0               50.49             22.00   \n",
      "225               179.0               39.80             15.21   \n",
      "226               201.0               39.76             13.19   \n",
      "227               186.0               38.90             15.43   \n",
      "228               189.0               37.64             16.45   \n",
      "229               183.0               39.74             14.53   \n",
      "230               181.0               39.50             14.82   \n",
      "231               198.0               40.36             14.07   \n",
      "278               178.0               40.15             14.19   \n",
      "279               176.0               40.20             12.23   \n",
      "280               162.0               39.47             12.57   \n",
      "333               169.0               39.28             14.88   \n",
      "334               169.0               39.32             13.31   \n",
      "335               166.0               40.93             14.96   \n",
      "336               187.0               41.61             13.95   \n",
      "339               187.0               42.19             14.41   \n",
      "352               190.0               44.28             17.18   \n",
      "397               199.0               45.63             19.44   \n",
      "398               198.0               45.13             19.23   \n",
      "399               196.0               42.41             15.69   \n",
      "400               219.0               49.47             19.35   \n",
      "401               216.0               49.22             19.63   \n",
      "402               214.0               49.12             18.42   \n",
      "404               216.0               49.12             17.80   \n",
      "405               223.0               49.62             18.73   \n",
      "406               217.0               50.30             20.16   \n",
      "407               212.0               51.10             18.82   \n",
      "408               201.0               45.49             17.08   \n",
      "409               203.0               44.13             17.04   \n",
      "410               190.0               41.04             15.92   \n",
      "\n",
      "     Bill Width1 (mm)  Bill Width2 (mm)  ...       D15N       D13C  \\\n",
      "59               4.41              1.67  ...   7.176129 -22.273131   \n",
      "125              4.23              2.10  ...   5.771343 -22.642056   \n",
      "146              5.44              2.55  ...  10.756446 -19.051570   \n",
      "147              5.13              2.16  ...   8.966113 -23.841625   \n",
      "204              5.82              3.07  ...   5.470049 -21.098729   \n",
      "225              4.13              1.65  ...   4.241066 -22.278851   \n",
      "226              4.23              1.72  ...   5.817326 -21.814492   \n",
      "227              3.51              1.69  ...   2.777897 -22.180261   \n",
      "228              4.54              1.73  ...   4.209041 -22.123079   \n",
      "229              3.74              1.64  ...   7.045308 -21.733649   \n",
      "230              4.35              1.76  ...   6.934219 -19.817059   \n",
      "231              3.93              1.71  ...   6.798110 -21.591679   \n",
      "278              3.89              2.10  ...  12.643242 -20.888925   \n",
      "279              3.67              3.08  ...  13.251358 -21.878627   \n",
      "280              3.89              2.19  ...  11.445769 -19.239092   \n",
      "333              2.94              1.79  ...   3.824585 -23.037544   \n",
      "334              3.35              1.77  ...   4.602498 -22.246569   \n",
      "335              3.67              1.73  ...  14.115158 -13.250701   \n",
      "336              3.84              1.68  ...  13.647225 -14.389942   \n",
      "339              3.66              1.60  ...  14.986855 -12.350524   \n",
      "352              4.55              1.78  ...  16.344742 -16.622743   \n",
      "397              4.30              2.00  ...   5.806882 -24.715907   \n",
      "398              4.65              2.14  ...  16.523926 -10.564927   \n",
      "399              3.84              1.82  ...  12.919658 -18.579946   \n",
      "400              5.12              2.31  ...  12.446790 -19.091522   \n",
      "401              4.41              2.07  ...  15.183308 -13.009670   \n",
      "402              4.59              2.16  ...  14.974022 -13.585193   \n",
      "404              4.73              2.01  ...  14.179326 -14.438148   \n",
      "405              4.64              2.35  ...  15.037202 -14.098737   \n",
      "406              3.92              2.00  ...  24.564670 -16.359509   \n",
      "407              4.53              2.24  ...  20.325633 -18.555351   \n",
      "408              4.32              2.07  ...   8.607569 -23.480254   \n",
      "409              4.54              2.22  ...   8.995538 -18.589784   \n",
      "410              4.06              1.94  ...   8.284754 -19.868724   \n",
      "\n",
      "     Prct_Nitrogen  Prct_Carbon  C_N_Ratio       ?18O      dDa      dDb  \\\n",
      "59       13.871266    45.905594   3.309402   5.811644  -83.900  -97.100   \n",
      "125      13.725655    45.102260   3.285982   5.276920  -54.300  -64.700   \n",
      "146      13.786684    45.209634   3.279225   3.067845 -127.307 -121.201   \n",
      "147      14.339404    45.443613   3.169142   2.853813 -112.827 -101.081   \n",
      "204      14.389693    46.420923   3.225984  -0.879340 -103.237 -101.040   \n",
      "225      13.868024    45.468678   3.278670   3.616647  -74.800  -85.500   \n",
      "226      13.781997    44.978941   3.263601   4.829858  -79.700  -81.600   \n",
      "227      13.887988    45.466096   3.273771   2.351101  -80.500  -85.600   \n",
      "228      13.237235    45.001250   3.399596   5.032955  -61.700  -68.100   \n",
      "229      13.824699    45.608103   3.299030   2.186486  -71.900  -80.400   \n",
      "230      14.140561    45.386834   3.209691   4.904156  -63.000  -71.000   \n",
      "231      13.541778    44.787564   3.307362   5.835272  -85.300  -97.200   \n",
      "278      13.927523    44.871669   3.221798  10.364215  -57.800  -49.000   \n",
      "279      13.685530    44.140242   3.225322   7.528495  -47.200  -42.000   \n",
      "280      13.777822    44.266260   3.212863   8.972548  -46.000  -49.600   \n",
      "333      13.631865    45.077035   3.306740   5.643212  -81.000  -89.000   \n",
      "334      13.430176    44.786104   3.334737   4.000107  -98.400 -101.100   \n",
      "335      13.451659    44.024461   3.272791   8.079144  -50.200  -61.700   \n",
      "336      13.903557    44.669516   3.212812   6.819496  -56.800  -55.100   \n",
      "339      13.974309    44.950853   3.216678   7.166696  -44.600  -43.000   \n",
      "352      13.906773    45.341298   3.260375   6.552258  -74.500  -69.400   \n",
      "397      13.705250    44.173121   3.223080   3.557636  -91.200  -71.300   \n",
      "398      13.683795    44.007125   3.216003   8.623763  -36.900  -58.600   \n",
      "399      13.531517    44.450881   3.284989   6.635970  -55.100  -58.300   \n",
      "400      14.209451    45.379943   3.193645   6.409341  -75.100  -75.100   \n",
      "401      20.886987    67.028805   3.209118   6.787018  -68.100  -53.500   \n",
      "402      13.736831    44.746665   3.257423   8.295333  -68.500  -57.900   \n",
      "404      14.221473    45.291309   3.184713   7.775801  -81.500  -70.200   \n",
      "405      13.966907    44.993190   3.221414   7.755209  -73.700  -64.300   \n",
      "406      13.879584    44.801546   3.227874   7.276610  -56.000  -36.300   \n",
      "407      13.983906    45.098536   3.225031   6.556972  -72.200  -52.200   \n",
      "408      14.057153    45.334907   3.225042   2.669727 -134.400 -136.700   \n",
      "409      13.865926    44.767480   3.228596   1.129221 -131.600 -136.700   \n",
      "410      13.688523    44.459598   3.247947   0.166062 -139.200 -131.300   \n",
      "\n",
      "         [H]b  Mean_dD  \n",
      "59   5.090000  -90.499  \n",
      "125  5.020000  -59.496  \n",
      "146  5.322666 -124.254  \n",
      "147  5.516017 -106.954  \n",
      "204  3.950280 -102.139  \n",
      "225  5.070000  -80.147  \n",
      "226  5.010000  -80.637  \n",
      "227  4.780000  -83.088  \n",
      "228  4.770000  -64.914  \n",
      "229  4.910000  -76.136  \n",
      "230  5.070000  -66.972  \n",
      "231  4.960000  -91.236  \n",
      "278  5.050000  -53.393  \n",
      "279  4.960000  -44.590  \n",
      "280  5.010000  -47.812  \n",
      "333  5.150000  -85.001  \n",
      "334  5.210000  -99.752  \n",
      "335  4.990000  -55.913  \n",
      "336  4.870000  -55.925  \n",
      "339  5.130000  -43.813  \n",
      "352  5.060000  -71.947  \n",
      "397  4.820000  -81.264  \n",
      "398  5.100000  -47.736  \n",
      "399  5.180000  -56.664  \n",
      "400  5.210000  -75.123  \n",
      "401  5.170000  -60.771  \n",
      "402  4.960000  -63.185  \n",
      "404  5.010000  -75.872  \n",
      "405  5.200000  -69.013  \n",
      "406  5.140000  -46.168  \n",
      "407  5.060000  -62.209  \n",
      "408  5.240000 -135.514  \n",
      "409  5.370000 -134.163  \n",
      "410  4.960000 -135.255  \n",
      "\n",
      "[34 rows x 65 columns]\n"
     ]
    }
   ],
   "source": [
    "print(dataset)"
   ]
  },
  {
   "cell_type": "markdown",
   "metadata": {},
   "source": [
    "Replace character data with numbers"
   ]
  },
  {
   "cell_type": "code",
   "execution_count": 64,
   "metadata": {},
   "outputs": [],
   "source": [
    "def words_to_numeric(data):\n",
    "    num = 0\n",
    "    count = 0\n",
    "    types_dict = {}\n",
    "    for el in data:\n",
    "        el = el.lower()\n",
    "        if el not in types_dict:\n",
    "            types_dict[(el.lower())] = num\n",
    "            num += 1\n",
    "        count += 1\n",
    "    return types_dict\n",
    "\n",
    "def change_dataset():\n",
    "    dataset['Sex'] = dataset['Sex'].apply(lambda x: sex_dict[x.lower()])"
   ]
  },
  {
   "cell_type": "code",
   "execution_count": 65,
   "metadata": {},
   "outputs": [
    {
     "name": "stdout",
     "output_type": "stream",
     "text": [
      "{'male': 0, 'female': 1, 'unknown': 2}\n",
      "{'small': 0, 'large': 1}\n",
      "{'ecuador': 0, 'argentina': 1, 'bolivia': 2, 'peru': 3, 'columbia': 4, 'chile': 5}\n"
     ]
    }
   ],
   "source": [
    "to_change_list = ('Sex', 'Clade', 'Country')\n",
    "for name in to_change_list:\n",
    "    new_data =  words_to_numeric(dataset[name])\n",
    "    print(new_data)\n",
    "    dataset[name] = dataset[name].apply(lambda x: new_data[x.lower()])"
   ]
  },
  {
   "cell_type": "markdown",
   "metadata": {},
   "source": [
    "## Analysis of initial data\n",
    "let's build some comparative graphs"
   ]
  },
  {
   "cell_type": "code",
   "execution_count": 66,
   "metadata": {},
   "outputs": [
    {
     "data": {
      "text/plain": [
       "Text(0.5, 1.0, 'Species')"
      ]
     },
     "execution_count": 66,
     "metadata": {},
     "output_type": "execute_result"
    },
    {
     "data": {
      "image/png": "[encoded data removed]",
      "text/plain": [
       "<Figure size 432x288 with 1 Axes>"
      ]
     },
     "metadata": {
      "needs_background": "light"
     },
     "output_type": "display_data"
    }
   ],
   "source": [
    "fig, axs = plt.subplots(1, 1)\n",
    "axs.hist(dataset['Species'], bins=10)\n",
    "plt.xticks(rotation=90)\n",
    "axs.set_title('Species')"
   ]
  },
  {
   "cell_type": "code",
   "execution_count": 67,
   "metadata": {},
   "outputs": [
    {
     "name": "stdout",
     "output_type": "stream",
     "text": [
      "Index(['Clade', 'Sex', 'Body Mass (g)', 'Body _Length _(mm)',\n",
      "       'Head _Length _(mm)', 'Bill Length (mm)'],\n",
      "      dtype='object')\n"
     ]
    },
    {
     "data": {
      "application/vnd.plotly.v1+json": {
       "config": {
        "plotlyServerURL": "https://plot.ly"
       },
       "data": [
        {
         "diagonal": {
          "visible": false
         },
         "dimensions": [
          {
           "axis": {
            "matches": true
           },
           "label": "Clade",
           "values": [
            0
           ]
          },
          {
           "axis": {
            "matches": true
           },
           "label": "Sex",
           "values": [
            0
           ]
          },
          {
           "axis": {
            "matches": true
           },
           "label": "Body Mass (g)",
           "values": [
            34
           ]
          },
          {
           "axis": {
            "matches": true
           },
           "label": "Body _Length _(mm)",
           "values": [
            174
           ]
          },
          {
           "axis": {
            "matches": true
           },
           "label": "Head _Length _(mm)",
           "values": [
            35.97
           ]
          },
          {
           "axis": {
            "matches": true
           },
           "label": "Bill Length (mm)",
           "values": [
            13
           ]
          }
         ],
         "hovertemplate": "Species=albidiventris<br>%{xaxis.title.text}=%{x}<br>%{yaxis.title.text}=%{y}<extra></extra>",
         "legendgroup": "albidiventris",
         "marker": {
          "color": "#636efa",
          "symbol": "circle"
         },
         "name": "albidiventris",
         "showlegend": true,
         "type": "splom"
        },
        {
         "diagonal": {
          "visible": false
         },
         "dimensions": [
          {
           "axis": {
            "matches": true
           },
           "label": "Clade",
           "values": [
            0
           ]
          },
          {
           "axis": {
            "matches": true
           },
           "label": "Sex",
           "values": [
            1
           ]
          },
          {
           "axis": {
            "matches": true
           },
           "label": "Body Mass (g)",
           "values": [
            28.3
           ]
          },
          {
           "axis": {
            "matches": true
           },
           "label": "Body _Length _(mm)",
           "values": [
            169
           ]
          },
          {
           "axis": {
            "matches": true
           },
           "label": "Head _Length _(mm)",
           "values": [
            39.85
           ]
          },
          {
           "axis": {
            "matches": true
           },
           "label": "Bill Length (mm)",
           "values": [
            11.96
           ]
          }
         ],
         "hovertemplate": "Species=albiventris<br>%{xaxis.title.text}=%{x}<br>%{yaxis.title.text}=%{y}<extra></extra>",
         "legendgroup": "albiventris",
         "marker": {
          "color": "#EF553B",
          "symbol": "circle"
         },
         "name": "albiventris",
         "showlegend": true,
         "type": "splom"
        },
        {
         "diagonal": {
          "visible": false
         },
         "dimensions": [
          {
           "axis": {
            "matches": true
           },
           "label": "Clade",
           "values": [
            1,
            1
           ]
          },
          {
           "axis": {
            "matches": true
           },
           "label": "Sex",
           "values": [
            1,
            1
           ]
          },
          {
           "axis": {
            "matches": true
           },
           "label": "Body Mass (g)",
           "values": [
            49,
            54.7
           ]
          },
          {
           "axis": {
            "matches": true
           },
           "label": "Body _Length _(mm)",
           "values": [
            202,
            204
           ]
          },
          {
           "axis": {
            "matches": true
           },
           "label": "Head _Length _(mm)",
           "values": [
            43.53,
            47.38
           ]
          },
          {
           "axis": {
            "matches": true
           },
           "label": "Bill Length (mm)",
           "values": [
            18.98,
            19.87
           ]
          }
         ],
         "hovertemplate": "Species=atacamensis<br>%{xaxis.title.text}=%{x}<br>%{yaxis.title.text}=%{y}<extra></extra>",
         "legendgroup": "atacamensis",
         "marker": {
          "color": "#00cc96",
          "symbol": "circle"
         },
         "name": "atacamensis",
         "showlegend": true,
         "type": "splom"
        },
        {
         "diagonal": {
          "visible": false
         },
         "dimensions": [
          {
           "axis": {
            "matches": true
           },
           "label": "Clade",
           "values": [
            1
           ]
          },
          {
           "axis": {
            "matches": true
           },
           "label": "Sex",
           "values": [
            1
           ]
          },
          {
           "axis": {
            "matches": true
           },
           "label": "Body Mass (g)",
           "values": [
            65
           ]
          },
          {
           "axis": {
            "matches": true
           },
           "label": "Body _Length _(mm)",
           "values": [
            211
           ]
          },
          {
           "axis": {
            "matches": true
           },
           "label": "Head _Length _(mm)",
           "values": [
            50.49
           ]
          },
          {
           "axis": {
            "matches": true
           },
           "label": "Bill Length (mm)",
           "values": [
            22
           ]
          }
         ],
         "hovertemplate": "Species=excelsior<br>%{xaxis.title.text}=%{x}<br>%{yaxis.title.text}=%{y}<extra></extra>",
         "legendgroup": "excelsior",
         "marker": {
          "color": "#ab63fa",
          "symbol": "circle"
         },
         "name": "excelsior",
         "showlegend": true,
         "type": "splom"
        },
        {
         "diagonal": {
          "visible": false
         },
         "dimensions": [
          {
           "axis": {
            "matches": true
           },
           "label": "Clade",
           "values": [
            0,
            0,
            0,
            0,
            0,
            0,
            0,
            0,
            0,
            0
           ]
          },
          {
           "axis": {
            "matches": true
           },
           "label": "Sex",
           "values": [
            0,
            0,
            0,
            0,
            1,
            1,
            1,
            1,
            0,
            0
           ]
          },
          {
           "axis": {
            "matches": true
           },
           "label": "Body Mass (g)",
           "values": [
            28.4,
            31.3,
            29.3,
            31.3,
            26.2,
            27.1,
            30.3,
            31,
            34,
            31
           ]
          },
          {
           "axis": {
            "matches": true
           },
           "label": "Body _Length _(mm)",
           "values": [
            179,
            201,
            186,
            189,
            183,
            181,
            198,
            178,
            176,
            162
           ]
          },
          {
           "axis": {
            "matches": true
           },
           "label": "Head _Length _(mm)",
           "values": [
            39.8,
            39.76,
            38.9,
            37.64,
            39.74,
            39.5,
            40.36,
            40.15,
            40.2,
            39.47
           ]
          },
          {
           "axis": {
            "matches": true
           },
           "label": "Bill Length (mm)",
           "values": [
            15.21,
            13.19,
            15.43,
            16.45,
            14.53,
            14.82,
            14.07,
            14.19,
            12.23,
            12.57
           ]
          }
         ],
         "hovertemplate": "Species=fuscus<br>%{xaxis.title.text}=%{x}<br>%{yaxis.title.text}=%{y}<extra></extra>",
         "legendgroup": "fuscus",
         "marker": {
          "color": "#FFA15A",
          "symbol": "circle"
         },
         "name": "fuscus",
         "showlegend": true,
         "type": "splom"
        },
        {
         "diagonal": {
          "visible": false
         },
         "dimensions": [
          {
           "axis": {
            "matches": true
           },
           "label": "Clade",
           "values": [
            0,
            0,
            0,
            0,
            0
           ]
          },
          {
           "axis": {
            "matches": true
           },
           "label": "Sex",
           "values": [
            1,
            0,
            0,
            0,
            0
           ]
          },
          {
           "axis": {
            "matches": true
           },
           "label": "Body Mass (g)",
           "values": [
            32,
            30.5,
            31.3,
            33,
            34.7
           ]
          },
          {
           "axis": {
            "matches": true
           },
           "label": "Body _Length _(mm)",
           "values": [
            169,
            169,
            166,
            187,
            187
           ]
          },
          {
           "axis": {
            "matches": true
           },
           "label": "Head _Length _(mm)",
           "values": [
            39.28,
            39.32,
            40.93,
            41.61,
            42.19
           ]
          },
          {
           "axis": {
            "matches": true
           },
           "label": "Bill Length (mm)",
           "values": [
            14.88,
            13.31,
            14.96,
            13.95,
            14.41
           ]
          }
         ],
         "hovertemplate": "Species=oustaleti<br>%{xaxis.title.text}=%{x}<br>%{yaxis.title.text}=%{y}<extra></extra>",
         "legendgroup": "oustaleti",
         "marker": {
          "color": "#19d3f3",
          "symbol": "circle"
         },
         "name": "oustaleti",
         "showlegend": true,
         "type": "splom"
        },
        {
         "diagonal": {
          "visible": false
         },
         "dimensions": [
          {
           "axis": {
            "matches": true
           },
           "label": "Clade",
           "values": [
            1,
            1,
            1,
            1,
            1,
            1,
            1,
            1,
            1,
            1,
            1,
            1,
            1,
            1
           ]
          },
          {
           "axis": {
            "matches": true
           },
           "label": "Sex",
           "values": [
            1,
            1,
            1,
            0,
            1,
            0,
            0,
            0,
            0,
            0,
            0,
            2,
            2,
            2
           ]
          },
          {
           "axis": {
            "matches": true
           },
           "label": "Body Mass (g)",
           "values": [
            48,
            45,
            49.5,
            48,
            52,
            50,
            49.6,
            50.2,
            52.6,
            54.4,
            60.7,
            42,
            44,
            36
           ]
          },
          {
           "axis": {
            "matches": true
           },
           "label": "Body _Length _(mm)",
           "values": [
            190,
            199,
            198,
            196,
            219,
            216,
            214,
            216,
            223,
            217,
            212,
            201,
            203,
            190
           ]
          },
          {
           "axis": {
            "matches": true
           },
           "label": "Head _Length _(mm)",
           "values": [
            44.28,
            45.63,
            45.13,
            42.41,
            49.47,
            49.22,
            49.12,
            49.12,
            49.62,
            50.3,
            51.1,
            45.49,
            44.13,
            41.04
           ]
          },
          {
           "axis": {
            "matches": true
           },
           "label": "Bill Length (mm)",
           "values": [
            17.18,
            19.44,
            19.23,
            15.69,
            19.35,
            19.63,
            18.42,
            17.8,
            18.73,
            20.16,
            18.82,
            17.08,
            17.04,
            15.92
           ]
          }
         ],
         "hovertemplate": "Species=patagonicus<br>%{xaxis.title.text}=%{x}<br>%{yaxis.title.text}=%{y}<extra></extra>",
         "legendgroup": "patagonicus",
         "marker": {
          "color": "#FF6692",
          "symbol": "circle"
         },
         "name": "patagonicus",
         "showlegend": true,
         "type": "splom"
        }
       ],
       "layout": {
        "dragmode": "select",
        "legend": {
         "title": {
          "text": "Species"
         },
         "tracegroupgap": 0
        },
        "margin": {
         "t": 60
        },
        "template": {
         "data": {
          "bar": [
           {
            "error_x": {
             "color": "#2a3f5f"
            },
            "error_y": {
             "color": "#2a3f5f"
            },
            "marker": {
             "line": {
              "color": "#E5ECF6",
              "width": 0.5
             }
            },
            "type": "bar"
           }
          ],
          "barpolar": [
           {
            "marker": {
             "line": {
              "color": "#E5ECF6",
              "width": 0.5
             }
            },
            "type": "barpolar"
           }
          ],
          "carpet": [
           {
            "aaxis": {
             "endlinecolor": "#2a3f5f",
             "gridcolor": "white",
             "linecolor": "white",
             "minorgridcolor": "white",
             "startlinecolor": "#2a3f5f"
            },
            "baxis": {
             "endlinecolor": "#2a3f5f",
             "gridcolor": "white",
             "linecolor": "white",
             "minorgridcolor": "white",
             "startlinecolor": "#2a3f5f"
            },
            "type": "carpet"
           }
          ],
          "choropleth": [
           {
            "colorbar": {
             "outlinewidth": 0,
             "ticks": ""
            },
            "type": "choropleth"
           }
          ],
          "contour": [
           {
            "colorbar": {
             "outlinewidth": 0,
             "ticks": ""
            },
            "colorscale": [
             [
              0,
              "#0d0887"
             ],
             [
              0.1111111111111111,
              "#46039f"
             ],
             [
              0.2222222222222222,
              "#7201a8"
             ],
             [
              0.3333333333333333,
              "#9c179e"
             ],
             [
              0.4444444444444444,
              "#bd3786"
             ],
             [
              0.5555555555555556,
              "#d8576b"
             ],
             [
              0.6666666666666666,
              "#ed7953"
             ],
             [
              0.7777777777777778,
              "#fb9f3a"
             ],
             [
              0.8888888888888888,
              "#fdca26"
             ],
             [
              1,
              "#f0f921"
             ]
            ],
            "type": "contour"
           }
          ],
          "contourcarpet": [
           {
            "colorbar": {
             "outlinewidth": 0,
             "ticks": ""
            },
            "type": "contourcarpet"
           }
          ],
          "heatmap": [
           {
            "colorbar": {
             "outlinewidth": 0,
             "ticks": ""
            },
            "colorscale": [
             [
              0,
              "#0d0887"
             ],
             [
              0.1111111111111111,
              "#46039f"
             ],
             [
              0.2222222222222222,
              "#7201a8"
             ],
             [
              0.3333333333333333,
              "#9c179e"
             ],
             [
              0.4444444444444444,
              "#bd3786"
             ],
             [
              0.5555555555555556,
              "#d8576b"
             ],
             [
              0.6666666666666666,
              "#ed7953"
             ],
             [
              0.7777777777777778,
              "#fb9f3a"
             ],
             [
              0.8888888888888888,
              "#fdca26"
             ],
             [
              1,
              "#f0f921"
             ]
            ],
            "type": "heatmap"
           }
          ],
          "heatmapgl": [
           {
            "colorbar": {
             "outlinewidth": 0,
             "ticks": ""
            },
            "colorscale": [
             [
              0,
              "#0d0887"
             ],
             [
              0.1111111111111111,
              "#46039f"
             ],
             [
              0.2222222222222222,
              "#7201a8"
             ],
             [
              0.3333333333333333,
              "#9c179e"
             ],
             [
              0.4444444444444444,
              "#bd3786"
             ],
             [
              0.5555555555555556,
              "#d8576b"
             ],
             [
              0.6666666666666666,
              "#ed7953"
             ],
             [
              0.7777777777777778,
              "#fb9f3a"
             ],
             [
              0.8888888888888888,
              "#fdca26"
             ],
             [
              1,
              "#f0f921"
             ]
            ],
            "type": "heatmapgl"
           }
          ],
          "histogram": [
           {
            "marker": {
             "colorbar": {
              "outlinewidth": 0,
              "ticks": ""
             }
            },
            "type": "histogram"
           }
          ],
          "histogram2d": [
           {
            "colorbar": {
             "outlinewidth": 0,
             "ticks": ""
            },
            "colorscale": [
             [
              0,
              "#0d0887"
             ],
             [
              0.1111111111111111,
              "#46039f"
             ],
             [
              0.2222222222222222,
              "#7201a8"
             ],
             [
              0.3333333333333333,
              "#9c179e"
             ],
             [
              0.4444444444444444,
              "#bd3786"
             ],
             [
              0.5555555555555556,
              "#d8576b"
             ],
             [
              0.6666666666666666,
              "#ed7953"
             ],
             [
              0.7777777777777778,
              "#fb9f3a"
             ],
             [
              0.8888888888888888,
              "#fdca26"
             ],
             [
              1,
              "#f0f921"
             ]
            ],
            "type": "histogram2d"
           }
          ],
          "histogram2dcontour": [
           {
            "colorbar": {
             "outlinewidth": 0,
             "ticks": ""
            },
            "colorscale": [
             [
              0,
              "#0d0887"
             ],
             [
              0.1111111111111111,
              "#46039f"
             ],
             [
              0.2222222222222222,
              "#7201a8"
             ],
             [
              0.3333333333333333,
              "#9c179e"
             ],
             [
              0.4444444444444444,
              "#bd3786"
             ],
             [
              0.5555555555555556,
              "#d8576b"
             ],
             [
              0.6666666666666666,
              "#ed7953"
             ],
             [
              0.7777777777777778,
              "#fb9f3a"
             ],
             [
              0.8888888888888888,
              "#fdca26"
             ],
             [
              1,
              "#f0f921"
             ]
            ],
            "type": "histogram2dcontour"
           }
          ],
          "mesh3d": [
           {
            "colorbar": {
             "outlinewidth": 0,
             "ticks": ""
            },
            "type": "mesh3d"
           }
          ],
          "parcoords": [
           {
            "line": {
             "colorbar": {
              "outlinewidth": 0,
              "ticks": ""
             }
            },
            "type": "parcoords"
           }
          ],
          "pie": [
           {
            "automargin": true,
            "type": "pie"
           }
          ],
          "scatter": [
           {
            "marker": {
             "colorbar": {
              "outlinewidth": 0,
              "ticks": ""
             }
            },
            "type": "scatter"
           }
          ],
          "scatter3d": [
           {
            "line": {
             "colorbar": {
              "outlinewidth": 0,
              "ticks": ""
             }
            },
            "marker": {
             "colorbar": {
              "outlinewidth": 0,
              "ticks": ""
             }
            },
            "type": "scatter3d"
           }
          ],
          "scattercarpet": [
           {
            "marker": {
             "colorbar": {
              "outlinewidth": 0,
              "ticks": ""
             }
            },
            "type": "scattercarpet"
           }
          ],
          "scattergeo": [
           {
            "marker": {
             "colorbar": {
              "outlinewidth": 0,
              "ticks": ""
             }
            },
            "type": "scattergeo"
           }
          ],
          "scattergl": [
           {
            "marker": {
             "colorbar": {
              "outlinewidth": 0,
              "ticks": ""
             }
            },
            "type": "scattergl"
           }
          ],
          "scattermapbox": [
           {
            "marker": {
             "colorbar": {
              "outlinewidth": 0,
              "ticks": ""
             }
            },
            "type": "scattermapbox"
           }
          ],
          "scatterpolar": [
           {
            "marker": {
             "colorbar": {
              "outlinewidth": 0,
              "ticks": ""
             }
            },
            "type": "scatterpolar"
           }
          ],
          "scatterpolargl": [
           {
            "marker": {
             "colorbar": {
              "outlinewidth": 0,
              "ticks": ""
             }
            },
            "type": "scatterpolargl"
           }
          ],
          "scatterternary": [
           {
            "marker": {
             "colorbar": {
              "outlinewidth": 0,
              "ticks": ""
             }
            },
            "type": "scatterternary"
           }
          ],
          "surface": [
           {
            "colorbar": {
             "outlinewidth": 0,
             "ticks": ""
            },
            "colorscale": [
             [
              0,
              "#0d0887"
             ],
             [
              0.1111111111111111,
              "#46039f"
             ],
             [
              0.2222222222222222,
              "#7201a8"
             ],
             [
              0.3333333333333333,
              "#9c179e"
             ],
             [
              0.4444444444444444,
              "#bd3786"
             ],
             [
              0.5555555555555556,
              "#d8576b"
             ],
             [
              0.6666666666666666,
              "#ed7953"
             ],
             [
              0.7777777777777778,
              "#fb9f3a"
             ],
             [
              0.8888888888888888,
              "#fdca26"
             ],
             [
              1,
              "#f0f921"
             ]
            ],
            "type": "surface"
           }
          ],
          "table": [
           {
            "cells": {
             "fill": {
              "color": "#EBF0F8"
             },
             "line": {
              "color": "white"
             }
            },
            "header": {
             "fill": {
              "color": "#C8D4E3"
             },
             "line": {
              "color": "white"
             }
            },
            "type": "table"
           }
          ]
         },
         "layout": {
          "annotationdefaults": {
           "arrowcolor": "#2a3f5f",
           "arrowhead": 0,
           "arrowwidth": 1
          },
          "autotypenumbers": "strict",
          "coloraxis": {
           "colorbar": {
            "outlinewidth": 0,
            "ticks": ""
           }
          },
          "colorscale": {
           "diverging": [
            [
             0,
             "#8e0152"
            ],
            [
             0.1,
             "#c51b7d"
            ],
            [
             0.2,
             "#de77ae"
            ],
            [
             0.3,
             "#f1b6da"
            ],
            [
             0.4,
             "#fde0ef"
            ],
            [
             0.5,
             "#f7f7f7"
            ],
            [
             0.6,
             "#e6f5d0"
            ],
            [
             0.7,
             "#b8e186"
            ],
            [
             0.8,
             "#7fbc41"
            ],
            [
             0.9,
             "#4d9221"
            ],
            [
             1,
             "#276419"
            ]
           ],
           "sequential": [
            [
             0,
             "#0d0887"
            ],
            [
             0.1111111111111111,
             "#46039f"
            ],
            [
             0.2222222222222222,
             "#7201a8"
            ],
            [
             0.3333333333333333,
             "#9c179e"
            ],
            [
             0.4444444444444444,
             "#bd3786"
            ],
            [
             0.5555555555555556,
             "#d8576b"
            ],
            [
             0.6666666666666666,
             "#ed7953"
            ],
            [
             0.7777777777777778,
             "#fb9f3a"
            ],
            [
             0.8888888888888888,
             "#fdca26"
            ],
            [
             1,
             "#f0f921"
            ]
           ],
           "sequentialminus": [
            [
             0,
             "#0d0887"
            ],
            [
             0.1111111111111111,
             "#46039f"
            ],
            [
             0.2222222222222222,
             "#7201a8"
            ],
            [
             0.3333333333333333,
             "#9c179e"
            ],
            [
             0.4444444444444444,
             "#bd3786"
            ],
            [
             0.5555555555555556,
             "#d8576b"
            ],
            [
             0.6666666666666666,
             "#ed7953"
            ],
            [
             0.7777777777777778,
             "#fb9f3a"
            ],
            [
             0.8888888888888888,
             "#fdca26"
            ],
            [
             1,
             "#f0f921"
            ]
           ]
          },
          "colorway": [
           "#636efa",
           "#EF553B",
           "#00cc96",
           "#ab63fa",
           "#FFA15A",
           "#19d3f3",
           "#FF6692",
           "#B6E880",
           "#FF97FF",
           "#FECB52"
          ],
          "font": {
           "color": "#2a3f5f"
          },
          "geo": {
           "bgcolor": "white",
           "lakecolor": "white",
           "landcolor": "#E5ECF6",
           "showlakes": true,
           "showland": true,
           "subunitcolor": "white"
          },
          "hoverlabel": {
           "align": "left"
          },
          "hovermode": "closest",
          "mapbox": {
           "style": "light"
          },
          "paper_bgcolor": "white",
          "plot_bgcolor": "#E5ECF6",
          "polar": {
           "angularaxis": {
            "gridcolor": "white",
            "linecolor": "white",
            "ticks": ""
           },
           "bgcolor": "#E5ECF6",
           "radialaxis": {
            "gridcolor": "white",
            "linecolor": "white",
            "ticks": ""
           }
          },
          "scene": {
           "xaxis": {
            "backgroundcolor": "#E5ECF6",
            "gridcolor": "white",
            "gridwidth": 2,
            "linecolor": "white",
            "showbackground": true,
            "ticks": "",
            "zerolinecolor": "white"
           },
           "yaxis": {
            "backgroundcolor": "#E5ECF6",
            "gridcolor": "white",
            "gridwidth": 2,
            "linecolor": "white",
            "showbackground": true,
            "ticks": "",
            "zerolinecolor": "white"
           },
           "zaxis": {
            "backgroundcolor": "#E5ECF6",
            "gridcolor": "white",
            "gridwidth": 2,
            "linecolor": "white",
            "showbackground": true,
            "ticks": "",
            "zerolinecolor": "white"
           }
          },
          "shapedefaults": {
           "line": {
            "color": "#2a3f5f"
           }
          },
          "ternary": {
           "aaxis": {
            "gridcolor": "white",
            "linecolor": "white",
            "ticks": ""
           },
           "baxis": {
            "gridcolor": "white",
            "linecolor": "white",
            "ticks": ""
           },
           "bgcolor": "#E5ECF6",
           "caxis": {
            "gridcolor": "white",
            "linecolor": "white",
            "ticks": ""
           }
          },
          "title": {
           "x": 0.05
          },
          "xaxis": {
           "automargin": true,
           "gridcolor": "white",
           "linecolor": "white",
           "ticks": "",
           "title": {
            "standoff": 15
           },
           "zerolinecolor": "white",
           "zerolinewidth": 2
          },
          "yaxis": {
           "automargin": true,
           "gridcolor": "white",
           "linecolor": "white",
           "ticks": "",
           "title": {
            "standoff": 15
           },
           "zerolinecolor": "white",
           "zerolinewidth": 2
          }
         }
        }
       }
      },
      "text/html": [
       "<div>                            <div id=\"965a41f8-ddd6-47a7-a7e5-390f20422eba\" class=\"plotly-graph-div\" style=\"height:525px; width:100%;\"></div>            <script type=\"text/javascript\">                require([\"plotly\"], function(Plotly) {                    window.PLOTLYENV=window.PLOTLYENV || {};                                    if (document.getElementById(\"965a41f8-ddd6-47a7-a7e5-390f20422eba\")) {                    Plotly.newPlot(                        \"965a41f8-ddd6-47a7-a7e5-390f20422eba\",                        [{\"diagonal\": {\"visible\": false}, \"dimensions\": [{\"axis\": {\"matches\": true}, \"label\": \"Clade\", \"values\": [0]}, {\"axis\": {\"matches\": true}, \"label\": \"Sex\", \"values\": [0]}, {\"axis\": {\"matches\": true}, \"label\": \"Body Mass (g)\", \"values\": [34.0]}, {\"axis\": {\"matches\": true}, \"label\": \"Body _Length _(mm)\", \"values\": [174.0]}, {\"axis\": {\"matches\": true}, \"label\": \"Head _Length _(mm)\", \"values\": [35.97]}, {\"axis\": {\"matches\": true}, \"label\": \"Bill Length (mm)\", \"values\": [13.0]}], \"hovertemplate\": \"Species=albidiventris<br>%{xaxis.title.text}=%{x}<br>%{yaxis.title.text}=%{y}<extra></extra>\", \"legendgroup\": \"albidiventris\", \"marker\": {\"color\": \"#636efa\", \"symbol\": \"circle\"}, \"name\": \"albidiventris\", \"showlegend\": true, \"type\": \"splom\"}, {\"diagonal\": {\"visible\": false}, \"dimensions\": [{\"axis\": {\"matches\": true}, \"label\": \"Clade\", \"values\": [0]}, {\"axis\": {\"matches\": true}, \"label\": \"Sex\", \"values\": [1]}, {\"axis\": {\"matches\": true}, \"label\": \"Body Mass (g)\", \"values\": [28.3]}, {\"axis\": {\"matches\": true}, \"label\": \"Body _Length _(mm)\", \"values\": [169.0]}, {\"axis\": {\"matches\": true}, \"label\": \"Head _Length _(mm)\", \"values\": [39.85]}, {\"axis\": {\"matches\": true}, \"label\": \"Bill Length (mm)\", \"values\": [11.96]}], \"hovertemplate\": \"Species=albiventris<br>%{xaxis.title.text}=%{x}<br>%{yaxis.title.text}=%{y}<extra></extra>\", \"legendgroup\": \"albiventris\", \"marker\": {\"color\": \"#EF553B\", \"symbol\": \"circle\"}, \"name\": \"albiventris\", \"showlegend\": true, \"type\": \"splom\"}, {\"diagonal\": {\"visible\": false}, \"dimensions\": [{\"axis\": {\"matches\": true}, \"label\": \"Clade\", \"values\": [1, 1]}, {\"axis\": {\"matches\": true}, \"label\": \"Sex\", \"values\": [1, 1]}, {\"axis\": {\"matches\": true}, \"label\": \"Body Mass (g)\", \"values\": [49.0, 54.7]}, {\"axis\": {\"matches\": true}, \"label\": \"Body _Length _(mm)\", \"values\": [202.0, 204.0]}, {\"axis\": {\"matches\": true}, \"label\": \"Head _Length _(mm)\", \"values\": [43.53, 47.38]}, {\"axis\": {\"matches\": true}, \"label\": \"Bill Length (mm)\", \"values\": [18.98, 19.87]}], \"hovertemplate\": \"Species=atacamensis<br>%{xaxis.title.text}=%{x}<br>%{yaxis.title.text}=%{y}<extra></extra>\", \"legendgroup\": \"atacamensis\", \"marker\": {\"color\": \"#00cc96\", \"symbol\": \"circle\"}, \"name\": \"atacamensis\", \"showlegend\": true, \"type\": \"splom\"}, {\"diagonal\": {\"visible\": false}, \"dimensions\": [{\"axis\": {\"matches\": true}, \"label\": \"Clade\", \"values\": [1]}, {\"axis\": {\"matches\": true}, \"label\": \"Sex\", \"values\": [1]}, {\"axis\": {\"matches\": true}, \"label\": \"Body Mass (g)\", \"values\": [65.0]}, {\"axis\": {\"matches\": true}, \"label\": \"Body _Length _(mm)\", \"values\": [211.0]}, {\"axis\": {\"matches\": true}, \"label\": \"Head _Length _(mm)\", \"values\": [50.49]}, {\"axis\": {\"matches\": true}, \"label\": \"Bill Length (mm)\", \"values\": [22.0]}], \"hovertemplate\": \"Species=excelsior<br>%{xaxis.title.text}=%{x}<br>%{yaxis.title.text}=%{y}<extra></extra>\", \"legendgroup\": \"excelsior\", \"marker\": {\"color\": \"#ab63fa\", \"symbol\": \"circle\"}, \"name\": \"excelsior\", \"showlegend\": true, \"type\": \"splom\"}, {\"diagonal\": {\"visible\": false}, \"dimensions\": [{\"axis\": {\"matches\": true}, \"label\": \"Clade\", \"values\": [0, 0, 0, 0, 0, 0, 0, 0, 0, 0]}, {\"axis\": {\"matches\": true}, \"label\": \"Sex\", \"values\": [0, 0, 0, 0, 1, 1, 1, 1, 0, 0]}, {\"axis\": {\"matches\": true}, \"label\": \"Body Mass (g)\", \"values\": [28.4, 31.3, 29.3, 31.3, 26.2, 27.1, 30.3, 31.0, 34.0, 31.0]}, {\"axis\": {\"matches\": true}, \"label\": \"Body _Length _(mm)\", \"values\": [179.0, 201.0, 186.0, 189.0, 183.0, 181.0, 198.0, 178.0, 176.0, 162.0]}, {\"axis\": {\"matches\": true}, \"label\": \"Head _Length _(mm)\", \"values\": [39.8, 39.76, 38.9, 37.64, 39.74, 39.5, 40.36, 40.15, 40.2, 39.47]}, {\"axis\": {\"matches\": true}, \"label\": \"Bill Length (mm)\", \"values\": [15.21, 13.19, 15.43, 16.45, 14.53, 14.82, 14.07, 14.19, 12.23, 12.57]}], \"hovertemplate\": \"Species=fuscus<br>%{xaxis.title.text}=%{x}<br>%{yaxis.title.text}=%{y}<extra></extra>\", \"legendgroup\": \"fuscus\", \"marker\": {\"color\": \"#FFA15A\", \"symbol\": \"circle\"}, \"name\": \"fuscus\", \"showlegend\": true, \"type\": \"splom\"}, {\"diagonal\": {\"visible\": false}, \"dimensions\": [{\"axis\": {\"matches\": true}, \"label\": \"Clade\", \"values\": [0, 0, 0, 0, 0]}, {\"axis\": {\"matches\": true}, \"label\": \"Sex\", \"values\": [1, 0, 0, 0, 0]}, {\"axis\": {\"matches\": true}, \"label\": \"Body Mass (g)\", \"values\": [32.0, 30.5, 31.3, 33.0, 34.7]}, {\"axis\": {\"matches\": true}, \"label\": \"Body _Length _(mm)\", \"values\": [169.0, 169.0, 166.0, 187.0, 187.0]}, {\"axis\": {\"matches\": true}, \"label\": \"Head _Length _(mm)\", \"values\": [39.28, 39.32, 40.93, 41.61, 42.19]}, {\"axis\": {\"matches\": true}, \"label\": \"Bill Length (mm)\", \"values\": [14.88, 13.31, 14.96, 13.95, 14.41]}], \"hovertemplate\": \"Species=oustaleti<br>%{xaxis.title.text}=%{x}<br>%{yaxis.title.text}=%{y}<extra></extra>\", \"legendgroup\": \"oustaleti\", \"marker\": {\"color\": \"#19d3f3\", \"symbol\": \"circle\"}, \"name\": \"oustaleti\", \"showlegend\": true, \"type\": \"splom\"}, {\"diagonal\": {\"visible\": false}, \"dimensions\": [{\"axis\": {\"matches\": true}, \"label\": \"Clade\", \"values\": [1, 1, 1, 1, 1, 1, 1, 1, 1, 1, 1, 1, 1, 1]}, {\"axis\": {\"matches\": true}, \"label\": \"Sex\", \"values\": [1, 1, 1, 0, 1, 0, 0, 0, 0, 0, 0, 2, 2, 2]}, {\"axis\": {\"matches\": true}, \"label\": \"Body Mass (g)\", \"values\": [48.0, 45.0, 49.5, 48.0, 52.0, 50.0, 49.6, 50.2, 52.6, 54.4, 60.7, 42.0, 44.0, 36.0]}, {\"axis\": {\"matches\": true}, \"label\": \"Body _Length _(mm)\", \"values\": [190.0, 199.0, 198.0, 196.0, 219.0, 216.0, 214.0, 216.0, 223.0, 217.0, 212.0, 201.0, 203.0, 190.0]}, {\"axis\": {\"matches\": true}, \"label\": \"Head _Length _(mm)\", \"values\": [44.28, 45.63, 45.13, 42.41, 49.47, 49.22, 49.12, 49.12, 49.62, 50.3, 51.1, 45.49, 44.13, 41.04]}, {\"axis\": {\"matches\": true}, \"label\": \"Bill Length (mm)\", \"values\": [17.18, 19.44, 19.23, 15.69, 19.35, 19.63, 18.42, 17.8, 18.73, 20.16, 18.82, 17.08, 17.04, 15.92]}], \"hovertemplate\": \"Species=patagonicus<br>%{xaxis.title.text}=%{x}<br>%{yaxis.title.text}=%{y}<extra></extra>\", \"legendgroup\": \"patagonicus\", \"marker\": {\"color\": \"#FF6692\", \"symbol\": \"circle\"}, \"name\": \"patagonicus\", \"showlegend\": true, \"type\": \"splom\"}],                        {\"dragmode\": \"select\", \"legend\": {\"title\": {\"text\": \"Species\"}, \"tracegroupgap\": 0}, \"margin\": {\"t\": 60}, \"template\": {\"data\": {\"bar\": [{\"error_x\": {\"color\": \"#2a3f5f\"}, \"error_y\": {\"color\": \"#2a3f5f\"}, \"marker\": {\"line\": {\"color\": \"#E5ECF6\", \"width\": 0.5}}, \"type\": \"bar\"}], \"barpolar\": [{\"marker\": {\"line\": {\"color\": \"#E5ECF6\", \"width\": 0.5}}, \"type\": \"barpolar\"}], \"carpet\": [{\"aaxis\": {\"endlinecolor\": \"#2a3f5f\", \"gridcolor\": \"white\", \"linecolor\": \"white\", \"minorgridcolor\": \"white\", \"startlinecolor\": \"#2a3f5f\"}, \"baxis\": {\"endlinecolor\": \"#2a3f5f\", \"gridcolor\": \"white\", \"linecolor\": \"white\", \"minorgridcolor\": \"white\", \"startlinecolor\": \"#2a3f5f\"}, \"type\": \"carpet\"}], \"choropleth\": [{\"colorbar\": {\"outlinewidth\": 0, \"ticks\": \"\"}, \"type\": \"choropleth\"}], \"contour\": [{\"colorbar\": {\"outlinewidth\": 0, \"ticks\": \"\"}, \"colorscale\": [[0.0, \"#0d0887\"], [0.1111111111111111, \"#46039f\"], [0.2222222222222222, \"#7201a8\"], [0.3333333333333333, \"#9c179e\"], [0.4444444444444444, \"#bd3786\"], [0.5555555555555556, \"#d8576b\"], [0.6666666666666666, \"#ed7953\"], [0.7777777777777778, \"#fb9f3a\"], [0.8888888888888888, \"#fdca26\"], [1.0, \"#f0f921\"]], \"type\": \"contour\"}], \"contourcarpet\": [{\"colorbar\": {\"outlinewidth\": 0, \"ticks\": \"\"}, \"type\": \"contourcarpet\"}], \"heatmap\": [{\"colorbar\": {\"outlinewidth\": 0, \"ticks\": \"\"}, \"colorscale\": [[0.0, \"#0d0887\"], [0.1111111111111111, \"#46039f\"], [0.2222222222222222, \"#7201a8\"], [0.3333333333333333, \"#9c179e\"], [0.4444444444444444, \"#bd3786\"], [0.5555555555555556, \"#d8576b\"], [0.6666666666666666, \"#ed7953\"], [0.7777777777777778, \"#fb9f3a\"], [0.8888888888888888, \"#fdca26\"], [1.0, \"#f0f921\"]], \"type\": \"heatmap\"}], \"heatmapgl\": [{\"colorbar\": {\"outlinewidth\": 0, \"ticks\": \"\"}, \"colorscale\": [[0.0, \"#0d0887\"], [0.1111111111111111, \"#46039f\"], [0.2222222222222222, \"#7201a8\"], [0.3333333333333333, \"#9c179e\"], [0.4444444444444444, \"#bd3786\"], [0.5555555555555556, \"#d8576b\"], [0.6666666666666666, \"#ed7953\"], [0.7777777777777778, \"#fb9f3a\"], [0.8888888888888888, \"#fdca26\"], [1.0, \"#f0f921\"]], \"type\": \"heatmapgl\"}], \"histogram\": [{\"marker\": {\"colorbar\": {\"outlinewidth\": 0, \"ticks\": \"\"}}, \"type\": \"histogram\"}], \"histogram2d\": [{\"colorbar\": {\"outlinewidth\": 0, \"ticks\": \"\"}, \"colorscale\": [[0.0, \"#0d0887\"], [0.1111111111111111, \"#46039f\"], [0.2222222222222222, \"#7201a8\"], [0.3333333333333333, \"#9c179e\"], [0.4444444444444444, \"#bd3786\"], [0.5555555555555556, \"#d8576b\"], [0.6666666666666666, \"#ed7953\"], [0.7777777777777778, \"#fb9f3a\"], [0.8888888888888888, \"#fdca26\"], [1.0, \"#f0f921\"]], \"type\": \"histogram2d\"}], \"histogram2dcontour\": [{\"colorbar\": {\"outlinewidth\": 0, \"ticks\": \"\"}, \"colorscale\": [[0.0, \"#0d0887\"], [0.1111111111111111, \"#46039f\"], [0.2222222222222222, \"#7201a8\"], [0.3333333333333333, \"#9c179e\"], [0.4444444444444444, \"#bd3786\"], [0.5555555555555556, \"#d8576b\"], [0.6666666666666666, \"#ed7953\"], [0.7777777777777778, \"#fb9f3a\"], [0.8888888888888888, \"#fdca26\"], [1.0, \"#f0f921\"]], \"type\": \"histogram2dcontour\"}], \"mesh3d\": [{\"colorbar\": {\"outlinewidth\": 0, \"ticks\": \"\"}, \"type\": \"mesh3d\"}], \"parcoords\": [{\"line\": {\"colorbar\": {\"outlinewidth\": 0, \"ticks\": \"\"}}, \"type\": \"parcoords\"}], \"pie\": [{\"automargin\": true, \"type\": \"pie\"}], \"scatter\": [{\"marker\": {\"colorbar\": {\"outlinewidth\": 0, \"ticks\": \"\"}}, \"type\": \"scatter\"}], \"scatter3d\": [{\"line\": {\"colorbar\": {\"outlinewidth\": 0, \"ticks\": \"\"}}, \"marker\": {\"colorbar\": {\"outlinewidth\": 0, \"ticks\": \"\"}}, \"type\": \"scatter3d\"}], \"scattercarpet\": [{\"marker\": {\"colorbar\": {\"outlinewidth\": 0, \"ticks\": \"\"}}, \"type\": \"scattercarpet\"}], \"scattergeo\": [{\"marker\": {\"colorbar\": {\"outlinewidth\": 0, \"ticks\": \"\"}}, \"type\": \"scattergeo\"}], \"scattergl\": [{\"marker\": {\"colorbar\": {\"outlinewidth\": 0, \"ticks\": \"\"}}, \"type\": \"scattergl\"}], \"scattermapbox\": [{\"marker\": {\"colorbar\": {\"outlinewidth\": 0, \"ticks\": \"\"}}, \"type\": \"scattermapbox\"}], \"scatterpolar\": [{\"marker\": {\"colorbar\": {\"outlinewidth\": 0, \"ticks\": \"\"}}, \"type\": \"scatterpolar\"}], \"scatterpolargl\": [{\"marker\": {\"colorbar\": {\"outlinewidth\": 0, \"ticks\": \"\"}}, \"type\": \"scatterpolargl\"}], \"scatterternary\": [{\"marker\": {\"colorbar\": {\"outlinewidth\": 0, \"ticks\": \"\"}}, \"type\": \"scatterternary\"}], \"surface\": [{\"colorbar\": {\"outlinewidth\": 0, \"ticks\": \"\"}, \"colorscale\": [[0.0, \"#0d0887\"], [0.1111111111111111, \"#46039f\"], [0.2222222222222222, \"#7201a8\"], [0.3333333333333333, \"#9c179e\"], [0.4444444444444444, \"#bd3786\"], [0.5555555555555556, \"#d8576b\"], [0.6666666666666666, \"#ed7953\"], [0.7777777777777778, \"#fb9f3a\"], [0.8888888888888888, \"#fdca26\"], [1.0, \"#f0f921\"]], \"type\": \"surface\"}], \"table\": [{\"cells\": {\"fill\": {\"color\": \"#EBF0F8\"}, \"line\": {\"color\": \"white\"}}, \"header\": {\"fill\": {\"color\": \"#C8D4E3\"}, \"line\": {\"color\": \"white\"}}, \"type\": \"table\"}]}, \"layout\": {\"annotationdefaults\": {\"arrowcolor\": \"#2a3f5f\", \"arrowhead\": 0, \"arrowwidth\": 1}, \"autotypenumbers\": \"strict\", \"coloraxis\": {\"colorbar\": {\"outlinewidth\": 0, \"ticks\": \"\"}}, \"colorscale\": {\"diverging\": [[0, \"#8e0152\"], [0.1, \"#c51b7d\"], [0.2, \"#de77ae\"], [0.3, \"#f1b6da\"], [0.4, \"#fde0ef\"], [0.5, \"#f7f7f7\"], [0.6, \"#e6f5d0\"], [0.7, \"#b8e186\"], [0.8, \"#7fbc41\"], [0.9, \"#4d9221\"], [1, \"#276419\"]], \"sequential\": [[0.0, \"#0d0887\"], [0.1111111111111111, \"#46039f\"], [0.2222222222222222, \"#7201a8\"], [0.3333333333333333, \"#9c179e\"], [0.4444444444444444, \"#bd3786\"], [0.5555555555555556, \"#d8576b\"], [0.6666666666666666, \"#ed7953\"], [0.7777777777777778, \"#fb9f3a\"], [0.8888888888888888, \"#fdca26\"], [1.0, \"#f0f921\"]], \"sequentialminus\": [[0.0, \"#0d0887\"], [0.1111111111111111, \"#46039f\"], [0.2222222222222222, \"#7201a8\"], [0.3333333333333333, \"#9c179e\"], [0.4444444444444444, \"#bd3786\"], [0.5555555555555556, \"#d8576b\"], [0.6666666666666666, \"#ed7953\"], [0.7777777777777778, \"#fb9f3a\"], [0.8888888888888888, \"#fdca26\"], [1.0, \"#f0f921\"]]}, \"colorway\": [\"#636efa\", \"#EF553B\", \"#00cc96\", \"#ab63fa\", \"#FFA15A\", \"#19d3f3\", \"#FF6692\", \"#B6E880\", \"#FF97FF\", \"#FECB52\"], \"font\": {\"color\": \"#2a3f5f\"}, \"geo\": {\"bgcolor\": \"white\", \"lakecolor\": \"white\", \"landcolor\": \"#E5ECF6\", \"showlakes\": true, \"showland\": true, \"subunitcolor\": \"white\"}, \"hoverlabel\": {\"align\": \"left\"}, \"hovermode\": \"closest\", \"mapbox\": {\"style\": \"light\"}, \"paper_bgcolor\": \"white\", \"plot_bgcolor\": \"#E5ECF6\", \"polar\": {\"angularaxis\": {\"gridcolor\": \"white\", \"linecolor\": \"white\", \"ticks\": \"\"}, \"bgcolor\": \"#E5ECF6\", \"radialaxis\": {\"gridcolor\": \"white\", \"linecolor\": \"white\", \"ticks\": \"\"}}, \"scene\": {\"xaxis\": {\"backgroundcolor\": \"#E5ECF6\", \"gridcolor\": \"white\", \"gridwidth\": 2, \"linecolor\": \"white\", \"showbackground\": true, \"ticks\": \"\", \"zerolinecolor\": \"white\"}, \"yaxis\": {\"backgroundcolor\": \"#E5ECF6\", \"gridcolor\": \"white\", \"gridwidth\": 2, \"linecolor\": \"white\", \"showbackground\": true, \"ticks\": \"\", \"zerolinecolor\": \"white\"}, \"zaxis\": {\"backgroundcolor\": \"#E5ECF6\", \"gridcolor\": \"white\", \"gridwidth\": 2, \"linecolor\": \"white\", \"showbackground\": true, \"ticks\": \"\", \"zerolinecolor\": \"white\"}}, \"shapedefaults\": {\"line\": {\"color\": \"#2a3f5f\"}}, \"ternary\": {\"aaxis\": {\"gridcolor\": \"white\", \"linecolor\": \"white\", \"ticks\": \"\"}, \"baxis\": {\"gridcolor\": \"white\", \"linecolor\": \"white\", \"ticks\": \"\"}, \"bgcolor\": \"#E5ECF6\", \"caxis\": {\"gridcolor\": \"white\", \"linecolor\": \"white\", \"ticks\": \"\"}}, \"title\": {\"x\": 0.05}, \"xaxis\": {\"automargin\": true, \"gridcolor\": \"white\", \"linecolor\": \"white\", \"ticks\": \"\", \"title\": {\"standoff\": 15}, \"zerolinecolor\": \"white\", \"zerolinewidth\": 2}, \"yaxis\": {\"automargin\": true, \"gridcolor\": \"white\", \"linecolor\": \"white\", \"ticks\": \"\", \"title\": {\"standoff\": 15}, \"zerolinecolor\": \"white\", \"zerolinewidth\": 2}}}},                        {\"responsive\": true}                    ).then(function(){\n",
       "                            \n",
       "var gd = document.getElementById('965a41f8-ddd6-47a7-a7e5-390f20422eba');\n",
       "var x = new MutationObserver(function (mutations, observer) {{\n",
       "        var display = window.getComputedStyle(gd).display;\n",
       "        if (!display || display === 'none') {{\n",
       "            console.log([gd, 'removed!']);\n",
       "            Plotly.purge(gd);\n",
       "            observer.disconnect();\n",
       "        }}\n",
       "}});\n",
       "\n",
       "// Listen for the removal of the full notebook cells\n",
       "var notebookContainer = gd.closest('#notebook-container');\n",
       "if (notebookContainer) {{\n",
       "    x.observe(notebookContainer, {childList: true});\n",
       "}}\n",
       "\n",
       "// Listen for the clearing of the current output cell\n",
       "var outputEl = gd.closest('.output');\n",
       "if (outputEl) {{\n",
       "    x.observe(outputEl, {childList: true});\n",
       "}}\n",
       "\n",
       "                        })                };                });            </script>        </div>"
      ]
     },
     "metadata": {},
     "output_type": "display_data"
    }
   ],
   "source": [
    "features = dataset.columns[2:8]\n",
    "print(features)\n",
    "\n",
    "fig = px.scatter_matrix(\n",
    "    dataset,\n",
    "    dimensions=features,\n",
    "    color=\"Species\"\n",
    ")\n",
    "fig.update_traces(diagonal_visible=False)\n",
    "fig.show()"
   ]
  },
  {
   "cell_type": "code",
   "execution_count": 68,
   "metadata": {},
   "outputs": [
    {
     "name": "stdout",
     "output_type": "stream",
     "text": [
      "Index(['Specimen _Number', 'Clade', 'Sex', 'Body Mass (g)',\n",
      "       'Body _Length _(mm)', 'Head _Length _(mm)', 'Bill Length (mm)',\n",
      "       'Bill Width1 (mm)', 'Bill Width2 (mm)', 'Bill Width3 (mm)',\n",
      "       'Bill Depth1 (mm)', 'Bill Depth2 (mm)', 'Bill Depth3 (mm)',\n",
      "       'Proximal Bill Cross-Sectional_ Area (mm2)',\n",
      "       'Mid-Length Bill Cross-Sectional Area (mm2)',\n",
      "       'Distal Bill Cross-Sectional Area (mm2)', 'Wing Length (mm)',\n",
      "       'Primary 1 (mm)', 'Primary 2 (mm)', 'Primary 3 (mm)', 'Primary 4 (mm)',\n",
      "       'Primary 5 (mm)', 'Primary 6 (mm)', 'Primary 7 (mm)', 'Primary 8 (mm)',\n",
      "       'Primary 9 (mm)', 'Width of Primary 1', 'Width of Primary 9',\n",
      "       'Tibiotarsus Width (mm)', 'Tarsometatarsus Length (mm)',\n",
      "       'Tarsometatarsus Width (mm)', 'Digit 1 (mm)', 'Digit 2 (mm)',\n",
      "       'Digit 3 (mm)', 'Digit 4 (mm)', 'Ungual 1 (mm)', 'Ungual 2 (mm)',\n",
      "       'Ungual 3 (mm)', 'Ungual 4 (mm)', 'Central rectrix (mm)',\n",
      "       'Lateral Retrices', 'Isometric Size Index', 'Wing Pointedness Index',\n",
      "       'Wing Convexity Index', 'Country', 'Latitute (o South)',\n",
      "       'Longitude (o West)', 'Elevation1', 'Prin1 2', 'Prin2 2', 'Prin3 2',\n",
      "       'Prin4 2', 'Prin5 2', 'Specimen_Number', 'D15N', 'D13C',\n",
      "       'Prct_Nitrogen', 'Prct_Carbon', 'C_N_Ratio', ' ?18O', 'dDa', 'dDb',\n",
      "       '[H]b', 'Mean_dD'],\n",
      "      dtype='object')\n"
     ]
    },
    {
     "data": {
      "application/vnd.plotly.v1+json": {
       "config": {
        "plotlyServerURL": "https://plot.ly"
       },
       "data": [
        {
         "diagonal": {
          "visible": false
         },
         "dimensions": [
          {
           "axis": {
            "matches": true
           },
           "label": "PC 1 (100.0%)",
           "values": [
            -11460.856894474848
           ]
          },
          {
           "axis": {
            "matches": true
           },
           "label": "PC 2 (0.0%)",
           "values": [
            -824.6204526050109
           ]
          },
          {
           "axis": {
            "matches": true
           },
           "label": "PC 3 (0.0%)",
           "values": [
            3400.3375854257774
           ]
          },
          {
           "axis": {
            "matches": true
           },
           "label": "PC 4 (0.0%)",
           "values": [
            -15.228629249315395
           ]
          }
         ],
         "hovertemplate": "color=albidiventris<br>%{xaxis.title.text}=%{x}<br>%{yaxis.title.text}=%{y}<extra></extra>",
         "legendgroup": "albidiventris",
         "marker": {
          "color": "#636efa",
          "symbol": "circle"
         },
         "name": "albidiventris",
         "showlegend": true,
         "type": "splom"
        },
        {
         "diagonal": {
          "visible": false
         },
         "dimensions": [
          {
           "axis": {
            "matches": true
           },
           "label": "PC 1 (100.0%)",
           "values": [
            -10069.188194665041
           ]
          },
          {
           "axis": {
            "matches": true
           },
           "label": "PC 2 (0.0%)",
           "values": [
            -764.8328022637925
           ]
          },
          {
           "axis": {
            "matches": true
           },
           "label": "PC 3 (0.0%)",
           "values": [
            2497.5175237877183
           ]
          },
          {
           "axis": {
            "matches": true
           },
           "label": "PC 4 (0.0%)",
           "values": [
            -62.31586113864578
           ]
          }
         ],
         "hovertemplate": "color=albiventris<br>%{xaxis.title.text}=%{x}<br>%{yaxis.title.text}=%{y}<extra></extra>",
         "legendgroup": "albiventris",
         "marker": {
          "color": "#EF553B",
          "symbol": "circle"
         },
         "name": "albiventris",
         "showlegend": true,
         "type": "splom"
        },
        {
         "diagonal": {
          "visible": false
         },
         "dimensions": [
          {
           "axis": {
            "matches": true
           },
           "label": "PC 1 (100.0%)",
           "values": [
            249691.26332311428,
            257781.26130626316
           ]
          },
          {
           "axis": {
            "matches": true
           },
           "label": "PC 2 (0.0%)",
           "values": [
            -1853.6247344112373,
            -1904.91904495197
           ]
          },
          {
           "axis": {
            "matches": true
           },
           "label": "PC 3 (0.0%)",
           "values": [
            2484.088319454965,
            2723.234915637356
           ]
          },
          {
           "axis": {
            "matches": true
           },
           "label": "PC 4 (0.0%)",
           "values": [
            35.84920068026561,
            2.0804423163071046
           ]
          }
         ],
         "hovertemplate": "color=atacamensis<br>%{xaxis.title.text}=%{x}<br>%{yaxis.title.text}=%{y}<extra></extra>",
         "legendgroup": "atacamensis",
         "marker": {
          "color": "#00cc96",
          "symbol": "circle"
         },
         "name": "atacamensis",
         "showlegend": true,
         "type": "splom"
        },
        {
         "diagonal": {
          "visible": false
         },
         "dimensions": [
          {
           "axis": {
            "matches": true
           },
           "label": "PC 1 (100.0%)",
           "values": [
            279205.505832233
           ]
          },
          {
           "axis": {
            "matches": true
           },
           "label": "PC 2 (0.0%)",
           "values": [
            -1970.3568401899968
           ]
          },
          {
           "axis": {
            "matches": true
           },
           "label": "PC 3 (0.0%)",
           "values": [
            2386.3738841311756
           ]
          },
          {
           "axis": {
            "matches": true
           },
           "label": "PC 4 (0.0%)",
           "values": [
            -0.05667513529841249
           ]
          }
         ],
         "hovertemplate": "color=excelsior<br>%{xaxis.title.text}=%{x}<br>%{yaxis.title.text}=%{y}<extra></extra>",
         "legendgroup": "excelsior",
         "marker": {
          "color": "#ab63fa",
          "symbol": "circle"
         },
         "name": "excelsior",
         "showlegend": true,
         "type": "splom"
        },
        {
         "diagonal": {
          "visible": false
         },
         "dimensions": [
          {
           "axis": {
            "matches": true
           },
           "label": "PC 1 (100.0%)",
           "values": [
            230318.8703503147,
            230320.2847880429,
            209197.53123486755,
            230323.20125896594,
            230324.61695779703,
            230326.02979540476,
            230327.3573451334,
            -185267.74810206186,
            -185263.50738429796,
            -185262.09251487843
           ]
          },
          {
           "axis": {
            "matches": true
           },
           "label": "PC 2 (0.0%)",
           "values": [
            -1487.6836323451632,
            -1487.7231599946795,
            19753.355359691377,
            -1489.8738095108001,
            -1489.861011581058,
            -1489.8702777559877,
            -1487.7343530014557,
            156.3854401486904,
            156.39841987670735,
            156.38634203544527
           ]
          },
          {
           "axis": {
            "matches": true
           },
           "label": "PC 3 (0.0%)",
           "values": [
            -1431.0434173564975,
            -1430.9651518202431,
            177.35362945535897,
            -1401.3725494416137,
            -1401.300243493964,
            -1401.3912362428912,
            -1430.9210909061264,
            -65.3592745951019,
            -65.6405487346825,
            -65.51764476084041
           ]
          },
          {
           "axis": {
            "matches": true
           },
           "label": "PC 4 (0.0%)",
           "values": [
            -9.772775719833849,
            -5.205805065663415,
            0.0004744735990800372,
            -34.41517629516922,
            -17.6760714934139,
            -32.56540606552683,
            10.520686080422205,
            -25.374010253611836,
            -43.770061004629014,
            -37.536729439388786
           ]
          }
         ],
         "hovertemplate": "color=fuscus<br>%{xaxis.title.text}=%{x}<br>%{yaxis.title.text}=%{y}<extra></extra>",
         "legendgroup": "fuscus",
         "marker": {
          "color": "#FFA15A",
          "symbol": "circle"
         },
         "name": "fuscus",
         "showlegend": true,
         "type": "splom"
        },
        {
         "diagonal": {
          "visible": false
         },
         "dimensions": [
          {
           "axis": {
            "matches": true
           },
           "label": "PC 1 (100.0%)",
           "values": [
            -185270.5711917068,
            -185269.15442355917,
            -113494.53746438997,
            -113492.95741665953,
            -113488.42053671922
           ]
          },
          {
           "axis": {
            "matches": true
           },
           "label": "PC 2 (0.0%)",
           "values": [
            156.39266600850559,
            156.36193019916843,
            -127.35988684892098,
            -131.3655945419054,
            -138.48099370379845
           ]
          },
          {
           "axis": {
            "matches": true
           },
           "label": "PC 3 (0.0%)",
           "values": [
            -64.91276849786598,
            -64.64759422973644,
            -303.5907968129223,
            -248.8334814923169,
            -151.2256353104633
           ]
          },
          {
           "axis": {
            "matches": true
           },
           "label": "PC 4 (0.0%)",
           "values": [
            26.59526796946253,
            52.07972552467956,
            -29.861273841328668,
            -25.83159775401705,
            -47.14925592572426
           ]
          }
         ],
         "hovertemplate": "color=oustaleti<br>%{xaxis.title.text}=%{x}<br>%{yaxis.title.text}=%{y}<extra></extra>",
         "legendgroup": "oustaleti",
         "marker": {
          "color": "#19d3f3",
          "symbol": "circle"
         },
         "name": "oustaleti",
         "showlegend": true,
         "type": "splom"
        },
        {
         "diagonal": {
          "visible": false
         },
         "dimensions": [
          {
           "axis": {
            "matches": true
           },
           "label": "PC 1 (100.0%)",
           "values": [
            296279.33985388454,
            -185367.60668530752,
            -185276.23378246455,
            -185274.8184050828,
            -113503.01849874732,
            -113501.60717352106,
            -113500.12288818847,
            -113497.29222598083,
            -113495.87918514741,
            -113487.46782815427,
            -113486.05078854972,
            -11790.12425012371,
            -11788.710178298215,
            -11787.296033044764
           ]
          },
          {
           "axis": {
            "matches": true
           },
           "label": "PC 2 (0.0%)",
           "values": [
            -1772.8932120291176,
            143.67562377378013,
            156.35954799247406,
            156.3680743120306,
            -127.46539022529383,
            -127.44441885645695,
            -129.1176202660606,
            -129.14651377823796,
            -129.14674322219278,
            -127.48481538551232,
            -127.50885325020425,
            -557.7192363631831,
            -557.725494841591,
            -557.7245121157722
           ]
          },
          {
           "axis": {
            "matches": true
           },
           "label": "PC 3 (0.0%)",
           "values": [
            -1314.681302050716,
            114.90112071953911,
            -65.1835368756276,
            -65.13553945556258,
            -302.8601250960419,
            -303.1392280802327,
            -280.1640749439275,
            -279.9547286846929,
            -280.0740203474927,
            -303.40132555179036,
            -303.12308081613827,
            -253.10453520063635,
            -253.1389951434566,
            -253.12505267015928
           ]
          },
          {
           "axis": {
            "matches": true
           },
           "label": "PC 4 (0.0%)",
           "values": [
            -24.29697602439503,
            27.198021572148487,
            -28.064266473265548,
            -13.892263468252493,
            16.716303349286598,
            -8.172707969374327,
            -4.910627400153067,
            16.844628276238225,
            5.696444351508451,
            -33.305515842514346,
            -6.437015236650099,
            105.55526162732157,
            102.89075490670753,
            103.81148966821625
           ]
          }
         ],
         "hovertemplate": "color=patagonicus<br>%{xaxis.title.text}=%{x}<br>%{yaxis.title.text}=%{y}<extra></extra>",
         "legendgroup": "patagonicus",
         "marker": {
          "color": "#FF6692",
          "symbol": "circle"
         },
         "name": "patagonicus",
         "showlegend": true,
         "type": "splom"
        }
       ],
       "layout": {
        "dragmode": "select",
        "legend": {
         "title": {
          "text": "color"
         },
         "tracegroupgap": 0
        },
        "margin": {
         "t": 60
        },
        "template": {
         "data": {
          "bar": [
           {
            "error_x": {
             "color": "#2a3f5f"
            },
            "error_y": {
             "color": "#2a3f5f"
            },
            "marker": {
             "line": {
              "color": "#E5ECF6",
              "width": 0.5
             }
            },
            "type": "bar"
           }
          ],
          "barpolar": [
           {
            "marker": {
             "line": {
              "color": "#E5ECF6",
              "width": 0.5
             }
            },
            "type": "barpolar"
           }
          ],
          "carpet": [
           {
            "aaxis": {
             "endlinecolor": "#2a3f5f",
             "gridcolor": "white",
             "linecolor": "white",
             "minorgridcolor": "white",
             "startlinecolor": "#2a3f5f"
            },
            "baxis": {
             "endlinecolor": "#2a3f5f",
             "gridcolor": "white",
             "linecolor": "white",
             "minorgridcolor": "white",
             "startlinecolor": "#2a3f5f"
            },
            "type": "carpet"
           }
          ],
          "choropleth": [
           {
            "colorbar": {
             "outlinewidth": 0,
             "ticks": ""
            },
            "type": "choropleth"
           }
          ],
          "contour": [
           {
            "colorbar": {
             "outlinewidth": 0,
             "ticks": ""
            },
            "colorscale": [
             [
              0,
              "#0d0887"
             ],
             [
              0.1111111111111111,
              "#46039f"
             ],
             [
              0.2222222222222222,
              "#7201a8"
             ],
             [
              0.3333333333333333,
              "#9c179e"
             ],
             [
              0.4444444444444444,
              "#bd3786"
             ],
             [
              0.5555555555555556,
              "#d8576b"
             ],
             [
              0.6666666666666666,
              "#ed7953"
             ],
             [
              0.7777777777777778,
              "#fb9f3a"
             ],
             [
              0.8888888888888888,
              "#fdca26"
             ],
             [
              1,
              "#f0f921"
             ]
            ],
            "type": "contour"
           }
          ],
          "contourcarpet": [
           {
            "colorbar": {
             "outlinewidth": 0,
             "ticks": ""
            },
            "type": "contourcarpet"
           }
          ],
          "heatmap": [
           {
            "colorbar": {
             "outlinewidth": 0,
             "ticks": ""
            },
            "colorscale": [
             [
              0,
              "#0d0887"
             ],
             [
              0.1111111111111111,
              "#46039f"
             ],
             [
              0.2222222222222222,
              "#7201a8"
             ],
             [
              0.3333333333333333,
              "#9c179e"
             ],
             [
              0.4444444444444444,
              "#bd3786"
             ],
             [
              0.5555555555555556,
              "#d8576b"
             ],
             [
              0.6666666666666666,
              "#ed7953"
             ],
             [
              0.7777777777777778,
              "#fb9f3a"
             ],
             [
              0.8888888888888888,
              "#fdca26"
             ],
             [
              1,
              "#f0f921"
             ]
            ],
            "type": "heatmap"
           }
          ],
          "heatmapgl": [
           {
            "colorbar": {
             "outlinewidth": 0,
             "ticks": ""
            },
            "colorscale": [
             [
              0,
              "#0d0887"
             ],
             [
              0.1111111111111111,
              "#46039f"
             ],
             [
              0.2222222222222222,
              "#7201a8"
             ],
             [
              0.3333333333333333,
              "#9c179e"
             ],
             [
              0.4444444444444444,
              "#bd3786"
             ],
             [
              0.5555555555555556,
              "#d8576b"
             ],
             [
              0.6666666666666666,
              "#ed7953"
             ],
             [
              0.7777777777777778,
              "#fb9f3a"
             ],
             [
              0.8888888888888888,
              "#fdca26"
             ],
             [
              1,
              "#f0f921"
             ]
            ],
            "type": "heatmapgl"
           }
          ],
          "histogram": [
           {
            "marker": {
             "colorbar": {
              "outlinewidth": 0,
              "ticks": ""
             }
            },
            "type": "histogram"
           }
          ],
          "histogram2d": [
           {
            "colorbar": {
             "outlinewidth": 0,
             "ticks": ""
            },
            "colorscale": [
             [
              0,
              "#0d0887"
             ],
             [
              0.1111111111111111,
              "#46039f"
             ],
             [
              0.2222222222222222,
              "#7201a8"
             ],
             [
              0.3333333333333333,
              "#9c179e"
             ],
             [
              0.4444444444444444,
              "#bd3786"
             ],
             [
              0.5555555555555556,
              "#d8576b"
             ],
             [
              0.6666666666666666,
              "#ed7953"
             ],
             [
              0.7777777777777778,
              "#fb9f3a"
             ],
             [
              0.8888888888888888,
              "#fdca26"
             ],
             [
              1,
              "#f0f921"
             ]
            ],
            "type": "histogram2d"
           }
          ],
          "histogram2dcontour": [
           {
            "colorbar": {
             "outlinewidth": 0,
             "ticks": ""
            },
            "colorscale": [
             [
              0,
              "#0d0887"
             ],
             [
              0.1111111111111111,
              "#46039f"
             ],
             [
              0.2222222222222222,
              "#7201a8"
             ],
             [
              0.3333333333333333,
              "#9c179e"
             ],
             [
              0.4444444444444444,
              "#bd3786"
             ],
             [
              0.5555555555555556,
              "#d8576b"
             ],
             [
              0.6666666666666666,
              "#ed7953"
             ],
             [
              0.7777777777777778,
              "#fb9f3a"
             ],
             [
              0.8888888888888888,
              "#fdca26"
             ],
             [
              1,
              "#f0f921"
             ]
            ],
            "type": "histogram2dcontour"
           }
          ],
          "mesh3d": [
           {
            "colorbar": {
             "outlinewidth": 0,
             "ticks": ""
            },
            "type": "mesh3d"
           }
          ],
          "parcoords": [
           {
            "line": {
             "colorbar": {
              "outlinewidth": 0,
              "ticks": ""
             }
            },
            "type": "parcoords"
           }
          ],
          "pie": [
           {
            "automargin": true,
            "type": "pie"
           }
          ],
          "scatter": [
           {
            "marker": {
             "colorbar": {
              "outlinewidth": 0,
              "ticks": ""
             }
            },
            "type": "scatter"
           }
          ],
          "scatter3d": [
           {
            "line": {
             "colorbar": {
              "outlinewidth": 0,
              "ticks": ""
             }
            },
            "marker": {
             "colorbar": {
              "outlinewidth": 0,
              "ticks": ""
             }
            },
            "type": "scatter3d"
           }
          ],
          "scattercarpet": [
           {
            "marker": {
             "colorbar": {
              "outlinewidth": 0,
              "ticks": ""
             }
            },
            "type": "scattercarpet"
           }
          ],
          "scattergeo": [
           {
            "marker": {
             "colorbar": {
              "outlinewidth": 0,
              "ticks": ""
             }
            },
            "type": "scattergeo"
           }
          ],
          "scattergl": [
           {
            "marker": {
             "colorbar": {
              "outlinewidth": 0,
              "ticks": ""
             }
            },
            "type": "scattergl"
           }
          ],
          "scattermapbox": [
           {
            "marker": {
             "colorbar": {
              "outlinewidth": 0,
              "ticks": ""
             }
            },
            "type": "scattermapbox"
           }
          ],
          "scatterpolar": [
           {
            "marker": {
             "colorbar": {
              "outlinewidth": 0,
              "ticks": ""
             }
            },
            "type": "scatterpolar"
           }
          ],
          "scatterpolargl": [
           {
            "marker": {
             "colorbar": {
              "outlinewidth": 0,
              "ticks": ""
             }
            },
            "type": "scatterpolargl"
           }
          ],
          "scatterternary": [
           {
            "marker": {
             "colorbar": {
              "outlinewidth": 0,
              "ticks": ""
             }
            },
            "type": "scatterternary"
           }
          ],
          "surface": [
           {
            "colorbar": {
             "outlinewidth": 0,
             "ticks": ""
            },
            "colorscale": [
             [
              0,
              "#0d0887"
             ],
             [
              0.1111111111111111,
              "#46039f"
             ],
             [
              0.2222222222222222,
              "#7201a8"
             ],
             [
              0.3333333333333333,
              "#9c179e"
             ],
             [
              0.4444444444444444,
              "#bd3786"
             ],
             [
              0.5555555555555556,
              "#d8576b"
             ],
             [
              0.6666666666666666,
              "#ed7953"
             ],
             [
              0.7777777777777778,
              "#fb9f3a"
             ],
             [
              0.8888888888888888,
              "#fdca26"
             ],
             [
              1,
              "#f0f921"
             ]
            ],
            "type": "surface"
           }
          ],
          "table": [
           {
            "cells": {
             "fill": {
              "color": "#EBF0F8"
             },
             "line": {
              "color": "white"
             }
            },
            "header": {
             "fill": {
              "color": "#C8D4E3"
             },
             "line": {
              "color": "white"
             }
            },
            "type": "table"
           }
          ]
         },
         "layout": {
          "annotationdefaults": {
           "arrowcolor": "#2a3f5f",
           "arrowhead": 0,
           "arrowwidth": 1
          },
          "autotypenumbers": "strict",
          "coloraxis": {
           "colorbar": {
            "outlinewidth": 0,
            "ticks": ""
           }
          },
          "colorscale": {
           "diverging": [
            [
             0,
             "#8e0152"
            ],
            [
             0.1,
             "#c51b7d"
            ],
            [
             0.2,
             "#de77ae"
            ],
            [
             0.3,
             "#f1b6da"
            ],
            [
             0.4,
             "#fde0ef"
            ],
            [
             0.5,
             "#f7f7f7"
            ],
            [
             0.6,
             "#e6f5d0"
            ],
            [
             0.7,
             "#b8e186"
            ],
            [
             0.8,
             "#7fbc41"
            ],
            [
             0.9,
             "#4d9221"
            ],
            [
             1,
             "#276419"
            ]
           ],
           "sequential": [
            [
             0,
             "#0d0887"
            ],
            [
             0.1111111111111111,
             "#46039f"
            ],
            [
             0.2222222222222222,
             "#7201a8"
            ],
            [
             0.3333333333333333,
             "#9c179e"
            ],
            [
             0.4444444444444444,
             "#bd3786"
            ],
            [
             0.5555555555555556,
             "#d8576b"
            ],
            [
             0.6666666666666666,
             "#ed7953"
            ],
            [
             0.7777777777777778,
             "#fb9f3a"
            ],
            [
             0.8888888888888888,
             "#fdca26"
            ],
            [
             1,
             "#f0f921"
            ]
           ],
           "sequentialminus": [
            [
             0,
             "#0d0887"
            ],
            [
             0.1111111111111111,
             "#46039f"
            ],
            [
             0.2222222222222222,
             "#7201a8"
            ],
            [
             0.3333333333333333,
             "#9c179e"
            ],
            [
             0.4444444444444444,
             "#bd3786"
            ],
            [
             0.5555555555555556,
             "#d8576b"
            ],
            [
             0.6666666666666666,
             "#ed7953"
            ],
            [
             0.7777777777777778,
             "#fb9f3a"
            ],
            [
             0.8888888888888888,
             "#fdca26"
            ],
            [
             1,
             "#f0f921"
            ]
           ]
          },
          "colorway": [
           "#636efa",
           "#EF553B",
           "#00cc96",
           "#ab63fa",
           "#FFA15A",
           "#19d3f3",
           "#FF6692",
           "#B6E880",
           "#FF97FF",
           "#FECB52"
          ],
          "font": {
           "color": "#2a3f5f"
          },
          "geo": {
           "bgcolor": "white",
           "lakecolor": "white",
           "landcolor": "#E5ECF6",
           "showlakes": true,
           "showland": true,
           "subunitcolor": "white"
          },
          "hoverlabel": {
           "align": "left"
          },
          "hovermode": "closest",
          "mapbox": {
           "style": "light"
          },
          "paper_bgcolor": "white",
          "plot_bgcolor": "#E5ECF6",
          "polar": {
           "angularaxis": {
            "gridcolor": "white",
            "linecolor": "white",
            "ticks": ""
           },
           "bgcolor": "#E5ECF6",
           "radialaxis": {
            "gridcolor": "white",
            "linecolor": "white",
            "ticks": ""
           }
          },
          "scene": {
           "xaxis": {
            "backgroundcolor": "#E5ECF6",
            "gridcolor": "white",
            "gridwidth": 2,
            "linecolor": "white",
            "showbackground": true,
            "ticks": "",
            "zerolinecolor": "white"
           },
           "yaxis": {
            "backgroundcolor": "#E5ECF6",
            "gridcolor": "white",
            "gridwidth": 2,
            "linecolor": "white",
            "showbackground": true,
            "ticks": "",
            "zerolinecolor": "white"
           },
           "zaxis": {
            "backgroundcolor": "#E5ECF6",
            "gridcolor": "white",
            "gridwidth": 2,
            "linecolor": "white",
            "showbackground": true,
            "ticks": "",
            "zerolinecolor": "white"
           }
          },
          "shapedefaults": {
           "line": {
            "color": "#2a3f5f"
           }
          },
          "ternary": {
           "aaxis": {
            "gridcolor": "white",
            "linecolor": "white",
            "ticks": ""
           },
           "baxis": {
            "gridcolor": "white",
            "linecolor": "white",
            "ticks": ""
           },
           "bgcolor": "#E5ECF6",
           "caxis": {
            "gridcolor": "white",
            "linecolor": "white",
            "ticks": ""
           }
          },
          "title": {
           "x": 0.05
          },
          "xaxis": {
           "automargin": true,
           "gridcolor": "white",
           "linecolor": "white",
           "ticks": "",
           "title": {
            "standoff": 15
           },
           "zerolinecolor": "white",
           "zerolinewidth": 2
          },
          "yaxis": {
           "automargin": true,
           "gridcolor": "white",
           "linecolor": "white",
           "ticks": "",
           "title": {
            "standoff": 15
           },
           "zerolinecolor": "white",
           "zerolinewidth": 2
          }
         }
        }
       }
      },
      "text/html": [
       "<div>                            <div id=\"b3031f1e-9f1a-4045-9a3e-958c408701ac\" class=\"plotly-graph-div\" style=\"height:525px; width:100%;\"></div>            <script type=\"text/javascript\">                require([\"plotly\"], function(Plotly) {                    window.PLOTLYENV=window.PLOTLYENV || {};                                    if (document.getElementById(\"b3031f1e-9f1a-4045-9a3e-958c408701ac\")) {                    Plotly.newPlot(                        \"b3031f1e-9f1a-4045-9a3e-958c408701ac\",                        [{\"diagonal\": {\"visible\": false}, \"dimensions\": [{\"axis\": {\"matches\": true}, \"label\": \"PC 1 (100.0%)\", \"values\": [-11460.856894474848]}, {\"axis\": {\"matches\": true}, \"label\": \"PC 2 (0.0%)\", \"values\": [-824.6204526050109]}, {\"axis\": {\"matches\": true}, \"label\": \"PC 3 (0.0%)\", \"values\": [3400.3375854257774]}, {\"axis\": {\"matches\": true}, \"label\": \"PC 4 (0.0%)\", \"values\": [-15.228629249315395]}], \"hovertemplate\": \"color=albidiventris<br>%{xaxis.title.text}=%{x}<br>%{yaxis.title.text}=%{y}<extra></extra>\", \"legendgroup\": \"albidiventris\", \"marker\": {\"color\": \"#636efa\", \"symbol\": \"circle\"}, \"name\": \"albidiventris\", \"showlegend\": true, \"type\": \"splom\"}, {\"diagonal\": {\"visible\": false}, \"dimensions\": [{\"axis\": {\"matches\": true}, \"label\": \"PC 1 (100.0%)\", \"values\": [-10069.188194665041]}, {\"axis\": {\"matches\": true}, \"label\": \"PC 2 (0.0%)\", \"values\": [-764.8328022637925]}, {\"axis\": {\"matches\": true}, \"label\": \"PC 3 (0.0%)\", \"values\": [2497.5175237877183]}, {\"axis\": {\"matches\": true}, \"label\": \"PC 4 (0.0%)\", \"values\": [-62.31586113864578]}], \"hovertemplate\": \"color=albiventris<br>%{xaxis.title.text}=%{x}<br>%{yaxis.title.text}=%{y}<extra></extra>\", \"legendgroup\": \"albiventris\", \"marker\": {\"color\": \"#EF553B\", \"symbol\": \"circle\"}, \"name\": \"albiventris\", \"showlegend\": true, \"type\": \"splom\"}, {\"diagonal\": {\"visible\": false}, \"dimensions\": [{\"axis\": {\"matches\": true}, \"label\": \"PC 1 (100.0%)\", \"values\": [249691.26332311428, 257781.26130626316]}, {\"axis\": {\"matches\": true}, \"label\": \"PC 2 (0.0%)\", \"values\": [-1853.6247344112373, -1904.91904495197]}, {\"axis\": {\"matches\": true}, \"label\": \"PC 3 (0.0%)\", \"values\": [2484.088319454965, 2723.234915637356]}, {\"axis\": {\"matches\": true}, \"label\": \"PC 4 (0.0%)\", \"values\": [35.84920068026561, 2.0804423163071046]}], \"hovertemplate\": \"color=atacamensis<br>%{xaxis.title.text}=%{x}<br>%{yaxis.title.text}=%{y}<extra></extra>\", \"legendgroup\": \"atacamensis\", \"marker\": {\"color\": \"#00cc96\", \"symbol\": \"circle\"}, \"name\": \"atacamensis\", \"showlegend\": true, \"type\": \"splom\"}, {\"diagonal\": {\"visible\": false}, \"dimensions\": [{\"axis\": {\"matches\": true}, \"label\": \"PC 1 (100.0%)\", \"values\": [279205.505832233]}, {\"axis\": {\"matches\": true}, \"label\": \"PC 2 (0.0%)\", \"values\": [-1970.3568401899968]}, {\"axis\": {\"matches\": true}, \"label\": \"PC 3 (0.0%)\", \"values\": [2386.3738841311756]}, {\"axis\": {\"matches\": true}, \"label\": \"PC 4 (0.0%)\", \"values\": [-0.05667513529841249]}], \"hovertemplate\": \"color=excelsior<br>%{xaxis.title.text}=%{x}<br>%{yaxis.title.text}=%{y}<extra></extra>\", \"legendgroup\": \"excelsior\", \"marker\": {\"color\": \"#ab63fa\", \"symbol\": \"circle\"}, \"name\": \"excelsior\", \"showlegend\": true, \"type\": \"splom\"}, {\"diagonal\": {\"visible\": false}, \"dimensions\": [{\"axis\": {\"matches\": true}, \"label\": \"PC 1 (100.0%)\", \"values\": [230318.8703503147, 230320.2847880429, 209197.53123486755, 230323.20125896594, 230324.61695779703, 230326.02979540476, 230327.3573451334, -185267.74810206186, -185263.50738429796, -185262.09251487843]}, {\"axis\": {\"matches\": true}, \"label\": \"PC 2 (0.0%)\", \"values\": [-1487.6836323451632, -1487.7231599946795, 19753.355359691377, -1489.8738095108001, -1489.861011581058, -1489.8702777559877, -1487.7343530014557, 156.3854401486904, 156.39841987670735, 156.38634203544527]}, {\"axis\": {\"matches\": true}, \"label\": \"PC 3 (0.0%)\", \"values\": [-1431.0434173564975, -1430.9651518202431, 177.35362945535897, -1401.3725494416137, -1401.300243493964, -1401.3912362428912, -1430.9210909061264, -65.3592745951019, -65.6405487346825, -65.51764476084041]}, {\"axis\": {\"matches\": true}, \"label\": \"PC 4 (0.0%)\", \"values\": [-9.772775719833849, -5.205805065663415, 0.0004744735990800372, -34.41517629516922, -17.6760714934139, -32.56540606552683, 10.520686080422205, -25.374010253611836, -43.770061004629014, -37.536729439388786]}], \"hovertemplate\": \"color=fuscus<br>%{xaxis.title.text}=%{x}<br>%{yaxis.title.text}=%{y}<extra></extra>\", \"legendgroup\": \"fuscus\", \"marker\": {\"color\": \"#FFA15A\", \"symbol\": \"circle\"}, \"name\": \"fuscus\", \"showlegend\": true, \"type\": \"splom\"}, {\"diagonal\": {\"visible\": false}, \"dimensions\": [{\"axis\": {\"matches\": true}, \"label\": \"PC 1 (100.0%)\", \"values\": [-185270.5711917068, -185269.15442355917, -113494.53746438997, -113492.95741665953, -113488.42053671922]}, {\"axis\": {\"matches\": true}, \"label\": \"PC 2 (0.0%)\", \"values\": [156.39266600850559, 156.36193019916843, -127.35988684892098, -131.3655945419054, -138.48099370379845]}, {\"axis\": {\"matches\": true}, \"label\": \"PC 3 (0.0%)\", \"values\": [-64.91276849786598, -64.64759422973644, -303.5907968129223, -248.8334814923169, -151.2256353104633]}, {\"axis\": {\"matches\": true}, \"label\": \"PC 4 (0.0%)\", \"values\": [26.59526796946253, 52.07972552467956, -29.861273841328668, -25.83159775401705, -47.14925592572426]}], \"hovertemplate\": \"color=oustaleti<br>%{xaxis.title.text}=%{x}<br>%{yaxis.title.text}=%{y}<extra></extra>\", \"legendgroup\": \"oustaleti\", \"marker\": {\"color\": \"#19d3f3\", \"symbol\": \"circle\"}, \"name\": \"oustaleti\", \"showlegend\": true, \"type\": \"splom\"}, {\"diagonal\": {\"visible\": false}, \"dimensions\": [{\"axis\": {\"matches\": true}, \"label\": \"PC 1 (100.0%)\", \"values\": [296279.33985388454, -185367.60668530752, -185276.23378246455, -185274.8184050828, -113503.01849874732, -113501.60717352106, -113500.12288818847, -113497.29222598083, -113495.87918514741, -113487.46782815427, -113486.05078854972, -11790.12425012371, -11788.710178298215, -11787.296033044764]}, {\"axis\": {\"matches\": true}, \"label\": \"PC 2 (0.0%)\", \"values\": [-1772.8932120291176, 143.67562377378013, 156.35954799247406, 156.3680743120306, -127.46539022529383, -127.44441885645695, -129.1176202660606, -129.14651377823796, -129.14674322219278, -127.48481538551232, -127.50885325020425, -557.7192363631831, -557.725494841591, -557.7245121157722]}, {\"axis\": {\"matches\": true}, \"label\": \"PC 3 (0.0%)\", \"values\": [-1314.681302050716, 114.90112071953911, -65.1835368756276, -65.13553945556258, -302.8601250960419, -303.1392280802327, -280.1640749439275, -279.9547286846929, -280.0740203474927, -303.40132555179036, -303.12308081613827, -253.10453520063635, -253.1389951434566, -253.12505267015928]}, {\"axis\": {\"matches\": true}, \"label\": \"PC 4 (0.0%)\", \"values\": [-24.29697602439503, 27.198021572148487, -28.064266473265548, -13.892263468252493, 16.716303349286598, -8.172707969374327, -4.910627400153067, 16.844628276238225, 5.696444351508451, -33.305515842514346, -6.437015236650099, 105.55526162732157, 102.89075490670753, 103.81148966821625]}], \"hovertemplate\": \"color=patagonicus<br>%{xaxis.title.text}=%{x}<br>%{yaxis.title.text}=%{y}<extra></extra>\", \"legendgroup\": \"patagonicus\", \"marker\": {\"color\": \"#FF6692\", \"symbol\": \"circle\"}, \"name\": \"patagonicus\", \"showlegend\": true, \"type\": \"splom\"}],                        {\"dragmode\": \"select\", \"legend\": {\"title\": {\"text\": \"color\"}, \"tracegroupgap\": 0}, \"margin\": {\"t\": 60}, \"template\": {\"data\": {\"bar\": [{\"error_x\": {\"color\": \"#2a3f5f\"}, \"error_y\": {\"color\": \"#2a3f5f\"}, \"marker\": {\"line\": {\"color\": \"#E5ECF6\", \"width\": 0.5}}, \"type\": \"bar\"}], \"barpolar\": [{\"marker\": {\"line\": {\"color\": \"#E5ECF6\", \"width\": 0.5}}, \"type\": \"barpolar\"}], \"carpet\": [{\"aaxis\": {\"endlinecolor\": \"#2a3f5f\", \"gridcolor\": \"white\", \"linecolor\": \"white\", \"minorgridcolor\": \"white\", \"startlinecolor\": \"#2a3f5f\"}, \"baxis\": {\"endlinecolor\": \"#2a3f5f\", \"gridcolor\": \"white\", \"linecolor\": \"white\", \"minorgridcolor\": \"white\", \"startlinecolor\": \"#2a3f5f\"}, \"type\": \"carpet\"}], \"choropleth\": [{\"colorbar\": {\"outlinewidth\": 0, \"ticks\": \"\"}, \"type\": \"choropleth\"}], \"contour\": [{\"colorbar\": {\"outlinewidth\": 0, \"ticks\": \"\"}, \"colorscale\": [[0.0, \"#0d0887\"], [0.1111111111111111, \"#46039f\"], [0.2222222222222222, \"#7201a8\"], [0.3333333333333333, \"#9c179e\"], [0.4444444444444444, \"#bd3786\"], [0.5555555555555556, \"#d8576b\"], [0.6666666666666666, \"#ed7953\"], [0.7777777777777778, \"#fb9f3a\"], [0.8888888888888888, \"#fdca26\"], [1.0, \"#f0f921\"]], \"type\": \"contour\"}], \"contourcarpet\": [{\"colorbar\": {\"outlinewidth\": 0, \"ticks\": \"\"}, \"type\": \"contourcarpet\"}], \"heatmap\": [{\"colorbar\": {\"outlinewidth\": 0, \"ticks\": \"\"}, \"colorscale\": [[0.0, \"#0d0887\"], [0.1111111111111111, \"#46039f\"], [0.2222222222222222, \"#7201a8\"], [0.3333333333333333, \"#9c179e\"], [0.4444444444444444, \"#bd3786\"], [0.5555555555555556, \"#d8576b\"], [0.6666666666666666, \"#ed7953\"], [0.7777777777777778, \"#fb9f3a\"], [0.8888888888888888, \"#fdca26\"], [1.0, \"#f0f921\"]], \"type\": \"heatmap\"}], \"heatmapgl\": [{\"colorbar\": {\"outlinewidth\": 0, \"ticks\": \"\"}, \"colorscale\": [[0.0, \"#0d0887\"], [0.1111111111111111, \"#46039f\"], [0.2222222222222222, \"#7201a8\"], [0.3333333333333333, \"#9c179e\"], [0.4444444444444444, \"#bd3786\"], [0.5555555555555556, \"#d8576b\"], [0.6666666666666666, \"#ed7953\"], [0.7777777777777778, \"#fb9f3a\"], [0.8888888888888888, \"#fdca26\"], [1.0, \"#f0f921\"]], \"type\": \"heatmapgl\"}], \"histogram\": [{\"marker\": {\"colorbar\": {\"outlinewidth\": 0, \"ticks\": \"\"}}, \"type\": \"histogram\"}], \"histogram2d\": [{\"colorbar\": {\"outlinewidth\": 0, \"ticks\": \"\"}, \"colorscale\": [[0.0, \"#0d0887\"], [0.1111111111111111, \"#46039f\"], [0.2222222222222222, \"#7201a8\"], [0.3333333333333333, \"#9c179e\"], [0.4444444444444444, \"#bd3786\"], [0.5555555555555556, \"#d8576b\"], [0.6666666666666666, \"#ed7953\"], [0.7777777777777778, \"#fb9f3a\"], [0.8888888888888888, \"#fdca26\"], [1.0, \"#f0f921\"]], \"type\": \"histogram2d\"}], \"histogram2dcontour\": [{\"colorbar\": {\"outlinewidth\": 0, \"ticks\": \"\"}, \"colorscale\": [[0.0, \"#0d0887\"], [0.1111111111111111, \"#46039f\"], [0.2222222222222222, \"#7201a8\"], [0.3333333333333333, \"#9c179e\"], [0.4444444444444444, \"#bd3786\"], [0.5555555555555556, \"#d8576b\"], [0.6666666666666666, \"#ed7953\"], [0.7777777777777778, \"#fb9f3a\"], [0.8888888888888888, \"#fdca26\"], [1.0, \"#f0f921\"]], \"type\": \"histogram2dcontour\"}], \"mesh3d\": [{\"colorbar\": {\"outlinewidth\": 0, \"ticks\": \"\"}, \"type\": \"mesh3d\"}], \"parcoords\": [{\"line\": {\"colorbar\": {\"outlinewidth\": 0, \"ticks\": \"\"}}, \"type\": \"parcoords\"}], \"pie\": [{\"automargin\": true, \"type\": \"pie\"}], \"scatter\": [{\"marker\": {\"colorbar\": {\"outlinewidth\": 0, \"ticks\": \"\"}}, \"type\": \"scatter\"}], \"scatter3d\": [{\"line\": {\"colorbar\": {\"outlinewidth\": 0, \"ticks\": \"\"}}, \"marker\": {\"colorbar\": {\"outlinewidth\": 0, \"ticks\": \"\"}}, \"type\": \"scatter3d\"}], \"scattercarpet\": [{\"marker\": {\"colorbar\": {\"outlinewidth\": 0, \"ticks\": \"\"}}, \"type\": \"scattercarpet\"}], \"scattergeo\": [{\"marker\": {\"colorbar\": {\"outlinewidth\": 0, \"ticks\": \"\"}}, \"type\": \"scattergeo\"}], \"scattergl\": [{\"marker\": {\"colorbar\": {\"outlinewidth\": 0, \"ticks\": \"\"}}, \"type\": \"scattergl\"}], \"scattermapbox\": [{\"marker\": {\"colorbar\": {\"outlinewidth\": 0, \"ticks\": \"\"}}, \"type\": \"scattermapbox\"}], \"scatterpolar\": [{\"marker\": {\"colorbar\": {\"outlinewidth\": 0, \"ticks\": \"\"}}, \"type\": \"scatterpolar\"}], \"scatterpolargl\": [{\"marker\": {\"colorbar\": {\"outlinewidth\": 0, \"ticks\": \"\"}}, \"type\": \"scatterpolargl\"}], \"scatterternary\": [{\"marker\": {\"colorbar\": {\"outlinewidth\": 0, \"ticks\": \"\"}}, \"type\": \"scatterternary\"}], \"surface\": [{\"colorbar\": {\"outlinewidth\": 0, \"ticks\": \"\"}, \"colorscale\": [[0.0, \"#0d0887\"], [0.1111111111111111, \"#46039f\"], [0.2222222222222222, \"#7201a8\"], [0.3333333333333333, \"#9c179e\"], [0.4444444444444444, \"#bd3786\"], [0.5555555555555556, \"#d8576b\"], [0.6666666666666666, \"#ed7953\"], [0.7777777777777778, \"#fb9f3a\"], [0.8888888888888888, \"#fdca26\"], [1.0, \"#f0f921\"]], \"type\": \"surface\"}], \"table\": [{\"cells\": {\"fill\": {\"color\": \"#EBF0F8\"}, \"line\": {\"color\": \"white\"}}, \"header\": {\"fill\": {\"color\": \"#C8D4E3\"}, \"line\": {\"color\": \"white\"}}, \"type\": \"table\"}]}, \"layout\": {\"annotationdefaults\": {\"arrowcolor\": \"#2a3f5f\", \"arrowhead\": 0, \"arrowwidth\": 1}, \"autotypenumbers\": \"strict\", \"coloraxis\": {\"colorbar\": {\"outlinewidth\": 0, \"ticks\": \"\"}}, \"colorscale\": {\"diverging\": [[0, \"#8e0152\"], [0.1, \"#c51b7d\"], [0.2, \"#de77ae\"], [0.3, \"#f1b6da\"], [0.4, \"#fde0ef\"], [0.5, \"#f7f7f7\"], [0.6, \"#e6f5d0\"], [0.7, \"#b8e186\"], [0.8, \"#7fbc41\"], [0.9, \"#4d9221\"], [1, \"#276419\"]], \"sequential\": [[0.0, \"#0d0887\"], [0.1111111111111111, \"#46039f\"], [0.2222222222222222, \"#7201a8\"], [0.3333333333333333, \"#9c179e\"], [0.4444444444444444, \"#bd3786\"], [0.5555555555555556, \"#d8576b\"], [0.6666666666666666, \"#ed7953\"], [0.7777777777777778, \"#fb9f3a\"], [0.8888888888888888, \"#fdca26\"], [1.0, \"#f0f921\"]], \"sequentialminus\": [[0.0, \"#0d0887\"], [0.1111111111111111, \"#46039f\"], [0.2222222222222222, \"#7201a8\"], [0.3333333333333333, \"#9c179e\"], [0.4444444444444444, \"#bd3786\"], [0.5555555555555556, \"#d8576b\"], [0.6666666666666666, \"#ed7953\"], [0.7777777777777778, \"#fb9f3a\"], [0.8888888888888888, \"#fdca26\"], [1.0, \"#f0f921\"]]}, \"colorway\": [\"#636efa\", \"#EF553B\", \"#00cc96\", \"#ab63fa\", \"#FFA15A\", \"#19d3f3\", \"#FF6692\", \"#B6E880\", \"#FF97FF\", \"#FECB52\"], \"font\": {\"color\": \"#2a3f5f\"}, \"geo\": {\"bgcolor\": \"white\", \"lakecolor\": \"white\", \"landcolor\": \"#E5ECF6\", \"showlakes\": true, \"showland\": true, \"subunitcolor\": \"white\"}, \"hoverlabel\": {\"align\": \"left\"}, \"hovermode\": \"closest\", \"mapbox\": {\"style\": \"light\"}, \"paper_bgcolor\": \"white\", \"plot_bgcolor\": \"#E5ECF6\", \"polar\": {\"angularaxis\": {\"gridcolor\": \"white\", \"linecolor\": \"white\", \"ticks\": \"\"}, \"bgcolor\": \"#E5ECF6\", \"radialaxis\": {\"gridcolor\": \"white\", \"linecolor\": \"white\", \"ticks\": \"\"}}, \"scene\": {\"xaxis\": {\"backgroundcolor\": \"#E5ECF6\", \"gridcolor\": \"white\", \"gridwidth\": 2, \"linecolor\": \"white\", \"showbackground\": true, \"ticks\": \"\", \"zerolinecolor\": \"white\"}, \"yaxis\": {\"backgroundcolor\": \"#E5ECF6\", \"gridcolor\": \"white\", \"gridwidth\": 2, \"linecolor\": \"white\", \"showbackground\": true, \"ticks\": \"\", \"zerolinecolor\": \"white\"}, \"zaxis\": {\"backgroundcolor\": \"#E5ECF6\", \"gridcolor\": \"white\", \"gridwidth\": 2, \"linecolor\": \"white\", \"showbackground\": true, \"ticks\": \"\", \"zerolinecolor\": \"white\"}}, \"shapedefaults\": {\"line\": {\"color\": \"#2a3f5f\"}}, \"ternary\": {\"aaxis\": {\"gridcolor\": \"white\", \"linecolor\": \"white\", \"ticks\": \"\"}, \"baxis\": {\"gridcolor\": \"white\", \"linecolor\": \"white\", \"ticks\": \"\"}, \"bgcolor\": \"#E5ECF6\", \"caxis\": {\"gridcolor\": \"white\", \"linecolor\": \"white\", \"ticks\": \"\"}}, \"title\": {\"x\": 0.05}, \"xaxis\": {\"automargin\": true, \"gridcolor\": \"white\", \"linecolor\": \"white\", \"ticks\": \"\", \"title\": {\"standoff\": 15}, \"zerolinecolor\": \"white\", \"zerolinewidth\": 2}, \"yaxis\": {\"automargin\": true, \"gridcolor\": \"white\", \"linecolor\": \"white\", \"ticks\": \"\", \"title\": {\"standoff\": 15}, \"zerolinecolor\": \"white\", \"zerolinewidth\": 2}}}},                        {\"responsive\": true}                    ).then(function(){\n",
       "                            \n",
       "var gd = document.getElementById('b3031f1e-9f1a-4045-9a3e-958c408701ac');\n",
       "var x = new MutationObserver(function (mutations, observer) {{\n",
       "        var display = window.getComputedStyle(gd).display;\n",
       "        if (!display || display === 'none') {{\n",
       "            console.log([gd, 'removed!']);\n",
       "            Plotly.purge(gd);\n",
       "            observer.disconnect();\n",
       "        }}\n",
       "}});\n",
       "\n",
       "// Listen for the removal of the full notebook cells\n",
       "var notebookContainer = gd.closest('#notebook-container');\n",
       "if (notebookContainer) {{\n",
       "    x.observe(notebookContainer, {childList: true});\n",
       "}}\n",
       "\n",
       "// Listen for the clearing of the current output cell\n",
       "var outputEl = gd.closest('.output');\n",
       "if (outputEl) {{\n",
       "    x.observe(outputEl, {childList: true});\n",
       "}}\n",
       "\n",
       "                        })                };                });            </script>        </div>"
      ]
     },
     "metadata": {},
     "output_type": "display_data"
    }
   ],
   "source": [
    "features = dataset.columns\n",
    "features = features.drop('Species',1)\n",
    "print(features)\n",
    "\n",
    "pca = PCA()\n",
    "components = pca.fit_transform(dataset[features])\n",
    "labels = {\n",
    "    str(i): f\"PC {i+1} ({var:.1f}%)\"\n",
    "    for i, var in enumerate(pca.explained_variance_ratio_ * 100)\n",
    "}\n",
    "\n",
    "fig = px.scatter_matrix(\n",
    "    components,\n",
    "    labels=labels,\n",
    "    dimensions=range(4),\n",
    "    color=dataset[\"Species\"]\n",
    ")\n",
    "fig.update_traces(diagonal_visible=False)\n",
    "fig.show()"
   ]
  },
  {
   "cell_type": "code",
   "execution_count": 69,
   "metadata": {},
   "outputs": [
    {
     "data": {
      "application/vnd.plotly.v1+json": {
       "config": {
        "plotlyServerURL": "https://plot.ly"
       },
       "data": [
        {
         "diagonal": {
          "visible": false
         },
         "dimensions": [
          {
           "axis": {
            "matches": true
           },
           "label": "PC 1",
           "values": [
            -11460.856894474848
           ]
          },
          {
           "axis": {
            "matches": true
           },
           "label": "PC 2",
           "values": [
            -824.6204526050109
           ]
          },
          {
           "axis": {
            "matches": true
           },
           "label": "PC 3",
           "values": [
            3400.3375854257774
           ]
          },
          {
           "axis": {
            "matches": true
           },
           "label": "PC 4",
           "values": [
            -15.228629249315395
           ]
          }
         ],
         "hovertemplate": "Median Price=albidiventris<br>%{xaxis.title.text}=%{x}<br>%{yaxis.title.text}=%{y}<extra></extra>",
         "legendgroup": "albidiventris",
         "marker": {
          "color": "#636efa",
          "symbol": "circle"
         },
         "name": "albidiventris",
         "showlegend": true,
         "type": "splom"
        },
        {
         "diagonal": {
          "visible": false
         },
         "dimensions": [
          {
           "axis": {
            "matches": true
           },
           "label": "PC 1",
           "values": [
            -10069.188194665041
           ]
          },
          {
           "axis": {
            "matches": true
           },
           "label": "PC 2",
           "values": [
            -764.8328022637925
           ]
          },
          {
           "axis": {
            "matches": true
           },
           "label": "PC 3",
           "values": [
            2497.5175237877183
           ]
          },
          {
           "axis": {
            "matches": true
           },
           "label": "PC 4",
           "values": [
            -62.31586113864578
           ]
          }
         ],
         "hovertemplate": "Median Price=albiventris<br>%{xaxis.title.text}=%{x}<br>%{yaxis.title.text}=%{y}<extra></extra>",
         "legendgroup": "albiventris",
         "marker": {
          "color": "#EF553B",
          "symbol": "circle"
         },
         "name": "albiventris",
         "showlegend": true,
         "type": "splom"
        },
        {
         "diagonal": {
          "visible": false
         },
         "dimensions": [
          {
           "axis": {
            "matches": true
           },
           "label": "PC 1",
           "values": [
            249691.26332311428,
            257781.26130626316
           ]
          },
          {
           "axis": {
            "matches": true
           },
           "label": "PC 2",
           "values": [
            -1853.6247344112373,
            -1904.91904495197
           ]
          },
          {
           "axis": {
            "matches": true
           },
           "label": "PC 3",
           "values": [
            2484.088319454965,
            2723.234915637356
           ]
          },
          {
           "axis": {
            "matches": true
           },
           "label": "PC 4",
           "values": [
            35.84920068026561,
            2.0804423163071046
           ]
          }
         ],
         "hovertemplate": "Median Price=atacamensis<br>%{xaxis.title.text}=%{x}<br>%{yaxis.title.text}=%{y}<extra></extra>",
         "legendgroup": "atacamensis",
         "marker": {
          "color": "#00cc96",
          "symbol": "circle"
         },
         "name": "atacamensis",
         "showlegend": true,
         "type": "splom"
        },
        {
         "diagonal": {
          "visible": false
         },
         "dimensions": [
          {
           "axis": {
            "matches": true
           },
           "label": "PC 1",
           "values": [
            279205.505832233
           ]
          },
          {
           "axis": {
            "matches": true
           },
           "label": "PC 2",
           "values": [
            -1970.3568401899968
           ]
          },
          {
           "axis": {
            "matches": true
           },
           "label": "PC 3",
           "values": [
            2386.3738841311756
           ]
          },
          {
           "axis": {
            "matches": true
           },
           "label": "PC 4",
           "values": [
            -0.05667513529841249
           ]
          }
         ],
         "hovertemplate": "Median Price=excelsior<br>%{xaxis.title.text}=%{x}<br>%{yaxis.title.text}=%{y}<extra></extra>",
         "legendgroup": "excelsior",
         "marker": {
          "color": "#ab63fa",
          "symbol": "circle"
         },
         "name": "excelsior",
         "showlegend": true,
         "type": "splom"
        },
        {
         "diagonal": {
          "visible": false
         },
         "dimensions": [
          {
           "axis": {
            "matches": true
           },
           "label": "PC 1",
           "values": [
            230318.8703503147,
            230320.2847880429,
            209197.53123486755,
            230323.20125896594,
            230324.61695779703,
            230326.02979540476,
            230327.3573451334,
            -185267.74810206186,
            -185263.50738429796,
            -185262.09251487843
           ]
          },
          {
           "axis": {
            "matches": true
           },
           "label": "PC 2",
           "values": [
            -1487.6836323451632,
            -1487.7231599946795,
            19753.355359691377,
            -1489.8738095108001,
            -1489.861011581058,
            -1489.8702777559877,
            -1487.7343530014557,
            156.3854401486904,
            156.39841987670735,
            156.38634203544527
           ]
          },
          {
           "axis": {
            "matches": true
           },
           "label": "PC 3",
           "values": [
            -1431.0434173564975,
            -1430.9651518202431,
            177.35362945535897,
            -1401.3725494416137,
            -1401.300243493964,
            -1401.3912362428912,
            -1430.9210909061264,
            -65.3592745951019,
            -65.6405487346825,
            -65.51764476084041
           ]
          },
          {
           "axis": {
            "matches": true
           },
           "label": "PC 4",
           "values": [
            -9.772775719833849,
            -5.205805065663415,
            0.0004744735990800372,
            -34.41517629516922,
            -17.6760714934139,
            -32.56540606552683,
            10.520686080422205,
            -25.374010253611836,
            -43.770061004629014,
            -37.536729439388786
           ]
          }
         ],
         "hovertemplate": "Median Price=fuscus<br>%{xaxis.title.text}=%{x}<br>%{yaxis.title.text}=%{y}<extra></extra>",
         "legendgroup": "fuscus",
         "marker": {
          "color": "#FFA15A",
          "symbol": "circle"
         },
         "name": "fuscus",
         "showlegend": true,
         "type": "splom"
        },
        {
         "diagonal": {
          "visible": false
         },
         "dimensions": [
          {
           "axis": {
            "matches": true
           },
           "label": "PC 1",
           "values": [
            -185270.5711917068,
            -185269.15442355917,
            -113494.53746438997,
            -113492.95741665953,
            -113488.42053671922
           ]
          },
          {
           "axis": {
            "matches": true
           },
           "label": "PC 2",
           "values": [
            156.39266600850559,
            156.36193019916843,
            -127.35988684892098,
            -131.3655945419054,
            -138.48099370379845
           ]
          },
          {
           "axis": {
            "matches": true
           },
           "label": "PC 3",
           "values": [
            -64.91276849786598,
            -64.64759422973644,
            -303.5907968129223,
            -248.8334814923169,
            -151.2256353104633
           ]
          },
          {
           "axis": {
            "matches": true
           },
           "label": "PC 4",
           "values": [
            26.59526796946253,
            52.07972552467956,
            -29.861273841328668,
            -25.83159775401705,
            -47.14925592572426
           ]
          }
         ],
         "hovertemplate": "Median Price=oustaleti<br>%{xaxis.title.text}=%{x}<br>%{yaxis.title.text}=%{y}<extra></extra>",
         "legendgroup": "oustaleti",
         "marker": {
          "color": "#19d3f3",
          "symbol": "circle"
         },
         "name": "oustaleti",
         "showlegend": true,
         "type": "splom"
        },
        {
         "diagonal": {
          "visible": false
         },
         "dimensions": [
          {
           "axis": {
            "matches": true
           },
           "label": "PC 1",
           "values": [
            296279.33985388454,
            -185367.60668530752,
            -185276.23378246455,
            -185274.8184050828,
            -113503.01849874732,
            -113501.60717352106,
            -113500.12288818847,
            -113497.29222598083,
            -113495.87918514741,
            -113487.46782815427,
            -113486.05078854972,
            -11790.12425012371,
            -11788.710178298215,
            -11787.296033044764
           ]
          },
          {
           "axis": {
            "matches": true
           },
           "label": "PC 2",
           "values": [
            -1772.8932120291176,
            143.67562377378013,
            156.35954799247406,
            156.3680743120306,
            -127.46539022529383,
            -127.44441885645695,
            -129.1176202660606,
            -129.14651377823796,
            -129.14674322219278,
            -127.48481538551232,
            -127.50885325020425,
            -557.7192363631831,
            -557.725494841591,
            -557.7245121157722
           ]
          },
          {
           "axis": {
            "matches": true
           },
           "label": "PC 3",
           "values": [
            -1314.681302050716,
            114.90112071953911,
            -65.1835368756276,
            -65.13553945556258,
            -302.8601250960419,
            -303.1392280802327,
            -280.1640749439275,
            -279.9547286846929,
            -280.0740203474927,
            -303.40132555179036,
            -303.12308081613827,
            -253.10453520063635,
            -253.1389951434566,
            -253.12505267015928
           ]
          },
          {
           "axis": {
            "matches": true
           },
           "label": "PC 4",
           "values": [
            -24.29697602439503,
            27.198021572148487,
            -28.064266473265548,
            -13.892263468252493,
            16.716303349286598,
            -8.172707969374327,
            -4.910627400153067,
            16.844628276238225,
            5.696444351508451,
            -33.305515842514346,
            -6.437015236650099,
            105.55526162732157,
            102.89075490670753,
            103.81148966821625
           ]
          }
         ],
         "hovertemplate": "Median Price=patagonicus<br>%{xaxis.title.text}=%{x}<br>%{yaxis.title.text}=%{y}<extra></extra>",
         "legendgroup": "patagonicus",
         "marker": {
          "color": "#FF6692",
          "symbol": "circle"
         },
         "name": "patagonicus",
         "showlegend": true,
         "type": "splom"
        }
       ],
       "layout": {
        "dragmode": "select",
        "legend": {
         "title": {
          "text": "Median Price"
         },
         "tracegroupgap": 0
        },
        "template": {
         "data": {
          "bar": [
           {
            "error_x": {
             "color": "#2a3f5f"
            },
            "error_y": {
             "color": "#2a3f5f"
            },
            "marker": {
             "line": {
              "color": "#E5ECF6",
              "width": 0.5
             }
            },
            "type": "bar"
           }
          ],
          "barpolar": [
           {
            "marker": {
             "line": {
              "color": "#E5ECF6",
              "width": 0.5
             }
            },
            "type": "barpolar"
           }
          ],
          "carpet": [
           {
            "aaxis": {
             "endlinecolor": "#2a3f5f",
             "gridcolor": "white",
             "linecolor": "white",
             "minorgridcolor": "white",
             "startlinecolor": "#2a3f5f"
            },
            "baxis": {
             "endlinecolor": "#2a3f5f",
             "gridcolor": "white",
             "linecolor": "white",
             "minorgridcolor": "white",
             "startlinecolor": "#2a3f5f"
            },
            "type": "carpet"
           }
          ],
          "choropleth": [
           {
            "colorbar": {
             "outlinewidth": 0,
             "ticks": ""
            },
            "type": "choropleth"
           }
          ],
          "contour": [
           {
            "colorbar": {
             "outlinewidth": 0,
             "ticks": ""
            },
            "colorscale": [
             [
              0,
              "#0d0887"
             ],
             [
              0.1111111111111111,
              "#46039f"
             ],
             [
              0.2222222222222222,
              "#7201a8"
             ],
             [
              0.3333333333333333,
              "#9c179e"
             ],
             [
              0.4444444444444444,
              "#bd3786"
             ],
             [
              0.5555555555555556,
              "#d8576b"
             ],
             [
              0.6666666666666666,
              "#ed7953"
             ],
             [
              0.7777777777777778,
              "#fb9f3a"
             ],
             [
              0.8888888888888888,
              "#fdca26"
             ],
             [
              1,
              "#f0f921"
             ]
            ],
            "type": "contour"
           }
          ],
          "contourcarpet": [
           {
            "colorbar": {
             "outlinewidth": 0,
             "ticks": ""
            },
            "type": "contourcarpet"
           }
          ],
          "heatmap": [
           {
            "colorbar": {
             "outlinewidth": 0,
             "ticks": ""
            },
            "colorscale": [
             [
              0,
              "#0d0887"
             ],
             [
              0.1111111111111111,
              "#46039f"
             ],
             [
              0.2222222222222222,
              "#7201a8"
             ],
             [
              0.3333333333333333,
              "#9c179e"
             ],
             [
              0.4444444444444444,
              "#bd3786"
             ],
             [
              0.5555555555555556,
              "#d8576b"
             ],
             [
              0.6666666666666666,
              "#ed7953"
             ],
             [
              0.7777777777777778,
              "#fb9f3a"
             ],
             [
              0.8888888888888888,
              "#fdca26"
             ],
             [
              1,
              "#f0f921"
             ]
            ],
            "type": "heatmap"
           }
          ],
          "heatmapgl": [
           {
            "colorbar": {
             "outlinewidth": 0,
             "ticks": ""
            },
            "colorscale": [
             [
              0,
              "#0d0887"
             ],
             [
              0.1111111111111111,
              "#46039f"
             ],
             [
              0.2222222222222222,
              "#7201a8"
             ],
             [
              0.3333333333333333,
              "#9c179e"
             ],
             [
              0.4444444444444444,
              "#bd3786"
             ],
             [
              0.5555555555555556,
              "#d8576b"
             ],
             [
              0.6666666666666666,
              "#ed7953"
             ],
             [
              0.7777777777777778,
              "#fb9f3a"
             ],
             [
              0.8888888888888888,
              "#fdca26"
             ],
             [
              1,
              "#f0f921"
             ]
            ],
            "type": "heatmapgl"
           }
          ],
          "histogram": [
           {
            "marker": {
             "colorbar": {
              "outlinewidth": 0,
              "ticks": ""
             }
            },
            "type": "histogram"
           }
          ],
          "histogram2d": [
           {
            "colorbar": {
             "outlinewidth": 0,
             "ticks": ""
            },
            "colorscale": [
             [
              0,
              "#0d0887"
             ],
             [
              0.1111111111111111,
              "#46039f"
             ],
             [
              0.2222222222222222,
              "#7201a8"
             ],
             [
              0.3333333333333333,
              "#9c179e"
             ],
             [
              0.4444444444444444,
              "#bd3786"
             ],
             [
              0.5555555555555556,
              "#d8576b"
             ],
             [
              0.6666666666666666,
              "#ed7953"
             ],
             [
              0.7777777777777778,
              "#fb9f3a"
             ],
             [
              0.8888888888888888,
              "#fdca26"
             ],
             [
              1,
              "#f0f921"
             ]
            ],
            "type": "histogram2d"
           }
          ],
          "histogram2dcontour": [
           {
            "colorbar": {
             "outlinewidth": 0,
             "ticks": ""
            },
            "colorscale": [
             [
              0,
              "#0d0887"
             ],
             [
              0.1111111111111111,
              "#46039f"
             ],
             [
              0.2222222222222222,
              "#7201a8"
             ],
             [
              0.3333333333333333,
              "#9c179e"
             ],
             [
              0.4444444444444444,
              "#bd3786"
             ],
             [
              0.5555555555555556,
              "#d8576b"
             ],
             [
              0.6666666666666666,
              "#ed7953"
             ],
             [
              0.7777777777777778,
              "#fb9f3a"
             ],
             [
              0.8888888888888888,
              "#fdca26"
             ],
             [
              1,
              "#f0f921"
             ]
            ],
            "type": "histogram2dcontour"
           }
          ],
          "mesh3d": [
           {
            "colorbar": {
             "outlinewidth": 0,
             "ticks": ""
            },
            "type": "mesh3d"
           }
          ],
          "parcoords": [
           {
            "line": {
             "colorbar": {
              "outlinewidth": 0,
              "ticks": ""
             }
            },
            "type": "parcoords"
           }
          ],
          "pie": [
           {
            "automargin": true,
            "type": "pie"
           }
          ],
          "scatter": [
           {
            "marker": {
             "colorbar": {
              "outlinewidth": 0,
              "ticks": ""
             }
            },
            "type": "scatter"
           }
          ],
          "scatter3d": [
           {
            "line": {
             "colorbar": {
              "outlinewidth": 0,
              "ticks": ""
             }
            },
            "marker": {
             "colorbar": {
              "outlinewidth": 0,
              "ticks": ""
             }
            },
            "type": "scatter3d"
           }
          ],
          "scattercarpet": [
           {
            "marker": {
             "colorbar": {
              "outlinewidth": 0,
              "ticks": ""
             }
            },
            "type": "scattercarpet"
           }
          ],
          "scattergeo": [
           {
            "marker": {
             "colorbar": {
              "outlinewidth": 0,
              "ticks": ""
             }
            },
            "type": "scattergeo"
           }
          ],
          "scattergl": [
           {
            "marker": {
             "colorbar": {
              "outlinewidth": 0,
              "ticks": ""
             }
            },
            "type": "scattergl"
           }
          ],
          "scattermapbox": [
           {
            "marker": {
             "colorbar": {
              "outlinewidth": 0,
              "ticks": ""
             }
            },
            "type": "scattermapbox"
           }
          ],
          "scatterpolar": [
           {
            "marker": {
             "colorbar": {
              "outlinewidth": 0,
              "ticks": ""
             }
            },
            "type": "scatterpolar"
           }
          ],
          "scatterpolargl": [
           {
            "marker": {
             "colorbar": {
              "outlinewidth": 0,
              "ticks": ""
             }
            },
            "type": "scatterpolargl"
           }
          ],
          "scatterternary": [
           {
            "marker": {
             "colorbar": {
              "outlinewidth": 0,
              "ticks": ""
             }
            },
            "type": "scatterternary"
           }
          ],
          "surface": [
           {
            "colorbar": {
             "outlinewidth": 0,
             "ticks": ""
            },
            "colorscale": [
             [
              0,
              "#0d0887"
             ],
             [
              0.1111111111111111,
              "#46039f"
             ],
             [
              0.2222222222222222,
              "#7201a8"
             ],
             [
              0.3333333333333333,
              "#9c179e"
             ],
             [
              0.4444444444444444,
              "#bd3786"
             ],
             [
              0.5555555555555556,
              "#d8576b"
             ],
             [
              0.6666666666666666,
              "#ed7953"
             ],
             [
              0.7777777777777778,
              "#fb9f3a"
             ],
             [
              0.8888888888888888,
              "#fdca26"
             ],
             [
              1,
              "#f0f921"
             ]
            ],
            "type": "surface"
           }
          ],
          "table": [
           {
            "cells": {
             "fill": {
              "color": "#EBF0F8"
             },
             "line": {
              "color": "white"
             }
            },
            "header": {
             "fill": {
              "color": "#C8D4E3"
             },
             "line": {
              "color": "white"
             }
            },
            "type": "table"
           }
          ]
         },
         "layout": {
          "annotationdefaults": {
           "arrowcolor": "#2a3f5f",
           "arrowhead": 0,
           "arrowwidth": 1
          },
          "autotypenumbers": "strict",
          "coloraxis": {
           "colorbar": {
            "outlinewidth": 0,
            "ticks": ""
           }
          },
          "colorscale": {
           "diverging": [
            [
             0,
             "#8e0152"
            ],
            [
             0.1,
             "#c51b7d"
            ],
            [
             0.2,
             "#de77ae"
            ],
            [
             0.3,
             "#f1b6da"
            ],
            [
             0.4,
             "#fde0ef"
            ],
            [
             0.5,
             "#f7f7f7"
            ],
            [
             0.6,
             "#e6f5d0"
            ],
            [
             0.7,
             "#b8e186"
            ],
            [
             0.8,
             "#7fbc41"
            ],
            [
             0.9,
             "#4d9221"
            ],
            [
             1,
             "#276419"
            ]
           ],
           "sequential": [
            [
             0,
             "#0d0887"
            ],
            [
             0.1111111111111111,
             "#46039f"
            ],
            [
             0.2222222222222222,
             "#7201a8"
            ],
            [
             0.3333333333333333,
             "#9c179e"
            ],
            [
             0.4444444444444444,
             "#bd3786"
            ],
            [
             0.5555555555555556,
             "#d8576b"
            ],
            [
             0.6666666666666666,
             "#ed7953"
            ],
            [
             0.7777777777777778,
             "#fb9f3a"
            ],
            [
             0.8888888888888888,
             "#fdca26"
            ],
            [
             1,
             "#f0f921"
            ]
           ],
           "sequentialminus": [
            [
             0,
             "#0d0887"
            ],
            [
             0.1111111111111111,
             "#46039f"
            ],
            [
             0.2222222222222222,
             "#7201a8"
            ],
            [
             0.3333333333333333,
             "#9c179e"
            ],
            [
             0.4444444444444444,
             "#bd3786"
            ],
            [
             0.5555555555555556,
             "#d8576b"
            ],
            [
             0.6666666666666666,
             "#ed7953"
            ],
            [
             0.7777777777777778,
             "#fb9f3a"
            ],
            [
             0.8888888888888888,
             "#fdca26"
            ],
            [
             1,
             "#f0f921"
            ]
           ]
          },
          "colorway": [
           "#636efa",
           "#EF553B",
           "#00cc96",
           "#ab63fa",
           "#FFA15A",
           "#19d3f3",
           "#FF6692",
           "#B6E880",
           "#FF97FF",
           "#FECB52"
          ],
          "font": {
           "color": "#2a3f5f"
          },
          "geo": {
           "bgcolor": "white",
           "lakecolor": "white",
           "landcolor": "#E5ECF6",
           "showlakes": true,
           "showland": true,
           "subunitcolor": "white"
          },
          "hoverlabel": {
           "align": "left"
          },
          "hovermode": "closest",
          "mapbox": {
           "style": "light"
          },
          "paper_bgcolor": "white",
          "plot_bgcolor": "#E5ECF6",
          "polar": {
           "angularaxis": {
            "gridcolor": "white",
            "linecolor": "white",
            "ticks": ""
           },
           "bgcolor": "#E5ECF6",
           "radialaxis": {
            "gridcolor": "white",
            "linecolor": "white",
            "ticks": ""
           }
          },
          "scene": {
           "xaxis": {
            "backgroundcolor": "#E5ECF6",
            "gridcolor": "white",
            "gridwidth": 2,
            "linecolor": "white",
            "showbackground": true,
            "ticks": "",
            "zerolinecolor": "white"
           },
           "yaxis": {
            "backgroundcolor": "#E5ECF6",
            "gridcolor": "white",
            "gridwidth": 2,
            "linecolor": "white",
            "showbackground": true,
            "ticks": "",
            "zerolinecolor": "white"
           },
           "zaxis": {
            "backgroundcolor": "#E5ECF6",
            "gridcolor": "white",
            "gridwidth": 2,
            "linecolor": "white",
            "showbackground": true,
            "ticks": "",
            "zerolinecolor": "white"
           }
          },
          "shapedefaults": {
           "line": {
            "color": "#2a3f5f"
           }
          },
          "ternary": {
           "aaxis": {
            "gridcolor": "white",
            "linecolor": "white",
            "ticks": ""
           },
           "baxis": {
            "gridcolor": "white",
            "linecolor": "white",
            "ticks": ""
           },
           "bgcolor": "#E5ECF6",
           "caxis": {
            "gridcolor": "white",
            "linecolor": "white",
            "ticks": ""
           }
          },
          "title": {
           "x": 0.05
          },
          "xaxis": {
           "automargin": true,
           "gridcolor": "white",
           "linecolor": "white",
           "ticks": "",
           "title": {
            "standoff": 15
           },
           "zerolinecolor": "white",
           "zerolinewidth": 2
          },
          "yaxis": {
           "automargin": true,
           "gridcolor": "white",
           "linecolor": "white",
           "ticks": "",
           "title": {
            "standoff": 15
           },
           "zerolinecolor": "white",
           "zerolinewidth": 2
          }
         }
        },
        "title": {
         "text": "Total Explained Variance: 100.00%"
        }
       }
      },
      "text/html": [
       "<div>                            <div id=\"ed617619-2d02-417f-9bfa-fcfc53b3b1cb\" class=\"plotly-graph-div\" style=\"height:525px; width:100%;\"></div>            <script type=\"text/javascript\">                require([\"plotly\"], function(Plotly) {                    window.PLOTLYENV=window.PLOTLYENV || {};                                    if (document.getElementById(\"ed617619-2d02-417f-9bfa-fcfc53b3b1cb\")) {                    Plotly.newPlot(                        \"ed617619-2d02-417f-9bfa-fcfc53b3b1cb\",                        [{\"diagonal\": {\"visible\": false}, \"dimensions\": [{\"axis\": {\"matches\": true}, \"label\": \"PC 1\", \"values\": [-11460.856894474848]}, {\"axis\": {\"matches\": true}, \"label\": \"PC 2\", \"values\": [-824.6204526050109]}, {\"axis\": {\"matches\": true}, \"label\": \"PC 3\", \"values\": [3400.3375854257774]}, {\"axis\": {\"matches\": true}, \"label\": \"PC 4\", \"values\": [-15.228629249315395]}], \"hovertemplate\": \"Median Price=albidiventris<br>%{xaxis.title.text}=%{x}<br>%{yaxis.title.text}=%{y}<extra></extra>\", \"legendgroup\": \"albidiventris\", \"marker\": {\"color\": \"#636efa\", \"symbol\": \"circle\"}, \"name\": \"albidiventris\", \"showlegend\": true, \"type\": \"splom\"}, {\"diagonal\": {\"visible\": false}, \"dimensions\": [{\"axis\": {\"matches\": true}, \"label\": \"PC 1\", \"values\": [-10069.188194665041]}, {\"axis\": {\"matches\": true}, \"label\": \"PC 2\", \"values\": [-764.8328022637925]}, {\"axis\": {\"matches\": true}, \"label\": \"PC 3\", \"values\": [2497.5175237877183]}, {\"axis\": {\"matches\": true}, \"label\": \"PC 4\", \"values\": [-62.31586113864578]}], \"hovertemplate\": \"Median Price=albiventris<br>%{xaxis.title.text}=%{x}<br>%{yaxis.title.text}=%{y}<extra></extra>\", \"legendgroup\": \"albiventris\", \"marker\": {\"color\": \"#EF553B\", \"symbol\": \"circle\"}, \"name\": \"albiventris\", \"showlegend\": true, \"type\": \"splom\"}, {\"diagonal\": {\"visible\": false}, \"dimensions\": [{\"axis\": {\"matches\": true}, \"label\": \"PC 1\", \"values\": [249691.26332311428, 257781.26130626316]}, {\"axis\": {\"matches\": true}, \"label\": \"PC 2\", \"values\": [-1853.6247344112373, -1904.91904495197]}, {\"axis\": {\"matches\": true}, \"label\": \"PC 3\", \"values\": [2484.088319454965, 2723.234915637356]}, {\"axis\": {\"matches\": true}, \"label\": \"PC 4\", \"values\": [35.84920068026561, 2.0804423163071046]}], \"hovertemplate\": \"Median Price=atacamensis<br>%{xaxis.title.text}=%{x}<br>%{yaxis.title.text}=%{y}<extra></extra>\", \"legendgroup\": \"atacamensis\", \"marker\": {\"color\": \"#00cc96\", \"symbol\": \"circle\"}, \"name\": \"atacamensis\", \"showlegend\": true, \"type\": \"splom\"}, {\"diagonal\": {\"visible\": false}, \"dimensions\": [{\"axis\": {\"matches\": true}, \"label\": \"PC 1\", \"values\": [279205.505832233]}, {\"axis\": {\"matches\": true}, \"label\": \"PC 2\", \"values\": [-1970.3568401899968]}, {\"axis\": {\"matches\": true}, \"label\": \"PC 3\", \"values\": [2386.3738841311756]}, {\"axis\": {\"matches\": true}, \"label\": \"PC 4\", \"values\": [-0.05667513529841249]}], \"hovertemplate\": \"Median Price=excelsior<br>%{xaxis.title.text}=%{x}<br>%{yaxis.title.text}=%{y}<extra></extra>\", \"legendgroup\": \"excelsior\", \"marker\": {\"color\": \"#ab63fa\", \"symbol\": \"circle\"}, \"name\": \"excelsior\", \"showlegend\": true, \"type\": \"splom\"}, {\"diagonal\": {\"visible\": false}, \"dimensions\": [{\"axis\": {\"matches\": true}, \"label\": \"PC 1\", \"values\": [230318.8703503147, 230320.2847880429, 209197.53123486755, 230323.20125896594, 230324.61695779703, 230326.02979540476, 230327.3573451334, -185267.74810206186, -185263.50738429796, -185262.09251487843]}, {\"axis\": {\"matches\": true}, \"label\": \"PC 2\", \"values\": [-1487.6836323451632, -1487.7231599946795, 19753.355359691377, -1489.8738095108001, -1489.861011581058, -1489.8702777559877, -1487.7343530014557, 156.3854401486904, 156.39841987670735, 156.38634203544527]}, {\"axis\": {\"matches\": true}, \"label\": \"PC 3\", \"values\": [-1431.0434173564975, -1430.9651518202431, 177.35362945535897, -1401.3725494416137, -1401.300243493964, -1401.3912362428912, -1430.9210909061264, -65.3592745951019, -65.6405487346825, -65.51764476084041]}, {\"axis\": {\"matches\": true}, \"label\": \"PC 4\", \"values\": [-9.772775719833849, -5.205805065663415, 0.0004744735990800372, -34.41517629516922, -17.6760714934139, -32.56540606552683, 10.520686080422205, -25.374010253611836, -43.770061004629014, -37.536729439388786]}], \"hovertemplate\": \"Median Price=fuscus<br>%{xaxis.title.text}=%{x}<br>%{yaxis.title.text}=%{y}<extra></extra>\", \"legendgroup\": \"fuscus\", \"marker\": {\"color\": \"#FFA15A\", \"symbol\": \"circle\"}, \"name\": \"fuscus\", \"showlegend\": true, \"type\": \"splom\"}, {\"diagonal\": {\"visible\": false}, \"dimensions\": [{\"axis\": {\"matches\": true}, \"label\": \"PC 1\", \"values\": [-185270.5711917068, -185269.15442355917, -113494.53746438997, -113492.95741665953, -113488.42053671922]}, {\"axis\": {\"matches\": true}, \"label\": \"PC 2\", \"values\": [156.39266600850559, 156.36193019916843, -127.35988684892098, -131.3655945419054, -138.48099370379845]}, {\"axis\": {\"matches\": true}, \"label\": \"PC 3\", \"values\": [-64.91276849786598, -64.64759422973644, -303.5907968129223, -248.8334814923169, -151.2256353104633]}, {\"axis\": {\"matches\": true}, \"label\": \"PC 4\", \"values\": [26.59526796946253, 52.07972552467956, -29.861273841328668, -25.83159775401705, -47.14925592572426]}], \"hovertemplate\": \"Median Price=oustaleti<br>%{xaxis.title.text}=%{x}<br>%{yaxis.title.text}=%{y}<extra></extra>\", \"legendgroup\": \"oustaleti\", \"marker\": {\"color\": \"#19d3f3\", \"symbol\": \"circle\"}, \"name\": \"oustaleti\", \"showlegend\": true, \"type\": \"splom\"}, {\"diagonal\": {\"visible\": false}, \"dimensions\": [{\"axis\": {\"matches\": true}, \"label\": \"PC 1\", \"values\": [296279.33985388454, -185367.60668530752, -185276.23378246455, -185274.8184050828, -113503.01849874732, -113501.60717352106, -113500.12288818847, -113497.29222598083, -113495.87918514741, -113487.46782815427, -113486.05078854972, -11790.12425012371, -11788.710178298215, -11787.296033044764]}, {\"axis\": {\"matches\": true}, \"label\": \"PC 2\", \"values\": [-1772.8932120291176, 143.67562377378013, 156.35954799247406, 156.3680743120306, -127.46539022529383, -127.44441885645695, -129.1176202660606, -129.14651377823796, -129.14674322219278, -127.48481538551232, -127.50885325020425, -557.7192363631831, -557.725494841591, -557.7245121157722]}, {\"axis\": {\"matches\": true}, \"label\": \"PC 3\", \"values\": [-1314.681302050716, 114.90112071953911, -65.1835368756276, -65.13553945556258, -302.8601250960419, -303.1392280802327, -280.1640749439275, -279.9547286846929, -280.0740203474927, -303.40132555179036, -303.12308081613827, -253.10453520063635, -253.1389951434566, -253.12505267015928]}, {\"axis\": {\"matches\": true}, \"label\": \"PC 4\", \"values\": [-24.29697602439503, 27.198021572148487, -28.064266473265548, -13.892263468252493, 16.716303349286598, -8.172707969374327, -4.910627400153067, 16.844628276238225, 5.696444351508451, -33.305515842514346, -6.437015236650099, 105.55526162732157, 102.89075490670753, 103.81148966821625]}], \"hovertemplate\": \"Median Price=patagonicus<br>%{xaxis.title.text}=%{x}<br>%{yaxis.title.text}=%{y}<extra></extra>\", \"legendgroup\": \"patagonicus\", \"marker\": {\"color\": \"#FF6692\", \"symbol\": \"circle\"}, \"name\": \"patagonicus\", \"showlegend\": true, \"type\": \"splom\"}],                        {\"dragmode\": \"select\", \"legend\": {\"title\": {\"text\": \"Median Price\"}, \"tracegroupgap\": 0}, \"template\": {\"data\": {\"bar\": [{\"error_x\": {\"color\": \"#2a3f5f\"}, \"error_y\": {\"color\": \"#2a3f5f\"}, \"marker\": {\"line\": {\"color\": \"#E5ECF6\", \"width\": 0.5}}, \"type\": \"bar\"}], \"barpolar\": [{\"marker\": {\"line\": {\"color\": \"#E5ECF6\", \"width\": 0.5}}, \"type\": \"barpolar\"}], \"carpet\": [{\"aaxis\": {\"endlinecolor\": \"#2a3f5f\", \"gridcolor\": \"white\", \"linecolor\": \"white\", \"minorgridcolor\": \"white\", \"startlinecolor\": \"#2a3f5f\"}, \"baxis\": {\"endlinecolor\": \"#2a3f5f\", \"gridcolor\": \"white\", \"linecolor\": \"white\", \"minorgridcolor\": \"white\", \"startlinecolor\": \"#2a3f5f\"}, \"type\": \"carpet\"}], \"choropleth\": [{\"colorbar\": {\"outlinewidth\": 0, \"ticks\": \"\"}, \"type\": \"choropleth\"}], \"contour\": [{\"colorbar\": {\"outlinewidth\": 0, \"ticks\": \"\"}, \"colorscale\": [[0.0, \"#0d0887\"], [0.1111111111111111, \"#46039f\"], [0.2222222222222222, \"#7201a8\"], [0.3333333333333333, \"#9c179e\"], [0.4444444444444444, \"#bd3786\"], [0.5555555555555556, \"#d8576b\"], [0.6666666666666666, \"#ed7953\"], [0.7777777777777778, \"#fb9f3a\"], [0.8888888888888888, \"#fdca26\"], [1.0, \"#f0f921\"]], \"type\": \"contour\"}], \"contourcarpet\": [{\"colorbar\": {\"outlinewidth\": 0, \"ticks\": \"\"}, \"type\": \"contourcarpet\"}], \"heatmap\": [{\"colorbar\": {\"outlinewidth\": 0, \"ticks\": \"\"}, \"colorscale\": [[0.0, \"#0d0887\"], [0.1111111111111111, \"#46039f\"], [0.2222222222222222, \"#7201a8\"], [0.3333333333333333, \"#9c179e\"], [0.4444444444444444, \"#bd3786\"], [0.5555555555555556, \"#d8576b\"], [0.6666666666666666, \"#ed7953\"], [0.7777777777777778, \"#fb9f3a\"], [0.8888888888888888, \"#fdca26\"], [1.0, \"#f0f921\"]], \"type\": \"heatmap\"}], \"heatmapgl\": [{\"colorbar\": {\"outlinewidth\": 0, \"ticks\": \"\"}, \"colorscale\": [[0.0, \"#0d0887\"], [0.1111111111111111, \"#46039f\"], [0.2222222222222222, \"#7201a8\"], [0.3333333333333333, \"#9c179e\"], [0.4444444444444444, \"#bd3786\"], [0.5555555555555556, \"#d8576b\"], [0.6666666666666666, \"#ed7953\"], [0.7777777777777778, \"#fb9f3a\"], [0.8888888888888888, \"#fdca26\"], [1.0, \"#f0f921\"]], \"type\": \"heatmapgl\"}], \"histogram\": [{\"marker\": {\"colorbar\": {\"outlinewidth\": 0, \"ticks\": \"\"}}, \"type\": \"histogram\"}], \"histogram2d\": [{\"colorbar\": {\"outlinewidth\": 0, \"ticks\": \"\"}, \"colorscale\": [[0.0, \"#0d0887\"], [0.1111111111111111, \"#46039f\"], [0.2222222222222222, \"#7201a8\"], [0.3333333333333333, \"#9c179e\"], [0.4444444444444444, \"#bd3786\"], [0.5555555555555556, \"#d8576b\"], [0.6666666666666666, \"#ed7953\"], [0.7777777777777778, \"#fb9f3a\"], [0.8888888888888888, \"#fdca26\"], [1.0, \"#f0f921\"]], \"type\": \"histogram2d\"}], \"histogram2dcontour\": [{\"colorbar\": {\"outlinewidth\": 0, \"ticks\": \"\"}, \"colorscale\": [[0.0, \"#0d0887\"], [0.1111111111111111, \"#46039f\"], [0.2222222222222222, \"#7201a8\"], [0.3333333333333333, \"#9c179e\"], [0.4444444444444444, \"#bd3786\"], [0.5555555555555556, \"#d8576b\"], [0.6666666666666666, \"#ed7953\"], [0.7777777777777778, \"#fb9f3a\"], [0.8888888888888888, \"#fdca26\"], [1.0, \"#f0f921\"]], \"type\": \"histogram2dcontour\"}], \"mesh3d\": [{\"colorbar\": {\"outlinewidth\": 0, \"ticks\": \"\"}, \"type\": \"mesh3d\"}], \"parcoords\": [{\"line\": {\"colorbar\": {\"outlinewidth\": 0, \"ticks\": \"\"}}, \"type\": \"parcoords\"}], \"pie\": [{\"automargin\": true, \"type\": \"pie\"}], \"scatter\": [{\"marker\": {\"colorbar\": {\"outlinewidth\": 0, \"ticks\": \"\"}}, \"type\": \"scatter\"}], \"scatter3d\": [{\"line\": {\"colorbar\": {\"outlinewidth\": 0, \"ticks\": \"\"}}, \"marker\": {\"colorbar\": {\"outlinewidth\": 0, \"ticks\": \"\"}}, \"type\": \"scatter3d\"}], \"scattercarpet\": [{\"marker\": {\"colorbar\": {\"outlinewidth\": 0, \"ticks\": \"\"}}, \"type\": \"scattercarpet\"}], \"scattergeo\": [{\"marker\": {\"colorbar\": {\"outlinewidth\": 0, \"ticks\": \"\"}}, \"type\": \"scattergeo\"}], \"scattergl\": [{\"marker\": {\"colorbar\": {\"outlinewidth\": 0, \"ticks\": \"\"}}, \"type\": \"scattergl\"}], \"scattermapbox\": [{\"marker\": {\"colorbar\": {\"outlinewidth\": 0, \"ticks\": \"\"}}, \"type\": \"scattermapbox\"}], \"scatterpolar\": [{\"marker\": {\"colorbar\": {\"outlinewidth\": 0, \"ticks\": \"\"}}, \"type\": \"scatterpolar\"}], \"scatterpolargl\": [{\"marker\": {\"colorbar\": {\"outlinewidth\": 0, \"ticks\": \"\"}}, \"type\": \"scatterpolargl\"}], \"scatterternary\": [{\"marker\": {\"colorbar\": {\"outlinewidth\": 0, \"ticks\": \"\"}}, \"type\": \"scatterternary\"}], \"surface\": [{\"colorbar\": {\"outlinewidth\": 0, \"ticks\": \"\"}, \"colorscale\": [[0.0, \"#0d0887\"], [0.1111111111111111, \"#46039f\"], [0.2222222222222222, \"#7201a8\"], [0.3333333333333333, \"#9c179e\"], [0.4444444444444444, \"#bd3786\"], [0.5555555555555556, \"#d8576b\"], [0.6666666666666666, \"#ed7953\"], [0.7777777777777778, \"#fb9f3a\"], [0.8888888888888888, \"#fdca26\"], [1.0, \"#f0f921\"]], \"type\": \"surface\"}], \"table\": [{\"cells\": {\"fill\": {\"color\": \"#EBF0F8\"}, \"line\": {\"color\": \"white\"}}, \"header\": {\"fill\": {\"color\": \"#C8D4E3\"}, \"line\": {\"color\": \"white\"}}, \"type\": \"table\"}]}, \"layout\": {\"annotationdefaults\": {\"arrowcolor\": \"#2a3f5f\", \"arrowhead\": 0, \"arrowwidth\": 1}, \"autotypenumbers\": \"strict\", \"coloraxis\": {\"colorbar\": {\"outlinewidth\": 0, \"ticks\": \"\"}}, \"colorscale\": {\"diverging\": [[0, \"#8e0152\"], [0.1, \"#c51b7d\"], [0.2, \"#de77ae\"], [0.3, \"#f1b6da\"], [0.4, \"#fde0ef\"], [0.5, \"#f7f7f7\"], [0.6, \"#e6f5d0\"], [0.7, \"#b8e186\"], [0.8, \"#7fbc41\"], [0.9, \"#4d9221\"], [1, \"#276419\"]], \"sequential\": [[0.0, \"#0d0887\"], [0.1111111111111111, \"#46039f\"], [0.2222222222222222, \"#7201a8\"], [0.3333333333333333, \"#9c179e\"], [0.4444444444444444, \"#bd3786\"], [0.5555555555555556, \"#d8576b\"], [0.6666666666666666, \"#ed7953\"], [0.7777777777777778, \"#fb9f3a\"], [0.8888888888888888, \"#fdca26\"], [1.0, \"#f0f921\"]], \"sequentialminus\": [[0.0, \"#0d0887\"], [0.1111111111111111, \"#46039f\"], [0.2222222222222222, \"#7201a8\"], [0.3333333333333333, \"#9c179e\"], [0.4444444444444444, \"#bd3786\"], [0.5555555555555556, \"#d8576b\"], [0.6666666666666666, \"#ed7953\"], [0.7777777777777778, \"#fb9f3a\"], [0.8888888888888888, \"#fdca26\"], [1.0, \"#f0f921\"]]}, \"colorway\": [\"#636efa\", \"#EF553B\", \"#00cc96\", \"#ab63fa\", \"#FFA15A\", \"#19d3f3\", \"#FF6692\", \"#B6E880\", \"#FF97FF\", \"#FECB52\"], \"font\": {\"color\": \"#2a3f5f\"}, \"geo\": {\"bgcolor\": \"white\", \"lakecolor\": \"white\", \"landcolor\": \"#E5ECF6\", \"showlakes\": true, \"showland\": true, \"subunitcolor\": \"white\"}, \"hoverlabel\": {\"align\": \"left\"}, \"hovermode\": \"closest\", \"mapbox\": {\"style\": \"light\"}, \"paper_bgcolor\": \"white\", \"plot_bgcolor\": \"#E5ECF6\", \"polar\": {\"angularaxis\": {\"gridcolor\": \"white\", \"linecolor\": \"white\", \"ticks\": \"\"}, \"bgcolor\": \"#E5ECF6\", \"radialaxis\": {\"gridcolor\": \"white\", \"linecolor\": \"white\", \"ticks\": \"\"}}, \"scene\": {\"xaxis\": {\"backgroundcolor\": \"#E5ECF6\", \"gridcolor\": \"white\", \"gridwidth\": 2, \"linecolor\": \"white\", \"showbackground\": true, \"ticks\": \"\", \"zerolinecolor\": \"white\"}, \"yaxis\": {\"backgroundcolor\": \"#E5ECF6\", \"gridcolor\": \"white\", \"gridwidth\": 2, \"linecolor\": \"white\", \"showbackground\": true, \"ticks\": \"\", \"zerolinecolor\": \"white\"}, \"zaxis\": {\"backgroundcolor\": \"#E5ECF6\", \"gridcolor\": \"white\", \"gridwidth\": 2, \"linecolor\": \"white\", \"showbackground\": true, \"ticks\": \"\", \"zerolinecolor\": \"white\"}}, \"shapedefaults\": {\"line\": {\"color\": \"#2a3f5f\"}}, \"ternary\": {\"aaxis\": {\"gridcolor\": \"white\", \"linecolor\": \"white\", \"ticks\": \"\"}, \"baxis\": {\"gridcolor\": \"white\", \"linecolor\": \"white\", \"ticks\": \"\"}, \"bgcolor\": \"#E5ECF6\", \"caxis\": {\"gridcolor\": \"white\", \"linecolor\": \"white\", \"ticks\": \"\"}}, \"title\": {\"x\": 0.05}, \"xaxis\": {\"automargin\": true, \"gridcolor\": \"white\", \"linecolor\": \"white\", \"ticks\": \"\", \"title\": {\"standoff\": 15}, \"zerolinecolor\": \"white\", \"zerolinewidth\": 2}, \"yaxis\": {\"automargin\": true, \"gridcolor\": \"white\", \"linecolor\": \"white\", \"ticks\": \"\", \"title\": {\"standoff\": 15}, \"zerolinecolor\": \"white\", \"zerolinewidth\": 2}}}, \"title\": {\"text\": \"Total Explained Variance: 100.00%\"}},                        {\"responsive\": true}                    ).then(function(){\n",
       "                            \n",
       "var gd = document.getElementById('ed617619-2d02-417f-9bfa-fcfc53b3b1cb');\n",
       "var x = new MutationObserver(function (mutations, observer) {{\n",
       "        var display = window.getComputedStyle(gd).display;\n",
       "        if (!display || display === 'none') {{\n",
       "            console.log([gd, 'removed!']);\n",
       "            Plotly.purge(gd);\n",
       "            observer.disconnect();\n",
       "        }}\n",
       "}});\n",
       "\n",
       "// Listen for the removal of the full notebook cells\n",
       "var notebookContainer = gd.closest('#notebook-container');\n",
       "if (notebookContainer) {{\n",
       "    x.observe(notebookContainer, {childList: true});\n",
       "}}\n",
       "\n",
       "// Listen for the clearing of the current output cell\n",
       "var outputEl = gd.closest('.output');\n",
       "if (outputEl) {{\n",
       "    x.observe(outputEl, {childList: true});\n",
       "}}\n",
       "\n",
       "                        })                };                });            </script>        </div>"
      ]
     },
     "metadata": {},
     "output_type": "display_data"
    }
   ],
   "source": [
    "n_components = 4\n",
    "\n",
    "pca = PCA(n_components=n_components)\n",
    "components = pca.fit_transform(dataset[features])\n",
    "\n",
    "total_var = pca.explained_variance_ratio_.sum() * 100\n",
    "\n",
    "labels = {str(i): f\"PC {i+1}\" for i in range(n_components)}\n",
    "labels['color'] = 'Median Price'\n",
    "\n",
    "fig = px.scatter_matrix(\n",
    "    components,\n",
    "    color=dataset[\"Species\"],\n",
    "    dimensions=range(n_components),\n",
    "    labels=labels,\n",
    "    title=f'Total Explained Variance: {total_var:.2f}%',\n",
    ")\n",
    "fig.update_traces(diagonal_visible=False)\n",
    "fig.show()"
   ]
  },
  {
   "cell_type": "code",
   "execution_count": 70,
   "metadata": {},
   "outputs": [
    {
     "data": {
      "application/vnd.plotly.v1+json": {
       "config": {
        "plotlyServerURL": "https://plot.ly"
       },
       "data": [
        {
         "hovertemplate": "color=albidiventris<br>0=%{x}<br>1=%{y}<extra></extra>",
         "legendgroup": "albidiventris",
         "marker": {
          "color": "#636efa",
          "symbol": "circle"
         },
         "mode": "markers",
         "name": "albidiventris",
         "orientation": "v",
         "showlegend": true,
         "type": "scatter",
         "x": [
          -11460.856894474848
         ],
         "xaxis": "x",
         "y": [
          -824.6204526050109
         ],
         "yaxis": "y"
        },
        {
         "hovertemplate": "color=albiventris<br>0=%{x}<br>1=%{y}<extra></extra>",
         "legendgroup": "albiventris",
         "marker": {
          "color": "#EF553B",
          "symbol": "circle"
         },
         "mode": "markers",
         "name": "albiventris",
         "orientation": "v",
         "showlegend": true,
         "type": "scatter",
         "x": [
          -10069.188194665041
         ],
         "xaxis": "x",
         "y": [
          -764.8328022637925
         ],
         "yaxis": "y"
        },
        {
         "hovertemplate": "color=atacamensis<br>0=%{x}<br>1=%{y}<extra></extra>",
         "legendgroup": "atacamensis",
         "marker": {
          "color": "#00cc96",
          "symbol": "circle"
         },
         "mode": "markers",
         "name": "atacamensis",
         "orientation": "v",
         "showlegend": true,
         "type": "scatter",
         "x": [
          249691.26332311428,
          257781.26130626316
         ],
         "xaxis": "x",
         "y": [
          -1853.6247344112373,
          -1904.91904495197
         ],
         "yaxis": "y"
        },
        {
         "hovertemplate": "color=excelsior<br>0=%{x}<br>1=%{y}<extra></extra>",
         "legendgroup": "excelsior",
         "marker": {
          "color": "#ab63fa",
          "symbol": "circle"
         },
         "mode": "markers",
         "name": "excelsior",
         "orientation": "v",
         "showlegend": true,
         "type": "scatter",
         "x": [
          279205.505832233
         ],
         "xaxis": "x",
         "y": [
          -1970.3568401899968
         ],
         "yaxis": "y"
        },
        {
         "hovertemplate": "color=fuscus<br>0=%{x}<br>1=%{y}<extra></extra>",
         "legendgroup": "fuscus",
         "marker": {
          "color": "#FFA15A",
          "symbol": "circle"
         },
         "mode": "markers",
         "name": "fuscus",
         "orientation": "v",
         "showlegend": true,
         "type": "scatter",
         "x": [
          230318.8703503147,
          230320.2847880429,
          209197.53123486755,
          230323.20125896594,
          230324.61695779703,
          230326.02979540476,
          230327.3573451334,
          -185267.74810206186,
          -185263.50738429796,
          -185262.09251487843
         ],
         "xaxis": "x",
         "y": [
          -1487.6836323451632,
          -1487.7231599946795,
          19753.355359691377,
          -1489.8738095108001,
          -1489.861011581058,
          -1489.8702777559877,
          -1487.7343530014557,
          156.3854401486904,
          156.39841987670735,
          156.38634203544527
         ],
         "yaxis": "y"
        },
        {
         "hovertemplate": "color=oustaleti<br>0=%{x}<br>1=%{y}<extra></extra>",
         "legendgroup": "oustaleti",
         "marker": {
          "color": "#19d3f3",
          "symbol": "circle"
         },
         "mode": "markers",
         "name": "oustaleti",
         "orientation": "v",
         "showlegend": true,
         "type": "scatter",
         "x": [
          -185270.5711917068,
          -185269.15442355917,
          -113494.53746438997,
          -113492.95741665953,
          -113488.42053671922
         ],
         "xaxis": "x",
         "y": [
          156.39266600850559,
          156.36193019916843,
          -127.35988684892098,
          -131.3655945419054,
          -138.48099370379845
         ],
         "yaxis": "y"
        },
        {
         "hovertemplate": "color=patagonicus<br>0=%{x}<br>1=%{y}<extra></extra>",
         "legendgroup": "patagonicus",
         "marker": {
          "color": "#FF6692",
          "symbol": "circle"
         },
         "mode": "markers",
         "name": "patagonicus",
         "orientation": "v",
         "showlegend": true,
         "type": "scatter",
         "x": [
          296279.33985388454,
          -185367.60668530752,
          -185276.23378246455,
          -185274.8184050828,
          -113503.01849874732,
          -113501.60717352106,
          -113500.12288818847,
          -113497.29222598083,
          -113495.87918514741,
          -113487.46782815427,
          -113486.05078854972,
          -11790.12425012371,
          -11788.710178298215,
          -11787.296033044764
         ],
         "xaxis": "x",
         "y": [
          -1772.8932120291176,
          143.67562377378013,
          156.35954799247406,
          156.3680743120306,
          -127.46539022529383,
          -127.44441885645695,
          -129.1176202660606,
          -129.14651377823796,
          -129.14674322219278,
          -127.48481538551232,
          -127.50885325020425,
          -557.7192363631831,
          -557.725494841591,
          -557.7245121157722
         ],
         "yaxis": "y"
        }
       ],
       "layout": {
        "legend": {
         "title": {
          "text": "color"
         },
         "tracegroupgap": 0
        },
        "margin": {
         "t": 60
        },
        "template": {
         "data": {
          "bar": [
           {
            "error_x": {
             "color": "#2a3f5f"
            },
            "error_y": {
             "color": "#2a3f5f"
            },
            "marker": {
             "line": {
              "color": "#E5ECF6",
              "width": 0.5
             }
            },
            "type": "bar"
           }
          ],
          "barpolar": [
           {
            "marker": {
             "line": {
              "color": "#E5ECF6",
              "width": 0.5
             }
            },
            "type": "barpolar"
           }
          ],
          "carpet": [
           {
            "aaxis": {
             "endlinecolor": "#2a3f5f",
             "gridcolor": "white",
             "linecolor": "white",
             "minorgridcolor": "white",
             "startlinecolor": "#2a3f5f"
            },
            "baxis": {
             "endlinecolor": "#2a3f5f",
             "gridcolor": "white",
             "linecolor": "white",
             "minorgridcolor": "white",
             "startlinecolor": "#2a3f5f"
            },
            "type": "carpet"
           }
          ],
          "choropleth": [
           {
            "colorbar": {
             "outlinewidth": 0,
             "ticks": ""
            },
            "type": "choropleth"
           }
          ],
          "contour": [
           {
            "colorbar": {
             "outlinewidth": 0,
             "ticks": ""
            },
            "colorscale": [
             [
              0,
              "#0d0887"
             ],
             [
              0.1111111111111111,
              "#46039f"
             ],
             [
              0.2222222222222222,
              "#7201a8"
             ],
             [
              0.3333333333333333,
              "#9c179e"
             ],
             [
              0.4444444444444444,
              "#bd3786"
             ],
             [
              0.5555555555555556,
              "#d8576b"
             ],
             [
              0.6666666666666666,
              "#ed7953"
             ],
             [
              0.7777777777777778,
              "#fb9f3a"
             ],
             [
              0.8888888888888888,
              "#fdca26"
             ],
             [
              1,
              "#f0f921"
             ]
            ],
            "type": "contour"
           }
          ],
          "contourcarpet": [
           {
            "colorbar": {
             "outlinewidth": 0,
             "ticks": ""
            },
            "type": "contourcarpet"
           }
          ],
          "heatmap": [
           {
            "colorbar": {
             "outlinewidth": 0,
             "ticks": ""
            },
            "colorscale": [
             [
              0,
              "#0d0887"
             ],
             [
              0.1111111111111111,
              "#46039f"
             ],
             [
              0.2222222222222222,
              "#7201a8"
             ],
             [
              0.3333333333333333,
              "#9c179e"
             ],
             [
              0.4444444444444444,
              "#bd3786"
             ],
             [
              0.5555555555555556,
              "#d8576b"
             ],
             [
              0.6666666666666666,
              "#ed7953"
             ],
             [
              0.7777777777777778,
              "#fb9f3a"
             ],
             [
              0.8888888888888888,
              "#fdca26"
             ],
             [
              1,
              "#f0f921"
             ]
            ],
            "type": "heatmap"
           }
          ],
          "heatmapgl": [
           {
            "colorbar": {
             "outlinewidth": 0,
             "ticks": ""
            },
            "colorscale": [
             [
              0,
              "#0d0887"
             ],
             [
              0.1111111111111111,
              "#46039f"
             ],
             [
              0.2222222222222222,
              "#7201a8"
             ],
             [
              0.3333333333333333,
              "#9c179e"
             ],
             [
              0.4444444444444444,
              "#bd3786"
             ],
             [
              0.5555555555555556,
              "#d8576b"
             ],
             [
              0.6666666666666666,
              "#ed7953"
             ],
             [
              0.7777777777777778,
              "#fb9f3a"
             ],
             [
              0.8888888888888888,
              "#fdca26"
             ],
             [
              1,
              "#f0f921"
             ]
            ],
            "type": "heatmapgl"
           }
          ],
          "histogram": [
           {
            "marker": {
             "colorbar": {
              "outlinewidth": 0,
              "ticks": ""
             }
            },
            "type": "histogram"
           }
          ],
          "histogram2d": [
           {
            "colorbar": {
             "outlinewidth": 0,
             "ticks": ""
            },
            "colorscale": [
             [
              0,
              "#0d0887"
             ],
             [
              0.1111111111111111,
              "#46039f"
             ],
             [
              0.2222222222222222,
              "#7201a8"
             ],
             [
              0.3333333333333333,
              "#9c179e"
             ],
             [
              0.4444444444444444,
              "#bd3786"
             ],
             [
              0.5555555555555556,
              "#d8576b"
             ],
             [
              0.6666666666666666,
              "#ed7953"
             ],
             [
              0.7777777777777778,
              "#fb9f3a"
             ],
             [
              0.8888888888888888,
              "#fdca26"
             ],
             [
              1,
              "#f0f921"
             ]
            ],
            "type": "histogram2d"
           }
          ],
          "histogram2dcontour": [
           {
            "colorbar": {
             "outlinewidth": 0,
             "ticks": ""
            },
            "colorscale": [
             [
              0,
              "#0d0887"
             ],
             [
              0.1111111111111111,
              "#46039f"
             ],
             [
              0.2222222222222222,
              "#7201a8"
             ],
             [
              0.3333333333333333,
              "#9c179e"
             ],
             [
              0.4444444444444444,
              "#bd3786"
             ],
             [
              0.5555555555555556,
              "#d8576b"
             ],
             [
              0.6666666666666666,
              "#ed7953"
             ],
             [
              0.7777777777777778,
              "#fb9f3a"
             ],
             [
              0.8888888888888888,
              "#fdca26"
             ],
             [
              1,
              "#f0f921"
             ]
            ],
            "type": "histogram2dcontour"
           }
          ],
          "mesh3d": [
           {
            "colorbar": {
             "outlinewidth": 0,
             "ticks": ""
            },
            "type": "mesh3d"
           }
          ],
          "parcoords": [
           {
            "line": {
             "colorbar": {
              "outlinewidth": 0,
              "ticks": ""
             }
            },
            "type": "parcoords"
           }
          ],
          "pie": [
           {
            "automargin": true,
            "type": "pie"
           }
          ],
          "scatter": [
           {
            "marker": {
             "colorbar": {
              "outlinewidth": 0,
              "ticks": ""
             }
            },
            "type": "scatter"
           }
          ],
          "scatter3d": [
           {
            "line": {
             "colorbar": {
              "outlinewidth": 0,
              "ticks": ""
             }
            },
            "marker": {
             "colorbar": {
              "outlinewidth": 0,
              "ticks": ""
             }
            },
            "type": "scatter3d"
           }
          ],
          "scattercarpet": [
           {
            "marker": {
             "colorbar": {
              "outlinewidth": 0,
              "ticks": ""
             }
            },
            "type": "scattercarpet"
           }
          ],
          "scattergeo": [
           {
            "marker": {
             "colorbar": {
              "outlinewidth": 0,
              "ticks": ""
             }
            },
            "type": "scattergeo"
           }
          ],
          "scattergl": [
           {
            "marker": {
             "colorbar": {
              "outlinewidth": 0,
              "ticks": ""
             }
            },
            "type": "scattergl"
           }
          ],
          "scattermapbox": [
           {
            "marker": {
             "colorbar": {
              "outlinewidth": 0,
              "ticks": ""
             }
            },
            "type": "scattermapbox"
           }
          ],
          "scatterpolar": [
           {
            "marker": {
             "colorbar": {
              "outlinewidth": 0,
              "ticks": ""
             }
            },
            "type": "scatterpolar"
           }
          ],
          "scatterpolargl": [
           {
            "marker": {
             "colorbar": {
              "outlinewidth": 0,
              "ticks": ""
             }
            },
            "type": "scatterpolargl"
           }
          ],
          "scatterternary": [
           {
            "marker": {
             "colorbar": {
              "outlinewidth": 0,
              "ticks": ""
             }
            },
            "type": "scatterternary"
           }
          ],
          "surface": [
           {
            "colorbar": {
             "outlinewidth": 0,
             "ticks": ""
            },
            "colorscale": [
             [
              0,
              "#0d0887"
             ],
             [
              0.1111111111111111,
              "#46039f"
             ],
             [
              0.2222222222222222,
              "#7201a8"
             ],
             [
              0.3333333333333333,
              "#9c179e"
             ],
             [
              0.4444444444444444,
              "#bd3786"
             ],
             [
              0.5555555555555556,
              "#d8576b"
             ],
             [
              0.6666666666666666,
              "#ed7953"
             ],
             [
              0.7777777777777778,
              "#fb9f3a"
             ],
             [
              0.8888888888888888,
              "#fdca26"
             ],
             [
              1,
              "#f0f921"
             ]
            ],
            "type": "surface"
           }
          ],
          "table": [
           {
            "cells": {
             "fill": {
              "color": "#EBF0F8"
             },
             "line": {
              "color": "white"
             }
            },
            "header": {
             "fill": {
              "color": "#C8D4E3"
             },
             "line": {
              "color": "white"
             }
            },
            "type": "table"
           }
          ]
         },
         "layout": {
          "annotationdefaults": {
           "arrowcolor": "#2a3f5f",
           "arrowhead": 0,
           "arrowwidth": 1
          },
          "autotypenumbers": "strict",
          "coloraxis": {
           "colorbar": {
            "outlinewidth": 0,
            "ticks": ""
           }
          },
          "colorscale": {
           "diverging": [
            [
             0,
             "#8e0152"
            ],
            [
             0.1,
             "#c51b7d"
            ],
            [
             0.2,
             "#de77ae"
            ],
            [
             0.3,
             "#f1b6da"
            ],
            [
             0.4,
             "#fde0ef"
            ],
            [
             0.5,
             "#f7f7f7"
            ],
            [
             0.6,
             "#e6f5d0"
            ],
            [
             0.7,
             "#b8e186"
            ],
            [
             0.8,
             "#7fbc41"
            ],
            [
             0.9,
             "#4d9221"
            ],
            [
             1,
             "#276419"
            ]
           ],
           "sequential": [
            [
             0,
             "#0d0887"
            ],
            [
             0.1111111111111111,
             "#46039f"
            ],
            [
             0.2222222222222222,
             "#7201a8"
            ],
            [
             0.3333333333333333,
             "#9c179e"
            ],
            [
             0.4444444444444444,
             "#bd3786"
            ],
            [
             0.5555555555555556,
             "#d8576b"
            ],
            [
             0.6666666666666666,
             "#ed7953"
            ],
            [
             0.7777777777777778,
             "#fb9f3a"
            ],
            [
             0.8888888888888888,
             "#fdca26"
            ],
            [
             1,
             "#f0f921"
            ]
           ],
           "sequentialminus": [
            [
             0,
             "#0d0887"
            ],
            [
             0.1111111111111111,
             "#46039f"
            ],
            [
             0.2222222222222222,
             "#7201a8"
            ],
            [
             0.3333333333333333,
             "#9c179e"
            ],
            [
             0.4444444444444444,
             "#bd3786"
            ],
            [
             0.5555555555555556,
             "#d8576b"
            ],
            [
             0.6666666666666666,
             "#ed7953"
            ],
            [
             0.7777777777777778,
             "#fb9f3a"
            ],
            [
             0.8888888888888888,
             "#fdca26"
            ],
            [
             1,
             "#f0f921"
            ]
           ]
          },
          "colorway": [
           "#636efa",
           "#EF553B",
           "#00cc96",
           "#ab63fa",
           "#FFA15A",
           "#19d3f3",
           "#FF6692",
           "#B6E880",
           "#FF97FF",
           "#FECB52"
          ],
          "font": {
           "color": "#2a3f5f"
          },
          "geo": {
           "bgcolor": "white",
           "lakecolor": "white",
           "landcolor": "#E5ECF6",
           "showlakes": true,
           "showland": true,
           "subunitcolor": "white"
          },
          "hoverlabel": {
           "align": "left"
          },
          "hovermode": "closest",
          "mapbox": {
           "style": "light"
          },
          "paper_bgcolor": "white",
          "plot_bgcolor": "#E5ECF6",
          "polar": {
           "angularaxis": {
            "gridcolor": "white",
            "linecolor": "white",
            "ticks": ""
           },
           "bgcolor": "#E5ECF6",
           "radialaxis": {
            "gridcolor": "white",
            "linecolor": "white",
            "ticks": ""
           }
          },
          "scene": {
           "xaxis": {
            "backgroundcolor": "#E5ECF6",
            "gridcolor": "white",
            "gridwidth": 2,
            "linecolor": "white",
            "showbackground": true,
            "ticks": "",
            "zerolinecolor": "white"
           },
           "yaxis": {
            "backgroundcolor": "#E5ECF6",
            "gridcolor": "white",
            "gridwidth": 2,
            "linecolor": "white",
            "showbackground": true,
            "ticks": "",
            "zerolinecolor": "white"
           },
           "zaxis": {
            "backgroundcolor": "#E5ECF6",
            "gridcolor": "white",
            "gridwidth": 2,
            "linecolor": "white",
            "showbackground": true,
            "ticks": "",
            "zerolinecolor": "white"
           }
          },
          "shapedefaults": {
           "line": {
            "color": "#2a3f5f"
           }
          },
          "ternary": {
           "aaxis": {
            "gridcolor": "white",
            "linecolor": "white",
            "ticks": ""
           },
           "baxis": {
            "gridcolor": "white",
            "linecolor": "white",
            "ticks": ""
           },
           "bgcolor": "#E5ECF6",
           "caxis": {
            "gridcolor": "white",
            "linecolor": "white",
            "ticks": ""
           }
          },
          "title": {
           "x": 0.05
          },
          "xaxis": {
           "automargin": true,
           "gridcolor": "white",
           "linecolor": "white",
           "ticks": "",
           "title": {
            "standoff": 15
           },
           "zerolinecolor": "white",
           "zerolinewidth": 2
          },
          "yaxis": {
           "automargin": true,
           "gridcolor": "white",
           "linecolor": "white",
           "ticks": "",
           "title": {
            "standoff": 15
           },
           "zerolinecolor": "white",
           "zerolinewidth": 2
          }
         }
        },
        "xaxis": {
         "anchor": "y",
         "domain": [
          0,
          1
         ],
         "title": {
          "text": "0"
         }
        },
        "yaxis": {
         "anchor": "x",
         "domain": [
          0,
          1
         ],
         "title": {
          "text": "1"
         }
        }
       }
      },
      "text/html": [
       "<div>                            <div id=\"635eab9a-7f36-4761-ba7d-fd7209197319\" class=\"plotly-graph-div\" style=\"height:525px; width:100%;\"></div>            <script type=\"text/javascript\">                require([\"plotly\"], function(Plotly) {                    window.PLOTLYENV=window.PLOTLYENV || {};                                    if (document.getElementById(\"635eab9a-7f36-4761-ba7d-fd7209197319\")) {                    Plotly.newPlot(                        \"635eab9a-7f36-4761-ba7d-fd7209197319\",                        [{\"hovertemplate\": \"color=albidiventris<br>0=%{x}<br>1=%{y}<extra></extra>\", \"legendgroup\": \"albidiventris\", \"marker\": {\"color\": \"#636efa\", \"symbol\": \"circle\"}, \"mode\": \"markers\", \"name\": \"albidiventris\", \"orientation\": \"v\", \"showlegend\": true, \"type\": \"scatter\", \"x\": [-11460.856894474848], \"xaxis\": \"x\", \"y\": [-824.6204526050109], \"yaxis\": \"y\"}, {\"hovertemplate\": \"color=albiventris<br>0=%{x}<br>1=%{y}<extra></extra>\", \"legendgroup\": \"albiventris\", \"marker\": {\"color\": \"#EF553B\", \"symbol\": \"circle\"}, \"mode\": \"markers\", \"name\": \"albiventris\", \"orientation\": \"v\", \"showlegend\": true, \"type\": \"scatter\", \"x\": [-10069.188194665041], \"xaxis\": \"x\", \"y\": [-764.8328022637925], \"yaxis\": \"y\"}, {\"hovertemplate\": \"color=atacamensis<br>0=%{x}<br>1=%{y}<extra></extra>\", \"legendgroup\": \"atacamensis\", \"marker\": {\"color\": \"#00cc96\", \"symbol\": \"circle\"}, \"mode\": \"markers\", \"name\": \"atacamensis\", \"orientation\": \"v\", \"showlegend\": true, \"type\": \"scatter\", \"x\": [249691.26332311428, 257781.26130626316], \"xaxis\": \"x\", \"y\": [-1853.6247344112373, -1904.91904495197], \"yaxis\": \"y\"}, {\"hovertemplate\": \"color=excelsior<br>0=%{x}<br>1=%{y}<extra></extra>\", \"legendgroup\": \"excelsior\", \"marker\": {\"color\": \"#ab63fa\", \"symbol\": \"circle\"}, \"mode\": \"markers\", \"name\": \"excelsior\", \"orientation\": \"v\", \"showlegend\": true, \"type\": \"scatter\", \"x\": [279205.505832233], \"xaxis\": \"x\", \"y\": [-1970.3568401899968], \"yaxis\": \"y\"}, {\"hovertemplate\": \"color=fuscus<br>0=%{x}<br>1=%{y}<extra></extra>\", \"legendgroup\": \"fuscus\", \"marker\": {\"color\": \"#FFA15A\", \"symbol\": \"circle\"}, \"mode\": \"markers\", \"name\": \"fuscus\", \"orientation\": \"v\", \"showlegend\": true, \"type\": \"scatter\", \"x\": [230318.8703503147, 230320.2847880429, 209197.53123486755, 230323.20125896594, 230324.61695779703, 230326.02979540476, 230327.3573451334, -185267.74810206186, -185263.50738429796, -185262.09251487843], \"xaxis\": \"x\", \"y\": [-1487.6836323451632, -1487.7231599946795, 19753.355359691377, -1489.8738095108001, -1489.861011581058, -1489.8702777559877, -1487.7343530014557, 156.3854401486904, 156.39841987670735, 156.38634203544527], \"yaxis\": \"y\"}, {\"hovertemplate\": \"color=oustaleti<br>0=%{x}<br>1=%{y}<extra></extra>\", \"legendgroup\": \"oustaleti\", \"marker\": {\"color\": \"#19d3f3\", \"symbol\": \"circle\"}, \"mode\": \"markers\", \"name\": \"oustaleti\", \"orientation\": \"v\", \"showlegend\": true, \"type\": \"scatter\", \"x\": [-185270.5711917068, -185269.15442355917, -113494.53746438997, -113492.95741665953, -113488.42053671922], \"xaxis\": \"x\", \"y\": [156.39266600850559, 156.36193019916843, -127.35988684892098, -131.3655945419054, -138.48099370379845], \"yaxis\": \"y\"}, {\"hovertemplate\": \"color=patagonicus<br>0=%{x}<br>1=%{y}<extra></extra>\", \"legendgroup\": \"patagonicus\", \"marker\": {\"color\": \"#FF6692\", \"symbol\": \"circle\"}, \"mode\": \"markers\", \"name\": \"patagonicus\", \"orientation\": \"v\", \"showlegend\": true, \"type\": \"scatter\", \"x\": [296279.33985388454, -185367.60668530752, -185276.23378246455, -185274.8184050828, -113503.01849874732, -113501.60717352106, -113500.12288818847, -113497.29222598083, -113495.87918514741, -113487.46782815427, -113486.05078854972, -11790.12425012371, -11788.710178298215, -11787.296033044764], \"xaxis\": \"x\", \"y\": [-1772.8932120291176, 143.67562377378013, 156.35954799247406, 156.3680743120306, -127.46539022529383, -127.44441885645695, -129.1176202660606, -129.14651377823796, -129.14674322219278, -127.48481538551232, -127.50885325020425, -557.7192363631831, -557.725494841591, -557.7245121157722], \"yaxis\": \"y\"}],                        {\"legend\": {\"title\": {\"text\": \"color\"}, \"tracegroupgap\": 0}, \"margin\": {\"t\": 60}, \"template\": {\"data\": {\"bar\": [{\"error_x\": {\"color\": \"#2a3f5f\"}, \"error_y\": {\"color\": \"#2a3f5f\"}, \"marker\": {\"line\": {\"color\": \"#E5ECF6\", \"width\": 0.5}}, \"type\": \"bar\"}], \"barpolar\": [{\"marker\": {\"line\": {\"color\": \"#E5ECF6\", \"width\": 0.5}}, \"type\": \"barpolar\"}], \"carpet\": [{\"aaxis\": {\"endlinecolor\": \"#2a3f5f\", \"gridcolor\": \"white\", \"linecolor\": \"white\", \"minorgridcolor\": \"white\", \"startlinecolor\": \"#2a3f5f\"}, \"baxis\": {\"endlinecolor\": \"#2a3f5f\", \"gridcolor\": \"white\", \"linecolor\": \"white\", \"minorgridcolor\": \"white\", \"startlinecolor\": \"#2a3f5f\"}, \"type\": \"carpet\"}], \"choropleth\": [{\"colorbar\": {\"outlinewidth\": 0, \"ticks\": \"\"}, \"type\": \"choropleth\"}], \"contour\": [{\"colorbar\": {\"outlinewidth\": 0, \"ticks\": \"\"}, \"colorscale\": [[0.0, \"#0d0887\"], [0.1111111111111111, \"#46039f\"], [0.2222222222222222, \"#7201a8\"], [0.3333333333333333, \"#9c179e\"], [0.4444444444444444, \"#bd3786\"], [0.5555555555555556, \"#d8576b\"], [0.6666666666666666, \"#ed7953\"], [0.7777777777777778, \"#fb9f3a\"], [0.8888888888888888, \"#fdca26\"], [1.0, \"#f0f921\"]], \"type\": \"contour\"}], \"contourcarpet\": [{\"colorbar\": {\"outlinewidth\": 0, \"ticks\": \"\"}, \"type\": \"contourcarpet\"}], \"heatmap\": [{\"colorbar\": {\"outlinewidth\": 0, \"ticks\": \"\"}, \"colorscale\": [[0.0, \"#0d0887\"], [0.1111111111111111, \"#46039f\"], [0.2222222222222222, \"#7201a8\"], [0.3333333333333333, \"#9c179e\"], [0.4444444444444444, \"#bd3786\"], [0.5555555555555556, \"#d8576b\"], [0.6666666666666666, \"#ed7953\"], [0.7777777777777778, \"#fb9f3a\"], [0.8888888888888888, \"#fdca26\"], [1.0, \"#f0f921\"]], \"type\": \"heatmap\"}], \"heatmapgl\": [{\"colorbar\": {\"outlinewidth\": 0, \"ticks\": \"\"}, \"colorscale\": [[0.0, \"#0d0887\"], [0.1111111111111111, \"#46039f\"], [0.2222222222222222, \"#7201a8\"], [0.3333333333333333, \"#9c179e\"], [0.4444444444444444, \"#bd3786\"], [0.5555555555555556, \"#d8576b\"], [0.6666666666666666, \"#ed7953\"], [0.7777777777777778, \"#fb9f3a\"], [0.8888888888888888, \"#fdca26\"], [1.0, \"#f0f921\"]], \"type\": \"heatmapgl\"}], \"histogram\": [{\"marker\": {\"colorbar\": {\"outlinewidth\": 0, \"ticks\": \"\"}}, \"type\": \"histogram\"}], \"histogram2d\": [{\"colorbar\": {\"outlinewidth\": 0, \"ticks\": \"\"}, \"colorscale\": [[0.0, \"#0d0887\"], [0.1111111111111111, \"#46039f\"], [0.2222222222222222, \"#7201a8\"], [0.3333333333333333, \"#9c179e\"], [0.4444444444444444, \"#bd3786\"], [0.5555555555555556, \"#d8576b\"], [0.6666666666666666, \"#ed7953\"], [0.7777777777777778, \"#fb9f3a\"], [0.8888888888888888, \"#fdca26\"], [1.0, \"#f0f921\"]], \"type\": \"histogram2d\"}], \"histogram2dcontour\": [{\"colorbar\": {\"outlinewidth\": 0, \"ticks\": \"\"}, \"colorscale\": [[0.0, \"#0d0887\"], [0.1111111111111111, \"#46039f\"], [0.2222222222222222, \"#7201a8\"], [0.3333333333333333, \"#9c179e\"], [0.4444444444444444, \"#bd3786\"], [0.5555555555555556, \"#d8576b\"], [0.6666666666666666, \"#ed7953\"], [0.7777777777777778, \"#fb9f3a\"], [0.8888888888888888, \"#fdca26\"], [1.0, \"#f0f921\"]], \"type\": \"histogram2dcontour\"}], \"mesh3d\": [{\"colorbar\": {\"outlinewidth\": 0, \"ticks\": \"\"}, \"type\": \"mesh3d\"}], \"parcoords\": [{\"line\": {\"colorbar\": {\"outlinewidth\": 0, \"ticks\": \"\"}}, \"type\": \"parcoords\"}], \"pie\": [{\"automargin\": true, \"type\": \"pie\"}], \"scatter\": [{\"marker\": {\"colorbar\": {\"outlinewidth\": 0, \"ticks\": \"\"}}, \"type\": \"scatter\"}], \"scatter3d\": [{\"line\": {\"colorbar\": {\"outlinewidth\": 0, \"ticks\": \"\"}}, \"marker\": {\"colorbar\": {\"outlinewidth\": 0, \"ticks\": \"\"}}, \"type\": \"scatter3d\"}], \"scattercarpet\": [{\"marker\": {\"colorbar\": {\"outlinewidth\": 0, \"ticks\": \"\"}}, \"type\": \"scattercarpet\"}], \"scattergeo\": [{\"marker\": {\"colorbar\": {\"outlinewidth\": 0, \"ticks\": \"\"}}, \"type\": \"scattergeo\"}], \"scattergl\": [{\"marker\": {\"colorbar\": {\"outlinewidth\": 0, \"ticks\": \"\"}}, \"type\": \"scattergl\"}], \"scattermapbox\": [{\"marker\": {\"colorbar\": {\"outlinewidth\": 0, \"ticks\": \"\"}}, \"type\": \"scattermapbox\"}], \"scatterpolar\": [{\"marker\": {\"colorbar\": {\"outlinewidth\": 0, \"ticks\": \"\"}}, \"type\": \"scatterpolar\"}], \"scatterpolargl\": [{\"marker\": {\"colorbar\": {\"outlinewidth\": 0, \"ticks\": \"\"}}, \"type\": \"scatterpolargl\"}], \"scatterternary\": [{\"marker\": {\"colorbar\": {\"outlinewidth\": 0, \"ticks\": \"\"}}, \"type\": \"scatterternary\"}], \"surface\": [{\"colorbar\": {\"outlinewidth\": 0, \"ticks\": \"\"}, \"colorscale\": [[0.0, \"#0d0887\"], [0.1111111111111111, \"#46039f\"], [0.2222222222222222, \"#7201a8\"], [0.3333333333333333, \"#9c179e\"], [0.4444444444444444, \"#bd3786\"], [0.5555555555555556, \"#d8576b\"], [0.6666666666666666, \"#ed7953\"], [0.7777777777777778, \"#fb9f3a\"], [0.8888888888888888, \"#fdca26\"], [1.0, \"#f0f921\"]], \"type\": \"surface\"}], \"table\": [{\"cells\": {\"fill\": {\"color\": \"#EBF0F8\"}, \"line\": {\"color\": \"white\"}}, \"header\": {\"fill\": {\"color\": \"#C8D4E3\"}, \"line\": {\"color\": \"white\"}}, \"type\": \"table\"}]}, \"layout\": {\"annotationdefaults\": {\"arrowcolor\": \"#2a3f5f\", \"arrowhead\": 0, \"arrowwidth\": 1}, \"autotypenumbers\": \"strict\", \"coloraxis\": {\"colorbar\": {\"outlinewidth\": 0, \"ticks\": \"\"}}, \"colorscale\": {\"diverging\": [[0, \"#8e0152\"], [0.1, \"#c51b7d\"], [0.2, \"#de77ae\"], [0.3, \"#f1b6da\"], [0.4, \"#fde0ef\"], [0.5, \"#f7f7f7\"], [0.6, \"#e6f5d0\"], [0.7, \"#b8e186\"], [0.8, \"#7fbc41\"], [0.9, \"#4d9221\"], [1, \"#276419\"]], \"sequential\": [[0.0, \"#0d0887\"], [0.1111111111111111, \"#46039f\"], [0.2222222222222222, \"#7201a8\"], [0.3333333333333333, \"#9c179e\"], [0.4444444444444444, \"#bd3786\"], [0.5555555555555556, \"#d8576b\"], [0.6666666666666666, \"#ed7953\"], [0.7777777777777778, \"#fb9f3a\"], [0.8888888888888888, \"#fdca26\"], [1.0, \"#f0f921\"]], \"sequentialminus\": [[0.0, \"#0d0887\"], [0.1111111111111111, \"#46039f\"], [0.2222222222222222, \"#7201a8\"], [0.3333333333333333, \"#9c179e\"], [0.4444444444444444, \"#bd3786\"], [0.5555555555555556, \"#d8576b\"], [0.6666666666666666, \"#ed7953\"], [0.7777777777777778, \"#fb9f3a\"], [0.8888888888888888, \"#fdca26\"], [1.0, \"#f0f921\"]]}, \"colorway\": [\"#636efa\", \"#EF553B\", \"#00cc96\", \"#ab63fa\", \"#FFA15A\", \"#19d3f3\", \"#FF6692\", \"#B6E880\", \"#FF97FF\", \"#FECB52\"], \"font\": {\"color\": \"#2a3f5f\"}, \"geo\": {\"bgcolor\": \"white\", \"lakecolor\": \"white\", \"landcolor\": \"#E5ECF6\", \"showlakes\": true, \"showland\": true, \"subunitcolor\": \"white\"}, \"hoverlabel\": {\"align\": \"left\"}, \"hovermode\": \"closest\", \"mapbox\": {\"style\": \"light\"}, \"paper_bgcolor\": \"white\", \"plot_bgcolor\": \"#E5ECF6\", \"polar\": {\"angularaxis\": {\"gridcolor\": \"white\", \"linecolor\": \"white\", \"ticks\": \"\"}, \"bgcolor\": \"#E5ECF6\", \"radialaxis\": {\"gridcolor\": \"white\", \"linecolor\": \"white\", \"ticks\": \"\"}}, \"scene\": {\"xaxis\": {\"backgroundcolor\": \"#E5ECF6\", \"gridcolor\": \"white\", \"gridwidth\": 2, \"linecolor\": \"white\", \"showbackground\": true, \"ticks\": \"\", \"zerolinecolor\": \"white\"}, \"yaxis\": {\"backgroundcolor\": \"#E5ECF6\", \"gridcolor\": \"white\", \"gridwidth\": 2, \"linecolor\": \"white\", \"showbackground\": true, \"ticks\": \"\", \"zerolinecolor\": \"white\"}, \"zaxis\": {\"backgroundcolor\": \"#E5ECF6\", \"gridcolor\": \"white\", \"gridwidth\": 2, \"linecolor\": \"white\", \"showbackground\": true, \"ticks\": \"\", \"zerolinecolor\": \"white\"}}, \"shapedefaults\": {\"line\": {\"color\": \"#2a3f5f\"}}, \"ternary\": {\"aaxis\": {\"gridcolor\": \"white\", \"linecolor\": \"white\", \"ticks\": \"\"}, \"baxis\": {\"gridcolor\": \"white\", \"linecolor\": \"white\", \"ticks\": \"\"}, \"bgcolor\": \"#E5ECF6\", \"caxis\": {\"gridcolor\": \"white\", \"linecolor\": \"white\", \"ticks\": \"\"}}, \"title\": {\"x\": 0.05}, \"xaxis\": {\"automargin\": true, \"gridcolor\": \"white\", \"linecolor\": \"white\", \"ticks\": \"\", \"title\": {\"standoff\": 15}, \"zerolinecolor\": \"white\", \"zerolinewidth\": 2}, \"yaxis\": {\"automargin\": true, \"gridcolor\": \"white\", \"linecolor\": \"white\", \"ticks\": \"\", \"title\": {\"standoff\": 15}, \"zerolinecolor\": \"white\", \"zerolinewidth\": 2}}}, \"xaxis\": {\"anchor\": \"y\", \"domain\": [0.0, 1.0], \"title\": {\"text\": \"0\"}}, \"yaxis\": {\"anchor\": \"x\", \"domain\": [0.0, 1.0], \"title\": {\"text\": \"1\"}}},                        {\"responsive\": true}                    ).then(function(){\n",
       "                            \n",
       "var gd = document.getElementById('635eab9a-7f36-4761-ba7d-fd7209197319');\n",
       "var x = new MutationObserver(function (mutations, observer) {{\n",
       "        var display = window.getComputedStyle(gd).display;\n",
       "        if (!display || display === 'none') {{\n",
       "            console.log([gd, 'removed!']);\n",
       "            Plotly.purge(gd);\n",
       "            observer.disconnect();\n",
       "        }}\n",
       "}});\n",
       "\n",
       "// Listen for the removal of the full notebook cells\n",
       "var notebookContainer = gd.closest('#notebook-container');\n",
       "if (notebookContainer) {{\n",
       "    x.observe(notebookContainer, {childList: true});\n",
       "}}\n",
       "\n",
       "// Listen for the clearing of the current output cell\n",
       "var outputEl = gd.closest('.output');\n",
       "if (outputEl) {{\n",
       "    x.observe(outputEl, {childList: true});\n",
       "}}\n",
       "\n",
       "                        })                };                });            </script>        </div>"
      ]
     },
     "metadata": {},
     "output_type": "display_data"
    }
   ],
   "source": [
    "features = dataset.columns\n",
    "features = features.drop('Species',1)\n",
    "X =  dataset[features]\n",
    "\n",
    "pca = PCA(n_components=2)\n",
    "components = pca.fit_transform(X)\n",
    "\n",
    "fig = px.scatter(components, x=0, y=1, color=dataset['Species'])\n",
    "fig.show()"
   ]
  },
  {
   "cell_type": "code",
   "execution_count": 71,
   "metadata": {},
   "outputs": [
    {
     "data": {
      "application/vnd.plotly.v1+json": {
       "config": {
        "plotlyServerURL": "https://plot.ly"
       },
       "data": [
        {
         "hovertemplate": "# Components=%{x}<br>Explained Variance=%{y}<extra></extra>",
         "legendgroup": "",
         "line": {
          "color": "#636efa"
         },
         "mode": "lines",
         "name": "",
         "orientation": "v",
         "showlegend": false,
         "stackgroup": "1",
         "type": "scatter",
         "x": [
          1,
          2,
          3,
          4,
          5,
          6,
          7,
          8,
          9,
          10,
          11,
          12,
          13,
          14,
          15,
          16,
          17,
          18,
          19,
          20,
          21,
          22,
          23,
          24,
          25,
          26,
          27,
          28,
          29,
          30,
          31,
          32,
          33,
          34
         ],
         "xaxis": "x",
         "y": [
          0.9995550848012837,
          0.9999510128219891,
          0.9999999129103248,
          0.9999999657005871,
          0.9999999892225369,
          0.9999999915628413,
          0.9999999935564775,
          0.9999999950772386,
          0.9999999961190003,
          0.9999999969996769,
          0.9999999977492608,
          0.999999998312891,
          0.999999998719752,
          0.9999999990198646,
          0.9999999992436228,
          0.9999999994266898,
          0.9999999995518103,
          0.9999999996527892,
          0.9999999997333882,
          0.999999999793805,
          0.9999999998354236,
          0.9999999998742616,
          0.9999999999030548,
          0.9999999999263008,
          0.9999999999474456,
          0.9999999999605051,
          0.9999999999710866,
          0.9999999999797428,
          0.9999999999872241,
          0.9999999999918728,
          0.99999999999524,
          0.9999999999979596,
          1.0000000000000002,
          1.0000000000000002
         ],
         "yaxis": "y"
        }
       ],
       "layout": {
        "legend": {
         "tracegroupgap": 0
        },
        "margin": {
         "t": 60
        },
        "template": {
         "data": {
          "bar": [
           {
            "error_x": {
             "color": "#2a3f5f"
            },
            "error_y": {
             "color": "#2a3f5f"
            },
            "marker": {
             "line": {
              "color": "#E5ECF6",
              "width": 0.5
             }
            },
            "type": "bar"
           }
          ],
          "barpolar": [
           {
            "marker": {
             "line": {
              "color": "#E5ECF6",
              "width": 0.5
             }
            },
            "type": "barpolar"
           }
          ],
          "carpet": [
           {
            "aaxis": {
             "endlinecolor": "#2a3f5f",
             "gridcolor": "white",
             "linecolor": "white",
             "minorgridcolor": "white",
             "startlinecolor": "#2a3f5f"
            },
            "baxis": {
             "endlinecolor": "#2a3f5f",
             "gridcolor": "white",
             "linecolor": "white",
             "minorgridcolor": "white",
             "startlinecolor": "#2a3f5f"
            },
            "type": "carpet"
           }
          ],
          "choropleth": [
           {
            "colorbar": {
             "outlinewidth": 0,
             "ticks": ""
            },
            "type": "choropleth"
           }
          ],
          "contour": [
           {
            "colorbar": {
             "outlinewidth": 0,
             "ticks": ""
            },
            "colorscale": [
             [
              0,
              "#0d0887"
             ],
             [
              0.1111111111111111,
              "#46039f"
             ],
             [
              0.2222222222222222,
              "#7201a8"
             ],
             [
              0.3333333333333333,
              "#9c179e"
             ],
             [
              0.4444444444444444,
              "#bd3786"
             ],
             [
              0.5555555555555556,
              "#d8576b"
             ],
             [
              0.6666666666666666,
              "#ed7953"
             ],
             [
              0.7777777777777778,
              "#fb9f3a"
             ],
             [
              0.8888888888888888,
              "#fdca26"
             ],
             [
              1,
              "#f0f921"
             ]
            ],
            "type": "contour"
           }
          ],
          "contourcarpet": [
           {
            "colorbar": {
             "outlinewidth": 0,
             "ticks": ""
            },
            "type": "contourcarpet"
           }
          ],
          "heatmap": [
           {
            "colorbar": {
             "outlinewidth": 0,
             "ticks": ""
            },
            "colorscale": [
             [
              0,
              "#0d0887"
             ],
             [
              0.1111111111111111,
              "#46039f"
             ],
             [
              0.2222222222222222,
              "#7201a8"
             ],
             [
              0.3333333333333333,
              "#9c179e"
             ],
             [
              0.4444444444444444,
              "#bd3786"
             ],
             [
              0.5555555555555556,
              "#d8576b"
             ],
             [
              0.6666666666666666,
              "#ed7953"
             ],
             [
              0.7777777777777778,
              "#fb9f3a"
             ],
             [
              0.8888888888888888,
              "#fdca26"
             ],
             [
              1,
              "#f0f921"
             ]
            ],
            "type": "heatmap"
           }
          ],
          "heatmapgl": [
           {
            "colorbar": {
             "outlinewidth": 0,
             "ticks": ""
            },
            "colorscale": [
             [
              0,
              "#0d0887"
             ],
             [
              0.1111111111111111,
              "#46039f"
             ],
             [
              0.2222222222222222,
              "#7201a8"
             ],
             [
              0.3333333333333333,
              "#9c179e"
             ],
             [
              0.4444444444444444,
              "#bd3786"
             ],
             [
              0.5555555555555556,
              "#d8576b"
             ],
             [
              0.6666666666666666,
              "#ed7953"
             ],
             [
              0.7777777777777778,
              "#fb9f3a"
             ],
             [
              0.8888888888888888,
              "#fdca26"
             ],
             [
              1,
              "#f0f921"
             ]
            ],
            "type": "heatmapgl"
           }
          ],
          "histogram": [
           {
            "marker": {
             "colorbar": {
              "outlinewidth": 0,
              "ticks": ""
             }
            },
            "type": "histogram"
           }
          ],
          "histogram2d": [
           {
            "colorbar": {
             "outlinewidth": 0,
             "ticks": ""
            },
            "colorscale": [
             [
              0,
              "#0d0887"
             ],
             [
              0.1111111111111111,
              "#46039f"
             ],
             [
              0.2222222222222222,
              "#7201a8"
             ],
             [
              0.3333333333333333,
              "#9c179e"
             ],
             [
              0.4444444444444444,
              "#bd3786"
             ],
             [
              0.5555555555555556,
              "#d8576b"
             ],
             [
              0.6666666666666666,
              "#ed7953"
             ],
             [
              0.7777777777777778,
              "#fb9f3a"
             ],
             [
              0.8888888888888888,
              "#fdca26"
             ],
             [
              1,
              "#f0f921"
             ]
            ],
            "type": "histogram2d"
           }
          ],
          "histogram2dcontour": [
           {
            "colorbar": {
             "outlinewidth": 0,
             "ticks": ""
            },
            "colorscale": [
             [
              0,
              "#0d0887"
             ],
             [
              0.1111111111111111,
              "#46039f"
             ],
             [
              0.2222222222222222,
              "#7201a8"
             ],
             [
              0.3333333333333333,
              "#9c179e"
             ],
             [
              0.4444444444444444,
              "#bd3786"
             ],
             [
              0.5555555555555556,
              "#d8576b"
             ],
             [
              0.6666666666666666,
              "#ed7953"
             ],
             [
              0.7777777777777778,
              "#fb9f3a"
             ],
             [
              0.8888888888888888,
              "#fdca26"
             ],
             [
              1,
              "#f0f921"
             ]
            ],
            "type": "histogram2dcontour"
           }
          ],
          "mesh3d": [
           {
            "colorbar": {
             "outlinewidth": 0,
             "ticks": ""
            },
            "type": "mesh3d"
           }
          ],
          "parcoords": [
           {
            "line": {
             "colorbar": {
              "outlinewidth": 0,
              "ticks": ""
             }
            },
            "type": "parcoords"
           }
          ],
          "pie": [
           {
            "automargin": true,
            "type": "pie"
           }
          ],
          "scatter": [
           {
            "marker": {
             "colorbar": {
              "outlinewidth": 0,
              "ticks": ""
             }
            },
            "type": "scatter"
           }
          ],
          "scatter3d": [
           {
            "line": {
             "colorbar": {
              "outlinewidth": 0,
              "ticks": ""
             }
            },
            "marker": {
             "colorbar": {
              "outlinewidth": 0,
              "ticks": ""
             }
            },
            "type": "scatter3d"
           }
          ],
          "scattercarpet": [
           {
            "marker": {
             "colorbar": {
              "outlinewidth": 0,
              "ticks": ""
             }
            },
            "type": "scattercarpet"
           }
          ],
          "scattergeo": [
           {
            "marker": {
             "colorbar": {
              "outlinewidth": 0,
              "ticks": ""
             }
            },
            "type": "scattergeo"
           }
          ],
          "scattergl": [
           {
            "marker": {
             "colorbar": {
              "outlinewidth": 0,
              "ticks": ""
             }
            },
            "type": "scattergl"
           }
          ],
          "scattermapbox": [
           {
            "marker": {
             "colorbar": {
              "outlinewidth": 0,
              "ticks": ""
             }
            },
            "type": "scattermapbox"
           }
          ],
          "scatterpolar": [
           {
            "marker": {
             "colorbar": {
              "outlinewidth": 0,
              "ticks": ""
             }
            },
            "type": "scatterpolar"
           }
          ],
          "scatterpolargl": [
           {
            "marker": {
             "colorbar": {
              "outlinewidth": 0,
              "ticks": ""
             }
            },
            "type": "scatterpolargl"
           }
          ],
          "scatterternary": [
           {
            "marker": {
             "colorbar": {
              "outlinewidth": 0,
              "ticks": ""
             }
            },
            "type": "scatterternary"
           }
          ],
          "surface": [
           {
            "colorbar": {
             "outlinewidth": 0,
             "ticks": ""
            },
            "colorscale": [
             [
              0,
              "#0d0887"
             ],
             [
              0.1111111111111111,
              "#46039f"
             ],
             [
              0.2222222222222222,
              "#7201a8"
             ],
             [
              0.3333333333333333,
              "#9c179e"
             ],
             [
              0.4444444444444444,
              "#bd3786"
             ],
             [
              0.5555555555555556,
              "#d8576b"
             ],
             [
              0.6666666666666666,
              "#ed7953"
             ],
             [
              0.7777777777777778,
              "#fb9f3a"
             ],
             [
              0.8888888888888888,
              "#fdca26"
             ],
             [
              1,
              "#f0f921"
             ]
            ],
            "type": "surface"
           }
          ],
          "table": [
           {
            "cells": {
             "fill": {
              "color": "#EBF0F8"
             },
             "line": {
              "color": "white"
             }
            },
            "header": {
             "fill": {
              "color": "#C8D4E3"
             },
             "line": {
              "color": "white"
             }
            },
            "type": "table"
           }
          ]
         },
         "layout": {
          "annotationdefaults": {
           "arrowcolor": "#2a3f5f",
           "arrowhead": 0,
           "arrowwidth": 1
          },
          "autotypenumbers": "strict",
          "coloraxis": {
           "colorbar": {
            "outlinewidth": 0,
            "ticks": ""
           }
          },
          "colorscale": {
           "diverging": [
            [
             0,
             "#8e0152"
            ],
            [
             0.1,
             "#c51b7d"
            ],
            [
             0.2,
             "#de77ae"
            ],
            [
             0.3,
             "#f1b6da"
            ],
            [
             0.4,
             "#fde0ef"
            ],
            [
             0.5,
             "#f7f7f7"
            ],
            [
             0.6,
             "#e6f5d0"
            ],
            [
             0.7,
             "#b8e186"
            ],
            [
             0.8,
             "#7fbc41"
            ],
            [
             0.9,
             "#4d9221"
            ],
            [
             1,
             "#276419"
            ]
           ],
           "sequential": [
            [
             0,
             "#0d0887"
            ],
            [
             0.1111111111111111,
             "#46039f"
            ],
            [
             0.2222222222222222,
             "#7201a8"
            ],
            [
             0.3333333333333333,
             "#9c179e"
            ],
            [
             0.4444444444444444,
             "#bd3786"
            ],
            [
             0.5555555555555556,
             "#d8576b"
            ],
            [
             0.6666666666666666,
             "#ed7953"
            ],
            [
             0.7777777777777778,
             "#fb9f3a"
            ],
            [
             0.8888888888888888,
             "#fdca26"
            ],
            [
             1,
             "#f0f921"
            ]
           ],
           "sequentialminus": [
            [
             0,
             "#0d0887"
            ],
            [
             0.1111111111111111,
             "#46039f"
            ],
            [
             0.2222222222222222,
             "#7201a8"
            ],
            [
             0.3333333333333333,
             "#9c179e"
            ],
            [
             0.4444444444444444,
             "#bd3786"
            ],
            [
             0.5555555555555556,
             "#d8576b"
            ],
            [
             0.6666666666666666,
             "#ed7953"
            ],
            [
             0.7777777777777778,
             "#fb9f3a"
            ],
            [
             0.8888888888888888,
             "#fdca26"
            ],
            [
             1,
             "#f0f921"
            ]
           ]
          },
          "colorway": [
           "#636efa",
           "#EF553B",
           "#00cc96",
           "#ab63fa",
           "#FFA15A",
           "#19d3f3",
           "#FF6692",
           "#B6E880",
           "#FF97FF",
           "#FECB52"
          ],
          "font": {
           "color": "#2a3f5f"
          },
          "geo": {
           "bgcolor": "white",
           "lakecolor": "white",
           "landcolor": "#E5ECF6",
           "showlakes": true,
           "showland": true,
           "subunitcolor": "white"
          },
          "hoverlabel": {
           "align": "left"
          },
          "hovermode": "closest",
          "mapbox": {
           "style": "light"
          },
          "paper_bgcolor": "white",
          "plot_bgcolor": "#E5ECF6",
          "polar": {
           "angularaxis": {
            "gridcolor": "white",
            "linecolor": "white",
            "ticks": ""
           },
           "bgcolor": "#E5ECF6",
           "radialaxis": {
            "gridcolor": "white",
            "linecolor": "white",
            "ticks": ""
           }
          },
          "scene": {
           "xaxis": {
            "backgroundcolor": "#E5ECF6",
            "gridcolor": "white",
            "gridwidth": 2,
            "linecolor": "white",
            "showbackground": true,
            "ticks": "",
            "zerolinecolor": "white"
           },
           "yaxis": {
            "backgroundcolor": "#E5ECF6",
            "gridcolor": "white",
            "gridwidth": 2,
            "linecolor": "white",
            "showbackground": true,
            "ticks": "",
            "zerolinecolor": "white"
           },
           "zaxis": {
            "backgroundcolor": "#E5ECF6",
            "gridcolor": "white",
            "gridwidth": 2,
            "linecolor": "white",
            "showbackground": true,
            "ticks": "",
            "zerolinecolor": "white"
           }
          },
          "shapedefaults": {
           "line": {
            "color": "#2a3f5f"
           }
          },
          "ternary": {
           "aaxis": {
            "gridcolor": "white",
            "linecolor": "white",
            "ticks": ""
           },
           "baxis": {
            "gridcolor": "white",
            "linecolor": "white",
            "ticks": ""
           },
           "bgcolor": "#E5ECF6",
           "caxis": {
            "gridcolor": "white",
            "linecolor": "white",
            "ticks": ""
           }
          },
          "title": {
           "x": 0.05
          },
          "xaxis": {
           "automargin": true,
           "gridcolor": "white",
           "linecolor": "white",
           "ticks": "",
           "title": {
            "standoff": 15
           },
           "zerolinecolor": "white",
           "zerolinewidth": 2
          },
          "yaxis": {
           "automargin": true,
           "gridcolor": "white",
           "linecolor": "white",
           "ticks": "",
           "title": {
            "standoff": 15
           },
           "zerolinecolor": "white",
           "zerolinewidth": 2
          }
         }
        },
        "xaxis": {
         "anchor": "y",
         "domain": [
          0,
          1
         ],
         "title": {
          "text": "# Components"
         }
        },
        "yaxis": {
         "anchor": "x",
         "domain": [
          0,
          1
         ],
         "title": {
          "text": "Explained Variance"
         }
        }
       }
      },
      "text/html": [
       "<div>                            <div id=\"dcb7d7a1-c1d8-4d71-9da8-4f9782286c40\" class=\"plotly-graph-div\" style=\"height:525px; width:100%;\"></div>            <script type=\"text/javascript\">                require([\"plotly\"], function(Plotly) {                    window.PLOTLYENV=window.PLOTLYENV || {};                                    if (document.getElementById(\"dcb7d7a1-c1d8-4d71-9da8-4f9782286c40\")) {                    Plotly.newPlot(                        \"dcb7d7a1-c1d8-4d71-9da8-4f9782286c40\",                        [{\"hovertemplate\": \"# Components=%{x}<br>Explained Variance=%{y}<extra></extra>\", \"legendgroup\": \"\", \"line\": {\"color\": \"#636efa\"}, \"mode\": \"lines\", \"name\": \"\", \"orientation\": \"v\", \"showlegend\": false, \"stackgroup\": \"1\", \"type\": \"scatter\", \"x\": [1, 2, 3, 4, 5, 6, 7, 8, 9, 10, 11, 12, 13, 14, 15, 16, 17, 18, 19, 20, 21, 22, 23, 24, 25, 26, 27, 28, 29, 30, 31, 32, 33, 34], \"xaxis\": \"x\", \"y\": [0.9995550848012837, 0.9999510128219891, 0.9999999129103248, 0.9999999657005871, 0.9999999892225369, 0.9999999915628413, 0.9999999935564775, 0.9999999950772386, 0.9999999961190003, 0.9999999969996769, 0.9999999977492608, 0.999999998312891, 0.999999998719752, 0.9999999990198646, 0.9999999992436228, 0.9999999994266898, 0.9999999995518103, 0.9999999996527892, 0.9999999997333882, 0.999999999793805, 0.9999999998354236, 0.9999999998742616, 0.9999999999030548, 0.9999999999263008, 0.9999999999474456, 0.9999999999605051, 0.9999999999710866, 0.9999999999797428, 0.9999999999872241, 0.9999999999918728, 0.99999999999524, 0.9999999999979596, 1.0000000000000002, 1.0000000000000002], \"yaxis\": \"y\"}],                        {\"legend\": {\"tracegroupgap\": 0}, \"margin\": {\"t\": 60}, \"template\": {\"data\": {\"bar\": [{\"error_x\": {\"color\": \"#2a3f5f\"}, \"error_y\": {\"color\": \"#2a3f5f\"}, \"marker\": {\"line\": {\"color\": \"#E5ECF6\", \"width\": 0.5}}, \"type\": \"bar\"}], \"barpolar\": [{\"marker\": {\"line\": {\"color\": \"#E5ECF6\", \"width\": 0.5}}, \"type\": \"barpolar\"}], \"carpet\": [{\"aaxis\": {\"endlinecolor\": \"#2a3f5f\", \"gridcolor\": \"white\", \"linecolor\": \"white\", \"minorgridcolor\": \"white\", \"startlinecolor\": \"#2a3f5f\"}, \"baxis\": {\"endlinecolor\": \"#2a3f5f\", \"gridcolor\": \"white\", \"linecolor\": \"white\", \"minorgridcolor\": \"white\", \"startlinecolor\": \"#2a3f5f\"}, \"type\": \"carpet\"}], \"choropleth\": [{\"colorbar\": {\"outlinewidth\": 0, \"ticks\": \"\"}, \"type\": \"choropleth\"}], \"contour\": [{\"colorbar\": {\"outlinewidth\": 0, \"ticks\": \"\"}, \"colorscale\": [[0.0, \"#0d0887\"], [0.1111111111111111, \"#46039f\"], [0.2222222222222222, \"#7201a8\"], [0.3333333333333333, \"#9c179e\"], [0.4444444444444444, \"#bd3786\"], [0.5555555555555556, \"#d8576b\"], [0.6666666666666666, \"#ed7953\"], [0.7777777777777778, \"#fb9f3a\"], [0.8888888888888888, \"#fdca26\"], [1.0, \"#f0f921\"]], \"type\": \"contour\"}], \"contourcarpet\": [{\"colorbar\": {\"outlinewidth\": 0, \"ticks\": \"\"}, \"type\": \"contourcarpet\"}], \"heatmap\": [{\"colorbar\": {\"outlinewidth\": 0, \"ticks\": \"\"}, \"colorscale\": [[0.0, \"#0d0887\"], [0.1111111111111111, \"#46039f\"], [0.2222222222222222, \"#7201a8\"], [0.3333333333333333, \"#9c179e\"], [0.4444444444444444, \"#bd3786\"], [0.5555555555555556, \"#d8576b\"], [0.6666666666666666, \"#ed7953\"], [0.7777777777777778, \"#fb9f3a\"], [0.8888888888888888, \"#fdca26\"], [1.0, \"#f0f921\"]], \"type\": \"heatmap\"}], \"heatmapgl\": [{\"colorbar\": {\"outlinewidth\": 0, \"ticks\": \"\"}, \"colorscale\": [[0.0, \"#0d0887\"], [0.1111111111111111, \"#46039f\"], [0.2222222222222222, \"#7201a8\"], [0.3333333333333333, \"#9c179e\"], [0.4444444444444444, \"#bd3786\"], [0.5555555555555556, \"#d8576b\"], [0.6666666666666666, \"#ed7953\"], [0.7777777777777778, \"#fb9f3a\"], [0.8888888888888888, \"#fdca26\"], [1.0, \"#f0f921\"]], \"type\": \"heatmapgl\"}], \"histogram\": [{\"marker\": {\"colorbar\": {\"outlinewidth\": 0, \"ticks\": \"\"}}, \"type\": \"histogram\"}], \"histogram2d\": [{\"colorbar\": {\"outlinewidth\": 0, \"ticks\": \"\"}, \"colorscale\": [[0.0, \"#0d0887\"], [0.1111111111111111, \"#46039f\"], [0.2222222222222222, \"#7201a8\"], [0.3333333333333333, \"#9c179e\"], [0.4444444444444444, \"#bd3786\"], [0.5555555555555556, \"#d8576b\"], [0.6666666666666666, \"#ed7953\"], [0.7777777777777778, \"#fb9f3a\"], [0.8888888888888888, \"#fdca26\"], [1.0, \"#f0f921\"]], \"type\": \"histogram2d\"}], \"histogram2dcontour\": [{\"colorbar\": {\"outlinewidth\": 0, \"ticks\": \"\"}, \"colorscale\": [[0.0, \"#0d0887\"], [0.1111111111111111, \"#46039f\"], [0.2222222222222222, \"#7201a8\"], [0.3333333333333333, \"#9c179e\"], [0.4444444444444444, \"#bd3786\"], [0.5555555555555556, \"#d8576b\"], [0.6666666666666666, \"#ed7953\"], [0.7777777777777778, \"#fb9f3a\"], [0.8888888888888888, \"#fdca26\"], [1.0, \"#f0f921\"]], \"type\": \"histogram2dcontour\"}], \"mesh3d\": [{\"colorbar\": {\"outlinewidth\": 0, \"ticks\": \"\"}, \"type\": \"mesh3d\"}], \"parcoords\": [{\"line\": {\"colorbar\": {\"outlinewidth\": 0, \"ticks\": \"\"}}, \"type\": \"parcoords\"}], \"pie\": [{\"automargin\": true, \"type\": \"pie\"}], \"scatter\": [{\"marker\": {\"colorbar\": {\"outlinewidth\": 0, \"ticks\": \"\"}}, \"type\": \"scatter\"}], \"scatter3d\": [{\"line\": {\"colorbar\": {\"outlinewidth\": 0, \"ticks\": \"\"}}, \"marker\": {\"colorbar\": {\"outlinewidth\": 0, \"ticks\": \"\"}}, \"type\": \"scatter3d\"}], \"scattercarpet\": [{\"marker\": {\"colorbar\": {\"outlinewidth\": 0, \"ticks\": \"\"}}, \"type\": \"scattercarpet\"}], \"scattergeo\": [{\"marker\": {\"colorbar\": {\"outlinewidth\": 0, \"ticks\": \"\"}}, \"type\": \"scattergeo\"}], \"scattergl\": [{\"marker\": {\"colorbar\": {\"outlinewidth\": 0, \"ticks\": \"\"}}, \"type\": \"scattergl\"}], \"scattermapbox\": [{\"marker\": {\"colorbar\": {\"outlinewidth\": 0, \"ticks\": \"\"}}, \"type\": \"scattermapbox\"}], \"scatterpolar\": [{\"marker\": {\"colorbar\": {\"outlinewidth\": 0, \"ticks\": \"\"}}, \"type\": \"scatterpolar\"}], \"scatterpolargl\": [{\"marker\": {\"colorbar\": {\"outlinewidth\": 0, \"ticks\": \"\"}}, \"type\": \"scatterpolargl\"}], \"scatterternary\": [{\"marker\": {\"colorbar\": {\"outlinewidth\": 0, \"ticks\": \"\"}}, \"type\": \"scatterternary\"}], \"surface\": [{\"colorbar\": {\"outlinewidth\": 0, \"ticks\": \"\"}, \"colorscale\": [[0.0, \"#0d0887\"], [0.1111111111111111, \"#46039f\"], [0.2222222222222222, \"#7201a8\"], [0.3333333333333333, \"#9c179e\"], [0.4444444444444444, \"#bd3786\"], [0.5555555555555556, \"#d8576b\"], [0.6666666666666666, \"#ed7953\"], [0.7777777777777778, \"#fb9f3a\"], [0.8888888888888888, \"#fdca26\"], [1.0, \"#f0f921\"]], \"type\": \"surface\"}], \"table\": [{\"cells\": {\"fill\": {\"color\": \"#EBF0F8\"}, \"line\": {\"color\": \"white\"}}, \"header\": {\"fill\": {\"color\": \"#C8D4E3\"}, \"line\": {\"color\": \"white\"}}, \"type\": \"table\"}]}, \"layout\": {\"annotationdefaults\": {\"arrowcolor\": \"#2a3f5f\", \"arrowhead\": 0, \"arrowwidth\": 1}, \"autotypenumbers\": \"strict\", \"coloraxis\": {\"colorbar\": {\"outlinewidth\": 0, \"ticks\": \"\"}}, \"colorscale\": {\"diverging\": [[0, \"#8e0152\"], [0.1, \"#c51b7d\"], [0.2, \"#de77ae\"], [0.3, \"#f1b6da\"], [0.4, \"#fde0ef\"], [0.5, \"#f7f7f7\"], [0.6, \"#e6f5d0\"], [0.7, \"#b8e186\"], [0.8, \"#7fbc41\"], [0.9, \"#4d9221\"], [1, \"#276419\"]], \"sequential\": [[0.0, \"#0d0887\"], [0.1111111111111111, \"#46039f\"], [0.2222222222222222, \"#7201a8\"], [0.3333333333333333, \"#9c179e\"], [0.4444444444444444, \"#bd3786\"], [0.5555555555555556, \"#d8576b\"], [0.6666666666666666, \"#ed7953\"], [0.7777777777777778, \"#fb9f3a\"], [0.8888888888888888, \"#fdca26\"], [1.0, \"#f0f921\"]], \"sequentialminus\": [[0.0, \"#0d0887\"], [0.1111111111111111, \"#46039f\"], [0.2222222222222222, \"#7201a8\"], [0.3333333333333333, \"#9c179e\"], [0.4444444444444444, \"#bd3786\"], [0.5555555555555556, \"#d8576b\"], [0.6666666666666666, \"#ed7953\"], [0.7777777777777778, \"#fb9f3a\"], [0.8888888888888888, \"#fdca26\"], [1.0, \"#f0f921\"]]}, \"colorway\": [\"#636efa\", \"#EF553B\", \"#00cc96\", \"#ab63fa\", \"#FFA15A\", \"#19d3f3\", \"#FF6692\", \"#B6E880\", \"#FF97FF\", \"#FECB52\"], \"font\": {\"color\": \"#2a3f5f\"}, \"geo\": {\"bgcolor\": \"white\", \"lakecolor\": \"white\", \"landcolor\": \"#E5ECF6\", \"showlakes\": true, \"showland\": true, \"subunitcolor\": \"white\"}, \"hoverlabel\": {\"align\": \"left\"}, \"hovermode\": \"closest\", \"mapbox\": {\"style\": \"light\"}, \"paper_bgcolor\": \"white\", \"plot_bgcolor\": \"#E5ECF6\", \"polar\": {\"angularaxis\": {\"gridcolor\": \"white\", \"linecolor\": \"white\", \"ticks\": \"\"}, \"bgcolor\": \"#E5ECF6\", \"radialaxis\": {\"gridcolor\": \"white\", \"linecolor\": \"white\", \"ticks\": \"\"}}, \"scene\": {\"xaxis\": {\"backgroundcolor\": \"#E5ECF6\", \"gridcolor\": \"white\", \"gridwidth\": 2, \"linecolor\": \"white\", \"showbackground\": true, \"ticks\": \"\", \"zerolinecolor\": \"white\"}, \"yaxis\": {\"backgroundcolor\": \"#E5ECF6\", \"gridcolor\": \"white\", \"gridwidth\": 2, \"linecolor\": \"white\", \"showbackground\": true, \"ticks\": \"\", \"zerolinecolor\": \"white\"}, \"zaxis\": {\"backgroundcolor\": \"#E5ECF6\", \"gridcolor\": \"white\", \"gridwidth\": 2, \"linecolor\": \"white\", \"showbackground\": true, \"ticks\": \"\", \"zerolinecolor\": \"white\"}}, \"shapedefaults\": {\"line\": {\"color\": \"#2a3f5f\"}}, \"ternary\": {\"aaxis\": {\"gridcolor\": \"white\", \"linecolor\": \"white\", \"ticks\": \"\"}, \"baxis\": {\"gridcolor\": \"white\", \"linecolor\": \"white\", \"ticks\": \"\"}, \"bgcolor\": \"#E5ECF6\", \"caxis\": {\"gridcolor\": \"white\", \"linecolor\": \"white\", \"ticks\": \"\"}}, \"title\": {\"x\": 0.05}, \"xaxis\": {\"automargin\": true, \"gridcolor\": \"white\", \"linecolor\": \"white\", \"ticks\": \"\", \"title\": {\"standoff\": 15}, \"zerolinecolor\": \"white\", \"zerolinewidth\": 2}, \"yaxis\": {\"automargin\": true, \"gridcolor\": \"white\", \"linecolor\": \"white\", \"ticks\": \"\", \"title\": {\"standoff\": 15}, \"zerolinecolor\": \"white\", \"zerolinewidth\": 2}}}, \"xaxis\": {\"anchor\": \"y\", \"domain\": [0.0, 1.0], \"title\": {\"text\": \"# Components\"}}, \"yaxis\": {\"anchor\": \"x\", \"domain\": [0.0, 1.0], \"title\": {\"text\": \"Explained Variance\"}}},                        {\"responsive\": true}                    ).then(function(){\n",
       "                            \n",
       "var gd = document.getElementById('dcb7d7a1-c1d8-4d71-9da8-4f9782286c40');\n",
       "var x = new MutationObserver(function (mutations, observer) {{\n",
       "        var display = window.getComputedStyle(gd).display;\n",
       "        if (!display || display === 'none') {{\n",
       "            console.log([gd, 'removed!']);\n",
       "            Plotly.purge(gd);\n",
       "            observer.disconnect();\n",
       "        }}\n",
       "}});\n",
       "\n",
       "// Listen for the removal of the full notebook cells\n",
       "var notebookContainer = gd.closest('#notebook-container');\n",
       "if (notebookContainer) {{\n",
       "    x.observe(notebookContainer, {childList: true});\n",
       "}}\n",
       "\n",
       "// Listen for the clearing of the current output cell\n",
       "var outputEl = gd.closest('.output');\n",
       "if (outputEl) {{\n",
       "    x.observe(outputEl, {childList: true});\n",
       "}}\n",
       "\n",
       "                        })                };                });            </script>        </div>"
      ]
     },
     "metadata": {},
     "output_type": "display_data"
    }
   ],
   "source": [
    "pca = PCA()\n",
    "pca.fit(dataset[features])\n",
    "exp_var_cumul = np.cumsum(pca.explained_variance_ratio_)\n",
    "\n",
    "px.area(\n",
    "    x=range(1, exp_var_cumul.shape[0] + 1),\n",
    "    y=exp_var_cumul,\n",
    "    labels={\"x\": \"# Components\", \"y\": \"Explained Variance\"}\n",
    ")"
   ]
  },
  {
   "cell_type": "code",
   "execution_count": 72,
   "metadata": {},
   "outputs": [],
   "source": [
    "import numpy as np\n",
    "import matplotlib.pyplot as plt\n",
    "import seaborn as sns; sns.set(style='white')\n",
    "%matplotlib inline\n",
    "from sklearn import decomposition\n",
    "from sklearn import datasets\n",
    "from mpl_toolkits.mplot3d import Axes3D"
   ]
  },
  {
   "cell_type": "code",
   "execution_count": 73,
   "metadata": {},
   "outputs": [
    {
     "name": "stdout",
     "output_type": "stream",
     "text": [
      "     Specimen _Number  Clade  Sex  Body Mass (g)  Body _Length _(mm)  \\\n",
      "59           608512.0      0    0           34.0               174.0   \n",
      "125          609498.0      0    1           28.3               169.0   \n",
      "146          793177.0      1    1           49.0               202.0   \n",
      "147          798897.0      1    1           54.7               204.0   \n",
      "204          814047.0      1    1           65.0               211.0   \n",
      "225          779487.0      0    0           28.4               179.0   \n",
      "226          779488.0      0    0           31.3               201.0   \n",
      "227          779489.0      0    0           29.3               186.0   \n",
      "228          779490.0      0    0           31.3               189.0   \n",
      "229          779491.0      0    1           26.2               183.0   \n",
      "230          779492.0      0    1           27.1               181.0   \n",
      "231          779493.0      0    1           30.3               198.0   \n",
      "278          485619.0      0    1           31.0               178.0   \n",
      "279          485622.0      0    0           34.0               176.0   \n",
      "280          485623.0      0    0           31.0               162.0   \n",
      "333          485617.0      0    1           32.0               169.0   \n",
      "334          485618.0      0    0           30.5               169.0   \n",
      "335          536371.0      0    0           31.3               166.0   \n",
      "336          536372.0      0    0           33.0               187.0   \n",
      "339          536375.0      0    0           34.7               187.0   \n",
      "352          826128.0      1    1           48.0               190.0   \n",
      "397          485548.0      1    1           45.0               199.0   \n",
      "398          485613.0      1    1           49.5               198.0   \n",
      "399          485614.0      1    0           48.0               196.0   \n",
      "400          536365.0      1    1           52.0               219.0   \n",
      "401          536366.0      1    0           50.0               216.0   \n",
      "402          536367.0      1    0           49.6               214.0   \n",
      "404          536369.0      1    0           50.2               216.0   \n",
      "405          536370.0      1    0           52.6               223.0   \n",
      "406          536376.0      1    0           54.4               217.0   \n",
      "407          536377.0      1    0           60.7               212.0   \n",
      "408          608287.0      1    2           42.0               201.0   \n",
      "409          608288.0      1    2           44.0               203.0   \n",
      "410          608289.0      1    2           36.0               190.0   \n",
      "\n",
      "     Head _Length _(mm)  Bill Length (mm)  Bill Width1 (mm)  Bill Width2 (mm)  \\\n",
      "59                35.97             13.00              4.41              1.67   \n",
      "125               39.85             11.96              4.23              2.10   \n",
      "146               43.53             18.98              5.44              2.55   \n",
      "147               47.38             19.87              5.13              2.16   \n",
      "204               50.49             22.00              5.82              3.07   \n",
      "225               39.80             15.21              4.13              1.65   \n",
      "226               39.76             13.19              4.23              1.72   \n",
      "227               38.90             15.43              3.51              1.69   \n",
      "228               37.64             16.45              4.54              1.73   \n",
      "229               39.74             14.53              3.74              1.64   \n",
      "230               39.50             14.82              4.35              1.76   \n",
      "231               40.36             14.07              3.93              1.71   \n",
      "278               40.15             14.19              3.89              2.10   \n",
      "279               40.20             12.23              3.67              3.08   \n",
      "280               39.47             12.57              3.89              2.19   \n",
      "333               39.28             14.88              2.94              1.79   \n",
      "334               39.32             13.31              3.35              1.77   \n",
      "335               40.93             14.96              3.67              1.73   \n",
      "336               41.61             13.95              3.84              1.68   \n",
      "339               42.19             14.41              3.66              1.60   \n",
      "352               44.28             17.18              4.55              1.78   \n",
      "397               45.63             19.44              4.30              2.00   \n",
      "398               45.13             19.23              4.65              2.14   \n",
      "399               42.41             15.69              3.84              1.82   \n",
      "400               49.47             19.35              5.12              2.31   \n",
      "401               49.22             19.63              4.41              2.07   \n",
      "402               49.12             18.42              4.59              2.16   \n",
      "404               49.12             17.80              4.73              2.01   \n",
      "405               49.62             18.73              4.64              2.35   \n",
      "406               50.30             20.16              3.92              2.00   \n",
      "407               51.10             18.82              4.53              2.24   \n",
      "408               45.49             17.08              4.32              2.07   \n",
      "409               44.13             17.04              4.54              2.22   \n",
      "410               41.04             15.92              4.06              1.94   \n",
      "\n",
      "     Bill Width3 (mm)  ...       D15N       D13C  Prct_Nitrogen  Prct_Carbon  \\\n",
      "59               0.56  ...   7.176129 -22.273131      13.871266    45.905594   \n",
      "125              1.08  ...   5.771343 -22.642056      13.725655    45.102260   \n",
      "146              1.50  ...  10.756446 -19.051570      13.786684    45.209634   \n",
      "147              1.09  ...   8.966113 -23.841625      14.339404    45.443613   \n",
      "204              1.31  ...   5.470049 -21.098729      14.389693    46.420923   \n",
      "225              0.79  ...   4.241066 -22.278851      13.868024    45.468678   \n",
      "226              0.82  ...   5.817326 -21.814492      13.781997    44.978941   \n",
      "227              0.86  ...   2.777897 -22.180261      13.887988    45.466096   \n",
      "228              0.74  ...   4.209041 -22.123079      13.237235    45.001250   \n",
      "229              0.69  ...   7.045308 -21.733649      13.824699    45.608103   \n",
      "230              1.04  ...   6.934219 -19.817059      14.140561    45.386834   \n",
      "231              0.80  ...   6.798110 -21.591679      13.541778    44.787564   \n",
      "278              0.97  ...  12.643242 -20.888925      13.927523    44.871669   \n",
      "279              1.02  ...  13.251358 -21.878627      13.685530    44.140242   \n",
      "280              1.10  ...  11.445769 -19.239092      13.777822    44.266260   \n",
      "333              0.80  ...   3.824585 -23.037544      13.631865    45.077035   \n",
      "334              0.83  ...   4.602498 -22.246569      13.430176    44.786104   \n",
      "335              0.75  ...  14.115158 -13.250701      13.451659    44.024461   \n",
      "336              0.90  ...  13.647225 -14.389942      13.903557    44.669516   \n",
      "339              0.74  ...  14.986855 -12.350524      13.974309    44.950853   \n",
      "352              0.84  ...  16.344742 -16.622743      13.906773    45.341298   \n",
      "397              0.86  ...   5.806882 -24.715907      13.705250    44.173121   \n",
      "398              0.92  ...  16.523926 -10.564927      13.683795    44.007125   \n",
      "399              0.86  ...  12.919658 -18.579946      13.531517    44.450881   \n",
      "400              0.87  ...  12.446790 -19.091522      14.209451    45.379943   \n",
      "401              0.66  ...  15.183308 -13.009670      20.886987    67.028805   \n",
      "402              0.94  ...  14.974022 -13.585193      13.736831    44.746665   \n",
      "404              0.91  ...  14.179326 -14.438148      14.221473    45.291309   \n",
      "405              1.01  ...  15.037202 -14.098737      13.966907    44.993190   \n",
      "406              1.00  ...  24.564670 -16.359509      13.879584    44.801546   \n",
      "407              0.81  ...  20.325633 -18.555351      13.983906    45.098536   \n",
      "408              0.94  ...   8.607569 -23.480254      14.057153    45.334907   \n",
      "409              1.08  ...   8.995538 -18.589784      13.865926    44.767480   \n",
      "410              0.90  ...   8.284754 -19.868724      13.688523    44.459598   \n",
      "\n",
      "     C_N_Ratio       ?18O      dDa      dDb      [H]b  Mean_dD  \n",
      "59    3.309402   5.811644  -83.900  -97.100  5.090000  -90.499  \n",
      "125   3.285982   5.276920  -54.300  -64.700  5.020000  -59.496  \n",
      "146   3.279225   3.067845 -127.307 -121.201  5.322666 -124.254  \n",
      "147   3.169142   2.853813 -112.827 -101.081  5.516017 -106.954  \n",
      "204   3.225984  -0.879340 -103.237 -101.040  3.950280 -102.139  \n",
      "225   3.278670   3.616647  -74.800  -85.500  5.070000  -80.147  \n",
      "226   3.263601   4.829858  -79.700  -81.600  5.010000  -80.637  \n",
      "227   3.273771   2.351101  -80.500  -85.600  4.780000  -83.088  \n",
      "228   3.399596   5.032955  -61.700  -68.100  4.770000  -64.914  \n",
      "229   3.299030   2.186486  -71.900  -80.400  4.910000  -76.136  \n",
      "230   3.209691   4.904156  -63.000  -71.000  5.070000  -66.972  \n",
      "231   3.307362   5.835272  -85.300  -97.200  4.960000  -91.236  \n",
      "278   3.221798  10.364215  -57.800  -49.000  5.050000  -53.393  \n",
      "279   3.225322   7.528495  -47.200  -42.000  4.960000  -44.590  \n",
      "280   3.212863   8.972548  -46.000  -49.600  5.010000  -47.812  \n",
      "333   3.306740   5.643212  -81.000  -89.000  5.150000  -85.001  \n",
      "334   3.334737   4.000107  -98.400 -101.100  5.210000  -99.752  \n",
      "335   3.272791   8.079144  -50.200  -61.700  4.990000  -55.913  \n",
      "336   3.212812   6.819496  -56.800  -55.100  4.870000  -55.925  \n",
      "339   3.216678   7.166696  -44.600  -43.000  5.130000  -43.813  \n",
      "352   3.260375   6.552258  -74.500  -69.400  5.060000  -71.947  \n",
      "397   3.223080   3.557636  -91.200  -71.300  4.820000  -81.264  \n",
      "398   3.216003   8.623763  -36.900  -58.600  5.100000  -47.736  \n",
      "399   3.284989   6.635970  -55.100  -58.300  5.180000  -56.664  \n",
      "400   3.193645   6.409341  -75.100  -75.100  5.210000  -75.123  \n",
      "401   3.209118   6.787018  -68.100  -53.500  5.170000  -60.771  \n",
      "402   3.257423   8.295333  -68.500  -57.900  4.960000  -63.185  \n",
      "404   3.184713   7.775801  -81.500  -70.200  5.010000  -75.872  \n",
      "405   3.221414   7.755209  -73.700  -64.300  5.200000  -69.013  \n",
      "406   3.227874   7.276610  -56.000  -36.300  5.140000  -46.168  \n",
      "407   3.225031   6.556972  -72.200  -52.200  5.060000  -62.209  \n",
      "408   3.225042   2.669727 -134.400 -136.700  5.240000 -135.514  \n",
      "409   3.228596   1.129221 -131.600 -136.700  5.370000 -134.163  \n",
      "410   3.247947   0.166062 -139.200 -131.300  4.960000 -135.255  \n",
      "\n",
      "[34 rows x 64 columns]\n"
     ]
    },
    {
     "ename": "KeyError",
     "evalue": "0",
     "output_type": "error",
     "traceback": [
      "\u001b[1;31m---------------------------------------------------------------------------\u001b[0m",
      "\u001b[1;31mKeyError\u001b[0m                                  Traceback (most recent call last)",
      "\u001b[1;32m~\\anaconda3\\lib\\site-packages\\pandas\\core\\indexes\\base.py\u001b[0m in \u001b[0;36mget_loc\u001b[1;34m(self, key, method, tolerance)\u001b[0m\n\u001b[0;32m   2894\u001b[0m             \u001b[1;32mtry\u001b[0m\u001b[1;33m:\u001b[0m\u001b[1;33m\u001b[0m\u001b[1;33m\u001b[0m\u001b[0m\n\u001b[1;32m-> 2895\u001b[1;33m                 \u001b[1;32mreturn\u001b[0m \u001b[0mself\u001b[0m\u001b[1;33m.\u001b[0m\u001b[0m_engine\u001b[0m\u001b[1;33m.\u001b[0m\u001b[0mget_loc\u001b[0m\u001b[1;33m(\u001b[0m\u001b[0mcasted_key\u001b[0m\u001b[1;33m)\u001b[0m\u001b[1;33m\u001b[0m\u001b[1;33m\u001b[0m\u001b[0m\n\u001b[0m\u001b[0;32m   2896\u001b[0m             \u001b[1;32mexcept\u001b[0m \u001b[0mKeyError\u001b[0m \u001b[1;32mas\u001b[0m \u001b[0merr\u001b[0m\u001b[1;33m:\u001b[0m\u001b[1;33m\u001b[0m\u001b[1;33m\u001b[0m\u001b[0m\n",
      "\u001b[1;32mpandas\\_libs\\index.pyx\u001b[0m in \u001b[0;36mpandas._libs.index.IndexEngine.get_loc\u001b[1;34m()\u001b[0m\n",
      "\u001b[1;32mpandas\\_libs\\index.pyx\u001b[0m in \u001b[0;36mpandas._libs.index.IndexEngine.get_loc\u001b[1;34m()\u001b[0m\n",
      "\u001b[1;32mpandas\\_libs\\hashtable_class_helper.pxi\u001b[0m in \u001b[0;36mpandas._libs.hashtable.Int64HashTable.get_item\u001b[1;34m()\u001b[0m\n",
      "\u001b[1;32mpandas\\_libs\\hashtable_class_helper.pxi\u001b[0m in \u001b[0;36mpandas._libs.hashtable.Int64HashTable.get_item\u001b[1;34m()\u001b[0m\n",
      "\u001b[1;31mKeyError\u001b[0m: 0",
      "\nThe above exception was the direct cause of the following exception:\n",
      "\u001b[1;31mKeyError\u001b[0m                                  Traceback (most recent call last)",
      "\u001b[1;32m<ipython-input-73-418c3aebf48d>\u001b[0m in \u001b[0;36m<module>\u001b[1;34m\u001b[0m\n\u001b[0;32m     11\u001b[0m \u001b[0mplt\u001b[0m\u001b[1;33m.\u001b[0m\u001b[0mcla\u001b[0m\u001b[1;33m(\u001b[0m\u001b[1;33m)\u001b[0m\u001b[1;33m\u001b[0m\u001b[1;33m\u001b[0m\u001b[0m\n\u001b[0;32m     12\u001b[0m \u001b[1;33m\u001b[0m\u001b[0m\n\u001b[1;32m---> 13\u001b[1;33m \u001b[1;32mfor\u001b[0m \u001b[0mname\u001b[0m\u001b[1;33m,\u001b[0m \u001b[0mlabel\u001b[0m \u001b[1;32min\u001b[0m \u001b[1;33m[\u001b[0m\u001b[1;33m(\u001b[0m\u001b[0my\u001b[0m\u001b[1;33m[\u001b[0m\u001b[1;36m0\u001b[0m\u001b[1;33m]\u001b[0m\u001b[1;33m,\u001b[0m \u001b[1;36m0\u001b[0m\u001b[1;33m)\u001b[0m\u001b[1;33m,\u001b[0m \u001b[1;33m(\u001b[0m\u001b[0my\u001b[0m\u001b[1;33m[\u001b[0m\u001b[1;36m1\u001b[0m\u001b[1;33m]\u001b[0m\u001b[1;33m,\u001b[0m \u001b[1;36m1\u001b[0m\u001b[1;33m)\u001b[0m\u001b[1;33m,\u001b[0m \u001b[1;33m(\u001b[0m\u001b[0my\u001b[0m\u001b[1;33m[\u001b[0m\u001b[1;36m2\u001b[0m\u001b[1;33m]\u001b[0m\u001b[1;33m,\u001b[0m \u001b[1;36m2\u001b[0m\u001b[1;33m)\u001b[0m\u001b[1;33m]\u001b[0m\u001b[1;33m:\u001b[0m\u001b[1;33m\u001b[0m\u001b[1;33m\u001b[0m\u001b[0m\n\u001b[0m\u001b[0;32m     14\u001b[0m     ax.text3D(X[y == label, 0].mean(),\n\u001b[0;32m     15\u001b[0m               \u001b[0mX\u001b[0m\u001b[1;33m[\u001b[0m\u001b[0my\u001b[0m \u001b[1;33m==\u001b[0m \u001b[0mlabel\u001b[0m\u001b[1;33m,\u001b[0m \u001b[1;36m1\u001b[0m\u001b[1;33m]\u001b[0m\u001b[1;33m.\u001b[0m\u001b[0mmean\u001b[0m\u001b[1;33m(\u001b[0m\u001b[1;33m)\u001b[0m \u001b[1;33m+\u001b[0m \u001b[1;36m1.5\u001b[0m\u001b[1;33m,\u001b[0m\u001b[1;33m\u001b[0m\u001b[1;33m\u001b[0m\u001b[0m\n",
      "\u001b[1;32m~\\anaconda3\\lib\\site-packages\\pandas\\core\\series.py\u001b[0m in \u001b[0;36m__getitem__\u001b[1;34m(self, key)\u001b[0m\n\u001b[0;32m    880\u001b[0m \u001b[1;33m\u001b[0m\u001b[0m\n\u001b[0;32m    881\u001b[0m         \u001b[1;32melif\u001b[0m \u001b[0mkey_is_scalar\u001b[0m\u001b[1;33m:\u001b[0m\u001b[1;33m\u001b[0m\u001b[1;33m\u001b[0m\u001b[0m\n\u001b[1;32m--> 882\u001b[1;33m             \u001b[1;32mreturn\u001b[0m \u001b[0mself\u001b[0m\u001b[1;33m.\u001b[0m\u001b[0m_get_value\u001b[0m\u001b[1;33m(\u001b[0m\u001b[0mkey\u001b[0m\u001b[1;33m)\u001b[0m\u001b[1;33m\u001b[0m\u001b[1;33m\u001b[0m\u001b[0m\n\u001b[0m\u001b[0;32m    883\u001b[0m \u001b[1;33m\u001b[0m\u001b[0m\n\u001b[0;32m    884\u001b[0m         \u001b[1;32mif\u001b[0m \u001b[0mis_hashable\u001b[0m\u001b[1;33m(\u001b[0m\u001b[0mkey\u001b[0m\u001b[1;33m)\u001b[0m\u001b[1;33m:\u001b[0m\u001b[1;33m\u001b[0m\u001b[1;33m\u001b[0m\u001b[0m\n",
      "\u001b[1;32m~\\anaconda3\\lib\\site-packages\\pandas\\core\\series.py\u001b[0m in \u001b[0;36m_get_value\u001b[1;34m(self, label, takeable)\u001b[0m\n\u001b[0;32m    987\u001b[0m \u001b[1;33m\u001b[0m\u001b[0m\n\u001b[0;32m    988\u001b[0m         \u001b[1;31m# Similar to Index.get_value, but we do not fall back to positional\u001b[0m\u001b[1;33m\u001b[0m\u001b[1;33m\u001b[0m\u001b[1;33m\u001b[0m\u001b[0m\n\u001b[1;32m--> 989\u001b[1;33m         \u001b[0mloc\u001b[0m \u001b[1;33m=\u001b[0m \u001b[0mself\u001b[0m\u001b[1;33m.\u001b[0m\u001b[0mindex\u001b[0m\u001b[1;33m.\u001b[0m\u001b[0mget_loc\u001b[0m\u001b[1;33m(\u001b[0m\u001b[0mlabel\u001b[0m\u001b[1;33m)\u001b[0m\u001b[1;33m\u001b[0m\u001b[1;33m\u001b[0m\u001b[0m\n\u001b[0m\u001b[0;32m    990\u001b[0m         \u001b[1;32mreturn\u001b[0m \u001b[0mself\u001b[0m\u001b[1;33m.\u001b[0m\u001b[0mindex\u001b[0m\u001b[1;33m.\u001b[0m\u001b[0m_get_values_for_loc\u001b[0m\u001b[1;33m(\u001b[0m\u001b[0mself\u001b[0m\u001b[1;33m,\u001b[0m \u001b[0mloc\u001b[0m\u001b[1;33m,\u001b[0m \u001b[0mlabel\u001b[0m\u001b[1;33m)\u001b[0m\u001b[1;33m\u001b[0m\u001b[1;33m\u001b[0m\u001b[0m\n\u001b[0;32m    991\u001b[0m \u001b[1;33m\u001b[0m\u001b[0m\n",
      "\u001b[1;32m~\\anaconda3\\lib\\site-packages\\pandas\\core\\indexes\\base.py\u001b[0m in \u001b[0;36mget_loc\u001b[1;34m(self, key, method, tolerance)\u001b[0m\n\u001b[0;32m   2895\u001b[0m                 \u001b[1;32mreturn\u001b[0m \u001b[0mself\u001b[0m\u001b[1;33m.\u001b[0m\u001b[0m_engine\u001b[0m\u001b[1;33m.\u001b[0m\u001b[0mget_loc\u001b[0m\u001b[1;33m(\u001b[0m\u001b[0mcasted_key\u001b[0m\u001b[1;33m)\u001b[0m\u001b[1;33m\u001b[0m\u001b[1;33m\u001b[0m\u001b[0m\n\u001b[0;32m   2896\u001b[0m             \u001b[1;32mexcept\u001b[0m \u001b[0mKeyError\u001b[0m \u001b[1;32mas\u001b[0m \u001b[0merr\u001b[0m\u001b[1;33m:\u001b[0m\u001b[1;33m\u001b[0m\u001b[1;33m\u001b[0m\u001b[0m\n\u001b[1;32m-> 2897\u001b[1;33m                 \u001b[1;32mraise\u001b[0m \u001b[0mKeyError\u001b[0m\u001b[1;33m(\u001b[0m\u001b[0mkey\u001b[0m\u001b[1;33m)\u001b[0m \u001b[1;32mfrom\u001b[0m \u001b[0merr\u001b[0m\u001b[1;33m\u001b[0m\u001b[1;33m\u001b[0m\u001b[0m\n\u001b[0m\u001b[0;32m   2898\u001b[0m \u001b[1;33m\u001b[0m\u001b[0m\n\u001b[0;32m   2899\u001b[0m         \u001b[1;32mif\u001b[0m \u001b[0mtolerance\u001b[0m \u001b[1;32mis\u001b[0m \u001b[1;32mnot\u001b[0m \u001b[1;32mNone\u001b[0m\u001b[1;33m:\u001b[0m\u001b[1;33m\u001b[0m\u001b[1;33m\u001b[0m\u001b[0m\n",
      "\u001b[1;31mKeyError\u001b[0m: 0"
     ]
    },
    {
     "data": {
      "image/png": "[encoded data removed]",
      "text/plain": [
       "<Figure size 432x360 with 1 Axes>"
      ]
     },
     "metadata": {
      "needs_background": "light"
     },
     "output_type": "display_data"
    }
   ],
   "source": [
    "\n",
    "# Загрузим наши ириски\n",
    "X = dataset[features]\n",
    "print(X)\n",
    "y = dataset['Species']\n",
    "\n",
    "# Заведём красивую трёхмерную картинку\n",
    "fig = plt.figure(1, figsize=(6, 5))\n",
    "plt.clf()\n",
    "ax = Axes3D(fig, rect=[0, 0, .95, 1], elev=48, azim=134)\n",
    "\n",
    "plt.cla()\n",
    "\n",
    "for name, label in [(y[0], 0), (y[1], 1), (y[2], 2)]:\n",
    "    ax.text3D(X[y == label, 0].mean(),\n",
    "              X[y == label, 1].mean() + 1.5,\n",
    "              X[y == label, 2].mean(), name,\n",
    "              horizontalalignment='center',\n",
    "              bbox=dict(alpha=.5, edgecolor='w', facecolor='w'))\n",
    "# Поменяем порядок цветов меток, чтобы они соответствовали правильному\n",
    "y_clr = np.choose(y, [1, 2, 0]).astype(np.float)\n",
    "ax.scatter(X[:, 0], X[:, 1], X[:, 2], c=y_clr)\n",
    "\n",
    "ax.w_xaxis.set_ticklabels([])\n",
    "ax.w_yaxis.set_ticklabels([])\n",
    "ax.w_zaxis.set_ticklabels([])"
   ]
  },
  {
   "cell_type": "code",
   "execution_count": 74,
   "metadata": {},
   "outputs": [
    {
     "name": "stdout",
     "output_type": "stream",
     "text": [
      "     Specimen _Number        Species  Clade  Sex  Body Mass (g)  \\\n",
      "59           608512.0  albidiventris      0    0           34.0   \n",
      "125          609498.0    albiventris      0    1           28.3   \n",
      "146          793177.0    atacamensis      1    1           49.0   \n",
      "147          798897.0    atacamensis      1    1           54.7   \n",
      "204          814047.0      excelsior      1    1           65.0   \n",
      "225          779487.0         fuscus      0    0           28.4   \n",
      "226          779488.0         fuscus      0    0           31.3   \n",
      "227          779489.0         fuscus      0    0           29.3   \n",
      "228          779490.0         fuscus      0    0           31.3   \n",
      "229          779491.0         fuscus      0    1           26.2   \n",
      "230          779492.0         fuscus      0    1           27.1   \n",
      "231          779493.0         fuscus      0    1           30.3   \n",
      "278          485619.0         fuscus      0    1           31.0   \n",
      "279          485622.0         fuscus      0    0           34.0   \n",
      "280          485623.0         fuscus      0    0           31.0   \n",
      "333          485617.0      oustaleti      0    1           32.0   \n",
      "334          485618.0      oustaleti      0    0           30.5   \n",
      "335          536371.0      oustaleti      0    0           31.3   \n",
      "336          536372.0      oustaleti      0    0           33.0   \n",
      "339          536375.0      oustaleti      0    0           34.7   \n",
      "352          826128.0    patagonicus      1    1           48.0   \n",
      "397          485548.0    patagonicus      1    1           45.0   \n",
      "398          485613.0    patagonicus      1    1           49.5   \n",
      "399          485614.0    patagonicus      1    0           48.0   \n",
      "400          536365.0    patagonicus      1    1           52.0   \n",
      "401          536366.0    patagonicus      1    0           50.0   \n",
      "402          536367.0    patagonicus      1    0           49.6   \n",
      "404          536369.0    patagonicus      1    0           50.2   \n",
      "405          536370.0    patagonicus      1    0           52.6   \n",
      "406          536376.0    patagonicus      1    0           54.4   \n",
      "407          536377.0    patagonicus      1    0           60.7   \n",
      "408          608287.0    patagonicus      1    2           42.0   \n",
      "409          608288.0    patagonicus      1    2           44.0   \n",
      "410          608289.0    patagonicus      1    2           36.0   \n",
      "\n",
      "     Body _Length _(mm)  Head _Length _(mm)  Bill Length (mm)  \\\n",
      "59                174.0               35.97             13.00   \n",
      "125               169.0               39.85             11.96   \n",
      "146               202.0               43.53             18.98   \n",
      "147               204.0               47.38             19.87   \n",
      "204               211.0               50.49             22.00   \n",
      "225               179.0               39.80             15.21   \n",
      "226               201.0               39.76             13.19   \n",
      "227               186.0               38.90             15.43   \n",
      "228               189.0               37.64             16.45   \n",
      "229               183.0               39.74             14.53   \n",
      "230               181.0               39.50             14.82   \n",
      "231               198.0               40.36             14.07   \n",
      "278               178.0               40.15             14.19   \n",
      "279               176.0               40.20             12.23   \n",
      "280               162.0               39.47             12.57   \n",
      "333               169.0               39.28             14.88   \n",
      "334               169.0               39.32             13.31   \n",
      "335               166.0               40.93             14.96   \n",
      "336               187.0               41.61             13.95   \n",
      "339               187.0               42.19             14.41   \n",
      "352               190.0               44.28             17.18   \n",
      "397               199.0               45.63             19.44   \n",
      "398               198.0               45.13             19.23   \n",
      "399               196.0               42.41             15.69   \n",
      "400               219.0               49.47             19.35   \n",
      "401               216.0               49.22             19.63   \n",
      "402               214.0               49.12             18.42   \n",
      "404               216.0               49.12             17.80   \n",
      "405               223.0               49.62             18.73   \n",
      "406               217.0               50.30             20.16   \n",
      "407               212.0               51.10             18.82   \n",
      "408               201.0               45.49             17.08   \n",
      "409               203.0               44.13             17.04   \n",
      "410               190.0               41.04             15.92   \n",
      "\n",
      "     Bill Width1 (mm)  Bill Width2 (mm)  ...       D15N       D13C  \\\n",
      "59               4.41              1.67  ...   7.176129 -22.273131   \n",
      "125              4.23              2.10  ...   5.771343 -22.642056   \n",
      "146              5.44              2.55  ...  10.756446 -19.051570   \n",
      "147              5.13              2.16  ...   8.966113 -23.841625   \n",
      "204              5.82              3.07  ...   5.470049 -21.098729   \n",
      "225              4.13              1.65  ...   4.241066 -22.278851   \n",
      "226              4.23              1.72  ...   5.817326 -21.814492   \n",
      "227              3.51              1.69  ...   2.777897 -22.180261   \n",
      "228              4.54              1.73  ...   4.209041 -22.123079   \n",
      "229              3.74              1.64  ...   7.045308 -21.733649   \n",
      "230              4.35              1.76  ...   6.934219 -19.817059   \n",
      "231              3.93              1.71  ...   6.798110 -21.591679   \n",
      "278              3.89              2.10  ...  12.643242 -20.888925   \n",
      "279              3.67              3.08  ...  13.251358 -21.878627   \n",
      "280              3.89              2.19  ...  11.445769 -19.239092   \n",
      "333              2.94              1.79  ...   3.824585 -23.037544   \n",
      "334              3.35              1.77  ...   4.602498 -22.246569   \n",
      "335              3.67              1.73  ...  14.115158 -13.250701   \n",
      "336              3.84              1.68  ...  13.647225 -14.389942   \n",
      "339              3.66              1.60  ...  14.986855 -12.350524   \n",
      "352              4.55              1.78  ...  16.344742 -16.622743   \n",
      "397              4.30              2.00  ...   5.806882 -24.715907   \n",
      "398              4.65              2.14  ...  16.523926 -10.564927   \n",
      "399              3.84              1.82  ...  12.919658 -18.579946   \n",
      "400              5.12              2.31  ...  12.446790 -19.091522   \n",
      "401              4.41              2.07  ...  15.183308 -13.009670   \n",
      "402              4.59              2.16  ...  14.974022 -13.585193   \n",
      "404              4.73              2.01  ...  14.179326 -14.438148   \n",
      "405              4.64              2.35  ...  15.037202 -14.098737   \n",
      "406              3.92              2.00  ...  24.564670 -16.359509   \n",
      "407              4.53              2.24  ...  20.325633 -18.555351   \n",
      "408              4.32              2.07  ...   8.607569 -23.480254   \n",
      "409              4.54              2.22  ...   8.995538 -18.589784   \n",
      "410              4.06              1.94  ...   8.284754 -19.868724   \n",
      "\n",
      "     Prct_Nitrogen  Prct_Carbon  C_N_Ratio       ?18O      dDa      dDb  \\\n",
      "59       13.871266    45.905594   3.309402   5.811644  -83.900  -97.100   \n",
      "125      13.725655    45.102260   3.285982   5.276920  -54.300  -64.700   \n",
      "146      13.786684    45.209634   3.279225   3.067845 -127.307 -121.201   \n",
      "147      14.339404    45.443613   3.169142   2.853813 -112.827 -101.081   \n",
      "204      14.389693    46.420923   3.225984  -0.879340 -103.237 -101.040   \n",
      "225      13.868024    45.468678   3.278670   3.616647  -74.800  -85.500   \n",
      "226      13.781997    44.978941   3.263601   4.829858  -79.700  -81.600   \n",
      "227      13.887988    45.466096   3.273771   2.351101  -80.500  -85.600   \n",
      "228      13.237235    45.001250   3.399596   5.032955  -61.700  -68.100   \n",
      "229      13.824699    45.608103   3.299030   2.186486  -71.900  -80.400   \n",
      "230      14.140561    45.386834   3.209691   4.904156  -63.000  -71.000   \n",
      "231      13.541778    44.787564   3.307362   5.835272  -85.300  -97.200   \n",
      "278      13.927523    44.871669   3.221798  10.364215  -57.800  -49.000   \n",
      "279      13.685530    44.140242   3.225322   7.528495  -47.200  -42.000   \n",
      "280      13.777822    44.266260   3.212863   8.972548  -46.000  -49.600   \n",
      "333      13.631865    45.077035   3.306740   5.643212  -81.000  -89.000   \n",
      "334      13.430176    44.786104   3.334737   4.000107  -98.400 -101.100   \n",
      "335      13.451659    44.024461   3.272791   8.079144  -50.200  -61.700   \n",
      "336      13.903557    44.669516   3.212812   6.819496  -56.800  -55.100   \n",
      "339      13.974309    44.950853   3.216678   7.166696  -44.600  -43.000   \n",
      "352      13.906773    45.341298   3.260375   6.552258  -74.500  -69.400   \n",
      "397      13.705250    44.173121   3.223080   3.557636  -91.200  -71.300   \n",
      "398      13.683795    44.007125   3.216003   8.623763  -36.900  -58.600   \n",
      "399      13.531517    44.450881   3.284989   6.635970  -55.100  -58.300   \n",
      "400      14.209451    45.379943   3.193645   6.409341  -75.100  -75.100   \n",
      "401      20.886987    67.028805   3.209118   6.787018  -68.100  -53.500   \n",
      "402      13.736831    44.746665   3.257423   8.295333  -68.500  -57.900   \n",
      "404      14.221473    45.291309   3.184713   7.775801  -81.500  -70.200   \n",
      "405      13.966907    44.993190   3.221414   7.755209  -73.700  -64.300   \n",
      "406      13.879584    44.801546   3.227874   7.276610  -56.000  -36.300   \n",
      "407      13.983906    45.098536   3.225031   6.556972  -72.200  -52.200   \n",
      "408      14.057153    45.334907   3.225042   2.669727 -134.400 -136.700   \n",
      "409      13.865926    44.767480   3.228596   1.129221 -131.600 -136.700   \n",
      "410      13.688523    44.459598   3.247947   0.166062 -139.200 -131.300   \n",
      "\n",
      "         [H]b  Mean_dD  \n",
      "59   5.090000  -90.499  \n",
      "125  5.020000  -59.496  \n",
      "146  5.322666 -124.254  \n",
      "147  5.516017 -106.954  \n",
      "204  3.950280 -102.139  \n",
      "225  5.070000  -80.147  \n",
      "226  5.010000  -80.637  \n",
      "227  4.780000  -83.088  \n",
      "228  4.770000  -64.914  \n",
      "229  4.910000  -76.136  \n",
      "230  5.070000  -66.972  \n",
      "231  4.960000  -91.236  \n",
      "278  5.050000  -53.393  \n",
      "279  4.960000  -44.590  \n",
      "280  5.010000  -47.812  \n",
      "333  5.150000  -85.001  \n",
      "334  5.210000  -99.752  \n",
      "335  4.990000  -55.913  \n",
      "336  4.870000  -55.925  \n",
      "339  5.130000  -43.813  \n",
      "352  5.060000  -71.947  \n",
      "397  4.820000  -81.264  \n",
      "398  5.100000  -47.736  \n",
      "399  5.180000  -56.664  \n",
      "400  5.210000  -75.123  \n",
      "401  5.170000  -60.771  \n",
      "402  4.960000  -63.185  \n",
      "404  5.010000  -75.872  \n",
      "405  5.200000  -69.013  \n",
      "406  5.140000  -46.168  \n",
      "407  5.060000  -62.209  \n",
      "408  5.240000 -135.514  \n",
      "409  5.370000 -134.163  \n",
      "410  4.960000 -135.255  \n",
      "\n",
      "[34 rows x 65 columns]\n"
     ]
    }
   ],
   "source": [
    "print(dataset)"
   ]
  },
  {
   "cell_type": "markdown",
   "metadata": {},
   "source": [
    "Process data to remove string columns and rows with NaN elements"
   ]
  },
  {
   "cell_type": "code",
   "execution_count": 75,
   "metadata": {},
   "outputs": [
    {
     "name": "stdout",
     "output_type": "stream",
     "text": [
      "59     albidiventris\n",
      "125      albiventris\n",
      "146      atacamensis\n",
      "147      atacamensis\n",
      "204        excelsior\n",
      "225           fuscus\n",
      "226           fuscus\n",
      "227           fuscus\n",
      "228           fuscus\n",
      "229           fuscus\n",
      "230           fuscus\n",
      "231           fuscus\n",
      "278           fuscus\n",
      "279           fuscus\n",
      "280           fuscus\n",
      "333        oustaleti\n",
      "334        oustaleti\n",
      "335        oustaleti\n",
      "336        oustaleti\n",
      "339        oustaleti\n",
      "352      patagonicus\n",
      "397      patagonicus\n",
      "398      patagonicus\n",
      "399      patagonicus\n",
      "400      patagonicus\n",
      "401      patagonicus\n",
      "402      patagonicus\n",
      "404      patagonicus\n",
      "405      patagonicus\n",
      "406      patagonicus\n",
      "407      patagonicus\n",
      "408      patagonicus\n",
      "409      patagonicus\n",
      "410      patagonicus\n",
      "Name: Species, dtype: object\n"
     ]
    }
   ],
   "source": [
    "lol = dataset['Species']\n",
    "print(lol)"
   ]
  },
  {
   "cell_type": "code",
   "execution_count": 76,
   "metadata": {},
   "outputs": [
    {
     "name": "stdout",
     "output_type": "stream",
     "text": [
      "Index(['Specimen _Number', 'Species', 'Clade', 'Sex'], dtype='object')\n"
     ]
    },
    {
     "ename": "ValueError",
     "evalue": "Value of 'color' is not the name of a column in 'data_frame'. Expected one of ['Specimen _Number', 'Species', 'Clade', 'Sex', 'Body Mass (g)', 'Body _Length _(mm)', 'Head _Length _(mm)', 'Bill Length (mm)', 'Bill Width1 (mm)', 'Bill Width2 (mm)', 'Bill Width3 (mm)', 'Bill Depth1 (mm)', 'Bill Depth2 (mm)', 'Bill Depth3 (mm)', 'Proximal Bill Cross-Sectional_ Area (mm2)', 'Mid-Length Bill Cross-Sectional Area (mm2)', 'Distal Bill Cross-Sectional Area (mm2)', 'Wing Length (mm)', 'Primary 1 (mm)', 'Primary 2 (mm)', 'Primary 3 (mm)', 'Primary 4 (mm)', 'Primary 5 (mm)', 'Primary 6 (mm)', 'Primary 7 (mm)', 'Primary 8 (mm)', 'Primary 9 (mm)', 'Width of Primary 1', 'Width of Primary 9', 'Tibiotarsus Width (mm)', 'Tarsometatarsus Length (mm)', 'Tarsometatarsus Width (mm)', 'Digit 1 (mm)', 'Digit 2 (mm)', 'Digit 3 (mm)', 'Digit 4 (mm)', 'Ungual 1 (mm)', 'Ungual 2 (mm)', 'Ungual 3 (mm)', 'Ungual 4 (mm)', 'Central rectrix (mm)', 'Lateral Retrices', 'Isometric Size Index', 'Wing Pointedness Index', 'Wing Convexity Index', 'Country', 'Latitute (o South)', 'Longitude (o West)', 'Elevation1', 'Prin1 2', 'Prin2 2', 'Prin3 2', 'Prin4 2', 'Prin5 2', 'Specimen_Number', 'D15N', 'D13C', 'Prct_Nitrogen', 'Prct_Carbon', 'C_N_Ratio', ' ?18O', 'dDa', 'dDb', '[H]b', 'Mean_dD'] but received: color",
     "output_type": "error",
     "traceback": [
      "\u001b[1;31m---------------------------------------------------------------------------\u001b[0m",
      "\u001b[1;31mValueError\u001b[0m                                Traceback (most recent call last)",
      "\u001b[1;32m<ipython-input-76-679aa3768192>\u001b[0m in \u001b[0;36m<module>\u001b[1;34m\u001b[0m\n\u001b[0;32m      5\u001b[0m \u001b[1;31m#features = [\"sepal_width\", \"sepal_length\", \"petal_width\", \"petal_length\"]\u001b[0m\u001b[1;33m\u001b[0m\u001b[1;33m\u001b[0m\u001b[1;33m\u001b[0m\u001b[0m\n\u001b[0;32m      6\u001b[0m \u001b[1;33m\u001b[0m\u001b[0m\n\u001b[1;32m----> 7\u001b[1;33m fig = px.scatter_matrix(\n\u001b[0m\u001b[0;32m      8\u001b[0m     \u001b[0mdataset\u001b[0m\u001b[1;33m,\u001b[0m\u001b[1;33m\u001b[0m\u001b[1;33m\u001b[0m\u001b[0m\n\u001b[0;32m      9\u001b[0m     \u001b[0mdimensions\u001b[0m\u001b[1;33m=\u001b[0m\u001b[0mfeatures\u001b[0m\u001b[1;33m,\u001b[0m\u001b[1;33m\u001b[0m\u001b[1;33m\u001b[0m\u001b[0m\n",
      "\u001b[1;32m~\\anaconda3\\lib\\site-packages\\plotly\\express\\_chart_types.py\u001b[0m in \u001b[0;36mscatter_matrix\u001b[1;34m(data_frame, dimensions, color, symbol, size, hover_name, hover_data, custom_data, category_orders, labels, color_discrete_sequence, color_discrete_map, color_continuous_scale, range_color, color_continuous_midpoint, symbol_sequence, symbol_map, opacity, size_max, title, template, width, height)\u001b[0m\n\u001b[0;32m   1269\u001b[0m     \u001b[0mother\u001b[0m\u001b[1;33m.\u001b[0m\u001b[1;33m\u001b[0m\u001b[1;33m\u001b[0m\u001b[0m\n\u001b[0;32m   1270\u001b[0m     \"\"\"\n\u001b[1;32m-> 1271\u001b[1;33m     return make_figure(\n\u001b[0m\u001b[0;32m   1272\u001b[0m         \u001b[0margs\u001b[0m\u001b[1;33m=\u001b[0m\u001b[0mlocals\u001b[0m\u001b[1;33m(\u001b[0m\u001b[1;33m)\u001b[0m\u001b[1;33m,\u001b[0m \u001b[0mconstructor\u001b[0m\u001b[1;33m=\u001b[0m\u001b[0mgo\u001b[0m\u001b[1;33m.\u001b[0m\u001b[0mSplom\u001b[0m\u001b[1;33m,\u001b[0m \u001b[0mlayout_patch\u001b[0m\u001b[1;33m=\u001b[0m\u001b[0mdict\u001b[0m\u001b[1;33m(\u001b[0m\u001b[0mdragmode\u001b[0m\u001b[1;33m=\u001b[0m\u001b[1;34m\"select\"\u001b[0m\u001b[1;33m)\u001b[0m\u001b[1;33m\u001b[0m\u001b[1;33m\u001b[0m\u001b[0m\n\u001b[0;32m   1273\u001b[0m     )\n",
      "\u001b[1;32m~\\anaconda3\\lib\\site-packages\\plotly\\express\\_core.py\u001b[0m in \u001b[0;36mmake_figure\u001b[1;34m(args, constructor, trace_patch, layout_patch)\u001b[0m\n\u001b[0;32m   1859\u001b[0m     \u001b[0mapply_default_cascade\u001b[0m\u001b[1;33m(\u001b[0m\u001b[0margs\u001b[0m\u001b[1;33m)\u001b[0m\u001b[1;33m\u001b[0m\u001b[1;33m\u001b[0m\u001b[0m\n\u001b[0;32m   1860\u001b[0m \u001b[1;33m\u001b[0m\u001b[0m\n\u001b[1;32m-> 1861\u001b[1;33m     \u001b[0margs\u001b[0m \u001b[1;33m=\u001b[0m \u001b[0mbuild_dataframe\u001b[0m\u001b[1;33m(\u001b[0m\u001b[0margs\u001b[0m\u001b[1;33m,\u001b[0m \u001b[0mconstructor\u001b[0m\u001b[1;33m)\u001b[0m\u001b[1;33m\u001b[0m\u001b[1;33m\u001b[0m\u001b[0m\n\u001b[0m\u001b[0;32m   1862\u001b[0m     \u001b[1;32mif\u001b[0m \u001b[0mconstructor\u001b[0m \u001b[1;32min\u001b[0m \u001b[1;33m[\u001b[0m\u001b[0mgo\u001b[0m\u001b[1;33m.\u001b[0m\u001b[0mTreemap\u001b[0m\u001b[1;33m,\u001b[0m \u001b[0mgo\u001b[0m\u001b[1;33m.\u001b[0m\u001b[0mSunburst\u001b[0m\u001b[1;33m]\u001b[0m \u001b[1;32mand\u001b[0m \u001b[0margs\u001b[0m\u001b[1;33m[\u001b[0m\u001b[1;34m\"path\"\u001b[0m\u001b[1;33m]\u001b[0m \u001b[1;32mis\u001b[0m \u001b[1;32mnot\u001b[0m \u001b[1;32mNone\u001b[0m\u001b[1;33m:\u001b[0m\u001b[1;33m\u001b[0m\u001b[1;33m\u001b[0m\u001b[0m\n\u001b[0;32m   1863\u001b[0m         \u001b[0margs\u001b[0m \u001b[1;33m=\u001b[0m \u001b[0mprocess_dataframe_hierarchy\u001b[0m\u001b[1;33m(\u001b[0m\u001b[0margs\u001b[0m\u001b[1;33m)\u001b[0m\u001b[1;33m\u001b[0m\u001b[1;33m\u001b[0m\u001b[0m\n",
      "\u001b[1;32m~\\anaconda3\\lib\\site-packages\\plotly\\express\\_core.py\u001b[0m in \u001b[0;36mbuild_dataframe\u001b[1;34m(args, constructor)\u001b[0m\n\u001b[0;32m   1375\u001b[0m     \u001b[1;31m# now that things have been prepped, we do the systematic rewriting of `args`\u001b[0m\u001b[1;33m\u001b[0m\u001b[1;33m\u001b[0m\u001b[1;33m\u001b[0m\u001b[0m\n\u001b[0;32m   1376\u001b[0m \u001b[1;33m\u001b[0m\u001b[0m\n\u001b[1;32m-> 1377\u001b[1;33m     df_output, wide_id_vars = process_args_into_dataframe(\n\u001b[0m\u001b[0;32m   1378\u001b[0m         \u001b[0margs\u001b[0m\u001b[1;33m,\u001b[0m \u001b[0mwide_mode\u001b[0m\u001b[1;33m,\u001b[0m \u001b[0mvar_name\u001b[0m\u001b[1;33m,\u001b[0m \u001b[0mvalue_name\u001b[0m\u001b[1;33m\u001b[0m\u001b[1;33m\u001b[0m\u001b[0m\n\u001b[0;32m   1379\u001b[0m     )\n",
      "\u001b[1;32m~\\anaconda3\\lib\\site-packages\\plotly\\express\\_core.py\u001b[0m in \u001b[0;36mprocess_args_into_dataframe\u001b[1;34m(args, wide_mode, var_name, value_name)\u001b[0m\n\u001b[0;32m   1181\u001b[0m                         \u001b[1;32mif\u001b[0m \u001b[0margument\u001b[0m \u001b[1;33m==\u001b[0m \u001b[1;34m\"index\"\u001b[0m\u001b[1;33m:\u001b[0m\u001b[1;33m\u001b[0m\u001b[1;33m\u001b[0m\u001b[0m\n\u001b[0;32m   1182\u001b[0m                             \u001b[0merr_msg\u001b[0m \u001b[1;33m+=\u001b[0m \u001b[1;34m\"\\n To use the index, pass it in directly as `df.index`.\"\u001b[0m\u001b[1;33m\u001b[0m\u001b[1;33m\u001b[0m\u001b[0m\n\u001b[1;32m-> 1183\u001b[1;33m                         \u001b[1;32mraise\u001b[0m \u001b[0mValueError\u001b[0m\u001b[1;33m(\u001b[0m\u001b[0merr_msg\u001b[0m\u001b[1;33m)\u001b[0m\u001b[1;33m\u001b[0m\u001b[1;33m\u001b[0m\u001b[0m\n\u001b[0m\u001b[0;32m   1184\u001b[0m                 \u001b[1;32melif\u001b[0m \u001b[0mlength\u001b[0m \u001b[1;32mand\u001b[0m \u001b[0mlen\u001b[0m\u001b[1;33m(\u001b[0m\u001b[0mdf_input\u001b[0m\u001b[1;33m[\u001b[0m\u001b[0margument\u001b[0m\u001b[1;33m]\u001b[0m\u001b[1;33m)\u001b[0m \u001b[1;33m!=\u001b[0m \u001b[0mlength\u001b[0m\u001b[1;33m:\u001b[0m\u001b[1;33m\u001b[0m\u001b[1;33m\u001b[0m\u001b[0m\n\u001b[0;32m   1185\u001b[0m                     raise ValueError(\n",
      "\u001b[1;31mValueError\u001b[0m: Value of 'color' is not the name of a column in 'data_frame'. Expected one of ['Specimen _Number', 'Species', 'Clade', 'Sex', 'Body Mass (g)', 'Body _Length _(mm)', 'Head _Length _(mm)', 'Bill Length (mm)', 'Bill Width1 (mm)', 'Bill Width2 (mm)', 'Bill Width3 (mm)', 'Bill Depth1 (mm)', 'Bill Depth2 (mm)', 'Bill Depth3 (mm)', 'Proximal Bill Cross-Sectional_ Area (mm2)', 'Mid-Length Bill Cross-Sectional Area (mm2)', 'Distal Bill Cross-Sectional Area (mm2)', 'Wing Length (mm)', 'Primary 1 (mm)', 'Primary 2 (mm)', 'Primary 3 (mm)', 'Primary 4 (mm)', 'Primary 5 (mm)', 'Primary 6 (mm)', 'Primary 7 (mm)', 'Primary 8 (mm)', 'Primary 9 (mm)', 'Width of Primary 1', 'Width of Primary 9', 'Tibiotarsus Width (mm)', 'Tarsometatarsus Length (mm)', 'Tarsometatarsus Width (mm)', 'Digit 1 (mm)', 'Digit 2 (mm)', 'Digit 3 (mm)', 'Digit 4 (mm)', 'Ungual 1 (mm)', 'Ungual 2 (mm)', 'Ungual 3 (mm)', 'Ungual 4 (mm)', 'Central rectrix (mm)', 'Lateral Retrices', 'Isometric Size Index', 'Wing Pointedness Index', 'Wing Convexity Index', 'Country', 'Latitute (o South)', 'Longitude (o West)', 'Elevation1', 'Prin1 2', 'Prin2 2', 'Prin3 2', 'Prin4 2', 'Prin5 2', 'Specimen_Number', 'D15N', 'D13C', 'Prct_Nitrogen', 'Prct_Carbon', 'C_N_Ratio', ' ?18O', 'dDa', 'dDb', '[H]b', 'Mean_dD'] but received: color"
     ]
    }
   ],
   "source": [
    "import plotly.express as px\n",
    "\n",
    "features = dataset.columns[:4]\n",
    "print(features)\n",
    "#features = [\"sepal_width\", \"sepal_length\", \"petal_width\", \"petal_length\"]\n",
    "\n",
    "fig = px.scatter_matrix(\n",
    "    dataset,\n",
    "    dimensions=features,\n",
    "    color=\"color\"\n",
    ")\n",
    "fig.update_traces(diagonal_visible=False)\n",
    "fig.show()"
   ]
  },
  {
   "cell_type": "code",
   "execution_count": 80,
   "metadata": {},
   "outputs": [
    {
     "name": "stdout",
     "output_type": "stream",
     "text": [
      "{'albidiventris': 0, 'albiventris': 1, 'atacamensis': 2, 'excelsior': 3, 'fuscus': 4, 'oustaleti': 5, 'patagonicus': 6}\n"
     ]
    }
   ],
   "source": [
    "new_data =  words_to_numeric(dataset['Species'])\n",
    "print(new_data)\n",
    "dataset['Species'] = dataset['Species'].apply(lambda x: new_data[x.lower()])"
   ]
  },
  {
   "cell_type": "markdown",
   "metadata": {},
   "source": [
    "Standartize values for correct work of algorithm"
   ]
  },
  {
   "cell_type": "code",
   "execution_count": 90,
   "metadata": {},
   "outputs": [],
   "source": [
    "dataset = StandardScaler().fit_transform(dataset)"
   ]
  },
  {
   "cell_type": "code",
   "execution_count": 91,
   "metadata": {},
   "outputs": [
    {
     "name": "stdout",
     "output_type": "stream",
     "text": [
      "(34, 65)\n"
     ]
    }
   ],
   "source": [
    "print(dataset.shape)"
   ]
  },
  {
   "cell_type": "markdown",
   "metadata": {},
   "source": [
    "Use PCA from sklearn.decomposition with 95% information contetnt from original data"
   ]
  },
  {
   "cell_type": "code",
   "execution_count": 92,
   "metadata": {},
   "outputs": [],
   "source": [
    "pca = PCA(.95)\n",
    "principalComponents = pca.fit_transform(dataset)\n",
    "principalDf = pd.DataFrame(data = principalComponents)"
   ]
  },
  {
   "cell_type": "code",
   "execution_count": 93,
   "metadata": {},
   "outputs": [
    {
     "data": {
      "text/plain": [
       "<AxesSubplot:>"
      ]
     },
     "execution_count": 93,
     "metadata": {},
     "output_type": "execute_result"
    },
    {
     "data": {
      "image/png": "[encoded data removed]",
      "text/plain": [
       "<Figure size 432x288 with 1 Axes>"
      ]
     },
     "metadata": {
      "needs_background": "light"
     },
     "output_type": "display_data"
    }
   ],
   "source": [
    "principalDf.plot()"
   ]
  },
  {
   "cell_type": "markdown",
   "metadata": {},
   "source": [
    "Percentage of variance explained by each of the selected components"
   ]
  },
  {
   "cell_type": "code",
   "execution_count": 89,
   "metadata": {},
   "outputs": [
    {
     "name": "stdout",
     "output_type": "stream",
     "text": [
      "[0.40325797 0.15644432 0.09504684 0.06354329 0.04455785 0.03704055\n",
      " 0.0319005  0.02922428 0.02469029 0.01894229 0.01481768 0.01232795\n",
      " 0.00980449 0.00890237]\n"
     ]
    }
   ],
   "source": [
    "print(pca.explained_variance_ratio_)"
   ]
  },
  {
   "cell_type": "code",
   "execution_count": null,
   "metadata": {},
   "outputs": [],
   "source": []
  },
  {
   "cell_type": "code",
   "execution_count": null,
   "metadata": {},
   "outputs": [],
   "source": []
  }
 ],
 "metadata": {
  "kernelspec": {
   "display_name": "Python 3",
   "language": "python",
   "name": "python3"
  },
  "language_info": {
   "codemirror_mode": {
    "name": "ipython",
    "version": 3
   },
   "file_extension": ".py",
   "mimetype": "text/x-python",
   "name": "python",
   "nbconvert_exporter": "python",
   "pygments_lexer": "ipython3",
   "version": "3.8.5"
  }
 },
 "nbformat": 4,
 "nbformat_minor": 5
}
