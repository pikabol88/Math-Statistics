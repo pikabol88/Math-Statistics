{
 "cells": [
  {
   "cell_type": "code",
   "execution_count": 310,
   "metadata": {},
   "outputs": [],
   "source": [
    "import pandas as pd\n",
    "import numpy as np\n",
    "from sklearn.preprocessing import StandardScaler\n",
    "from sklearn.decomposition import PCA\n",
    "import plotly.express as px"
   ]
  },
  {
   "cell_type": "markdown",
   "metadata": {},
   "source": [
    "Load dataset from .csv file"
   ]
  },
  {
   "cell_type": "code",
   "execution_count": 311,
   "metadata": {},
   "outputs": [],
   "source": [
    "dataset = pd.read_csv(\"data.csv\", encoding='latin-1')"
   ]
  },
  {
   "cell_type": "markdown",
   "metadata": {},
   "source": [
    "Display data"
   ]
  },
  {
   "cell_type": "code",
   "execution_count": 312,
   "metadata": {},
   "outputs": [
    {
     "data": {
      "text/html": [
       "<div>\n",
       "<style scoped>\n",
       "    .dataframe tbody tr th:only-of-type {\n",
       "        vertical-align: middle;\n",
       "    }\n",
       "\n",
       "    .dataframe tbody tr th {\n",
       "        vertical-align: top;\n",
       "    }\n",
       "\n",
       "    .dataframe thead th {\n",
       "        text-align: right;\n",
       "    }\n",
       "</style>\n",
       "<table border=\"1\" class=\"dataframe\">\n",
       "  <thead>\n",
       "    <tr style=\"text-align: right;\">\n",
       "      <th></th>\n",
       "      <th>Museum</th>\n",
       "      <th>Specimen _Number</th>\n",
       "      <th>Species</th>\n",
       "      <th>Subspecies</th>\n",
       "      <th>Clade</th>\n",
       "      <th>Sex</th>\n",
       "      <th>Elevation</th>\n",
       "      <th>Body Mass (g)</th>\n",
       "      <th>Body _Length _(mm)</th>\n",
       "      <th>Head _Length _(mm)</th>\n",
       "      <th>Bill Length (mm)</th>\n",
       "      <th>Bill Width1 (mm)</th>\n",
       "      <th>Bill Width2 (mm)</th>\n",
       "      <th>Bill Width3 (mm)</th>\n",
       "      <th>Bill Depth1 (mm)</th>\n",
       "      <th>Bill Depth2 (mm)</th>\n",
       "      <th>Bill Depth3 (mm)</th>\n",
       "      <th>Proximal Bill Cross-Sectional_ Area (mm2)</th>\n",
       "      <th>Mid-Length Bill Cross-Sectional Area (mm2)</th>\n",
       "      <th>Distal Bill Cross-Sectional Area (mm2)</th>\n",
       "      <th>Wing Length (mm)</th>\n",
       "      <th>Primary 1 (mm)</th>\n",
       "      <th>Primary 2 (mm)</th>\n",
       "      <th>Primary 3 (mm)</th>\n",
       "      <th>Primary 4 (mm)</th>\n",
       "      <th>Primary 5 (mm)</th>\n",
       "      <th>Primary 6 (mm)</th>\n",
       "      <th>Primary 7 (mm)</th>\n",
       "      <th>Primary 8 (mm)</th>\n",
       "      <th>Primary 9 (mm)</th>\n",
       "      <th>Width of Primary 1</th>\n",
       "      <th>Width of Primary 9</th>\n",
       "      <th>Tibiotarsus Width (mm)</th>\n",
       "      <th>Tarsometatarsus Length (mm)</th>\n",
       "      <th>Tarsometatarsus Width (mm)</th>\n",
       "      <th>Digit 1 (mm)</th>\n",
       "      <th>Digit 2 (mm)</th>\n",
       "      <th>Digit 3 (mm)</th>\n",
       "      <th>Digit 4 (mm)</th>\n",
       "      <th>Ungual 1 (mm)</th>\n",
       "      <th>Ungual 2 (mm)</th>\n",
       "      <th>Ungual 3 (mm)</th>\n",
       "      <th>Ungual 4 (mm)</th>\n",
       "      <th>Central rectrix (mm)</th>\n",
       "      <th>Lateral Retrices</th>\n",
       "      <th>Isometric Size Index</th>\n",
       "      <th>Wing Pointedness Index</th>\n",
       "      <th>Wing Convexity Index</th>\n",
       "      <th>Country</th>\n",
       "      <th>State/Province</th>\n",
       "      <th>Region</th>\n",
       "      <th>Locality</th>\n",
       "      <th>Preparation</th>\n",
       "      <th>Latitute (o South)</th>\n",
       "      <th>Longitude (o West)</th>\n",
       "      <th>Elevation1</th>\n",
       "      <th>Prin1 2</th>\n",
       "      <th>Prin2 2</th>\n",
       "      <th>Prin3 2</th>\n",
       "      <th>Prin4 2</th>\n",
       "      <th>Prin5 2</th>\n",
       "      <th>Species.1</th>\n",
       "      <th>Museum.1</th>\n",
       "      <th>Specimen_Number</th>\n",
       "      <th>D15N</th>\n",
       "      <th>D13C</th>\n",
       "      <th>Prct_Nitrogen</th>\n",
       "      <th>Prct_Carbon</th>\n",
       "      <th>C_N_Ratio</th>\n",
       "      <th>?18O</th>\n",
       "      <th>Species.2</th>\n",
       "      <th>Museum.2</th>\n",
       "      <th>Specimen_Number.1</th>\n",
       "      <th>Isotope_Samp_ID</th>\n",
       "      <th>dDa</th>\n",
       "      <th>[H]a</th>\n",
       "      <th>Unnamed: 76</th>\n",
       "      <th>dDb</th>\n",
       "      <th>[H]b</th>\n",
       "      <th>Mean_dD</th>\n",
       "    </tr>\n",
       "  </thead>\n",
       "  <tbody>\n",
       "    <tr>\n",
       "      <th>0</th>\n",
       "      <td>AMNH</td>\n",
       "      <td>100743.0</td>\n",
       "      <td>albidiventris</td>\n",
       "      <td>NaN</td>\n",
       "      <td>Small</td>\n",
       "      <td>female</td>\n",
       "      <td>3000 m</td>\n",
       "      <td>NaN</td>\n",
       "      <td>199.0</td>\n",
       "      <td>40.70</td>\n",
       "      <td>16.82</td>\n",
       "      <td>4.78</td>\n",
       "      <td>2.30</td>\n",
       "      <td>1.09</td>\n",
       "      <td>4.59</td>\n",
       "      <td>3.92</td>\n",
       "      <td>1.16</td>\n",
       "      <td>68.927171</td>\n",
       "      <td>28.324599</td>\n",
       "      <td>3.972230</td>\n",
       "      <td>97.02</td>\n",
       "      <td>58.75</td>\n",
       "      <td>72.62</td>\n",
       "      <td>74.27</td>\n",
       "      <td>74.08</td>\n",
       "      <td>73.35</td>\n",
       "      <td>69.17</td>\n",
       "      <td>63.52</td>\n",
       "      <td>58.89</td>\n",
       "      <td>57.37</td>\n",
       "      <td>7.09</td>\n",
       "      <td>10.47</td>\n",
       "      <td>1.94</td>\n",
       "      <td>28.24</td>\n",
       "      <td>1.81</td>\n",
       "      <td>21.64</td>\n",
       "      <td>17.16</td>\n",
       "      <td>23.80</td>\n",
       "      <td>15.83</td>\n",
       "      <td>9.36</td>\n",
       "      <td>4.94</td>\n",
       "      <td>6.09</td>\n",
       "      <td>4.87</td>\n",
       "      <td>73.00</td>\n",
       "      <td>63.36</td>\n",
       "      <td>-0.920044</td>\n",
       "      <td>1.156662</td>\n",
       "      <td>0.795454</td>\n",
       "      <td>Venezuela</td>\n",
       "      <td>Merida</td>\n",
       "      <td>NaN</td>\n",
       "      <td>near Quintero</td>\n",
       "      <td>NaN</td>\n",
       "      <td>8.8280</td>\n",
       "      <td>70.693</td>\n",
       "      <td>3000.0</td>\n",
       "      <td>-0.659808</td>\n",
       "      <td>0.068858</td>\n",
       "      <td>-0.564259</td>\n",
       "      <td>-0.399028</td>\n",
       "      <td>0.401902</td>\n",
       "      <td>het</td>\n",
       "      <td>AMNH</td>\n",
       "      <td>100743</td>\n",
       "      <td>8.657597</td>\n",
       "      <td>-20.282404</td>\n",
       "      <td>13.768824</td>\n",
       "      <td>45.368939</td>\n",
       "      <td>3.295048</td>\n",
       "      <td>4.628465</td>\n",
       "      <td>het</td>\n",
       "      <td>AMNH</td>\n",
       "      <td>100743.0</td>\n",
       "      <td>het-A100743a</td>\n",
       "      <td>-61.7</td>\n",
       "      <td>5.18</td>\n",
       "      <td>het-a100743b</td>\n",
       "      <td>-67.200</td>\n",
       "      <td>5.090000</td>\n",
       "      <td>-64.477</td>\n",
       "    </tr>\n",
       "    <tr>\n",
       "      <th>1</th>\n",
       "      <td>AMNH</td>\n",
       "      <td>124466.0</td>\n",
       "      <td>albidiventris</td>\n",
       "      <td>NaN</td>\n",
       "      <td>Small</td>\n",
       "      <td>male</td>\n",
       "      <td>14,000 Ft.</td>\n",
       "      <td>NaN</td>\n",
       "      <td>170.0</td>\n",
       "      <td>39.55</td>\n",
       "      <td>17.14</td>\n",
       "      <td>4.85</td>\n",
       "      <td>1.81</td>\n",
       "      <td>1.04</td>\n",
       "      <td>3.88</td>\n",
       "      <td>3.15</td>\n",
       "      <td>1.03</td>\n",
       "      <td>59.118491</td>\n",
       "      <td>17.911791</td>\n",
       "      <td>3.365274</td>\n",
       "      <td>97.31</td>\n",
       "      <td>59.51</td>\n",
       "      <td>73.50</td>\n",
       "      <td>74.40</td>\n",
       "      <td>75.73</td>\n",
       "      <td>73.23</td>\n",
       "      <td>67.89</td>\n",
       "      <td>63.21</td>\n",
       "      <td>59.38</td>\n",
       "      <td>56.62</td>\n",
       "      <td>6.60</td>\n",
       "      <td>11.05</td>\n",
       "      <td>1.72</td>\n",
       "      <td>29.99</td>\n",
       "      <td>1.65</td>\n",
       "      <td>18.07</td>\n",
       "      <td>15.59</td>\n",
       "      <td>21.38</td>\n",
       "      <td>17.12</td>\n",
       "      <td>7.96</td>\n",
       "      <td>4.73</td>\n",
       "      <td>5.82</td>\n",
       "      <td>5.19</td>\n",
       "      <td>65.65</td>\n",
       "      <td>59.39</td>\n",
       "      <td>-0.913466</td>\n",
       "      <td>1.073165</td>\n",
       "      <td>0.778179</td>\n",
       "      <td>Ecuador</td>\n",
       "      <td>NaN</td>\n",
       "      <td>NaN</td>\n",
       "      <td>Mt. Chimborazo</td>\n",
       "      <td>Skin: Whole; Skeleton: Partial: trunk</td>\n",
       "      <td>-2.0167</td>\n",
       "      <td>78.733</td>\n",
       "      <td>4267.0</td>\n",
       "      <td>-2.235542</td>\n",
       "      <td>-1.127992</td>\n",
       "      <td>-0.629253</td>\n",
       "      <td>-0.119423</td>\n",
       "      <td>0.473132</td>\n",
       "      <td>albd</td>\n",
       "      <td>AMNH</td>\n",
       "      <td>124466</td>\n",
       "      <td>6.189624</td>\n",
       "      <td>-21.047462</td>\n",
       "      <td>13.677862</td>\n",
       "      <td>44.803525</td>\n",
       "      <td>3.275623</td>\n",
       "      <td>4.811276</td>\n",
       "      <td>albd</td>\n",
       "      <td>AMNH</td>\n",
       "      <td>124466.0</td>\n",
       "      <td>alb-A124466a</td>\n",
       "      <td>-76.8</td>\n",
       "      <td>5.35</td>\n",
       "      <td>albd-a124466b</td>\n",
       "      <td>-80.500</td>\n",
       "      <td>4.930000</td>\n",
       "      <td>-78.649</td>\n",
       "    </tr>\n",
       "    <tr>\n",
       "      <th>2</th>\n",
       "      <td>NaN</td>\n",
       "      <td>NaN</td>\n",
       "      <td>NaN</td>\n",
       "      <td>NaN</td>\n",
       "      <td>Small</td>\n",
       "      <td>NaN</td>\n",
       "      <td>NaN</td>\n",
       "      <td>NaN</td>\n",
       "      <td>NaN</td>\n",
       "      <td>NaN</td>\n",
       "      <td>NaN</td>\n",
       "      <td>NaN</td>\n",
       "      <td>NaN</td>\n",
       "      <td>NaN</td>\n",
       "      <td>NaN</td>\n",
       "      <td>NaN</td>\n",
       "      <td>NaN</td>\n",
       "      <td>NaN</td>\n",
       "      <td>NaN</td>\n",
       "      <td>NaN</td>\n",
       "      <td>NaN</td>\n",
       "      <td>NaN</td>\n",
       "      <td>NaN</td>\n",
       "      <td>NaN</td>\n",
       "      <td>NaN</td>\n",
       "      <td>NaN</td>\n",
       "      <td>NaN</td>\n",
       "      <td>NaN</td>\n",
       "      <td>NaN</td>\n",
       "      <td>NaN</td>\n",
       "      <td>NaN</td>\n",
       "      <td>NaN</td>\n",
       "      <td>NaN</td>\n",
       "      <td>NaN</td>\n",
       "      <td>NaN</td>\n",
       "      <td>NaN</td>\n",
       "      <td>NaN</td>\n",
       "      <td>NaN</td>\n",
       "      <td>NaN</td>\n",
       "      <td>NaN</td>\n",
       "      <td>NaN</td>\n",
       "      <td>NaN</td>\n",
       "      <td>NaN</td>\n",
       "      <td>NaN</td>\n",
       "      <td>NaN</td>\n",
       "      <td>NaN</td>\n",
       "      <td>NaN</td>\n",
       "      <td>NaN</td>\n",
       "      <td>NaN</td>\n",
       "      <td>NaN</td>\n",
       "      <td>NaN</td>\n",
       "      <td>NaN</td>\n",
       "      <td>NaN</td>\n",
       "      <td>NaN</td>\n",
       "      <td>NaN</td>\n",
       "      <td>NaN</td>\n",
       "      <td>NaN</td>\n",
       "      <td>NaN</td>\n",
       "      <td>NaN</td>\n",
       "      <td>NaN</td>\n",
       "      <td>NaN</td>\n",
       "      <td>albd</td>\n",
       "      <td>AMNH</td>\n",
       "      <td>154953</td>\n",
       "      <td>7.732858</td>\n",
       "      <td>-21.400414</td>\n",
       "      <td>13.534914</td>\n",
       "      <td>44.497601</td>\n",
       "      <td>3.287616</td>\n",
       "      <td>1.482136</td>\n",
       "      <td>albd</td>\n",
       "      <td>AMNH</td>\n",
       "      <td>154953.0</td>\n",
       "      <td>alb-A1154953a</td>\n",
       "      <td>-96.7</td>\n",
       "      <td>4.97</td>\n",
       "      <td>albd-a154953b</td>\n",
       "      <td>-96.700</td>\n",
       "      <td>4.820000</td>\n",
       "      <td>-96.701</td>\n",
       "    </tr>\n",
       "    <tr>\n",
       "      <th>3</th>\n",
       "      <td>AMNH</td>\n",
       "      <td>154955.0</td>\n",
       "      <td>albidiventris</td>\n",
       "      <td>NaN</td>\n",
       "      <td>Small</td>\n",
       "      <td>female</td>\n",
       "      <td>3600-4000 m</td>\n",
       "      <td>NaN</td>\n",
       "      <td>167.0</td>\n",
       "      <td>40.83</td>\n",
       "      <td>13.54</td>\n",
       "      <td>4.11</td>\n",
       "      <td>1.61</td>\n",
       "      <td>0.96</td>\n",
       "      <td>3.68</td>\n",
       "      <td>3.12</td>\n",
       "      <td>1.32</td>\n",
       "      <td>47.515961</td>\n",
       "      <td>15.780848</td>\n",
       "      <td>3.981026</td>\n",
       "      <td>105.80</td>\n",
       "      <td>63.79</td>\n",
       "      <td>78.96</td>\n",
       "      <td>79.00</td>\n",
       "      <td>76.50</td>\n",
       "      <td>75.37</td>\n",
       "      <td>67.74</td>\n",
       "      <td>61.35</td>\n",
       "      <td>58.38</td>\n",
       "      <td>56.57</td>\n",
       "      <td>7.15</td>\n",
       "      <td>11.92</td>\n",
       "      <td>1.63</td>\n",
       "      <td>30.19</td>\n",
       "      <td>1.64</td>\n",
       "      <td>19.13</td>\n",
       "      <td>16.06</td>\n",
       "      <td>24.09</td>\n",
       "      <td>16.72</td>\n",
       "      <td>8.33</td>\n",
       "      <td>4.95</td>\n",
       "      <td>5.99</td>\n",
       "      <td>5.23</td>\n",
       "      <td>67.21</td>\n",
       "      <td>62.45</td>\n",
       "      <td>-0.875322</td>\n",
       "      <td>0.578194</td>\n",
       "      <td>1.069232</td>\n",
       "      <td>Ecuador</td>\n",
       "      <td>NaN</td>\n",
       "      <td>NaN</td>\n",
       "      <td>Antisana</td>\n",
       "      <td>Skin: Whole; Skeleton: Partial: trunk</td>\n",
       "      <td>-2.8830</td>\n",
       "      <td>78.983</td>\n",
       "      <td>3800.0</td>\n",
       "      <td>-2.177757</td>\n",
       "      <td>-0.157423</td>\n",
       "      <td>-0.011028</td>\n",
       "      <td>0.274117</td>\n",
       "      <td>0.195322</td>\n",
       "      <td>albd</td>\n",
       "      <td>AMNH</td>\n",
       "      <td>154955</td>\n",
       "      <td>7.807918</td>\n",
       "      <td>-20.964647</td>\n",
       "      <td>13.687415</td>\n",
       "      <td>44.716446</td>\n",
       "      <td>3.266975</td>\n",
       "      <td>2.116600</td>\n",
       "      <td>albd</td>\n",
       "      <td>AMNH</td>\n",
       "      <td>154955.0</td>\n",
       "      <td>alb-A154955a</td>\n",
       "      <td>-95.7</td>\n",
       "      <td>5.80</td>\n",
       "      <td>albd-a154955b</td>\n",
       "      <td>-96.700</td>\n",
       "      <td>4.890000</td>\n",
       "      <td>-96.220</td>\n",
       "    </tr>\n",
       "    <tr>\n",
       "      <th>4</th>\n",
       "      <td>AMNH</td>\n",
       "      <td>167291.0</td>\n",
       "      <td>albidiventris</td>\n",
       "      <td>NaN</td>\n",
       "      <td>Small</td>\n",
       "      <td>female</td>\n",
       "      <td>3100 m</td>\n",
       "      <td>NaN</td>\n",
       "      <td>167.0</td>\n",
       "      <td>36.78</td>\n",
       "      <td>15.73</td>\n",
       "      <td>4.28</td>\n",
       "      <td>1.58</td>\n",
       "      <td>0.80</td>\n",
       "      <td>4.08</td>\n",
       "      <td>3.08</td>\n",
       "      <td>0.97</td>\n",
       "      <td>54.859748</td>\n",
       "      <td>15.288246</td>\n",
       "      <td>2.437876</td>\n",
       "      <td>93.67</td>\n",
       "      <td>57.03</td>\n",
       "      <td>69.30</td>\n",
       "      <td>70.29</td>\n",
       "      <td>70.29</td>\n",
       "      <td>68.19</td>\n",
       "      <td>60.73</td>\n",
       "      <td>55.87</td>\n",
       "      <td>53.60</td>\n",
       "      <td>52.96</td>\n",
       "      <td>6.52</td>\n",
       "      <td>12.41</td>\n",
       "      <td>1.67</td>\n",
       "      <td>29.95</td>\n",
       "      <td>1.48</td>\n",
       "      <td>19.38</td>\n",
       "      <td>16.17</td>\n",
       "      <td>23.04</td>\n",
       "      <td>15.61</td>\n",
       "      <td>8.66</td>\n",
       "      <td>4.88</td>\n",
       "      <td>6.41</td>\n",
       "      <td>4.91</td>\n",
       "      <td>65.23</td>\n",
       "      <td>60.86</td>\n",
       "      <td>-1.041694</td>\n",
       "      <td>0.722847</td>\n",
       "      <td>0.971886</td>\n",
       "      <td>Ecuador</td>\n",
       "      <td>NaN</td>\n",
       "      <td>NaN</td>\n",
       "      <td>Bestion</td>\n",
       "      <td>Skin: Whole</td>\n",
       "      <td>-3.4170</td>\n",
       "      <td>-79.017</td>\n",
       "      <td>3100.0</td>\n",
       "      <td>-2.369276</td>\n",
       "      <td>0.048209</td>\n",
       "      <td>-0.387181</td>\n",
       "      <td>-0.182293</td>\n",
       "      <td>0.238843</td>\n",
       "      <td>albd</td>\n",
       "      <td>AMNH</td>\n",
       "      <td>167291</td>\n",
       "      <td>9.184018</td>\n",
       "      <td>-19.973817</td>\n",
       "      <td>14.176860</td>\n",
       "      <td>45.503651</td>\n",
       "      <td>3.209713</td>\n",
       "      <td>6.751228</td>\n",
       "      <td>albd</td>\n",
       "      <td>AMNH</td>\n",
       "      <td>167291.0</td>\n",
       "      <td>alb-A167291a</td>\n",
       "      <td>-53.6</td>\n",
       "      <td>5.69</td>\n",
       "      <td>albd-a167291b</td>\n",
       "      <td>-62.700</td>\n",
       "      <td>5.270000</td>\n",
       "      <td>-58.128</td>\n",
       "    </tr>\n",
       "    <tr>\n",
       "      <th>...</th>\n",
       "      <td>...</td>\n",
       "      <td>...</td>\n",
       "      <td>...</td>\n",
       "      <td>...</td>\n",
       "      <td>...</td>\n",
       "      <td>...</td>\n",
       "      <td>...</td>\n",
       "      <td>...</td>\n",
       "      <td>...</td>\n",
       "      <td>...</td>\n",
       "      <td>...</td>\n",
       "      <td>...</td>\n",
       "      <td>...</td>\n",
       "      <td>...</td>\n",
       "      <td>...</td>\n",
       "      <td>...</td>\n",
       "      <td>...</td>\n",
       "      <td>...</td>\n",
       "      <td>...</td>\n",
       "      <td>...</td>\n",
       "      <td>...</td>\n",
       "      <td>...</td>\n",
       "      <td>...</td>\n",
       "      <td>...</td>\n",
       "      <td>...</td>\n",
       "      <td>...</td>\n",
       "      <td>...</td>\n",
       "      <td>...</td>\n",
       "      <td>...</td>\n",
       "      <td>...</td>\n",
       "      <td>...</td>\n",
       "      <td>...</td>\n",
       "      <td>...</td>\n",
       "      <td>...</td>\n",
       "      <td>...</td>\n",
       "      <td>...</td>\n",
       "      <td>...</td>\n",
       "      <td>...</td>\n",
       "      <td>...</td>\n",
       "      <td>...</td>\n",
       "      <td>...</td>\n",
       "      <td>...</td>\n",
       "      <td>...</td>\n",
       "      <td>...</td>\n",
       "      <td>...</td>\n",
       "      <td>...</td>\n",
       "      <td>...</td>\n",
       "      <td>...</td>\n",
       "      <td>...</td>\n",
       "      <td>...</td>\n",
       "      <td>...</td>\n",
       "      <td>...</td>\n",
       "      <td>...</td>\n",
       "      <td>...</td>\n",
       "      <td>...</td>\n",
       "      <td>...</td>\n",
       "      <td>...</td>\n",
       "      <td>...</td>\n",
       "      <td>...</td>\n",
       "      <td>...</td>\n",
       "      <td>...</td>\n",
       "      <td>...</td>\n",
       "      <td>...</td>\n",
       "      <td>...</td>\n",
       "      <td>...</td>\n",
       "      <td>...</td>\n",
       "      <td>...</td>\n",
       "      <td>...</td>\n",
       "      <td>...</td>\n",
       "      <td>...</td>\n",
       "      <td>...</td>\n",
       "      <td>...</td>\n",
       "      <td>...</td>\n",
       "      <td>...</td>\n",
       "      <td>...</td>\n",
       "      <td>...</td>\n",
       "      <td>...</td>\n",
       "      <td>...</td>\n",
       "      <td>...</td>\n",
       "      <td>...</td>\n",
       "    </tr>\n",
       "    <tr>\n",
       "      <th>434</th>\n",
       "      <td>LSUMZ</td>\n",
       "      <td>179637.0</td>\n",
       "      <td>taczanowskii</td>\n",
       "      <td>NaN</td>\n",
       "      <td>Large</td>\n",
       "      <td>F</td>\n",
       "      <td>NaN</td>\n",
       "      <td>67.5</td>\n",
       "      <td>234.0</td>\n",
       "      <td>50.64</td>\n",
       "      <td>17.50</td>\n",
       "      <td>5.40</td>\n",
       "      <td>2.26</td>\n",
       "      <td>1.02</td>\n",
       "      <td>5.57</td>\n",
       "      <td>4.32</td>\n",
       "      <td>0.78</td>\n",
       "      <td>94.492824</td>\n",
       "      <td>30.671997</td>\n",
       "      <td>2.499451</td>\n",
       "      <td>116.62</td>\n",
       "      <td>68.91</td>\n",
       "      <td>85.05</td>\n",
       "      <td>87.56</td>\n",
       "      <td>88.23</td>\n",
       "      <td>85.84</td>\n",
       "      <td>81.26</td>\n",
       "      <td>75.25</td>\n",
       "      <td>71.73</td>\n",
       "      <td>69.36</td>\n",
       "      <td>8.39</td>\n",
       "      <td>12.83</td>\n",
       "      <td>2.76</td>\n",
       "      <td>33.44</td>\n",
       "      <td>2.14</td>\n",
       "      <td>19.51</td>\n",
       "      <td>20.43</td>\n",
       "      <td>28.91</td>\n",
       "      <td>22.17</td>\n",
       "      <td>9.32</td>\n",
       "      <td>7.26</td>\n",
       "      <td>8.06</td>\n",
       "      <td>6.63</td>\n",
       "      <td>110.18</td>\n",
       "      <td>95.19</td>\n",
       "      <td>-0.651317</td>\n",
       "      <td>1.261048</td>\n",
       "      <td>0.608337</td>\n",
       "      <td>Peru</td>\n",
       "      <td>Lima Dept.</td>\n",
       "      <td>NaN</td>\n",
       "      <td>Playa San Antonio, ca. 13 km SE Chilca</td>\n",
       "      <td>Study Skin</td>\n",
       "      <td>NaN</td>\n",
       "      <td>NaN</td>\n",
       "      <td>0.0</td>\n",
       "      <td>6.507899</td>\n",
       "      <td>-2.404388</td>\n",
       "      <td>0.696979</td>\n",
       "      <td>1.173268</td>\n",
       "      <td>-1.294495</td>\n",
       "      <td>NaN</td>\n",
       "      <td>NaN</td>\n",
       "      <td>NaN</td>\n",
       "      <td>NaN</td>\n",
       "      <td>NaN</td>\n",
       "      <td>NaN</td>\n",
       "      <td>NaN</td>\n",
       "      <td>NaN</td>\n",
       "      <td>NaN</td>\n",
       "      <td>NaN</td>\n",
       "      <td>NaN</td>\n",
       "      <td>NaN</td>\n",
       "      <td>NaN</td>\n",
       "      <td>NaN</td>\n",
       "      <td>NaN</td>\n",
       "      <td>NaN</td>\n",
       "      <td>NaN</td>\n",
       "      <td>NaN</td>\n",
       "      <td>NaN</td>\n",
       "    </tr>\n",
       "    <tr>\n",
       "      <th>435</th>\n",
       "      <td>LSUMZ</td>\n",
       "      <td>179638.0</td>\n",
       "      <td>taczanowskii</td>\n",
       "      <td>NaN</td>\n",
       "      <td>Large</td>\n",
       "      <td>M</td>\n",
       "      <td>NaN</td>\n",
       "      <td>73.0</td>\n",
       "      <td>241.0</td>\n",
       "      <td>54.74</td>\n",
       "      <td>19.10</td>\n",
       "      <td>5.42</td>\n",
       "      <td>2.28</td>\n",
       "      <td>1.10</td>\n",
       "      <td>5.70</td>\n",
       "      <td>5.27</td>\n",
       "      <td>1.22</td>\n",
       "      <td>97.056363</td>\n",
       "      <td>37.748121</td>\n",
       "      <td>4.216017</td>\n",
       "      <td>112.06</td>\n",
       "      <td>68.10</td>\n",
       "      <td>67.51</td>\n",
       "      <td>87.18</td>\n",
       "      <td>87.29</td>\n",
       "      <td>87.00</td>\n",
       "      <td>82.61</td>\n",
       "      <td>78.89</td>\n",
       "      <td>75.91</td>\n",
       "      <td>76.73</td>\n",
       "      <td>9.35</td>\n",
       "      <td>13.68</td>\n",
       "      <td>3.07</td>\n",
       "      <td>29.97</td>\n",
       "      <td>2.00</td>\n",
       "      <td>18.94</td>\n",
       "      <td>19.56</td>\n",
       "      <td>28.60</td>\n",
       "      <td>22.29</td>\n",
       "      <td>9.69</td>\n",
       "      <td>7.28</td>\n",
       "      <td>8.11</td>\n",
       "      <td>7.22</td>\n",
       "      <td>92.80</td>\n",
       "      <td>75.84</td>\n",
       "      <td>-0.675659</td>\n",
       "      <td>1.971350</td>\n",
       "      <td>-0.208247</td>\n",
       "      <td>Peru</td>\n",
       "      <td>Arequipa Dept.</td>\n",
       "      <td>NaN</td>\n",
       "      <td>Tanaka</td>\n",
       "      <td>Study skin &amp; spread</td>\n",
       "      <td>NaN</td>\n",
       "      <td>NaN</td>\n",
       "      <td>0.0</td>\n",
       "      <td>6.177530</td>\n",
       "      <td>-2.588698</td>\n",
       "      <td>-0.879000</td>\n",
       "      <td>-0.750981</td>\n",
       "      <td>0.105693</td>\n",
       "      <td>NaN</td>\n",
       "      <td>NaN</td>\n",
       "      <td>NaN</td>\n",
       "      <td>NaN</td>\n",
       "      <td>NaN</td>\n",
       "      <td>NaN</td>\n",
       "      <td>NaN</td>\n",
       "      <td>NaN</td>\n",
       "      <td>NaN</td>\n",
       "      <td>NaN</td>\n",
       "      <td>NaN</td>\n",
       "      <td>NaN</td>\n",
       "      <td>NaN</td>\n",
       "      <td>NaN</td>\n",
       "      <td>NaN</td>\n",
       "      <td>NaN</td>\n",
       "      <td>NaN</td>\n",
       "      <td>NaN</td>\n",
       "      <td>NaN</td>\n",
       "    </tr>\n",
       "    <tr>\n",
       "      <th>436</th>\n",
       "      <td>LSUMZ</td>\n",
       "      <td>181808.0</td>\n",
       "      <td>taczanowskii</td>\n",
       "      <td>NaN</td>\n",
       "      <td>Large</td>\n",
       "      <td>M</td>\n",
       "      <td>NaN</td>\n",
       "      <td>62.4</td>\n",
       "      <td>235.0</td>\n",
       "      <td>51.19</td>\n",
       "      <td>16.68</td>\n",
       "      <td>5.07</td>\n",
       "      <td>2.11</td>\n",
       "      <td>0.88</td>\n",
       "      <td>5.10</td>\n",
       "      <td>4.39</td>\n",
       "      <td>1.46</td>\n",
       "      <td>81.232161</td>\n",
       "      <td>29.100259</td>\n",
       "      <td>4.036318</td>\n",
       "      <td>111.93</td>\n",
       "      <td>66.60</td>\n",
       "      <td>79.89</td>\n",
       "      <td>82.52</td>\n",
       "      <td>82.06</td>\n",
       "      <td>81.39</td>\n",
       "      <td>75.00</td>\n",
       "      <td>68.74</td>\n",
       "      <td>65.24</td>\n",
       "      <td>63.68</td>\n",
       "      <td>8.69</td>\n",
       "      <td>13.45</td>\n",
       "      <td>2.49</td>\n",
       "      <td>31.27</td>\n",
       "      <td>1.85</td>\n",
       "      <td>18.20</td>\n",
       "      <td>19.58</td>\n",
       "      <td>27.69</td>\n",
       "      <td>22.27</td>\n",
       "      <td>9.45</td>\n",
       "      <td>6.81</td>\n",
       "      <td>7.69</td>\n",
       "      <td>6.17</td>\n",
       "      <td>85.02</td>\n",
       "      <td>72.51</td>\n",
       "      <td>-0.760823</td>\n",
       "      <td>1.020037</td>\n",
       "      <td>0.703560</td>\n",
       "      <td>Peru</td>\n",
       "      <td>Lima Dept.</td>\n",
       "      <td>NaN</td>\n",
       "      <td>Playa San Antonio, 5.5 km W Mala</td>\n",
       "      <td>Study Skin</td>\n",
       "      <td>NaN</td>\n",
       "      <td>NaN</td>\n",
       "      <td>0.0</td>\n",
       "      <td>3.722223</td>\n",
       "      <td>-1.191540</td>\n",
       "      <td>0.011504</td>\n",
       "      <td>0.314250</td>\n",
       "      <td>-0.322681</td>\n",
       "      <td>NaN</td>\n",
       "      <td>NaN</td>\n",
       "      <td>NaN</td>\n",
       "      <td>NaN</td>\n",
       "      <td>NaN</td>\n",
       "      <td>NaN</td>\n",
       "      <td>NaN</td>\n",
       "      <td>NaN</td>\n",
       "      <td>NaN</td>\n",
       "      <td>NaN</td>\n",
       "      <td>NaN</td>\n",
       "      <td>NaN</td>\n",
       "      <td>NaN</td>\n",
       "      <td>NaN</td>\n",
       "      <td>NaN</td>\n",
       "      <td>NaN</td>\n",
       "      <td>NaN</td>\n",
       "      <td>NaN</td>\n",
       "      <td>NaN</td>\n",
       "    </tr>\n",
       "    <tr>\n",
       "      <th>437</th>\n",
       "      <td>LSUMZ</td>\n",
       "      <td>181810.0</td>\n",
       "      <td>taczanowskii</td>\n",
       "      <td>NaN</td>\n",
       "      <td>Large</td>\n",
       "      <td>M</td>\n",
       "      <td>NaN</td>\n",
       "      <td>69.3</td>\n",
       "      <td>227.0</td>\n",
       "      <td>50.95</td>\n",
       "      <td>18.57</td>\n",
       "      <td>5.53</td>\n",
       "      <td>2.47</td>\n",
       "      <td>0.93</td>\n",
       "      <td>5.35</td>\n",
       "      <td>4.58</td>\n",
       "      <td>1.30</td>\n",
       "      <td>92.945589</td>\n",
       "      <td>35.539581</td>\n",
       "      <td>3.798186</td>\n",
       "      <td>108.00</td>\n",
       "      <td>66.97</td>\n",
       "      <td>82.99</td>\n",
       "      <td>76.92</td>\n",
       "      <td>76.79</td>\n",
       "      <td>70.54</td>\n",
       "      <td>66.76</td>\n",
       "      <td>64.61</td>\n",
       "      <td>59.75</td>\n",
       "      <td>60.11</td>\n",
       "      <td>7.99</td>\n",
       "      <td>12.89</td>\n",
       "      <td>2.64</td>\n",
       "      <td>29.85</td>\n",
       "      <td>2.04</td>\n",
       "      <td>16.43</td>\n",
       "      <td>18.79</td>\n",
       "      <td>28.33</td>\n",
       "      <td>20.58</td>\n",
       "      <td>9.38</td>\n",
       "      <td>5.99</td>\n",
       "      <td>7.64</td>\n",
       "      <td>6.09</td>\n",
       "      <td>86.50</td>\n",
       "      <td>66.15</td>\n",
       "      <td>-0.859825</td>\n",
       "      <td>0.408045</td>\n",
       "      <td>0.166904</td>\n",
       "      <td>Peru</td>\n",
       "      <td>Tacna Dept.</td>\n",
       "      <td>NaN</td>\n",
       "      <td>56 km W Tacna</td>\n",
       "      <td>Study Skin</td>\n",
       "      <td>NaN</td>\n",
       "      <td>NaN</td>\n",
       "      <td>0.0</td>\n",
       "      <td>3.261046</td>\n",
       "      <td>-1.031000</td>\n",
       "      <td>0.560879</td>\n",
       "      <td>0.082794</td>\n",
       "      <td>0.232493</td>\n",
       "      <td>NaN</td>\n",
       "      <td>NaN</td>\n",
       "      <td>NaN</td>\n",
       "      <td>NaN</td>\n",
       "      <td>NaN</td>\n",
       "      <td>NaN</td>\n",
       "      <td>NaN</td>\n",
       "      <td>NaN</td>\n",
       "      <td>NaN</td>\n",
       "      <td>NaN</td>\n",
       "      <td>NaN</td>\n",
       "      <td>NaN</td>\n",
       "      <td>NaN</td>\n",
       "      <td>NaN</td>\n",
       "      <td>NaN</td>\n",
       "      <td>NaN</td>\n",
       "      <td>NaN</td>\n",
       "      <td>NaN</td>\n",
       "      <td>NaN</td>\n",
       "    </tr>\n",
       "    <tr>\n",
       "      <th>438</th>\n",
       "      <td>NMNH</td>\n",
       "      <td>212062.0</td>\n",
       "      <td>taczanowskii</td>\n",
       "      <td>NaN</td>\n",
       "      <td>Large</td>\n",
       "      <td>Female</td>\n",
       "      <td>NaN</td>\n",
       "      <td>NaN</td>\n",
       "      <td>226.0</td>\n",
       "      <td>49.02</td>\n",
       "      <td>18.14</td>\n",
       "      <td>6.17</td>\n",
       "      <td>3.29</td>\n",
       "      <td>0.75</td>\n",
       "      <td>5.25</td>\n",
       "      <td>4.53</td>\n",
       "      <td>0.82</td>\n",
       "      <td>101.764040</td>\n",
       "      <td>46.821354</td>\n",
       "      <td>1.932079</td>\n",
       "      <td>104.96</td>\n",
       "      <td>59.53</td>\n",
       "      <td>71.29</td>\n",
       "      <td>73.13</td>\n",
       "      <td>72.03</td>\n",
       "      <td>71.61</td>\n",
       "      <td>66.61</td>\n",
       "      <td>61.36</td>\n",
       "      <td>58.18</td>\n",
       "      <td>56.04</td>\n",
       "      <td>8.44</td>\n",
       "      <td>11.98</td>\n",
       "      <td>2.41</td>\n",
       "      <td>28.94</td>\n",
       "      <td>1.83</td>\n",
       "      <td>19.61</td>\n",
       "      <td>19.04</td>\n",
       "      <td>26.72</td>\n",
       "      <td>16.45</td>\n",
       "      <td>8.36</td>\n",
       "      <td>5.98</td>\n",
       "      <td>7.56</td>\n",
       "      <td>5.29</td>\n",
       "      <td>89.14</td>\n",
       "      <td>74.61</td>\n",
       "      <td>-0.950975</td>\n",
       "      <td>1.001117</td>\n",
       "      <td>0.528391</td>\n",
       "      <td>Peru</td>\n",
       "      <td>NaN</td>\n",
       "      <td>NaN</td>\n",
       "      <td>Chincha, N Island</td>\n",
       "      <td>NaN</td>\n",
       "      <td>-13.4170</td>\n",
       "      <td>76.133</td>\n",
       "      <td>85.0</td>\n",
       "      <td>3.042821</td>\n",
       "      <td>-1.260763</td>\n",
       "      <td>0.166961</td>\n",
       "      <td>0.282861</td>\n",
       "      <td>-0.493399</td>\n",
       "      <td>tac</td>\n",
       "      <td>NMNH</td>\n",
       "      <td>212062</td>\n",
       "      <td>19.280226</td>\n",
       "      <td>-12.962300</td>\n",
       "      <td>12.754912</td>\n",
       "      <td>40.729028</td>\n",
       "      <td>3.193203</td>\n",
       "      <td>7.478097</td>\n",
       "      <td>tac</td>\n",
       "      <td>NMNH</td>\n",
       "      <td>212062.0</td>\n",
       "      <td>NaN</td>\n",
       "      <td>NaN</td>\n",
       "      <td>NaN</td>\n",
       "      <td>Tac N212062b</td>\n",
       "      <td>-65.461</td>\n",
       "      <td>5.028292</td>\n",
       "      <td>-65.461</td>\n",
       "    </tr>\n",
       "  </tbody>\n",
       "</table>\n",
       "<p>439 rows × 80 columns</p>\n",
       "</div>"
      ],
      "text/plain": [
       "    Museum  Specimen _Number        Species  Subspecies  Clade     Sex  \\\n",
       "0     AMNH          100743.0  albidiventris         NaN  Small  female   \n",
       "1     AMNH          124466.0  albidiventris         NaN  Small    male   \n",
       "2      NaN               NaN            NaN         NaN  Small     NaN   \n",
       "3     AMNH          154955.0  albidiventris         NaN  Small  female   \n",
       "4     AMNH          167291.0  albidiventris         NaN  Small  female   \n",
       "..     ...               ...            ...         ...    ...     ...   \n",
       "434  LSUMZ          179637.0   taczanowskii         NaN  Large       F   \n",
       "435  LSUMZ          179638.0   taczanowskii         NaN  Large       M   \n",
       "436  LSUMZ          181808.0   taczanowskii         NaN  Large       M   \n",
       "437  LSUMZ          181810.0   taczanowskii         NaN  Large       M   \n",
       "438   NMNH          212062.0   taczanowskii         NaN  Large  Female   \n",
       "\n",
       "       Elevation  Body Mass (g)  Body _Length _(mm)  Head _Length _(mm)  \\\n",
       "0         3000 m            NaN               199.0               40.70   \n",
       "1     14,000 Ft.            NaN               170.0               39.55   \n",
       "2            NaN            NaN                 NaN                 NaN   \n",
       "3    3600-4000 m            NaN               167.0               40.83   \n",
       "4         3100 m            NaN               167.0               36.78   \n",
       "..           ...            ...                 ...                 ...   \n",
       "434          NaN           67.5               234.0               50.64   \n",
       "435          NaN           73.0               241.0               54.74   \n",
       "436          NaN           62.4               235.0               51.19   \n",
       "437          NaN           69.3               227.0               50.95   \n",
       "438          NaN            NaN               226.0               49.02   \n",
       "\n",
       "     Bill Length (mm)  Bill Width1 (mm)  Bill Width2 (mm)  Bill Width3 (mm)  \\\n",
       "0               16.82              4.78              2.30              1.09   \n",
       "1               17.14              4.85              1.81              1.04   \n",
       "2                 NaN               NaN               NaN               NaN   \n",
       "3               13.54              4.11              1.61              0.96   \n",
       "4               15.73              4.28              1.58              0.80   \n",
       "..                ...               ...               ...               ...   \n",
       "434             17.50              5.40              2.26              1.02   \n",
       "435             19.10              5.42              2.28              1.10   \n",
       "436             16.68              5.07              2.11              0.88   \n",
       "437             18.57              5.53              2.47              0.93   \n",
       "438             18.14              6.17              3.29              0.75   \n",
       "\n",
       "     Bill Depth1 (mm)  Bill Depth2 (mm)  Bill Depth3 (mm)  \\\n",
       "0                4.59              3.92              1.16   \n",
       "1                3.88              3.15              1.03   \n",
       "2                 NaN               NaN               NaN   \n",
       "3                3.68              3.12              1.32   \n",
       "4                4.08              3.08              0.97   \n",
       "..                ...               ...               ...   \n",
       "434              5.57              4.32              0.78   \n",
       "435              5.70              5.27              1.22   \n",
       "436              5.10              4.39              1.46   \n",
       "437              5.35              4.58              1.30   \n",
       "438              5.25              4.53              0.82   \n",
       "\n",
       "     Proximal Bill Cross-Sectional_ Area (mm2)  \\\n",
       "0                                    68.927171   \n",
       "1                                    59.118491   \n",
       "2                                          NaN   \n",
       "3                                    47.515961   \n",
       "4                                    54.859748   \n",
       "..                                         ...   \n",
       "434                                  94.492824   \n",
       "435                                  97.056363   \n",
       "436                                  81.232161   \n",
       "437                                  92.945589   \n",
       "438                                 101.764040   \n",
       "\n",
       "     Mid-Length Bill Cross-Sectional Area (mm2)  \\\n",
       "0                                     28.324599   \n",
       "1                                     17.911791   \n",
       "2                                           NaN   \n",
       "3                                     15.780848   \n",
       "4                                     15.288246   \n",
       "..                                          ...   \n",
       "434                                   30.671997   \n",
       "435                                   37.748121   \n",
       "436                                   29.100259   \n",
       "437                                   35.539581   \n",
       "438                                   46.821354   \n",
       "\n",
       "     Distal Bill Cross-Sectional Area (mm2)  Wing Length (mm)  Primary 1 (mm)  \\\n",
       "0                                  3.972230             97.02           58.75   \n",
       "1                                  3.365274             97.31           59.51   \n",
       "2                                       NaN               NaN             NaN   \n",
       "3                                  3.981026            105.80           63.79   \n",
       "4                                  2.437876             93.67           57.03   \n",
       "..                                      ...               ...             ...   \n",
       "434                                2.499451            116.62           68.91   \n",
       "435                                4.216017            112.06           68.10   \n",
       "436                                4.036318            111.93           66.60   \n",
       "437                                3.798186            108.00           66.97   \n",
       "438                                1.932079            104.96           59.53   \n",
       "\n",
       "     Primary 2 (mm)  Primary 3 (mm)  Primary 4 (mm)  Primary 5 (mm)  \\\n",
       "0             72.62           74.27           74.08           73.35   \n",
       "1             73.50           74.40           75.73           73.23   \n",
       "2               NaN             NaN             NaN             NaN   \n",
       "3             78.96           79.00           76.50           75.37   \n",
       "4             69.30           70.29           70.29           68.19   \n",
       "..              ...             ...             ...             ...   \n",
       "434           85.05           87.56           88.23           85.84   \n",
       "435           67.51           87.18           87.29           87.00   \n",
       "436           79.89           82.52           82.06           81.39   \n",
       "437           82.99           76.92           76.79           70.54   \n",
       "438           71.29           73.13           72.03           71.61   \n",
       "\n",
       "     Primary 6 (mm)  Primary 7 (mm)  Primary 8 (mm)  Primary 9 (mm)  \\\n",
       "0             69.17           63.52           58.89           57.37   \n",
       "1             67.89           63.21           59.38           56.62   \n",
       "2               NaN             NaN             NaN             NaN   \n",
       "3             67.74           61.35           58.38           56.57   \n",
       "4             60.73           55.87           53.60           52.96   \n",
       "..              ...             ...             ...             ...   \n",
       "434           81.26           75.25           71.73           69.36   \n",
       "435           82.61           78.89           75.91           76.73   \n",
       "436           75.00           68.74           65.24           63.68   \n",
       "437           66.76           64.61           59.75           60.11   \n",
       "438           66.61           61.36           58.18           56.04   \n",
       "\n",
       "     Width of Primary 1  Width of Primary 9  Tibiotarsus Width (mm)  \\\n",
       "0                  7.09               10.47                    1.94   \n",
       "1                  6.60               11.05                    1.72   \n",
       "2                   NaN                 NaN                     NaN   \n",
       "3                  7.15               11.92                    1.63   \n",
       "4                  6.52               12.41                    1.67   \n",
       "..                  ...                 ...                     ...   \n",
       "434                8.39               12.83                    2.76   \n",
       "435                9.35               13.68                    3.07   \n",
       "436                8.69               13.45                    2.49   \n",
       "437                7.99               12.89                    2.64   \n",
       "438                8.44               11.98                    2.41   \n",
       "\n",
       "     Tarsometatarsus Length (mm)  Tarsometatarsus Width (mm)  Digit 1 (mm)  \\\n",
       "0                          28.24                        1.81         21.64   \n",
       "1                          29.99                        1.65         18.07   \n",
       "2                            NaN                         NaN           NaN   \n",
       "3                          30.19                        1.64         19.13   \n",
       "4                          29.95                        1.48         19.38   \n",
       "..                           ...                         ...           ...   \n",
       "434                        33.44                        2.14         19.51   \n",
       "435                        29.97                        2.00         18.94   \n",
       "436                        31.27                        1.85         18.20   \n",
       "437                        29.85                        2.04         16.43   \n",
       "438                        28.94                        1.83         19.61   \n",
       "\n",
       "     Digit 2 (mm)  Digit 3 (mm)  Digit 4 (mm)  Ungual 1 (mm)  Ungual 2 (mm)  \\\n",
       "0           17.16         23.80         15.83           9.36           4.94   \n",
       "1           15.59         21.38         17.12           7.96           4.73   \n",
       "2             NaN           NaN           NaN            NaN            NaN   \n",
       "3           16.06         24.09         16.72           8.33           4.95   \n",
       "4           16.17         23.04         15.61           8.66           4.88   \n",
       "..            ...           ...           ...            ...            ...   \n",
       "434         20.43         28.91         22.17           9.32           7.26   \n",
       "435         19.56         28.60         22.29           9.69           7.28   \n",
       "436         19.58         27.69         22.27           9.45           6.81   \n",
       "437         18.79         28.33         20.58           9.38           5.99   \n",
       "438         19.04         26.72         16.45           8.36           5.98   \n",
       "\n",
       "     Ungual 3 (mm)  Ungual 4 (mm)  Central rectrix (mm)  Lateral Retrices  \\\n",
       "0             6.09           4.87                 73.00             63.36   \n",
       "1             5.82           5.19                 65.65             59.39   \n",
       "2              NaN            NaN                   NaN               NaN   \n",
       "3             5.99           5.23                 67.21             62.45   \n",
       "4             6.41           4.91                 65.23             60.86   \n",
       "..             ...            ...                   ...               ...   \n",
       "434           8.06           6.63                110.18             95.19   \n",
       "435           8.11           7.22                 92.80             75.84   \n",
       "436           7.69           6.17                 85.02             72.51   \n",
       "437           7.64           6.09                 86.50             66.15   \n",
       "438           7.56           5.29                 89.14             74.61   \n",
       "\n",
       "     Isometric Size Index  Wing Pointedness Index  Wing Convexity Index  \\\n",
       "0               -0.920044                1.156662              0.795454   \n",
       "1               -0.913466                1.073165              0.778179   \n",
       "2                     NaN                     NaN                   NaN   \n",
       "3               -0.875322                0.578194              1.069232   \n",
       "4               -1.041694                0.722847              0.971886   \n",
       "..                    ...                     ...                   ...   \n",
       "434             -0.651317                1.261048              0.608337   \n",
       "435             -0.675659                1.971350             -0.208247   \n",
       "436             -0.760823                1.020037              0.703560   \n",
       "437             -0.859825                0.408045              0.166904   \n",
       "438             -0.950975                1.001117              0.528391   \n",
       "\n",
       "       Country  State/Province Region                                Locality  \\\n",
       "0    Venezuela          Merida    NaN                           near Quintero   \n",
       "1      Ecuador             NaN    NaN                          Mt. Chimborazo   \n",
       "2          NaN             NaN    NaN                                     NaN   \n",
       "3      Ecuador             NaN    NaN                                Antisana   \n",
       "4      Ecuador             NaN    NaN                                 Bestion   \n",
       "..         ...             ...    ...                                     ...   \n",
       "434       Peru      Lima Dept.    NaN  Playa San Antonio, ca. 13 km SE Chilca   \n",
       "435       Peru  Arequipa Dept.    NaN                                  Tanaka   \n",
       "436       Peru      Lima Dept.    NaN        Playa San Antonio, 5.5 km W Mala   \n",
       "437       Peru     Tacna Dept.    NaN                           56 km W Tacna   \n",
       "438       Peru             NaN    NaN                       Chincha, N Island   \n",
       "\n",
       "                               Preparation  Latitute (o South)  \\\n",
       "0                                      NaN              8.8280   \n",
       "1    Skin: Whole; Skeleton: Partial: trunk             -2.0167   \n",
       "2                                      NaN                 NaN   \n",
       "3    Skin: Whole; Skeleton: Partial: trunk             -2.8830   \n",
       "4                              Skin: Whole             -3.4170   \n",
       "..                                     ...                 ...   \n",
       "434                             Study Skin                 NaN   \n",
       "435                    Study skin & spread                 NaN   \n",
       "436                             Study Skin                 NaN   \n",
       "437                             Study Skin                 NaN   \n",
       "438                                    NaN            -13.4170   \n",
       "\n",
       "     Longitude (o West)  Elevation1   Prin1 2   Prin2 2   Prin3 2   Prin4 2  \\\n",
       "0                70.693      3000.0 -0.659808  0.068858 -0.564259 -0.399028   \n",
       "1                78.733      4267.0 -2.235542 -1.127992 -0.629253 -0.119423   \n",
       "2                   NaN         NaN       NaN       NaN       NaN       NaN   \n",
       "3                78.983      3800.0 -2.177757 -0.157423 -0.011028  0.274117   \n",
       "4               -79.017      3100.0 -2.369276  0.048209 -0.387181 -0.182293   \n",
       "..                  ...         ...       ...       ...       ...       ...   \n",
       "434                 NaN         0.0  6.507899 -2.404388  0.696979  1.173268   \n",
       "435                 NaN         0.0  6.177530 -2.588698 -0.879000 -0.750981   \n",
       "436                 NaN         0.0  3.722223 -1.191540  0.011504  0.314250   \n",
       "437                 NaN         0.0  3.261046 -1.031000  0.560879  0.082794   \n",
       "438              76.133        85.0  3.042821 -1.260763  0.166961  0.282861   \n",
       "\n",
       "      Prin5 2 Species.1 Museum.1 Specimen_Number       D15N       D13C  \\\n",
       "0    0.401902       het     AMNH          100743   8.657597 -20.282404   \n",
       "1    0.473132      albd     AMNH          124466   6.189624 -21.047462   \n",
       "2         NaN      albd     AMNH          154953   7.732858 -21.400414   \n",
       "3    0.195322      albd     AMNH          154955   7.807918 -20.964647   \n",
       "4    0.238843      albd     AMNH          167291   9.184018 -19.973817   \n",
       "..        ...       ...      ...             ...        ...        ...   \n",
       "434 -1.294495       NaN      NaN             NaN        NaN        NaN   \n",
       "435  0.105693       NaN      NaN             NaN        NaN        NaN   \n",
       "436 -0.322681       NaN      NaN             NaN        NaN        NaN   \n",
       "437  0.232493       NaN      NaN             NaN        NaN        NaN   \n",
       "438 -0.493399       tac     NMNH          212062  19.280226 -12.962300   \n",
       "\n",
       "     Prct_Nitrogen  Prct_Carbon  C_N_Ratio      ?18O Species.2 Museum.2  \\\n",
       "0        13.768824    45.368939   3.295048  4.628465       het     AMNH   \n",
       "1        13.677862    44.803525   3.275623  4.811276      albd     AMNH   \n",
       "2        13.534914    44.497601   3.287616  1.482136      albd     AMNH   \n",
       "3        13.687415    44.716446   3.266975  2.116600      albd     AMNH   \n",
       "4        14.176860    45.503651   3.209713  6.751228      albd     AMNH   \n",
       "..             ...          ...        ...       ...       ...      ...   \n",
       "434            NaN          NaN        NaN       NaN       NaN      NaN   \n",
       "435            NaN          NaN        NaN       NaN       NaN      NaN   \n",
       "436            NaN          NaN        NaN       NaN       NaN      NaN   \n",
       "437            NaN          NaN        NaN       NaN       NaN      NaN   \n",
       "438      12.754912    40.729028   3.193203  7.478097       tac     NMNH   \n",
       "\n",
       "     Specimen_Number.1 Isotope_Samp_ID   dDa  [H]a    Unnamed: 76     dDb  \\\n",
       "0             100743.0    het-A100743a -61.7  5.18   het-a100743b -67.200   \n",
       "1             124466.0    alb-A124466a -76.8  5.35  albd-a124466b -80.500   \n",
       "2             154953.0   alb-A1154953a -96.7  4.97  albd-a154953b -96.700   \n",
       "3             154955.0    alb-A154955a -95.7  5.80  albd-a154955b -96.700   \n",
       "4             167291.0    alb-A167291a -53.6  5.69  albd-a167291b -62.700   \n",
       "..                 ...             ...   ...   ...            ...     ...   \n",
       "434                NaN             NaN   NaN   NaN            NaN     NaN   \n",
       "435                NaN             NaN   NaN   NaN            NaN     NaN   \n",
       "436                NaN             NaN   NaN   NaN            NaN     NaN   \n",
       "437                NaN             NaN   NaN   NaN            NaN     NaN   \n",
       "438           212062.0             NaN   NaN   NaN   Tac N212062b -65.461   \n",
       "\n",
       "         [H]b  Mean_dD  \n",
       "0    5.090000  -64.477  \n",
       "1    4.930000  -78.649  \n",
       "2    4.820000  -96.701  \n",
       "3    4.890000  -96.220  \n",
       "4    5.270000  -58.128  \n",
       "..        ...      ...  \n",
       "434       NaN      NaN  \n",
       "435       NaN      NaN  \n",
       "436       NaN      NaN  \n",
       "437       NaN      NaN  \n",
       "438  5.028292  -65.461  \n",
       "\n",
       "[439 rows x 80 columns]"
      ]
     },
     "execution_count": 312,
     "metadata": {},
     "output_type": "execute_result"
    }
   ],
   "source": [
    "pd.set_option(\"display.max.columns\", None)\n",
    "dataset"
   ]
  },
  {
   "cell_type": "markdown",
   "metadata": {},
   "source": [
    "Process data to remove string columns and rows with NaN elements"
   ]
  },
  {
   "cell_type": "code",
   "execution_count": 313,
   "metadata": {},
   "outputs": [
    {
     "name": "stdout",
     "output_type": "stream",
     "text": [
      "(439, 80)\n"
     ]
    }
   ],
   "source": [
    "print(dataset.shape)\n",
    "dataset = dataset.drop(columns = ['Museum', 'Subspecies',  'Elevation', 'Species.1', 'Museum.1', '[H]a', 'Preparation', 'Unnamed: 76', 'State/Province', 'Region', 'Locality', 'Species.2', 'Museum.2', 'Specimen_Number.1', 'Isotope_Samp_ID'], axis = 1)\n",
    "dataset = dataset.dropna()"
   ]
  },
  {
   "cell_type": "markdown",
   "metadata": {},
   "source": [
    "\n",
    "## Data analysis\n",
    "Let's look at some interesting data dependencies"
   ]
  },
  {
   "cell_type": "code",
   "execution_count": 111,
   "metadata": {},
   "outputs": [
    {
     "name": "stdout",
     "output_type": "stream",
     "text": [
      "['albidiventris', 'albiventris', 'atacamensis', 'excelsior', 'fuscus', 'oustaleti', 'patagonicus']\n"
     ]
    },
    {
     "data": {
      "text/html": [
       "<div>\n",
       "<style scoped>\n",
       "    .dataframe tbody tr th:only-of-type {\n",
       "        vertical-align: middle;\n",
       "    }\n",
       "\n",
       "    .dataframe tbody tr th {\n",
       "        vertical-align: top;\n",
       "    }\n",
       "\n",
       "    .dataframe thead th {\n",
       "        text-align: right;\n",
       "    }\n",
       "</style>\n",
       "<table border=\"1\" class=\"dataframe\">\n",
       "  <thead>\n",
       "    <tr style=\"text-align: right;\">\n",
       "      <th></th>\n",
       "      <th>Specimen _Number</th>\n",
       "      <th>Body Mass (g)</th>\n",
       "      <th>Body _Length _(mm)</th>\n",
       "      <th>Head _Length _(mm)</th>\n",
       "      <th>Bill Length (mm)</th>\n",
       "      <th>Bill Width1 (mm)</th>\n",
       "      <th>Bill Width2 (mm)</th>\n",
       "      <th>Bill Width3 (mm)</th>\n",
       "      <th>Bill Depth1 (mm)</th>\n",
       "      <th>Bill Depth2 (mm)</th>\n",
       "      <th>Bill Depth3 (mm)</th>\n",
       "      <th>Proximal Bill Cross-Sectional_ Area (mm2)</th>\n",
       "      <th>Mid-Length Bill Cross-Sectional Area (mm2)</th>\n",
       "      <th>Distal Bill Cross-Sectional Area (mm2)</th>\n",
       "      <th>Wing Length (mm)</th>\n",
       "      <th>Primary 1 (mm)</th>\n",
       "      <th>Primary 2 (mm)</th>\n",
       "      <th>Primary 3 (mm)</th>\n",
       "      <th>Primary 4 (mm)</th>\n",
       "      <th>Primary 5 (mm)</th>\n",
       "      <th>Primary 6 (mm)</th>\n",
       "      <th>Primary 7 (mm)</th>\n",
       "      <th>Primary 8 (mm)</th>\n",
       "      <th>Primary 9 (mm)</th>\n",
       "      <th>Width of Primary 1</th>\n",
       "      <th>Width of Primary 9</th>\n",
       "      <th>Tibiotarsus Width (mm)</th>\n",
       "      <th>Tarsometatarsus Length (mm)</th>\n",
       "      <th>Tarsometatarsus Width (mm)</th>\n",
       "      <th>Digit 1 (mm)</th>\n",
       "      <th>Digit 2 (mm)</th>\n",
       "      <th>Digit 3 (mm)</th>\n",
       "      <th>Digit 4 (mm)</th>\n",
       "      <th>Ungual 1 (mm)</th>\n",
       "      <th>Ungual 2 (mm)</th>\n",
       "      <th>Ungual 3 (mm)</th>\n",
       "      <th>Ungual 4 (mm)</th>\n",
       "      <th>Central rectrix (mm)</th>\n",
       "      <th>Lateral Retrices</th>\n",
       "      <th>Isometric Size Index</th>\n",
       "      <th>Wing Pointedness Index</th>\n",
       "      <th>Wing Convexity Index</th>\n",
       "      <th>Latitute (o South)</th>\n",
       "      <th>Longitude (o West)</th>\n",
       "      <th>Elevation1</th>\n",
       "      <th>Prin1 2</th>\n",
       "      <th>Prin2 2</th>\n",
       "      <th>Prin3 2</th>\n",
       "      <th>Prin4 2</th>\n",
       "      <th>Prin5 2</th>\n",
       "      <th>Specimen_Number</th>\n",
       "      <th>D15N</th>\n",
       "      <th>D13C</th>\n",
       "      <th>Prct_Nitrogen</th>\n",
       "      <th>Prct_Carbon</th>\n",
       "      <th>C_N_Ratio</th>\n",
       "      <th>?18O</th>\n",
       "      <th>dDa</th>\n",
       "      <th>dDb</th>\n",
       "      <th>[H]b</th>\n",
       "      <th>Mean_dD</th>\n",
       "      <th>Species</th>\n",
       "    </tr>\n",
       "  </thead>\n",
       "  <tbody>\n",
       "    <tr>\n",
       "      <th>0</th>\n",
       "      <td>608512.000000</td>\n",
       "      <td>34.000000</td>\n",
       "      <td>174.000000</td>\n",
       "      <td>35.970000</td>\n",
       "      <td>13.000000</td>\n",
       "      <td>4.410000</td>\n",
       "      <td>1.670000</td>\n",
       "      <td>0.560</td>\n",
       "      <td>3.700000</td>\n",
       "      <td>3.030000</td>\n",
       "      <td>1.010000</td>\n",
       "      <td>51.261367</td>\n",
       "      <td>15.896773</td>\n",
       "      <td>1.776885</td>\n",
       "      <td>96.920000</td>\n",
       "      <td>55.780</td>\n",
       "      <td>68.730000</td>\n",
       "      <td>70.370000</td>\n",
       "      <td>69.290000</td>\n",
       "      <td>68.710000</td>\n",
       "      <td>64.490</td>\n",
       "      <td>58.980000</td>\n",
       "      <td>56.380000</td>\n",
       "      <td>52.550000</td>\n",
       "      <td>6.460000</td>\n",
       "      <td>10.060000</td>\n",
       "      <td>1.930000</td>\n",
       "      <td>30.610000</td>\n",
       "      <td>1.300</td>\n",
       "      <td>18.880000</td>\n",
       "      <td>15.350000</td>\n",
       "      <td>21.090</td>\n",
       "      <td>15.430000</td>\n",
       "      <td>8.430000</td>\n",
       "      <td>4.520</td>\n",
       "      <td>5.570000</td>\n",
       "      <td>4.870000</td>\n",
       "      <td>63.150000</td>\n",
       "      <td>57.040000</td>\n",
       "      <td>-1.015885</td>\n",
       "      <td>1.111138</td>\n",
       "      <td>0.651690</td>\n",
       "      <td>-0.332000</td>\n",
       "      <td>-78.2030</td>\n",
       "      <td>4050.000000</td>\n",
       "      <td>-3.288870</td>\n",
       "      <td>-0.719583</td>\n",
       "      <td>-0.933415</td>\n",
       "      <td>-0.756540</td>\n",
       "      <td>0.592147</td>\n",
       "      <td>6.085120e+05</td>\n",
       "      <td>7.176129</td>\n",
       "      <td>-22.273131</td>\n",
       "      <td>13.871266</td>\n",
       "      <td>45.905594</td>\n",
       "      <td>3.309402</td>\n",
       "      <td>5.811644</td>\n",
       "      <td>-83.900000</td>\n",
       "      <td>-97.100000</td>\n",
       "      <td>5.090000</td>\n",
       "      <td>-90.499000</td>\n",
       "      <td>albidiventris</td>\n",
       "    </tr>\n",
       "    <tr>\n",
       "      <th>0</th>\n",
       "      <td>609498.000000</td>\n",
       "      <td>28.300000</td>\n",
       "      <td>169.000000</td>\n",
       "      <td>39.850000</td>\n",
       "      <td>11.960000</td>\n",
       "      <td>4.230000</td>\n",
       "      <td>2.100000</td>\n",
       "      <td>1.080</td>\n",
       "      <td>3.960000</td>\n",
       "      <td>3.550000</td>\n",
       "      <td>0.620000</td>\n",
       "      <td>52.624190</td>\n",
       "      <td>23.420573</td>\n",
       "      <td>2.103610</td>\n",
       "      <td>94.070000</td>\n",
       "      <td>51.760</td>\n",
       "      <td>67.150000</td>\n",
       "      <td>68.190000</td>\n",
       "      <td>66.530000</td>\n",
       "      <td>63.850000</td>\n",
       "      <td>57.750</td>\n",
       "      <td>51.270000</td>\n",
       "      <td>46.310000</td>\n",
       "      <td>45.110000</td>\n",
       "      <td>6.820000</td>\n",
       "      <td>9.840000</td>\n",
       "      <td>1.400000</td>\n",
       "      <td>25.270000</td>\n",
       "      <td>1.390</td>\n",
       "      <td>17.970000</td>\n",
       "      <td>12.790000</td>\n",
       "      <td>20.910</td>\n",
       "      <td>15.880000</td>\n",
       "      <td>7.750000</td>\n",
       "      <td>5.040</td>\n",
       "      <td>5.920000</td>\n",
       "      <td>4.440000</td>\n",
       "      <td>75.750000</td>\n",
       "      <td>64.780000</td>\n",
       "      <td>-1.155503</td>\n",
       "      <td>0.535064</td>\n",
       "      <td>2.011635</td>\n",
       "      <td>-26.809000</td>\n",
       "      <td>-65.2110</td>\n",
       "      <td>3150.000000</td>\n",
       "      <td>-3.641687</td>\n",
       "      <td>0.113833</td>\n",
       "      <td>0.490758</td>\n",
       "      <td>1.573850</td>\n",
       "      <td>-0.998384</td>\n",
       "      <td>6.094980e+05</td>\n",
       "      <td>5.771343</td>\n",
       "      <td>-22.642056</td>\n",
       "      <td>13.725655</td>\n",
       "      <td>45.102260</td>\n",
       "      <td>3.285982</td>\n",
       "      <td>5.276920</td>\n",
       "      <td>-54.300000</td>\n",
       "      <td>-64.700000</td>\n",
       "      <td>5.020000</td>\n",
       "      <td>-59.496000</td>\n",
       "      <td>albiventris</td>\n",
       "    </tr>\n",
       "    <tr>\n",
       "      <th>0</th>\n",
       "      <td>796037.000000</td>\n",
       "      <td>51.850000</td>\n",
       "      <td>203.000000</td>\n",
       "      <td>45.455000</td>\n",
       "      <td>19.425000</td>\n",
       "      <td>5.285000</td>\n",
       "      <td>2.355000</td>\n",
       "      <td>1.295</td>\n",
       "      <td>4.955000</td>\n",
       "      <td>3.810000</td>\n",
       "      <td>1.455000</td>\n",
       "      <td>82.549431</td>\n",
       "      <td>28.378006</td>\n",
       "      <td>6.103015</td>\n",
       "      <td>109.155000</td>\n",
       "      <td>62.080</td>\n",
       "      <td>75.350000</td>\n",
       "      <td>76.865000</td>\n",
       "      <td>76.150000</td>\n",
       "      <td>73.000000</td>\n",
       "      <td>68.360</td>\n",
       "      <td>63.660000</td>\n",
       "      <td>60.750000</td>\n",
       "      <td>58.580000</td>\n",
       "      <td>7.845000</td>\n",
       "      <td>11.905000</td>\n",
       "      <td>2.675000</td>\n",
       "      <td>32.360000</td>\n",
       "      <td>1.975</td>\n",
       "      <td>19.990000</td>\n",
       "      <td>18.300000</td>\n",
       "      <td>26.830</td>\n",
       "      <td>19.360000</td>\n",
       "      <td>9.365000</td>\n",
       "      <td>5.830</td>\n",
       "      <td>6.645000</td>\n",
       "      <td>5.860000</td>\n",
       "      <td>82.740000</td>\n",
       "      <td>64.230000</td>\n",
       "      <td>-0.885712</td>\n",
       "      <td>0.925541</td>\n",
       "      <td>0.537463</td>\n",
       "      <td>-13.589500</td>\n",
       "      <td>-72.2190</td>\n",
       "      <td>4133.500000</td>\n",
       "      <td>2.403044</td>\n",
       "      <td>-0.753116</td>\n",
       "      <td>-0.055260</td>\n",
       "      <td>-0.094407</td>\n",
       "      <td>0.313928</td>\n",
       "      <td>3.965889e+11</td>\n",
       "      <td>9.861279</td>\n",
       "      <td>-21.446598</td>\n",
       "      <td>14.063044</td>\n",
       "      <td>45.326623</td>\n",
       "      <td>3.224183</td>\n",
       "      <td>2.960829</td>\n",
       "      <td>-120.067000</td>\n",
       "      <td>-111.141000</td>\n",
       "      <td>5.419342</td>\n",
       "      <td>-115.604000</td>\n",
       "      <td>atacamensis</td>\n",
       "    </tr>\n",
       "    <tr>\n",
       "      <th>0</th>\n",
       "      <td>814047.000000</td>\n",
       "      <td>65.000000</td>\n",
       "      <td>211.000000</td>\n",
       "      <td>50.490000</td>\n",
       "      <td>22.000000</td>\n",
       "      <td>5.820000</td>\n",
       "      <td>3.070000</td>\n",
       "      <td>1.310</td>\n",
       "      <td>6.080000</td>\n",
       "      <td>4.560000</td>\n",
       "      <td>1.080000</td>\n",
       "      <td>111.167141</td>\n",
       "      <td>43.979784</td>\n",
       "      <td>4.444725</td>\n",
       "      <td>113.660000</td>\n",
       "      <td>60.020</td>\n",
       "      <td>79.950000</td>\n",
       "      <td>81.480000</td>\n",
       "      <td>81.110000</td>\n",
       "      <td>80.230000</td>\n",
       "      <td>72.870</td>\n",
       "      <td>65.790000</td>\n",
       "      <td>60.610000</td>\n",
       "      <td>57.640000</td>\n",
       "      <td>7.630000</td>\n",
       "      <td>13.070000</td>\n",
       "      <td>2.490000</td>\n",
       "      <td>29.060000</td>\n",
       "      <td>2.090</td>\n",
       "      <td>27.160000</td>\n",
       "      <td>19.280000</td>\n",
       "      <td>29.090</td>\n",
       "      <td>19.440000</td>\n",
       "      <td>14.040000</td>\n",
       "      <td>6.780</td>\n",
       "      <td>9.070000</td>\n",
       "      <td>7.230000</td>\n",
       "      <td>84.200000</td>\n",
       "      <td>70.860000</td>\n",
       "      <td>-0.819891</td>\n",
       "      <td>1.095460</td>\n",
       "      <td>1.756631</td>\n",
       "      <td>5.067000</td>\n",
       "      <td>-75.5180</td>\n",
       "      <td>4000.000000</td>\n",
       "      <td>6.425882</td>\n",
       "      <td>3.818128</td>\n",
       "      <td>-0.425634</td>\n",
       "      <td>-0.371925</td>\n",
       "      <td>-0.185219</td>\n",
       "      <td>8.140470e+05</td>\n",
       "      <td>5.470049</td>\n",
       "      <td>-21.098729</td>\n",
       "      <td>14.389693</td>\n",
       "      <td>46.420923</td>\n",
       "      <td>3.225984</td>\n",
       "      <td>-0.879340</td>\n",
       "      <td>-103.237000</td>\n",
       "      <td>-101.040000</td>\n",
       "      <td>3.950280</td>\n",
       "      <td>-102.139000</td>\n",
       "      <td>excelsior</td>\n",
       "    </tr>\n",
       "    <tr>\n",
       "      <th>0</th>\n",
       "      <td>691329.400000</td>\n",
       "      <td>29.990000</td>\n",
       "      <td>183.300000</td>\n",
       "      <td>39.552000</td>\n",
       "      <td>14.269000</td>\n",
       "      <td>3.988000</td>\n",
       "      <td>1.927000</td>\n",
       "      <td>0.883</td>\n",
       "      <td>3.770000</td>\n",
       "      <td>2.843000</td>\n",
       "      <td>0.955000</td>\n",
       "      <td>47.362085</td>\n",
       "      <td>16.934158</td>\n",
       "      <td>2.621722</td>\n",
       "      <td>97.898000</td>\n",
       "      <td>56.928</td>\n",
       "      <td>69.950000</td>\n",
       "      <td>70.525000</td>\n",
       "      <td>69.247000</td>\n",
       "      <td>65.605000</td>\n",
       "      <td>54.404</td>\n",
       "      <td>50.712000</td>\n",
       "      <td>45.861000</td>\n",
       "      <td>44.978000</td>\n",
       "      <td>6.531000</td>\n",
       "      <td>10.393000</td>\n",
       "      <td>1.799000</td>\n",
       "      <td>24.996000</td>\n",
       "      <td>1.491</td>\n",
       "      <td>20.492000</td>\n",
       "      <td>14.933000</td>\n",
       "      <td>22.594</td>\n",
       "      <td>15.406000</td>\n",
       "      <td>9.881000</td>\n",
       "      <td>4.716</td>\n",
       "      <td>6.034000</td>\n",
       "      <td>4.738000</td>\n",
       "      <td>70.489000</td>\n",
       "      <td>60.098000</td>\n",
       "      <td>-1.129359</td>\n",
       "      <td>-0.043667</td>\n",
       "      <td>2.015896</td>\n",
       "      <td>-39.025600</td>\n",
       "      <td>61.9539</td>\n",
       "      <td>18.100000</td>\n",
       "      <td>-3.045371</td>\n",
       "      <td>2.286211</td>\n",
       "      <td>0.790447</td>\n",
       "      <td>1.007948</td>\n",
       "      <td>-0.512297</td>\n",
       "      <td>7.794878e+58</td>\n",
       "      <td>7.516334</td>\n",
       "      <td>-21.354571</td>\n",
       "      <td>13.767316</td>\n",
       "      <td>44.997564</td>\n",
       "      <td>3.269171</td>\n",
       "      <td>5.562173</td>\n",
       "      <td>-66.790000</td>\n",
       "      <td>-71.000000</td>\n",
       "      <td>4.959000</td>\n",
       "      <td>-68.892500</td>\n",
       "      <td>fuscus</td>\n",
       "    </tr>\n",
       "    <tr>\n",
       "      <th>0</th>\n",
       "      <td>516070.600000</td>\n",
       "      <td>32.300000</td>\n",
       "      <td>175.600000</td>\n",
       "      <td>40.666000</td>\n",
       "      <td>14.302000</td>\n",
       "      <td>3.492000</td>\n",
       "      <td>1.714000</td>\n",
       "      <td>0.804</td>\n",
       "      <td>3.652000</td>\n",
       "      <td>3.148000</td>\n",
       "      <td>0.968000</td>\n",
       "      <td>40.130202</td>\n",
       "      <td>16.941730</td>\n",
       "      <td>2.415571</td>\n",
       "      <td>93.886000</td>\n",
       "      <td>55.604</td>\n",
       "      <td>68.248000</td>\n",
       "      <td>68.930000</td>\n",
       "      <td>67.390000</td>\n",
       "      <td>64.478000</td>\n",
       "      <td>57.694</td>\n",
       "      <td>53.226000</td>\n",
       "      <td>50.550000</td>\n",
       "      <td>48.346000</td>\n",
       "      <td>6.232000</td>\n",
       "      <td>9.992000</td>\n",
       "      <td>1.686000</td>\n",
       "      <td>25.734000</td>\n",
       "      <td>1.522</td>\n",
       "      <td>19.680000</td>\n",
       "      <td>15.110000</td>\n",
       "      <td>22.062</td>\n",
       "      <td>15.596000</td>\n",
       "      <td>9.654000</td>\n",
       "      <td>4.928</td>\n",
       "      <td>6.354000</td>\n",
       "      <td>5.268000</td>\n",
       "      <td>67.154000</td>\n",
       "      <td>60.736000</td>\n",
       "      <td>-1.107009</td>\n",
       "      <td>0.516120</td>\n",
       "      <td>1.062023</td>\n",
       "      <td>-54.896400</td>\n",
       "      <td>65.9302</td>\n",
       "      <td>41.570000</td>\n",
       "      <td>-2.695400</td>\n",
       "      <td>0.964652</td>\n",
       "      <td>-0.068018</td>\n",
       "      <td>-0.162456</td>\n",
       "      <td>0.185144</td>\n",
       "      <td>9.712350e+28</td>\n",
       "      <td>10.235264</td>\n",
       "      <td>-17.055056</td>\n",
       "      <td>13.678313</td>\n",
       "      <td>44.701594</td>\n",
       "      <td>3.268752</td>\n",
       "      <td>6.341731</td>\n",
       "      <td>-66.200000</td>\n",
       "      <td>-69.980000</td>\n",
       "      <td>5.070000</td>\n",
       "      <td>-68.080800</td>\n",
       "      <td>oustaleti</td>\n",
       "    </tr>\n",
       "    <tr>\n",
       "      <th>0</th>\n",
       "      <td>561596.928571</td>\n",
       "      <td>48.714286</td>\n",
       "      <td>206.714286</td>\n",
       "      <td>46.861429</td>\n",
       "      <td>18.177857</td>\n",
       "      <td>4.442857</td>\n",
       "      <td>2.079286</td>\n",
       "      <td>0.900</td>\n",
       "      <td>4.507143</td>\n",
       "      <td>3.902857</td>\n",
       "      <td>0.970714</td>\n",
       "      <td>62.987115</td>\n",
       "      <td>25.488773</td>\n",
       "      <td>2.778447</td>\n",
       "      <td>102.086429</td>\n",
       "      <td>59.690</td>\n",
       "      <td>74.062143</td>\n",
       "      <td>75.220714</td>\n",
       "      <td>74.227143</td>\n",
       "      <td>71.979286</td>\n",
       "      <td>64.390</td>\n",
       "      <td>57.830714</td>\n",
       "      <td>54.222857</td>\n",
       "      <td>52.278571</td>\n",
       "      <td>6.694286</td>\n",
       "      <td>10.555714</td>\n",
       "      <td>2.169286</td>\n",
       "      <td>29.236429</td>\n",
       "      <td>1.775</td>\n",
       "      <td>20.562143</td>\n",
       "      <td>16.661429</td>\n",
       "      <td>25.650</td>\n",
       "      <td>17.641429</td>\n",
       "      <td>9.127857</td>\n",
       "      <td>5.845</td>\n",
       "      <td>7.083571</td>\n",
       "      <td>5.541429</td>\n",
       "      <td>81.327143</td>\n",
       "      <td>68.773571</td>\n",
       "      <td>-0.965270</td>\n",
       "      <td>0.592797</td>\n",
       "      <td>1.437501</td>\n",
       "      <td>-52.015357</td>\n",
       "      <td>67.4300</td>\n",
       "      <td>125.928571</td>\n",
       "      <td>0.995587</td>\n",
       "      <td>0.275780</td>\n",
       "      <td>0.478234</td>\n",
       "      <td>0.970845</td>\n",
       "      <td>-0.637578</td>\n",
       "      <td>5.900918e+82</td>\n",
       "      <td>13.871001</td>\n",
       "      <td>-17.254315</td>\n",
       "      <td>14.380291</td>\n",
       "      <td>46.419600</td>\n",
       "      <td>3.228946</td>\n",
       "      <td>5.727923</td>\n",
       "      <td>-82.714286</td>\n",
       "      <td>-76.557143</td>\n",
       "      <td>5.105714</td>\n",
       "      <td>-79.634571</td>\n",
       "      <td>patagonicus</td>\n",
       "    </tr>\n",
       "  </tbody>\n",
       "</table>\n",
       "</div>"
      ],
      "text/plain": [
       "   Specimen _Number  Body Mass (g)  Body _Length _(mm)  Head _Length _(mm)  \\\n",
       "0     608512.000000      34.000000          174.000000           35.970000   \n",
       "0     609498.000000      28.300000          169.000000           39.850000   \n",
       "0     796037.000000      51.850000          203.000000           45.455000   \n",
       "0     814047.000000      65.000000          211.000000           50.490000   \n",
       "0     691329.400000      29.990000          183.300000           39.552000   \n",
       "0     516070.600000      32.300000          175.600000           40.666000   \n",
       "0     561596.928571      48.714286          206.714286           46.861429   \n",
       "\n",
       "   Bill Length (mm)  Bill Width1 (mm)  Bill Width2 (mm)  Bill Width3 (mm)  \\\n",
       "0         13.000000          4.410000          1.670000             0.560   \n",
       "0         11.960000          4.230000          2.100000             1.080   \n",
       "0         19.425000          5.285000          2.355000             1.295   \n",
       "0         22.000000          5.820000          3.070000             1.310   \n",
       "0         14.269000          3.988000          1.927000             0.883   \n",
       "0         14.302000          3.492000          1.714000             0.804   \n",
       "0         18.177857          4.442857          2.079286             0.900   \n",
       "\n",
       "   Bill Depth1 (mm)  Bill Depth2 (mm)  Bill Depth3 (mm)  \\\n",
       "0          3.700000          3.030000          1.010000   \n",
       "0          3.960000          3.550000          0.620000   \n",
       "0          4.955000          3.810000          1.455000   \n",
       "0          6.080000          4.560000          1.080000   \n",
       "0          3.770000          2.843000          0.955000   \n",
       "0          3.652000          3.148000          0.968000   \n",
       "0          4.507143          3.902857          0.970714   \n",
       "\n",
       "   Proximal Bill Cross-Sectional_ Area (mm2)  \\\n",
       "0                                  51.261367   \n",
       "0                                  52.624190   \n",
       "0                                  82.549431   \n",
       "0                                 111.167141   \n",
       "0                                  47.362085   \n",
       "0                                  40.130202   \n",
       "0                                  62.987115   \n",
       "\n",
       "   Mid-Length Bill Cross-Sectional Area (mm2)  \\\n",
       "0                                   15.896773   \n",
       "0                                   23.420573   \n",
       "0                                   28.378006   \n",
       "0                                   43.979784   \n",
       "0                                   16.934158   \n",
       "0                                   16.941730   \n",
       "0                                   25.488773   \n",
       "\n",
       "   Distal Bill Cross-Sectional Area (mm2)  Wing Length (mm)  Primary 1 (mm)  \\\n",
       "0                                1.776885         96.920000          55.780   \n",
       "0                                2.103610         94.070000          51.760   \n",
       "0                                6.103015        109.155000          62.080   \n",
       "0                                4.444725        113.660000          60.020   \n",
       "0                                2.621722         97.898000          56.928   \n",
       "0                                2.415571         93.886000          55.604   \n",
       "0                                2.778447        102.086429          59.690   \n",
       "\n",
       "   Primary 2 (mm)  Primary 3 (mm)  Primary 4 (mm)  Primary 5 (mm)  \\\n",
       "0       68.730000       70.370000       69.290000       68.710000   \n",
       "0       67.150000       68.190000       66.530000       63.850000   \n",
       "0       75.350000       76.865000       76.150000       73.000000   \n",
       "0       79.950000       81.480000       81.110000       80.230000   \n",
       "0       69.950000       70.525000       69.247000       65.605000   \n",
       "0       68.248000       68.930000       67.390000       64.478000   \n",
       "0       74.062143       75.220714       74.227143       71.979286   \n",
       "\n",
       "   Primary 6 (mm)  Primary 7 (mm)  Primary 8 (mm)  Primary 9 (mm)  \\\n",
       "0          64.490       58.980000       56.380000       52.550000   \n",
       "0          57.750       51.270000       46.310000       45.110000   \n",
       "0          68.360       63.660000       60.750000       58.580000   \n",
       "0          72.870       65.790000       60.610000       57.640000   \n",
       "0          54.404       50.712000       45.861000       44.978000   \n",
       "0          57.694       53.226000       50.550000       48.346000   \n",
       "0          64.390       57.830714       54.222857       52.278571   \n",
       "\n",
       "   Width of Primary 1  Width of Primary 9  Tibiotarsus Width (mm)  \\\n",
       "0            6.460000           10.060000                1.930000   \n",
       "0            6.820000            9.840000                1.400000   \n",
       "0            7.845000           11.905000                2.675000   \n",
       "0            7.630000           13.070000                2.490000   \n",
       "0            6.531000           10.393000                1.799000   \n",
       "0            6.232000            9.992000                1.686000   \n",
       "0            6.694286           10.555714                2.169286   \n",
       "\n",
       "   Tarsometatarsus Length (mm)  Tarsometatarsus Width (mm)  Digit 1 (mm)  \\\n",
       "0                    30.610000                       1.300     18.880000   \n",
       "0                    25.270000                       1.390     17.970000   \n",
       "0                    32.360000                       1.975     19.990000   \n",
       "0                    29.060000                       2.090     27.160000   \n",
       "0                    24.996000                       1.491     20.492000   \n",
       "0                    25.734000                       1.522     19.680000   \n",
       "0                    29.236429                       1.775     20.562143   \n",
       "\n",
       "   Digit 2 (mm)  Digit 3 (mm)  Digit 4 (mm)  Ungual 1 (mm)  Ungual 2 (mm)  \\\n",
       "0     15.350000        21.090     15.430000       8.430000          4.520   \n",
       "0     12.790000        20.910     15.880000       7.750000          5.040   \n",
       "0     18.300000        26.830     19.360000       9.365000          5.830   \n",
       "0     19.280000        29.090     19.440000      14.040000          6.780   \n",
       "0     14.933000        22.594     15.406000       9.881000          4.716   \n",
       "0     15.110000        22.062     15.596000       9.654000          4.928   \n",
       "0     16.661429        25.650     17.641429       9.127857          5.845   \n",
       "\n",
       "   Ungual 3 (mm)  Ungual 4 (mm)  Central rectrix (mm)  Lateral Retrices  \\\n",
       "0       5.570000       4.870000             63.150000         57.040000   \n",
       "0       5.920000       4.440000             75.750000         64.780000   \n",
       "0       6.645000       5.860000             82.740000         64.230000   \n",
       "0       9.070000       7.230000             84.200000         70.860000   \n",
       "0       6.034000       4.738000             70.489000         60.098000   \n",
       "0       6.354000       5.268000             67.154000         60.736000   \n",
       "0       7.083571       5.541429             81.327143         68.773571   \n",
       "\n",
       "   Isometric Size Index  Wing Pointedness Index  Wing Convexity Index  \\\n",
       "0             -1.015885                1.111138              0.651690   \n",
       "0             -1.155503                0.535064              2.011635   \n",
       "0             -0.885712                0.925541              0.537463   \n",
       "0             -0.819891                1.095460              1.756631   \n",
       "0             -1.129359               -0.043667              2.015896   \n",
       "0             -1.107009                0.516120              1.062023   \n",
       "0             -0.965270                0.592797              1.437501   \n",
       "\n",
       "   Latitute (o South)  Longitude (o West)   Elevation1   Prin1 2   Prin2 2  \\\n",
       "0           -0.332000            -78.2030  4050.000000 -3.288870 -0.719583   \n",
       "0          -26.809000            -65.2110  3150.000000 -3.641687  0.113833   \n",
       "0          -13.589500            -72.2190  4133.500000  2.403044 -0.753116   \n",
       "0            5.067000            -75.5180  4000.000000  6.425882  3.818128   \n",
       "0          -39.025600             61.9539    18.100000 -3.045371  2.286211   \n",
       "0          -54.896400             65.9302    41.570000 -2.695400  0.964652   \n",
       "0          -52.015357             67.4300   125.928571  0.995587  0.275780   \n",
       "\n",
       "    Prin3 2   Prin4 2   Prin5 2  Specimen_Number       D15N       D13C  \\\n",
       "0 -0.933415 -0.756540  0.592147     6.085120e+05   7.176129 -22.273131   \n",
       "0  0.490758  1.573850 -0.998384     6.094980e+05   5.771343 -22.642056   \n",
       "0 -0.055260 -0.094407  0.313928     3.965889e+11   9.861279 -21.446598   \n",
       "0 -0.425634 -0.371925 -0.185219     8.140470e+05   5.470049 -21.098729   \n",
       "0  0.790447  1.007948 -0.512297     7.794878e+58   7.516334 -21.354571   \n",
       "0 -0.068018 -0.162456  0.185144     9.712350e+28  10.235264 -17.055056   \n",
       "0  0.478234  0.970845 -0.637578     5.900918e+82  13.871001 -17.254315   \n",
       "\n",
       "   Prct_Nitrogen  Prct_Carbon  C_N_Ratio      ?18O         dDa         dDb  \\\n",
       "0      13.871266    45.905594   3.309402  5.811644  -83.900000  -97.100000   \n",
       "0      13.725655    45.102260   3.285982  5.276920  -54.300000  -64.700000   \n",
       "0      14.063044    45.326623   3.224183  2.960829 -120.067000 -111.141000   \n",
       "0      14.389693    46.420923   3.225984 -0.879340 -103.237000 -101.040000   \n",
       "0      13.767316    44.997564   3.269171  5.562173  -66.790000  -71.000000   \n",
       "0      13.678313    44.701594   3.268752  6.341731  -66.200000  -69.980000   \n",
       "0      14.380291    46.419600   3.228946  5.727923  -82.714286  -76.557143   \n",
       "\n",
       "       [H]b     Mean_dD        Species  \n",
       "0  5.090000  -90.499000  albidiventris  \n",
       "0  5.020000  -59.496000    albiventris  \n",
       "0  5.419342 -115.604000    atacamensis  \n",
       "0  3.950280 -102.139000      excelsior  \n",
       "0  4.959000  -68.892500         fuscus  \n",
       "0  5.070000  -68.080800      oustaleti  \n",
       "0  5.105714  -79.634571    patagonicus  "
      ]
     },
     "execution_count": 111,
     "metadata": {},
     "output_type": "execute_result"
    }
   ],
   "source": [
    "def calculate_mean_value(category, category_list):\n",
    "    i=0\n",
    "    for el in category_list:\n",
    "        df_filter = dataset[category].isin([el])\n",
    "        df_new = dataset[df_filter].mean().to_frame().T\n",
    "        df_new[category] = el\n",
    "        if i == 0:\n",
    "            result = df_new.copy(deep=True) \n",
    "        else:\n",
    "            result = result.append(df_new)\n",
    "        i+=1\n",
    "    return result"
   ]
  },
  {
   "cell_type": "markdown",
   "metadata": {},
   "source": [
    "A graph of the average size of birds depending on the species"
   ]
  },
  {
   "cell_type": "code",
   "execution_count": 131,
   "metadata": {},
   "outputs": [
    {
     "data": {
      "text/html": [
       "<div>\n",
       "<style scoped>\n",
       "    .dataframe tbody tr th:only-of-type {\n",
       "        vertical-align: middle;\n",
       "    }\n",
       "\n",
       "    .dataframe tbody tr th {\n",
       "        vertical-align: top;\n",
       "    }\n",
       "\n",
       "    .dataframe thead th {\n",
       "        text-align: right;\n",
       "    }\n",
       "</style>\n",
       "<table border=\"1\" class=\"dataframe\">\n",
       "  <thead>\n",
       "    <tr style=\"text-align: right;\">\n",
       "      <th></th>\n",
       "      <th>Specimen _Number</th>\n",
       "      <th>Body Mass (g)</th>\n",
       "      <th>Body _Length _(mm)</th>\n",
       "      <th>Head _Length _(mm)</th>\n",
       "      <th>Bill Length (mm)</th>\n",
       "      <th>Bill Width1 (mm)</th>\n",
       "      <th>Bill Width2 (mm)</th>\n",
       "      <th>Bill Width3 (mm)</th>\n",
       "      <th>Bill Depth1 (mm)</th>\n",
       "      <th>Bill Depth2 (mm)</th>\n",
       "      <th>Bill Depth3 (mm)</th>\n",
       "      <th>Proximal Bill Cross-Sectional_ Area (mm2)</th>\n",
       "      <th>Mid-Length Bill Cross-Sectional Area (mm2)</th>\n",
       "      <th>Distal Bill Cross-Sectional Area (mm2)</th>\n",
       "      <th>Wing Length (mm)</th>\n",
       "      <th>Primary 1 (mm)</th>\n",
       "      <th>Primary 2 (mm)</th>\n",
       "      <th>Primary 3 (mm)</th>\n",
       "      <th>Primary 4 (mm)</th>\n",
       "      <th>Primary 5 (mm)</th>\n",
       "      <th>Primary 6 (mm)</th>\n",
       "      <th>Primary 7 (mm)</th>\n",
       "      <th>Primary 8 (mm)</th>\n",
       "      <th>Primary 9 (mm)</th>\n",
       "      <th>Width of Primary 1</th>\n",
       "      <th>Width of Primary 9</th>\n",
       "      <th>Tibiotarsus Width (mm)</th>\n",
       "      <th>Tarsometatarsus Length (mm)</th>\n",
       "      <th>Tarsometatarsus Width (mm)</th>\n",
       "      <th>Digit 1 (mm)</th>\n",
       "      <th>Digit 2 (mm)</th>\n",
       "      <th>Digit 3 (mm)</th>\n",
       "      <th>Digit 4 (mm)</th>\n",
       "      <th>Ungual 1 (mm)</th>\n",
       "      <th>Ungual 2 (mm)</th>\n",
       "      <th>Ungual 3 (mm)</th>\n",
       "      <th>Ungual 4 (mm)</th>\n",
       "      <th>Central rectrix (mm)</th>\n",
       "      <th>Lateral Retrices</th>\n",
       "      <th>Isometric Size Index</th>\n",
       "      <th>Wing Pointedness Index</th>\n",
       "      <th>Wing Convexity Index</th>\n",
       "      <th>Latitute (o South)</th>\n",
       "      <th>Longitude (o West)</th>\n",
       "      <th>Elevation1</th>\n",
       "      <th>Prin1 2</th>\n",
       "      <th>Prin2 2</th>\n",
       "      <th>Prin3 2</th>\n",
       "      <th>Prin4 2</th>\n",
       "      <th>Prin5 2</th>\n",
       "      <th>Specimen_Number</th>\n",
       "      <th>D15N</th>\n",
       "      <th>D13C</th>\n",
       "      <th>Prct_Nitrogen</th>\n",
       "      <th>Prct_Carbon</th>\n",
       "      <th>C_N_Ratio</th>\n",
       "      <th>?18O</th>\n",
       "      <th>dDa</th>\n",
       "      <th>dDb</th>\n",
       "      <th>[H]b</th>\n",
       "      <th>Mean_dD</th>\n",
       "      <th>Species</th>\n",
       "    </tr>\n",
       "  </thead>\n",
       "  <tbody>\n",
       "    <tr>\n",
       "      <th>0</th>\n",
       "      <td>608512.000000</td>\n",
       "      <td>34.000000</td>\n",
       "      <td>174.000000</td>\n",
       "      <td>35.970000</td>\n",
       "      <td>13.000000</td>\n",
       "      <td>4.410000</td>\n",
       "      <td>1.670000</td>\n",
       "      <td>0.560</td>\n",
       "      <td>3.700000</td>\n",
       "      <td>3.030000</td>\n",
       "      <td>1.010000</td>\n",
       "      <td>51.261367</td>\n",
       "      <td>15.896773</td>\n",
       "      <td>1.776885</td>\n",
       "      <td>96.920000</td>\n",
       "      <td>55.780</td>\n",
       "      <td>68.730000</td>\n",
       "      <td>70.370000</td>\n",
       "      <td>69.290000</td>\n",
       "      <td>68.710000</td>\n",
       "      <td>64.490</td>\n",
       "      <td>58.980000</td>\n",
       "      <td>56.380000</td>\n",
       "      <td>52.550000</td>\n",
       "      <td>6.460000</td>\n",
       "      <td>10.060000</td>\n",
       "      <td>1.930000</td>\n",
       "      <td>30.610000</td>\n",
       "      <td>1.300</td>\n",
       "      <td>18.880000</td>\n",
       "      <td>15.350000</td>\n",
       "      <td>21.090</td>\n",
       "      <td>15.430000</td>\n",
       "      <td>8.430000</td>\n",
       "      <td>4.520</td>\n",
       "      <td>5.570000</td>\n",
       "      <td>4.870000</td>\n",
       "      <td>63.150000</td>\n",
       "      <td>57.040000</td>\n",
       "      <td>-1.015885</td>\n",
       "      <td>1.111138</td>\n",
       "      <td>0.651690</td>\n",
       "      <td>-0.332000</td>\n",
       "      <td>-78.2030</td>\n",
       "      <td>4050.000000</td>\n",
       "      <td>-3.288870</td>\n",
       "      <td>-0.719583</td>\n",
       "      <td>-0.933415</td>\n",
       "      <td>-0.756540</td>\n",
       "      <td>0.592147</td>\n",
       "      <td>6.085120e+05</td>\n",
       "      <td>7.176129</td>\n",
       "      <td>-22.273131</td>\n",
       "      <td>13.871266</td>\n",
       "      <td>45.905594</td>\n",
       "      <td>3.309402</td>\n",
       "      <td>5.811644</td>\n",
       "      <td>-83.900000</td>\n",
       "      <td>-97.100000</td>\n",
       "      <td>5.090000</td>\n",
       "      <td>-90.499000</td>\n",
       "      <td>albidiventris</td>\n",
       "    </tr>\n",
       "    <tr>\n",
       "      <th>0</th>\n",
       "      <td>609498.000000</td>\n",
       "      <td>28.300000</td>\n",
       "      <td>169.000000</td>\n",
       "      <td>39.850000</td>\n",
       "      <td>11.960000</td>\n",
       "      <td>4.230000</td>\n",
       "      <td>2.100000</td>\n",
       "      <td>1.080</td>\n",
       "      <td>3.960000</td>\n",
       "      <td>3.550000</td>\n",
       "      <td>0.620000</td>\n",
       "      <td>52.624190</td>\n",
       "      <td>23.420573</td>\n",
       "      <td>2.103610</td>\n",
       "      <td>94.070000</td>\n",
       "      <td>51.760</td>\n",
       "      <td>67.150000</td>\n",
       "      <td>68.190000</td>\n",
       "      <td>66.530000</td>\n",
       "      <td>63.850000</td>\n",
       "      <td>57.750</td>\n",
       "      <td>51.270000</td>\n",
       "      <td>46.310000</td>\n",
       "      <td>45.110000</td>\n",
       "      <td>6.820000</td>\n",
       "      <td>9.840000</td>\n",
       "      <td>1.400000</td>\n",
       "      <td>25.270000</td>\n",
       "      <td>1.390</td>\n",
       "      <td>17.970000</td>\n",
       "      <td>12.790000</td>\n",
       "      <td>20.910</td>\n",
       "      <td>15.880000</td>\n",
       "      <td>7.750000</td>\n",
       "      <td>5.040</td>\n",
       "      <td>5.920000</td>\n",
       "      <td>4.440000</td>\n",
       "      <td>75.750000</td>\n",
       "      <td>64.780000</td>\n",
       "      <td>-1.155503</td>\n",
       "      <td>0.535064</td>\n",
       "      <td>2.011635</td>\n",
       "      <td>-26.809000</td>\n",
       "      <td>-65.2110</td>\n",
       "      <td>3150.000000</td>\n",
       "      <td>-3.641687</td>\n",
       "      <td>0.113833</td>\n",
       "      <td>0.490758</td>\n",
       "      <td>1.573850</td>\n",
       "      <td>-0.998384</td>\n",
       "      <td>6.094980e+05</td>\n",
       "      <td>5.771343</td>\n",
       "      <td>-22.642056</td>\n",
       "      <td>13.725655</td>\n",
       "      <td>45.102260</td>\n",
       "      <td>3.285982</td>\n",
       "      <td>5.276920</td>\n",
       "      <td>-54.300000</td>\n",
       "      <td>-64.700000</td>\n",
       "      <td>5.020000</td>\n",
       "      <td>-59.496000</td>\n",
       "      <td>albiventris</td>\n",
       "    </tr>\n",
       "    <tr>\n",
       "      <th>0</th>\n",
       "      <td>796037.000000</td>\n",
       "      <td>51.850000</td>\n",
       "      <td>203.000000</td>\n",
       "      <td>45.455000</td>\n",
       "      <td>19.425000</td>\n",
       "      <td>5.285000</td>\n",
       "      <td>2.355000</td>\n",
       "      <td>1.295</td>\n",
       "      <td>4.955000</td>\n",
       "      <td>3.810000</td>\n",
       "      <td>1.455000</td>\n",
       "      <td>82.549431</td>\n",
       "      <td>28.378006</td>\n",
       "      <td>6.103015</td>\n",
       "      <td>109.155000</td>\n",
       "      <td>62.080</td>\n",
       "      <td>75.350000</td>\n",
       "      <td>76.865000</td>\n",
       "      <td>76.150000</td>\n",
       "      <td>73.000000</td>\n",
       "      <td>68.360</td>\n",
       "      <td>63.660000</td>\n",
       "      <td>60.750000</td>\n",
       "      <td>58.580000</td>\n",
       "      <td>7.845000</td>\n",
       "      <td>11.905000</td>\n",
       "      <td>2.675000</td>\n",
       "      <td>32.360000</td>\n",
       "      <td>1.975</td>\n",
       "      <td>19.990000</td>\n",
       "      <td>18.300000</td>\n",
       "      <td>26.830</td>\n",
       "      <td>19.360000</td>\n",
       "      <td>9.365000</td>\n",
       "      <td>5.830</td>\n",
       "      <td>6.645000</td>\n",
       "      <td>5.860000</td>\n",
       "      <td>82.740000</td>\n",
       "      <td>64.230000</td>\n",
       "      <td>-0.885712</td>\n",
       "      <td>0.925541</td>\n",
       "      <td>0.537463</td>\n",
       "      <td>-13.589500</td>\n",
       "      <td>-72.2190</td>\n",
       "      <td>4133.500000</td>\n",
       "      <td>2.403044</td>\n",
       "      <td>-0.753116</td>\n",
       "      <td>-0.055260</td>\n",
       "      <td>-0.094407</td>\n",
       "      <td>0.313928</td>\n",
       "      <td>3.965889e+11</td>\n",
       "      <td>9.861279</td>\n",
       "      <td>-21.446598</td>\n",
       "      <td>14.063044</td>\n",
       "      <td>45.326623</td>\n",
       "      <td>3.224183</td>\n",
       "      <td>2.960829</td>\n",
       "      <td>-120.067000</td>\n",
       "      <td>-111.141000</td>\n",
       "      <td>5.419342</td>\n",
       "      <td>-115.604000</td>\n",
       "      <td>atacamensis</td>\n",
       "    </tr>\n",
       "    <tr>\n",
       "      <th>0</th>\n",
       "      <td>814047.000000</td>\n",
       "      <td>65.000000</td>\n",
       "      <td>211.000000</td>\n",
       "      <td>50.490000</td>\n",
       "      <td>22.000000</td>\n",
       "      <td>5.820000</td>\n",
       "      <td>3.070000</td>\n",
       "      <td>1.310</td>\n",
       "      <td>6.080000</td>\n",
       "      <td>4.560000</td>\n",
       "      <td>1.080000</td>\n",
       "      <td>111.167141</td>\n",
       "      <td>43.979784</td>\n",
       "      <td>4.444725</td>\n",
       "      <td>113.660000</td>\n",
       "      <td>60.020</td>\n",
       "      <td>79.950000</td>\n",
       "      <td>81.480000</td>\n",
       "      <td>81.110000</td>\n",
       "      <td>80.230000</td>\n",
       "      <td>72.870</td>\n",
       "      <td>65.790000</td>\n",
       "      <td>60.610000</td>\n",
       "      <td>57.640000</td>\n",
       "      <td>7.630000</td>\n",
       "      <td>13.070000</td>\n",
       "      <td>2.490000</td>\n",
       "      <td>29.060000</td>\n",
       "      <td>2.090</td>\n",
       "      <td>27.160000</td>\n",
       "      <td>19.280000</td>\n",
       "      <td>29.090</td>\n",
       "      <td>19.440000</td>\n",
       "      <td>14.040000</td>\n",
       "      <td>6.780</td>\n",
       "      <td>9.070000</td>\n",
       "      <td>7.230000</td>\n",
       "      <td>84.200000</td>\n",
       "      <td>70.860000</td>\n",
       "      <td>-0.819891</td>\n",
       "      <td>1.095460</td>\n",
       "      <td>1.756631</td>\n",
       "      <td>5.067000</td>\n",
       "      <td>-75.5180</td>\n",
       "      <td>4000.000000</td>\n",
       "      <td>6.425882</td>\n",
       "      <td>3.818128</td>\n",
       "      <td>-0.425634</td>\n",
       "      <td>-0.371925</td>\n",
       "      <td>-0.185219</td>\n",
       "      <td>8.140470e+05</td>\n",
       "      <td>5.470049</td>\n",
       "      <td>-21.098729</td>\n",
       "      <td>14.389693</td>\n",
       "      <td>46.420923</td>\n",
       "      <td>3.225984</td>\n",
       "      <td>-0.879340</td>\n",
       "      <td>-103.237000</td>\n",
       "      <td>-101.040000</td>\n",
       "      <td>3.950280</td>\n",
       "      <td>-102.139000</td>\n",
       "      <td>excelsior</td>\n",
       "    </tr>\n",
       "    <tr>\n",
       "      <th>0</th>\n",
       "      <td>691329.400000</td>\n",
       "      <td>29.990000</td>\n",
       "      <td>183.300000</td>\n",
       "      <td>39.552000</td>\n",
       "      <td>14.269000</td>\n",
       "      <td>3.988000</td>\n",
       "      <td>1.927000</td>\n",
       "      <td>0.883</td>\n",
       "      <td>3.770000</td>\n",
       "      <td>2.843000</td>\n",
       "      <td>0.955000</td>\n",
       "      <td>47.362085</td>\n",
       "      <td>16.934158</td>\n",
       "      <td>2.621722</td>\n",
       "      <td>97.898000</td>\n",
       "      <td>56.928</td>\n",
       "      <td>69.950000</td>\n",
       "      <td>70.525000</td>\n",
       "      <td>69.247000</td>\n",
       "      <td>65.605000</td>\n",
       "      <td>54.404</td>\n",
       "      <td>50.712000</td>\n",
       "      <td>45.861000</td>\n",
       "      <td>44.978000</td>\n",
       "      <td>6.531000</td>\n",
       "      <td>10.393000</td>\n",
       "      <td>1.799000</td>\n",
       "      <td>24.996000</td>\n",
       "      <td>1.491</td>\n",
       "      <td>20.492000</td>\n",
       "      <td>14.933000</td>\n",
       "      <td>22.594</td>\n",
       "      <td>15.406000</td>\n",
       "      <td>9.881000</td>\n",
       "      <td>4.716</td>\n",
       "      <td>6.034000</td>\n",
       "      <td>4.738000</td>\n",
       "      <td>70.489000</td>\n",
       "      <td>60.098000</td>\n",
       "      <td>-1.129359</td>\n",
       "      <td>-0.043667</td>\n",
       "      <td>2.015896</td>\n",
       "      <td>-39.025600</td>\n",
       "      <td>61.9539</td>\n",
       "      <td>18.100000</td>\n",
       "      <td>-3.045371</td>\n",
       "      <td>2.286211</td>\n",
       "      <td>0.790447</td>\n",
       "      <td>1.007948</td>\n",
       "      <td>-0.512297</td>\n",
       "      <td>7.794878e+58</td>\n",
       "      <td>7.516334</td>\n",
       "      <td>-21.354571</td>\n",
       "      <td>13.767316</td>\n",
       "      <td>44.997564</td>\n",
       "      <td>3.269171</td>\n",
       "      <td>5.562173</td>\n",
       "      <td>-66.790000</td>\n",
       "      <td>-71.000000</td>\n",
       "      <td>4.959000</td>\n",
       "      <td>-68.892500</td>\n",
       "      <td>fuscus</td>\n",
       "    </tr>\n",
       "    <tr>\n",
       "      <th>0</th>\n",
       "      <td>516070.600000</td>\n",
       "      <td>32.300000</td>\n",
       "      <td>175.600000</td>\n",
       "      <td>40.666000</td>\n",
       "      <td>14.302000</td>\n",
       "      <td>3.492000</td>\n",
       "      <td>1.714000</td>\n",
       "      <td>0.804</td>\n",
       "      <td>3.652000</td>\n",
       "      <td>3.148000</td>\n",
       "      <td>0.968000</td>\n",
       "      <td>40.130202</td>\n",
       "      <td>16.941730</td>\n",
       "      <td>2.415571</td>\n",
       "      <td>93.886000</td>\n",
       "      <td>55.604</td>\n",
       "      <td>68.248000</td>\n",
       "      <td>68.930000</td>\n",
       "      <td>67.390000</td>\n",
       "      <td>64.478000</td>\n",
       "      <td>57.694</td>\n",
       "      <td>53.226000</td>\n",
       "      <td>50.550000</td>\n",
       "      <td>48.346000</td>\n",
       "      <td>6.232000</td>\n",
       "      <td>9.992000</td>\n",
       "      <td>1.686000</td>\n",
       "      <td>25.734000</td>\n",
       "      <td>1.522</td>\n",
       "      <td>19.680000</td>\n",
       "      <td>15.110000</td>\n",
       "      <td>22.062</td>\n",
       "      <td>15.596000</td>\n",
       "      <td>9.654000</td>\n",
       "      <td>4.928</td>\n",
       "      <td>6.354000</td>\n",
       "      <td>5.268000</td>\n",
       "      <td>67.154000</td>\n",
       "      <td>60.736000</td>\n",
       "      <td>-1.107009</td>\n",
       "      <td>0.516120</td>\n",
       "      <td>1.062023</td>\n",
       "      <td>-54.896400</td>\n",
       "      <td>65.9302</td>\n",
       "      <td>41.570000</td>\n",
       "      <td>-2.695400</td>\n",
       "      <td>0.964652</td>\n",
       "      <td>-0.068018</td>\n",
       "      <td>-0.162456</td>\n",
       "      <td>0.185144</td>\n",
       "      <td>9.712350e+28</td>\n",
       "      <td>10.235264</td>\n",
       "      <td>-17.055056</td>\n",
       "      <td>13.678313</td>\n",
       "      <td>44.701594</td>\n",
       "      <td>3.268752</td>\n",
       "      <td>6.341731</td>\n",
       "      <td>-66.200000</td>\n",
       "      <td>-69.980000</td>\n",
       "      <td>5.070000</td>\n",
       "      <td>-68.080800</td>\n",
       "      <td>oustaleti</td>\n",
       "    </tr>\n",
       "    <tr>\n",
       "      <th>0</th>\n",
       "      <td>561596.928571</td>\n",
       "      <td>48.714286</td>\n",
       "      <td>206.714286</td>\n",
       "      <td>46.861429</td>\n",
       "      <td>18.177857</td>\n",
       "      <td>4.442857</td>\n",
       "      <td>2.079286</td>\n",
       "      <td>0.900</td>\n",
       "      <td>4.507143</td>\n",
       "      <td>3.902857</td>\n",
       "      <td>0.970714</td>\n",
       "      <td>62.987115</td>\n",
       "      <td>25.488773</td>\n",
       "      <td>2.778447</td>\n",
       "      <td>102.086429</td>\n",
       "      <td>59.690</td>\n",
       "      <td>74.062143</td>\n",
       "      <td>75.220714</td>\n",
       "      <td>74.227143</td>\n",
       "      <td>71.979286</td>\n",
       "      <td>64.390</td>\n",
       "      <td>57.830714</td>\n",
       "      <td>54.222857</td>\n",
       "      <td>52.278571</td>\n",
       "      <td>6.694286</td>\n",
       "      <td>10.555714</td>\n",
       "      <td>2.169286</td>\n",
       "      <td>29.236429</td>\n",
       "      <td>1.775</td>\n",
       "      <td>20.562143</td>\n",
       "      <td>16.661429</td>\n",
       "      <td>25.650</td>\n",
       "      <td>17.641429</td>\n",
       "      <td>9.127857</td>\n",
       "      <td>5.845</td>\n",
       "      <td>7.083571</td>\n",
       "      <td>5.541429</td>\n",
       "      <td>81.327143</td>\n",
       "      <td>68.773571</td>\n",
       "      <td>-0.965270</td>\n",
       "      <td>0.592797</td>\n",
       "      <td>1.437501</td>\n",
       "      <td>-52.015357</td>\n",
       "      <td>67.4300</td>\n",
       "      <td>125.928571</td>\n",
       "      <td>0.995587</td>\n",
       "      <td>0.275780</td>\n",
       "      <td>0.478234</td>\n",
       "      <td>0.970845</td>\n",
       "      <td>-0.637578</td>\n",
       "      <td>5.900918e+82</td>\n",
       "      <td>13.871001</td>\n",
       "      <td>-17.254315</td>\n",
       "      <td>14.380291</td>\n",
       "      <td>46.419600</td>\n",
       "      <td>3.228946</td>\n",
       "      <td>5.727923</td>\n",
       "      <td>-82.714286</td>\n",
       "      <td>-76.557143</td>\n",
       "      <td>5.105714</td>\n",
       "      <td>-79.634571</td>\n",
       "      <td>patagonicus</td>\n",
       "    </tr>\n",
       "  </tbody>\n",
       "</table>\n",
       "</div>"
      ],
      "text/plain": [
       "   Specimen _Number  Body Mass (g)  Body _Length _(mm)  Head _Length _(mm)  \\\n",
       "0     608512.000000      34.000000          174.000000           35.970000   \n",
       "0     609498.000000      28.300000          169.000000           39.850000   \n",
       "0     796037.000000      51.850000          203.000000           45.455000   \n",
       "0     814047.000000      65.000000          211.000000           50.490000   \n",
       "0     691329.400000      29.990000          183.300000           39.552000   \n",
       "0     516070.600000      32.300000          175.600000           40.666000   \n",
       "0     561596.928571      48.714286          206.714286           46.861429   \n",
       "\n",
       "   Bill Length (mm)  Bill Width1 (mm)  Bill Width2 (mm)  Bill Width3 (mm)  \\\n",
       "0         13.000000          4.410000          1.670000             0.560   \n",
       "0         11.960000          4.230000          2.100000             1.080   \n",
       "0         19.425000          5.285000          2.355000             1.295   \n",
       "0         22.000000          5.820000          3.070000             1.310   \n",
       "0         14.269000          3.988000          1.927000             0.883   \n",
       "0         14.302000          3.492000          1.714000             0.804   \n",
       "0         18.177857          4.442857          2.079286             0.900   \n",
       "\n",
       "   Bill Depth1 (mm)  Bill Depth2 (mm)  Bill Depth3 (mm)  \\\n",
       "0          3.700000          3.030000          1.010000   \n",
       "0          3.960000          3.550000          0.620000   \n",
       "0          4.955000          3.810000          1.455000   \n",
       "0          6.080000          4.560000          1.080000   \n",
       "0          3.770000          2.843000          0.955000   \n",
       "0          3.652000          3.148000          0.968000   \n",
       "0          4.507143          3.902857          0.970714   \n",
       "\n",
       "   Proximal Bill Cross-Sectional_ Area (mm2)  \\\n",
       "0                                  51.261367   \n",
       "0                                  52.624190   \n",
       "0                                  82.549431   \n",
       "0                                 111.167141   \n",
       "0                                  47.362085   \n",
       "0                                  40.130202   \n",
       "0                                  62.987115   \n",
       "\n",
       "   Mid-Length Bill Cross-Sectional Area (mm2)  \\\n",
       "0                                   15.896773   \n",
       "0                                   23.420573   \n",
       "0                                   28.378006   \n",
       "0                                   43.979784   \n",
       "0                                   16.934158   \n",
       "0                                   16.941730   \n",
       "0                                   25.488773   \n",
       "\n",
       "   Distal Bill Cross-Sectional Area (mm2)  Wing Length (mm)  Primary 1 (mm)  \\\n",
       "0                                1.776885         96.920000          55.780   \n",
       "0                                2.103610         94.070000          51.760   \n",
       "0                                6.103015        109.155000          62.080   \n",
       "0                                4.444725        113.660000          60.020   \n",
       "0                                2.621722         97.898000          56.928   \n",
       "0                                2.415571         93.886000          55.604   \n",
       "0                                2.778447        102.086429          59.690   \n",
       "\n",
       "   Primary 2 (mm)  Primary 3 (mm)  Primary 4 (mm)  Primary 5 (mm)  \\\n",
       "0       68.730000       70.370000       69.290000       68.710000   \n",
       "0       67.150000       68.190000       66.530000       63.850000   \n",
       "0       75.350000       76.865000       76.150000       73.000000   \n",
       "0       79.950000       81.480000       81.110000       80.230000   \n",
       "0       69.950000       70.525000       69.247000       65.605000   \n",
       "0       68.248000       68.930000       67.390000       64.478000   \n",
       "0       74.062143       75.220714       74.227143       71.979286   \n",
       "\n",
       "   Primary 6 (mm)  Primary 7 (mm)  Primary 8 (mm)  Primary 9 (mm)  \\\n",
       "0          64.490       58.980000       56.380000       52.550000   \n",
       "0          57.750       51.270000       46.310000       45.110000   \n",
       "0          68.360       63.660000       60.750000       58.580000   \n",
       "0          72.870       65.790000       60.610000       57.640000   \n",
       "0          54.404       50.712000       45.861000       44.978000   \n",
       "0          57.694       53.226000       50.550000       48.346000   \n",
       "0          64.390       57.830714       54.222857       52.278571   \n",
       "\n",
       "   Width of Primary 1  Width of Primary 9  Tibiotarsus Width (mm)  \\\n",
       "0            6.460000           10.060000                1.930000   \n",
       "0            6.820000            9.840000                1.400000   \n",
       "0            7.845000           11.905000                2.675000   \n",
       "0            7.630000           13.070000                2.490000   \n",
       "0            6.531000           10.393000                1.799000   \n",
       "0            6.232000            9.992000                1.686000   \n",
       "0            6.694286           10.555714                2.169286   \n",
       "\n",
       "   Tarsometatarsus Length (mm)  Tarsometatarsus Width (mm)  Digit 1 (mm)  \\\n",
       "0                    30.610000                       1.300     18.880000   \n",
       "0                    25.270000                       1.390     17.970000   \n",
       "0                    32.360000                       1.975     19.990000   \n",
       "0                    29.060000                       2.090     27.160000   \n",
       "0                    24.996000                       1.491     20.492000   \n",
       "0                    25.734000                       1.522     19.680000   \n",
       "0                    29.236429                       1.775     20.562143   \n",
       "\n",
       "   Digit 2 (mm)  Digit 3 (mm)  Digit 4 (mm)  Ungual 1 (mm)  Ungual 2 (mm)  \\\n",
       "0     15.350000        21.090     15.430000       8.430000          4.520   \n",
       "0     12.790000        20.910     15.880000       7.750000          5.040   \n",
       "0     18.300000        26.830     19.360000       9.365000          5.830   \n",
       "0     19.280000        29.090     19.440000      14.040000          6.780   \n",
       "0     14.933000        22.594     15.406000       9.881000          4.716   \n",
       "0     15.110000        22.062     15.596000       9.654000          4.928   \n",
       "0     16.661429        25.650     17.641429       9.127857          5.845   \n",
       "\n",
       "   Ungual 3 (mm)  Ungual 4 (mm)  Central rectrix (mm)  Lateral Retrices  \\\n",
       "0       5.570000       4.870000             63.150000         57.040000   \n",
       "0       5.920000       4.440000             75.750000         64.780000   \n",
       "0       6.645000       5.860000             82.740000         64.230000   \n",
       "0       9.070000       7.230000             84.200000         70.860000   \n",
       "0       6.034000       4.738000             70.489000         60.098000   \n",
       "0       6.354000       5.268000             67.154000         60.736000   \n",
       "0       7.083571       5.541429             81.327143         68.773571   \n",
       "\n",
       "   Isometric Size Index  Wing Pointedness Index  Wing Convexity Index  \\\n",
       "0             -1.015885                1.111138              0.651690   \n",
       "0             -1.155503                0.535064              2.011635   \n",
       "0             -0.885712                0.925541              0.537463   \n",
       "0             -0.819891                1.095460              1.756631   \n",
       "0             -1.129359               -0.043667              2.015896   \n",
       "0             -1.107009                0.516120              1.062023   \n",
       "0             -0.965270                0.592797              1.437501   \n",
       "\n",
       "   Latitute (o South)  Longitude (o West)   Elevation1   Prin1 2   Prin2 2  \\\n",
       "0           -0.332000            -78.2030  4050.000000 -3.288870 -0.719583   \n",
       "0          -26.809000            -65.2110  3150.000000 -3.641687  0.113833   \n",
       "0          -13.589500            -72.2190  4133.500000  2.403044 -0.753116   \n",
       "0            5.067000            -75.5180  4000.000000  6.425882  3.818128   \n",
       "0          -39.025600             61.9539    18.100000 -3.045371  2.286211   \n",
       "0          -54.896400             65.9302    41.570000 -2.695400  0.964652   \n",
       "0          -52.015357             67.4300   125.928571  0.995587  0.275780   \n",
       "\n",
       "    Prin3 2   Prin4 2   Prin5 2  Specimen_Number       D15N       D13C  \\\n",
       "0 -0.933415 -0.756540  0.592147     6.085120e+05   7.176129 -22.273131   \n",
       "0  0.490758  1.573850 -0.998384     6.094980e+05   5.771343 -22.642056   \n",
       "0 -0.055260 -0.094407  0.313928     3.965889e+11   9.861279 -21.446598   \n",
       "0 -0.425634 -0.371925 -0.185219     8.140470e+05   5.470049 -21.098729   \n",
       "0  0.790447  1.007948 -0.512297     7.794878e+58   7.516334 -21.354571   \n",
       "0 -0.068018 -0.162456  0.185144     9.712350e+28  10.235264 -17.055056   \n",
       "0  0.478234  0.970845 -0.637578     5.900918e+82  13.871001 -17.254315   \n",
       "\n",
       "   Prct_Nitrogen  Prct_Carbon  C_N_Ratio      ?18O         dDa         dDb  \\\n",
       "0      13.871266    45.905594   3.309402  5.811644  -83.900000  -97.100000   \n",
       "0      13.725655    45.102260   3.285982  5.276920  -54.300000  -64.700000   \n",
       "0      14.063044    45.326623   3.224183  2.960829 -120.067000 -111.141000   \n",
       "0      14.389693    46.420923   3.225984 -0.879340 -103.237000 -101.040000   \n",
       "0      13.767316    44.997564   3.269171  5.562173  -66.790000  -71.000000   \n",
       "0      13.678313    44.701594   3.268752  6.341731  -66.200000  -69.980000   \n",
       "0      14.380291    46.419600   3.228946  5.727923  -82.714286  -76.557143   \n",
       "\n",
       "       [H]b     Mean_dD        Species  \n",
       "0  5.090000  -90.499000  albidiventris  \n",
       "0  5.020000  -59.496000    albiventris  \n",
       "0  5.419342 -115.604000    atacamensis  \n",
       "0  3.950280 -102.139000      excelsior  \n",
       "0  4.959000  -68.892500         fuscus  \n",
       "0  5.070000  -68.080800      oustaleti  \n",
       "0  5.105714  -79.634571    patagonicus  "
      ]
     },
     "execution_count": 131,
     "metadata": {},
     "output_type": "execute_result"
    }
   ],
   "source": [
    "types_list = []\n",
    "for el in dataset['Species']:\n",
    "    if el not in types_list:\n",
    "        types_list.append(el)\n",
    "\n",
    "df_species = calculate_mean_value('Species',types_list)\n",
    "df_species"
   ]
  },
  {
   "cell_type": "code",
   "execution_count": 132,
   "metadata": {},
   "outputs": [
    {
     "data": {
      "image/png": "[encoded data removed]",
      "text/plain": [
       "<Figure size 432x288 with 1 Axes>"
      ]
     },
     "metadata": {
      "needs_background": "light"
     },
     "output_type": "display_data"
    }
   ],
   "source": [
    "spicies = df_species.sort_values(by=\"Body Mass (g)\", ascending=False)\n",
    "spicies.plot(x=\"Species\", y=[\"Body Mass (g)\", \"Head _Length _(mm)\", \"Bill Length (mm)\"], kind=\"bar\", rot=20, fontsize=10).grid()"
   ]
  },
  {
   "cell_type": "markdown",
   "metadata": {},
   "source": [
    "A graph of the average size of birds depending on the country"
   ]
  },
  {
   "cell_type": "code",
   "execution_count": 133,
   "metadata": {},
   "outputs": [
    {
     "data": {
      "text/html": [
       "<div>\n",
       "<style scoped>\n",
       "    .dataframe tbody tr th:only-of-type {\n",
       "        vertical-align: middle;\n",
       "    }\n",
       "\n",
       "    .dataframe tbody tr th {\n",
       "        vertical-align: top;\n",
       "    }\n",
       "\n",
       "    .dataframe thead th {\n",
       "        text-align: right;\n",
       "    }\n",
       "</style>\n",
       "<table border=\"1\" class=\"dataframe\">\n",
       "  <thead>\n",
       "    <tr style=\"text-align: right;\">\n",
       "      <th></th>\n",
       "      <th>Specimen _Number</th>\n",
       "      <th>Body Mass (g)</th>\n",
       "      <th>Body _Length _(mm)</th>\n",
       "      <th>Head _Length _(mm)</th>\n",
       "      <th>Bill Length (mm)</th>\n",
       "      <th>Bill Width1 (mm)</th>\n",
       "      <th>Bill Width2 (mm)</th>\n",
       "      <th>Bill Width3 (mm)</th>\n",
       "      <th>Bill Depth1 (mm)</th>\n",
       "      <th>Bill Depth2 (mm)</th>\n",
       "      <th>Bill Depth3 (mm)</th>\n",
       "      <th>Proximal Bill Cross-Sectional_ Area (mm2)</th>\n",
       "      <th>Mid-Length Bill Cross-Sectional Area (mm2)</th>\n",
       "      <th>Distal Bill Cross-Sectional Area (mm2)</th>\n",
       "      <th>Wing Length (mm)</th>\n",
       "      <th>Primary 1 (mm)</th>\n",
       "      <th>Primary 2 (mm)</th>\n",
       "      <th>Primary 3 (mm)</th>\n",
       "      <th>Primary 4 (mm)</th>\n",
       "      <th>Primary 5 (mm)</th>\n",
       "      <th>Primary 6 (mm)</th>\n",
       "      <th>Primary 7 (mm)</th>\n",
       "      <th>Primary 8 (mm)</th>\n",
       "      <th>Primary 9 (mm)</th>\n",
       "      <th>Width of Primary 1</th>\n",
       "      <th>Width of Primary 9</th>\n",
       "      <th>Tibiotarsus Width (mm)</th>\n",
       "      <th>Tarsometatarsus Length (mm)</th>\n",
       "      <th>Tarsometatarsus Width (mm)</th>\n",
       "      <th>Digit 1 (mm)</th>\n",
       "      <th>Digit 2 (mm)</th>\n",
       "      <th>Digit 3 (mm)</th>\n",
       "      <th>Digit 4 (mm)</th>\n",
       "      <th>Ungual 1 (mm)</th>\n",
       "      <th>Ungual 2 (mm)</th>\n",
       "      <th>Ungual 3 (mm)</th>\n",
       "      <th>Ungual 4 (mm)</th>\n",
       "      <th>Central rectrix (mm)</th>\n",
       "      <th>Lateral Retrices</th>\n",
       "      <th>Isometric Size Index</th>\n",
       "      <th>Wing Pointedness Index</th>\n",
       "      <th>Wing Convexity Index</th>\n",
       "      <th>Latitute (o South)</th>\n",
       "      <th>Longitude (o West)</th>\n",
       "      <th>Elevation1</th>\n",
       "      <th>Prin1 2</th>\n",
       "      <th>Prin2 2</th>\n",
       "      <th>Prin3 2</th>\n",
       "      <th>Prin4 2</th>\n",
       "      <th>Prin5 2</th>\n",
       "      <th>Specimen_Number</th>\n",
       "      <th>D15N</th>\n",
       "      <th>D13C</th>\n",
       "      <th>Prct_Nitrogen</th>\n",
       "      <th>Prct_Carbon</th>\n",
       "      <th>C_N_Ratio</th>\n",
       "      <th>?18O</th>\n",
       "      <th>dDa</th>\n",
       "      <th>dDb</th>\n",
       "      <th>[H]b</th>\n",
       "      <th>Mean_dD</th>\n",
       "      <th>Country</th>\n",
       "    </tr>\n",
       "  </thead>\n",
       "  <tbody>\n",
       "    <tr>\n",
       "      <th>0</th>\n",
       "      <td>608512.000000</td>\n",
       "      <td>34.000000</td>\n",
       "      <td>174.000000</td>\n",
       "      <td>35.970000</td>\n",
       "      <td>13.000000</td>\n",
       "      <td>4.410000</td>\n",
       "      <td>1.670000</td>\n",
       "      <td>0.560000</td>\n",
       "      <td>3.700000</td>\n",
       "      <td>3.030000</td>\n",
       "      <td>1.010000</td>\n",
       "      <td>51.261367</td>\n",
       "      <td>15.896773</td>\n",
       "      <td>1.776885</td>\n",
       "      <td>96.920000</td>\n",
       "      <td>55.780000</td>\n",
       "      <td>68.730000</td>\n",
       "      <td>70.370000</td>\n",
       "      <td>69.290000</td>\n",
       "      <td>68.710000</td>\n",
       "      <td>64.490000</td>\n",
       "      <td>58.980000</td>\n",
       "      <td>56.380000</td>\n",
       "      <td>52.550000</td>\n",
       "      <td>6.460000</td>\n",
       "      <td>10.060000</td>\n",
       "      <td>1.930000</td>\n",
       "      <td>30.610000</td>\n",
       "      <td>1.300000</td>\n",
       "      <td>18.880000</td>\n",
       "      <td>15.350000</td>\n",
       "      <td>21.090000</td>\n",
       "      <td>15.430000</td>\n",
       "      <td>8.430000</td>\n",
       "      <td>4.520000</td>\n",
       "      <td>5.570000</td>\n",
       "      <td>4.870000</td>\n",
       "      <td>63.150000</td>\n",
       "      <td>57.040000</td>\n",
       "      <td>-1.015885</td>\n",
       "      <td>1.111138</td>\n",
       "      <td>0.651690</td>\n",
       "      <td>-0.332000</td>\n",
       "      <td>-78.203000</td>\n",
       "      <td>4050.000000</td>\n",
       "      <td>-3.288870</td>\n",
       "      <td>-0.719583</td>\n",
       "      <td>-0.933415</td>\n",
       "      <td>-0.756540</td>\n",
       "      <td>0.592147</td>\n",
       "      <td>6.085120e+05</td>\n",
       "      <td>7.176129</td>\n",
       "      <td>-22.273131</td>\n",
       "      <td>13.871266</td>\n",
       "      <td>45.905594</td>\n",
       "      <td>3.309402</td>\n",
       "      <td>5.811644</td>\n",
       "      <td>-83.900000</td>\n",
       "      <td>-97.100000</td>\n",
       "      <td>5.090000</td>\n",
       "      <td>-90.499000</td>\n",
       "      <td>Ecuador</td>\n",
       "    </tr>\n",
       "    <tr>\n",
       "      <th>0</th>\n",
       "      <td>631166.666667</td>\n",
       "      <td>39.176190</td>\n",
       "      <td>197.000000</td>\n",
       "      <td>43.756667</td>\n",
       "      <td>16.282381</td>\n",
       "      <td>4.223333</td>\n",
       "      <td>1.922857</td>\n",
       "      <td>0.872857</td>\n",
       "      <td>4.119048</td>\n",
       "      <td>3.448571</td>\n",
       "      <td>0.920476</td>\n",
       "      <td>55.070354</td>\n",
       "      <td>21.139358</td>\n",
       "      <td>2.528488</td>\n",
       "      <td>99.774762</td>\n",
       "      <td>57.611905</td>\n",
       "      <td>71.440000</td>\n",
       "      <td>72.289524</td>\n",
       "      <td>71.077619</td>\n",
       "      <td>68.062381</td>\n",
       "      <td>60.612857</td>\n",
       "      <td>54.844762</td>\n",
       "      <td>51.512857</td>\n",
       "      <td>49.270952</td>\n",
       "      <td>6.727143</td>\n",
       "      <td>10.443810</td>\n",
       "      <td>1.925238</td>\n",
       "      <td>27.155714</td>\n",
       "      <td>1.635238</td>\n",
       "      <td>20.411905</td>\n",
       "      <td>15.854762</td>\n",
       "      <td>24.145238</td>\n",
       "      <td>16.945714</td>\n",
       "      <td>9.547143</td>\n",
       "      <td>5.441429</td>\n",
       "      <td>6.583333</td>\n",
       "      <td>5.267143</td>\n",
       "      <td>76.306667</td>\n",
       "      <td>64.972857</td>\n",
       "      <td>-1.042195</td>\n",
       "      <td>0.474110</td>\n",
       "      <td>1.424370</td>\n",
       "      <td>-44.781571</td>\n",
       "      <td>57.682429</td>\n",
       "      <td>227.230952</td>\n",
       "      <td>-0.765452</td>\n",
       "      <td>0.874072</td>\n",
       "      <td>0.368478</td>\n",
       "      <td>0.620347</td>\n",
       "      <td>-0.409618</td>\n",
       "      <td>2.902375e+124</td>\n",
       "      <td>10.902017</td>\n",
       "      <td>-18.345199</td>\n",
       "      <td>14.182581</td>\n",
       "      <td>46.064121</td>\n",
       "      <td>3.249561</td>\n",
       "      <td>5.281906</td>\n",
       "      <td>-77.290476</td>\n",
       "      <td>-76.576190</td>\n",
       "      <td>5.042857</td>\n",
       "      <td>-76.930952</td>\n",
       "      <td>Argentina</td>\n",
       "    </tr>\n",
       "    <tr>\n",
       "      <th>0</th>\n",
       "      <td>793177.000000</td>\n",
       "      <td>49.000000</td>\n",
       "      <td>202.000000</td>\n",
       "      <td>43.530000</td>\n",
       "      <td>18.980000</td>\n",
       "      <td>5.440000</td>\n",
       "      <td>2.550000</td>\n",
       "      <td>1.500000</td>\n",
       "      <td>5.530000</td>\n",
       "      <td>4.120000</td>\n",
       "      <td>1.740000</td>\n",
       "      <td>94.509160</td>\n",
       "      <td>33.005572</td>\n",
       "      <td>8.199557</td>\n",
       "      <td>112.370000</td>\n",
       "      <td>63.060000</td>\n",
       "      <td>78.570000</td>\n",
       "      <td>79.240000</td>\n",
       "      <td>78.810000</td>\n",
       "      <td>75.140000</td>\n",
       "      <td>69.080000</td>\n",
       "      <td>64.370000</td>\n",
       "      <td>61.510000</td>\n",
       "      <td>58.230000</td>\n",
       "      <td>8.150000</td>\n",
       "      <td>13.460000</td>\n",
       "      <td>2.520000</td>\n",
       "      <td>32.430000</td>\n",
       "      <td>1.740000</td>\n",
       "      <td>20.720000</td>\n",
       "      <td>18.030000</td>\n",
       "      <td>26.920000</td>\n",
       "      <td>19.300000</td>\n",
       "      <td>9.240000</td>\n",
       "      <td>5.800000</td>\n",
       "      <td>6.630000</td>\n",
       "      <td>5.700000</td>\n",
       "      <td>81.640000</td>\n",
       "      <td>60.780000</td>\n",
       "      <td>-0.848372</td>\n",
       "      <td>0.851714</td>\n",
       "      <td>0.816201</td>\n",
       "      <td>-16.493000</td>\n",
       "      <td>-68.176000</td>\n",
       "      <td>4000.000000</td>\n",
       "      <td>2.193789</td>\n",
       "      <td>-0.168500</td>\n",
       "      <td>-0.091620</td>\n",
       "      <td>-0.105382</td>\n",
       "      <td>0.136029</td>\n",
       "      <td>7.931770e+05</td>\n",
       "      <td>10.756446</td>\n",
       "      <td>-19.051570</td>\n",
       "      <td>13.786684</td>\n",
       "      <td>45.209634</td>\n",
       "      <td>3.279225</td>\n",
       "      <td>3.067845</td>\n",
       "      <td>-127.307000</td>\n",
       "      <td>-121.201000</td>\n",
       "      <td>5.322666</td>\n",
       "      <td>-124.254000</td>\n",
       "      <td>Bolivia</td>\n",
       "    </tr>\n",
       "    <tr>\n",
       "      <th>0</th>\n",
       "      <td>798897.000000</td>\n",
       "      <td>54.700000</td>\n",
       "      <td>204.000000</td>\n",
       "      <td>47.380000</td>\n",
       "      <td>19.870000</td>\n",
       "      <td>5.130000</td>\n",
       "      <td>2.160000</td>\n",
       "      <td>1.090000</td>\n",
       "      <td>4.380000</td>\n",
       "      <td>3.500000</td>\n",
       "      <td>1.170000</td>\n",
       "      <td>70.589702</td>\n",
       "      <td>23.750440</td>\n",
       "      <td>4.006473</td>\n",
       "      <td>105.940000</td>\n",
       "      <td>61.100000</td>\n",
       "      <td>72.130000</td>\n",
       "      <td>74.490000</td>\n",
       "      <td>73.490000</td>\n",
       "      <td>70.860000</td>\n",
       "      <td>67.640000</td>\n",
       "      <td>62.950000</td>\n",
       "      <td>59.990000</td>\n",
       "      <td>58.930000</td>\n",
       "      <td>7.540000</td>\n",
       "      <td>10.350000</td>\n",
       "      <td>2.830000</td>\n",
       "      <td>32.290000</td>\n",
       "      <td>2.210000</td>\n",
       "      <td>19.260000</td>\n",
       "      <td>18.570000</td>\n",
       "      <td>26.740000</td>\n",
       "      <td>19.420000</td>\n",
       "      <td>9.490000</td>\n",
       "      <td>5.860000</td>\n",
       "      <td>6.660000</td>\n",
       "      <td>6.020000</td>\n",
       "      <td>83.840000</td>\n",
       "      <td>67.680000</td>\n",
       "      <td>-0.923053</td>\n",
       "      <td>0.999369</td>\n",
       "      <td>0.258725</td>\n",
       "      <td>-10.686000</td>\n",
       "      <td>-76.262000</td>\n",
       "      <td>4267.000000</td>\n",
       "      <td>2.612300</td>\n",
       "      <td>-1.337731</td>\n",
       "      <td>-0.018900</td>\n",
       "      <td>-0.083433</td>\n",
       "      <td>0.491827</td>\n",
       "      <td>7.988970e+05</td>\n",
       "      <td>8.966113</td>\n",
       "      <td>-23.841625</td>\n",
       "      <td>14.339404</td>\n",
       "      <td>45.443613</td>\n",
       "      <td>3.169142</td>\n",
       "      <td>2.853813</td>\n",
       "      <td>-112.827000</td>\n",
       "      <td>-101.081000</td>\n",
       "      <td>5.516017</td>\n",
       "      <td>-106.954000</td>\n",
       "      <td>Peru</td>\n",
       "    </tr>\n",
       "    <tr>\n",
       "      <th>0</th>\n",
       "      <td>814047.000000</td>\n",
       "      <td>65.000000</td>\n",
       "      <td>211.000000</td>\n",
       "      <td>50.490000</td>\n",
       "      <td>22.000000</td>\n",
       "      <td>5.820000</td>\n",
       "      <td>3.070000</td>\n",
       "      <td>1.310000</td>\n",
       "      <td>6.080000</td>\n",
       "      <td>4.560000</td>\n",
       "      <td>1.080000</td>\n",
       "      <td>111.167141</td>\n",
       "      <td>43.979784</td>\n",
       "      <td>4.444725</td>\n",
       "      <td>113.660000</td>\n",
       "      <td>60.020000</td>\n",
       "      <td>79.950000</td>\n",
       "      <td>81.480000</td>\n",
       "      <td>81.110000</td>\n",
       "      <td>80.230000</td>\n",
       "      <td>72.870000</td>\n",
       "      <td>65.790000</td>\n",
       "      <td>60.610000</td>\n",
       "      <td>57.640000</td>\n",
       "      <td>7.630000</td>\n",
       "      <td>13.070000</td>\n",
       "      <td>2.490000</td>\n",
       "      <td>29.060000</td>\n",
       "      <td>2.090000</td>\n",
       "      <td>27.160000</td>\n",
       "      <td>19.280000</td>\n",
       "      <td>29.090000</td>\n",
       "      <td>19.440000</td>\n",
       "      <td>14.040000</td>\n",
       "      <td>6.780000</td>\n",
       "      <td>9.070000</td>\n",
       "      <td>7.230000</td>\n",
       "      <td>84.200000</td>\n",
       "      <td>70.860000</td>\n",
       "      <td>-0.819891</td>\n",
       "      <td>1.095460</td>\n",
       "      <td>1.756631</td>\n",
       "      <td>5.067000</td>\n",
       "      <td>-75.518000</td>\n",
       "      <td>4000.000000</td>\n",
       "      <td>6.425882</td>\n",
       "      <td>3.818128</td>\n",
       "      <td>-0.425634</td>\n",
       "      <td>-0.371925</td>\n",
       "      <td>-0.185219</td>\n",
       "      <td>8.140470e+05</td>\n",
       "      <td>5.470049</td>\n",
       "      <td>-21.098729</td>\n",
       "      <td>14.389693</td>\n",
       "      <td>46.420923</td>\n",
       "      <td>3.225984</td>\n",
       "      <td>-0.879340</td>\n",
       "      <td>-103.237000</td>\n",
       "      <td>-101.040000</td>\n",
       "      <td>3.950280</td>\n",
       "      <td>-102.139000</td>\n",
       "      <td>Columbia</td>\n",
       "    </tr>\n",
       "    <tr>\n",
       "      <th>0</th>\n",
       "      <td>523444.666667</td>\n",
       "      <td>38.777778</td>\n",
       "      <td>181.888889</td>\n",
       "      <td>41.763333</td>\n",
       "      <td>15.413333</td>\n",
       "      <td>3.897778</td>\n",
       "      <td>2.074444</td>\n",
       "      <td>0.911111</td>\n",
       "      <td>4.057778</td>\n",
       "      <td>3.326667</td>\n",
       "      <td>1.030000</td>\n",
       "      <td>50.248692</td>\n",
       "      <td>21.154124</td>\n",
       "      <td>2.910965</td>\n",
       "      <td>97.380000</td>\n",
       "      <td>58.318889</td>\n",
       "      <td>71.613333</td>\n",
       "      <td>72.566667</td>\n",
       "      <td>71.388889</td>\n",
       "      <td>68.965556</td>\n",
       "      <td>57.650000</td>\n",
       "      <td>53.601111</td>\n",
       "      <td>48.335556</td>\n",
       "      <td>48.203333</td>\n",
       "      <td>6.193333</td>\n",
       "      <td>10.243333</td>\n",
       "      <td>1.973333</td>\n",
       "      <td>26.993333</td>\n",
       "      <td>1.602222</td>\n",
       "      <td>20.056667</td>\n",
       "      <td>15.331111</td>\n",
       "      <td>23.245556</td>\n",
       "      <td>15.448889</td>\n",
       "      <td>9.125556</td>\n",
       "      <td>4.933333</td>\n",
       "      <td>6.550000</td>\n",
       "      <td>5.014444</td>\n",
       "      <td>72.505556</td>\n",
       "      <td>63.093333</td>\n",
       "      <td>-1.067980</td>\n",
       "      <td>0.113539</td>\n",
       "      <td>1.965994</td>\n",
       "      <td>-53.261000</td>\n",
       "      <td>68.518667</td>\n",
       "      <td>58.888889</td>\n",
       "      <td>-1.951076</td>\n",
       "      <td>1.478289</td>\n",
       "      <td>0.779153</td>\n",
       "      <td>1.267289</td>\n",
       "      <td>-0.613304</td>\n",
       "      <td>5.395772e+52</td>\n",
       "      <td>10.818073</td>\n",
       "      <td>-19.752698</td>\n",
       "      <td>13.697806</td>\n",
       "      <td>44.568193</td>\n",
       "      <td>3.253990</td>\n",
       "      <td>6.875356</td>\n",
       "      <td>-65.344444</td>\n",
       "      <td>-65.366667</td>\n",
       "      <td>5.060000</td>\n",
       "      <td>-65.351000</td>\n",
       "      <td>Chile</td>\n",
       "    </tr>\n",
       "  </tbody>\n",
       "</table>\n",
       "</div>"
      ],
      "text/plain": [
       "   Specimen _Number  Body Mass (g)  Body _Length _(mm)  Head _Length _(mm)  \\\n",
       "0     608512.000000      34.000000          174.000000           35.970000   \n",
       "0     631166.666667      39.176190          197.000000           43.756667   \n",
       "0     793177.000000      49.000000          202.000000           43.530000   \n",
       "0     798897.000000      54.700000          204.000000           47.380000   \n",
       "0     814047.000000      65.000000          211.000000           50.490000   \n",
       "0     523444.666667      38.777778          181.888889           41.763333   \n",
       "\n",
       "   Bill Length (mm)  Bill Width1 (mm)  Bill Width2 (mm)  Bill Width3 (mm)  \\\n",
       "0         13.000000          4.410000          1.670000          0.560000   \n",
       "0         16.282381          4.223333          1.922857          0.872857   \n",
       "0         18.980000          5.440000          2.550000          1.500000   \n",
       "0         19.870000          5.130000          2.160000          1.090000   \n",
       "0         22.000000          5.820000          3.070000          1.310000   \n",
       "0         15.413333          3.897778          2.074444          0.911111   \n",
       "\n",
       "   Bill Depth1 (mm)  Bill Depth2 (mm)  Bill Depth3 (mm)  \\\n",
       "0          3.700000          3.030000          1.010000   \n",
       "0          4.119048          3.448571          0.920476   \n",
       "0          5.530000          4.120000          1.740000   \n",
       "0          4.380000          3.500000          1.170000   \n",
       "0          6.080000          4.560000          1.080000   \n",
       "0          4.057778          3.326667          1.030000   \n",
       "\n",
       "   Proximal Bill Cross-Sectional_ Area (mm2)  \\\n",
       "0                                  51.261367   \n",
       "0                                  55.070354   \n",
       "0                                  94.509160   \n",
       "0                                  70.589702   \n",
       "0                                 111.167141   \n",
       "0                                  50.248692   \n",
       "\n",
       "   Mid-Length Bill Cross-Sectional Area (mm2)  \\\n",
       "0                                   15.896773   \n",
       "0                                   21.139358   \n",
       "0                                   33.005572   \n",
       "0                                   23.750440   \n",
       "0                                   43.979784   \n",
       "0                                   21.154124   \n",
       "\n",
       "   Distal Bill Cross-Sectional Area (mm2)  Wing Length (mm)  Primary 1 (mm)  \\\n",
       "0                                1.776885         96.920000       55.780000   \n",
       "0                                2.528488         99.774762       57.611905   \n",
       "0                                8.199557        112.370000       63.060000   \n",
       "0                                4.006473        105.940000       61.100000   \n",
       "0                                4.444725        113.660000       60.020000   \n",
       "0                                2.910965         97.380000       58.318889   \n",
       "\n",
       "   Primary 2 (mm)  Primary 3 (mm)  Primary 4 (mm)  Primary 5 (mm)  \\\n",
       "0       68.730000       70.370000       69.290000       68.710000   \n",
       "0       71.440000       72.289524       71.077619       68.062381   \n",
       "0       78.570000       79.240000       78.810000       75.140000   \n",
       "0       72.130000       74.490000       73.490000       70.860000   \n",
       "0       79.950000       81.480000       81.110000       80.230000   \n",
       "0       71.613333       72.566667       71.388889       68.965556   \n",
       "\n",
       "   Primary 6 (mm)  Primary 7 (mm)  Primary 8 (mm)  Primary 9 (mm)  \\\n",
       "0       64.490000       58.980000       56.380000       52.550000   \n",
       "0       60.612857       54.844762       51.512857       49.270952   \n",
       "0       69.080000       64.370000       61.510000       58.230000   \n",
       "0       67.640000       62.950000       59.990000       58.930000   \n",
       "0       72.870000       65.790000       60.610000       57.640000   \n",
       "0       57.650000       53.601111       48.335556       48.203333   \n",
       "\n",
       "   Width of Primary 1  Width of Primary 9  Tibiotarsus Width (mm)  \\\n",
       "0            6.460000           10.060000                1.930000   \n",
       "0            6.727143           10.443810                1.925238   \n",
       "0            8.150000           13.460000                2.520000   \n",
       "0            7.540000           10.350000                2.830000   \n",
       "0            7.630000           13.070000                2.490000   \n",
       "0            6.193333           10.243333                1.973333   \n",
       "\n",
       "   Tarsometatarsus Length (mm)  Tarsometatarsus Width (mm)  Digit 1 (mm)  \\\n",
       "0                    30.610000                    1.300000     18.880000   \n",
       "0                    27.155714                    1.635238     20.411905   \n",
       "0                    32.430000                    1.740000     20.720000   \n",
       "0                    32.290000                    2.210000     19.260000   \n",
       "0                    29.060000                    2.090000     27.160000   \n",
       "0                    26.993333                    1.602222     20.056667   \n",
       "\n",
       "   Digit 2 (mm)  Digit 3 (mm)  Digit 4 (mm)  Ungual 1 (mm)  Ungual 2 (mm)  \\\n",
       "0     15.350000     21.090000     15.430000       8.430000       4.520000   \n",
       "0     15.854762     24.145238     16.945714       9.547143       5.441429   \n",
       "0     18.030000     26.920000     19.300000       9.240000       5.800000   \n",
       "0     18.570000     26.740000     19.420000       9.490000       5.860000   \n",
       "0     19.280000     29.090000     19.440000      14.040000       6.780000   \n",
       "0     15.331111     23.245556     15.448889       9.125556       4.933333   \n",
       "\n",
       "   Ungual 3 (mm)  Ungual 4 (mm)  Central rectrix (mm)  Lateral Retrices  \\\n",
       "0       5.570000       4.870000             63.150000         57.040000   \n",
       "0       6.583333       5.267143             76.306667         64.972857   \n",
       "0       6.630000       5.700000             81.640000         60.780000   \n",
       "0       6.660000       6.020000             83.840000         67.680000   \n",
       "0       9.070000       7.230000             84.200000         70.860000   \n",
       "0       6.550000       5.014444             72.505556         63.093333   \n",
       "\n",
       "   Isometric Size Index  Wing Pointedness Index  Wing Convexity Index  \\\n",
       "0             -1.015885                1.111138              0.651690   \n",
       "0             -1.042195                0.474110              1.424370   \n",
       "0             -0.848372                0.851714              0.816201   \n",
       "0             -0.923053                0.999369              0.258725   \n",
       "0             -0.819891                1.095460              1.756631   \n",
       "0             -1.067980                0.113539              1.965994   \n",
       "\n",
       "   Latitute (o South)  Longitude (o West)   Elevation1   Prin1 2   Prin2 2  \\\n",
       "0           -0.332000          -78.203000  4050.000000 -3.288870 -0.719583   \n",
       "0          -44.781571           57.682429   227.230952 -0.765452  0.874072   \n",
       "0          -16.493000          -68.176000  4000.000000  2.193789 -0.168500   \n",
       "0          -10.686000          -76.262000  4267.000000  2.612300 -1.337731   \n",
       "0            5.067000          -75.518000  4000.000000  6.425882  3.818128   \n",
       "0          -53.261000           68.518667    58.888889 -1.951076  1.478289   \n",
       "\n",
       "    Prin3 2   Prin4 2   Prin5 2  Specimen_Number       D15N       D13C  \\\n",
       "0 -0.933415 -0.756540  0.592147     6.085120e+05   7.176129 -22.273131   \n",
       "0  0.368478  0.620347 -0.409618    2.902375e+124  10.902017 -18.345199   \n",
       "0 -0.091620 -0.105382  0.136029     7.931770e+05  10.756446 -19.051570   \n",
       "0 -0.018900 -0.083433  0.491827     7.988970e+05   8.966113 -23.841625   \n",
       "0 -0.425634 -0.371925 -0.185219     8.140470e+05   5.470049 -21.098729   \n",
       "0  0.779153  1.267289 -0.613304     5.395772e+52  10.818073 -19.752698   \n",
       "\n",
       "   Prct_Nitrogen  Prct_Carbon  C_N_Ratio      ?18O         dDa         dDb  \\\n",
       "0      13.871266    45.905594   3.309402  5.811644  -83.900000  -97.100000   \n",
       "0      14.182581    46.064121   3.249561  5.281906  -77.290476  -76.576190   \n",
       "0      13.786684    45.209634   3.279225  3.067845 -127.307000 -121.201000   \n",
       "0      14.339404    45.443613   3.169142  2.853813 -112.827000 -101.081000   \n",
       "0      14.389693    46.420923   3.225984 -0.879340 -103.237000 -101.040000   \n",
       "0      13.697806    44.568193   3.253990  6.875356  -65.344444  -65.366667   \n",
       "\n",
       "       [H]b     Mean_dD    Country  \n",
       "0  5.090000  -90.499000    Ecuador  \n",
       "0  5.042857  -76.930952  Argentina  \n",
       "0  5.322666 -124.254000    Bolivia  \n",
       "0  5.516017 -106.954000       Peru  \n",
       "0  3.950280 -102.139000   Columbia  \n",
       "0  5.060000  -65.351000      Chile  "
      ]
     },
     "execution_count": 133,
     "metadata": {},
     "output_type": "execute_result"
    }
   ],
   "source": [
    "country_list = []\n",
    "data_c = dataset['Country']\n",
    "for el in data_c:\n",
    "    if el not in country_list:\n",
    "        country_list.append(el)\n",
    "        \n",
    "df_country = calculate_mean_value('Country',country_list)\n",
    "df_country"
   ]
  },
  {
   "cell_type": "code",
   "execution_count": 134,
   "metadata": {},
   "outputs": [
    {
     "data": {
      "image/png": "[encoded data removed]",
      "text/plain": [
       "<Figure size 432x288 with 1 Axes>"
      ]
     },
     "metadata": {
      "needs_background": "light"
     },
     "output_type": "display_data"
    }
   ],
   "source": [
    "country = df_country.sort_values(by=\"Body Mass (g)\", ascending=False)\n",
    "country.plot(x=\"Country\", y=[\"Body Mass (g)\", \"Head _Length _(mm)\", \"Bill Length (mm)\"], kind=\"bar\", rot=20, fontsize=10).grid()"
   ]
  },
  {
   "cell_type": "code",
   "execution_count": 146,
   "metadata": {},
   "outputs": [
    {
     "data": {
      "text/plain": [
       "<AxesSubplot:ylabel='Species'>"
      ]
     },
     "execution_count": 146,
     "metadata": {},
     "output_type": "execute_result"
    },
    {
     "data": {
      "image/png": "[encoded data removed]",
      "text/plain": [
       "<Figure size 432x288 with 1 Axes>"
      ]
     },
     "metadata": {
      "needs_background": "light"
     },
     "output_type": "display_data"
    }
   ],
   "source": [
    "cat_totals = df.groupby(\"Species\")[\"Mean_dD\"].sum().sort_values()\n",
    "cat_totals.plot(kind=\"barh\", fontsize=10)"
   ]
  },
  {
   "cell_type": "markdown",
   "metadata": {},
   "source": [
    "# PRINCIPAL COMPONENT ANALYSIS"
   ]
  },
  {
   "cell_type": "markdown",
   "metadata": {},
   "source": [
    "Replace character data with numbers"
   ]
  },
  {
   "cell_type": "code",
   "execution_count": 314,
   "metadata": {},
   "outputs": [],
   "source": [
    "def words_to_numeric(data):\n",
    "    num = 0\n",
    "    count = 0\n",
    "    types_dict = {}\n",
    "    for el in data:\n",
    "        el = el.lower()\n",
    "        if el not in types_dict:\n",
    "            types_dict[(el.lower())] = num\n",
    "            num += 1\n",
    "        count += 1\n",
    "    return types_dict\n",
    "\n",
    "def change_dataset():\n",
    "    dataset['Sex'] = dataset['Sex'].apply(lambda x: sex_dict[x.lower()])"
   ]
  },
  {
   "cell_type": "code",
   "execution_count": 315,
   "metadata": {},
   "outputs": [
    {
     "name": "stdout",
     "output_type": "stream",
     "text": [
      "{'male': 0, 'female': 1, 'unknown': 2}\n",
      "{'small': 0, 'large': 1}\n",
      "{'ecuador': 0, 'argentina': 1, 'bolivia': 2, 'peru': 3, 'columbia': 4, 'chile': 5}\n"
     ]
    }
   ],
   "source": [
    "to_change_list = ('Sex', 'Clade', 'Country')\n",
    "for name in to_change_list:\n",
    "    new_data =  words_to_numeric(dataset[name])\n",
    "    print(new_data)\n",
    "    dataset[name] = dataset[name].apply(lambda x: new_data[x.lower()])"
   ]
  },
  {
   "cell_type": "code",
   "execution_count": 193,
   "metadata": {},
   "outputs": [
    {
     "data": {
      "text/plain": [
       "Text(0.5, 1.0, 'Species')"
      ]
     },
     "execution_count": 193,
     "metadata": {},
     "output_type": "execute_result"
    },
    {
     "data": {
      "image/png": "[encoded data removed]",
      "text/plain": [
       "<Figure size 432x288 with 1 Axes>"
      ]
     },
     "metadata": {
      "needs_background": "light"
     },
     "output_type": "display_data"
    }
   ],
   "source": [
    "fig, axs = plt.subplots(1, 1)\n",
    "axs.hist(dataset['Species'], bins=10)\n",
    "plt.xticks(rotation=90)\n",
    "axs.set_title('Species')"
   ]
  },
  {
   "cell_type": "markdown",
   "metadata": {},
   "source": [
    "Visualize all the original dimensions"
   ]
  },
  {
   "cell_type": "code",
   "execution_count": 194,
   "metadata": {},
   "outputs": [
    {
     "name": "stdout",
     "output_type": "stream",
     "text": [
      "Index(['Clade', 'Sex', 'Body Mass (g)', 'Body _Length _(mm)'], dtype='object')\n"
     ]
    },
    {
     "data": {
      "application/vnd.plotly.v1+json": {
       "config": {
        "plotlyServerURL": "https://plot.ly"
       },
       "data": [
        {
         "diagonal": {
          "visible": false
         },
         "dimensions": [
          {
           "axis": {
            "matches": true
           },
           "label": "Clade",
           "values": [
            0
           ]
          },
          {
           "axis": {
            "matches": true
           },
           "label": "Sex",
           "values": [
            0
           ]
          },
          {
           "axis": {
            "matches": true
           },
           "label": "Body Mass (g)",
           "values": [
            34
           ]
          },
          {
           "axis": {
            "matches": true
           },
           "label": "Body _Length _(mm)",
           "values": [
            174
           ]
          }
         ],
         "hovertemplate": "Species=albidiventris<br>%{xaxis.title.text}=%{x}<br>%{yaxis.title.text}=%{y}<extra></extra>",
         "legendgroup": "albidiventris",
         "marker": {
          "color": "#636efa",
          "symbol": "circle"
         },
         "name": "albidiventris",
         "showlegend": true,
         "type": "splom"
        },
        {
         "diagonal": {
          "visible": false
         },
         "dimensions": [
          {
           "axis": {
            "matches": true
           },
           "label": "Clade",
           "values": [
            0
           ]
          },
          {
           "axis": {
            "matches": true
           },
           "label": "Sex",
           "values": [
            1
           ]
          },
          {
           "axis": {
            "matches": true
           },
           "label": "Body Mass (g)",
           "values": [
            28.3
           ]
          },
          {
           "axis": {
            "matches": true
           },
           "label": "Body _Length _(mm)",
           "values": [
            169
           ]
          }
         ],
         "hovertemplate": "Species=albiventris<br>%{xaxis.title.text}=%{x}<br>%{yaxis.title.text}=%{y}<extra></extra>",
         "legendgroup": "albiventris",
         "marker": {
          "color": "#EF553B",
          "symbol": "circle"
         },
         "name": "albiventris",
         "showlegend": true,
         "type": "splom"
        },
        {
         "diagonal": {
          "visible": false
         },
         "dimensions": [
          {
           "axis": {
            "matches": true
           },
           "label": "Clade",
           "values": [
            1,
            1
           ]
          },
          {
           "axis": {
            "matches": true
           },
           "label": "Sex",
           "values": [
            1,
            1
           ]
          },
          {
           "axis": {
            "matches": true
           },
           "label": "Body Mass (g)",
           "values": [
            49,
            54.7
           ]
          },
          {
           "axis": {
            "matches": true
           },
           "label": "Body _Length _(mm)",
           "values": [
            202,
            204
           ]
          }
         ],
         "hovertemplate": "Species=atacamensis<br>%{xaxis.title.text}=%{x}<br>%{yaxis.title.text}=%{y}<extra></extra>",
         "legendgroup": "atacamensis",
         "marker": {
          "color": "#00cc96",
          "symbol": "circle"
         },
         "name": "atacamensis",
         "showlegend": true,
         "type": "splom"
        },
        {
         "diagonal": {
          "visible": false
         },
         "dimensions": [
          {
           "axis": {
            "matches": true
           },
           "label": "Clade",
           "values": [
            1
           ]
          },
          {
           "axis": {
            "matches": true
           },
           "label": "Sex",
           "values": [
            1
           ]
          },
          {
           "axis": {
            "matches": true
           },
           "label": "Body Mass (g)",
           "values": [
            65
           ]
          },
          {
           "axis": {
            "matches": true
           },
           "label": "Body _Length _(mm)",
           "values": [
            211
           ]
          }
         ],
         "hovertemplate": "Species=excelsior<br>%{xaxis.title.text}=%{x}<br>%{yaxis.title.text}=%{y}<extra></extra>",
         "legendgroup": "excelsior",
         "marker": {
          "color": "#ab63fa",
          "symbol": "circle"
         },
         "name": "excelsior",
         "showlegend": true,
         "type": "splom"
        },
        {
         "diagonal": {
          "visible": false
         },
         "dimensions": [
          {
           "axis": {
            "matches": true
           },
           "label": "Clade",
           "values": [
            0,
            0,
            0,
            0,
            0,
            0,
            0,
            0,
            0,
            0
           ]
          },
          {
           "axis": {
            "matches": true
           },
           "label": "Sex",
           "values": [
            0,
            0,
            0,
            0,
            1,
            1,
            1,
            1,
            0,
            0
           ]
          },
          {
           "axis": {
            "matches": true
           },
           "label": "Body Mass (g)",
           "values": [
            28.4,
            31.3,
            29.3,
            31.3,
            26.2,
            27.1,
            30.3,
            31,
            34,
            31
           ]
          },
          {
           "axis": {
            "matches": true
           },
           "label": "Body _Length _(mm)",
           "values": [
            179,
            201,
            186,
            189,
            183,
            181,
            198,
            178,
            176,
            162
           ]
          }
         ],
         "hovertemplate": "Species=fuscus<br>%{xaxis.title.text}=%{x}<br>%{yaxis.title.text}=%{y}<extra></extra>",
         "legendgroup": "fuscus",
         "marker": {
          "color": "#FFA15A",
          "symbol": "circle"
         },
         "name": "fuscus",
         "showlegend": true,
         "type": "splom"
        },
        {
         "diagonal": {
          "visible": false
         },
         "dimensions": [
          {
           "axis": {
            "matches": true
           },
           "label": "Clade",
           "values": [
            0,
            0,
            0,
            0,
            0
           ]
          },
          {
           "axis": {
            "matches": true
           },
           "label": "Sex",
           "values": [
            1,
            0,
            0,
            0,
            0
           ]
          },
          {
           "axis": {
            "matches": true
           },
           "label": "Body Mass (g)",
           "values": [
            32,
            30.5,
            31.3,
            33,
            34.7
           ]
          },
          {
           "axis": {
            "matches": true
           },
           "label": "Body _Length _(mm)",
           "values": [
            169,
            169,
            166,
            187,
            187
           ]
          }
         ],
         "hovertemplate": "Species=oustaleti<br>%{xaxis.title.text}=%{x}<br>%{yaxis.title.text}=%{y}<extra></extra>",
         "legendgroup": "oustaleti",
         "marker": {
          "color": "#19d3f3",
          "symbol": "circle"
         },
         "name": "oustaleti",
         "showlegend": true,
         "type": "splom"
        },
        {
         "diagonal": {
          "visible": false
         },
         "dimensions": [
          {
           "axis": {
            "matches": true
           },
           "label": "Clade",
           "values": [
            1,
            1,
            1,
            1,
            1,
            1,
            1,
            1,
            1,
            1,
            1,
            1,
            1,
            1
           ]
          },
          {
           "axis": {
            "matches": true
           },
           "label": "Sex",
           "values": [
            1,
            1,
            1,
            0,
            1,
            0,
            0,
            0,
            0,
            0,
            0,
            2,
            2,
            2
           ]
          },
          {
           "axis": {
            "matches": true
           },
           "label": "Body Mass (g)",
           "values": [
            48,
            45,
            49.5,
            48,
            52,
            50,
            49.6,
            50.2,
            52.6,
            54.4,
            60.7,
            42,
            44,
            36
           ]
          },
          {
           "axis": {
            "matches": true
           },
           "label": "Body _Length _(mm)",
           "values": [
            190,
            199,
            198,
            196,
            219,
            216,
            214,
            216,
            223,
            217,
            212,
            201,
            203,
            190
           ]
          }
         ],
         "hovertemplate": "Species=patagonicus<br>%{xaxis.title.text}=%{x}<br>%{yaxis.title.text}=%{y}<extra></extra>",
         "legendgroup": "patagonicus",
         "marker": {
          "color": "#FF6692",
          "symbol": "circle"
         },
         "name": "patagonicus",
         "showlegend": true,
         "type": "splom"
        }
       ],
       "layout": {
        "dragmode": "select",
        "legend": {
         "title": {
          "text": "Species"
         },
         "tracegroupgap": 0
        },
        "margin": {
         "t": 60
        },
        "template": {
         "data": {
          "bar": [
           {
            "error_x": {
             "color": "#2a3f5f"
            },
            "error_y": {
             "color": "#2a3f5f"
            },
            "marker": {
             "line": {
              "color": "#E5ECF6",
              "width": 0.5
             }
            },
            "type": "bar"
           }
          ],
          "barpolar": [
           {
            "marker": {
             "line": {
              "color": "#E5ECF6",
              "width": 0.5
             }
            },
            "type": "barpolar"
           }
          ],
          "carpet": [
           {
            "aaxis": {
             "endlinecolor": "#2a3f5f",
             "gridcolor": "white",
             "linecolor": "white",
             "minorgridcolor": "white",
             "startlinecolor": "#2a3f5f"
            },
            "baxis": {
             "endlinecolor": "#2a3f5f",
             "gridcolor": "white",
             "linecolor": "white",
             "minorgridcolor": "white",
             "startlinecolor": "#2a3f5f"
            },
            "type": "carpet"
           }
          ],
          "choropleth": [
           {
            "colorbar": {
             "outlinewidth": 0,
             "ticks": ""
            },
            "type": "choropleth"
           }
          ],
          "contour": [
           {
            "colorbar": {
             "outlinewidth": 0,
             "ticks": ""
            },
            "colorscale": [
             [
              0,
              "#0d0887"
             ],
             [
              0.1111111111111111,
              "#46039f"
             ],
             [
              0.2222222222222222,
              "#7201a8"
             ],
             [
              0.3333333333333333,
              "#9c179e"
             ],
             [
              0.4444444444444444,
              "#bd3786"
             ],
             [
              0.5555555555555556,
              "#d8576b"
             ],
             [
              0.6666666666666666,
              "#ed7953"
             ],
             [
              0.7777777777777778,
              "#fb9f3a"
             ],
             [
              0.8888888888888888,
              "#fdca26"
             ],
             [
              1,
              "#f0f921"
             ]
            ],
            "type": "contour"
           }
          ],
          "contourcarpet": [
           {
            "colorbar": {
             "outlinewidth": 0,
             "ticks": ""
            },
            "type": "contourcarpet"
           }
          ],
          "heatmap": [
           {
            "colorbar": {
             "outlinewidth": 0,
             "ticks": ""
            },
            "colorscale": [
             [
              0,
              "#0d0887"
             ],
             [
              0.1111111111111111,
              "#46039f"
             ],
             [
              0.2222222222222222,
              "#7201a8"
             ],
             [
              0.3333333333333333,
              "#9c179e"
             ],
             [
              0.4444444444444444,
              "#bd3786"
             ],
             [
              0.5555555555555556,
              "#d8576b"
             ],
             [
              0.6666666666666666,
              "#ed7953"
             ],
             [
              0.7777777777777778,
              "#fb9f3a"
             ],
             [
              0.8888888888888888,
              "#fdca26"
             ],
             [
              1,
              "#f0f921"
             ]
            ],
            "type": "heatmap"
           }
          ],
          "heatmapgl": [
           {
            "colorbar": {
             "outlinewidth": 0,
             "ticks": ""
            },
            "colorscale": [
             [
              0,
              "#0d0887"
             ],
             [
              0.1111111111111111,
              "#46039f"
             ],
             [
              0.2222222222222222,
              "#7201a8"
             ],
             [
              0.3333333333333333,
              "#9c179e"
             ],
             [
              0.4444444444444444,
              "#bd3786"
             ],
             [
              0.5555555555555556,
              "#d8576b"
             ],
             [
              0.6666666666666666,
              "#ed7953"
             ],
             [
              0.7777777777777778,
              "#fb9f3a"
             ],
             [
              0.8888888888888888,
              "#fdca26"
             ],
             [
              1,
              "#f0f921"
             ]
            ],
            "type": "heatmapgl"
           }
          ],
          "histogram": [
           {
            "marker": {
             "colorbar": {
              "outlinewidth": 0,
              "ticks": ""
             }
            },
            "type": "histogram"
           }
          ],
          "histogram2d": [
           {
            "colorbar": {
             "outlinewidth": 0,
             "ticks": ""
            },
            "colorscale": [
             [
              0,
              "#0d0887"
             ],
             [
              0.1111111111111111,
              "#46039f"
             ],
             [
              0.2222222222222222,
              "#7201a8"
             ],
             [
              0.3333333333333333,
              "#9c179e"
             ],
             [
              0.4444444444444444,
              "#bd3786"
             ],
             [
              0.5555555555555556,
              "#d8576b"
             ],
             [
              0.6666666666666666,
              "#ed7953"
             ],
             [
              0.7777777777777778,
              "#fb9f3a"
             ],
             [
              0.8888888888888888,
              "#fdca26"
             ],
             [
              1,
              "#f0f921"
             ]
            ],
            "type": "histogram2d"
           }
          ],
          "histogram2dcontour": [
           {
            "colorbar": {
             "outlinewidth": 0,
             "ticks": ""
            },
            "colorscale": [
             [
              0,
              "#0d0887"
             ],
             [
              0.1111111111111111,
              "#46039f"
             ],
             [
              0.2222222222222222,
              "#7201a8"
             ],
             [
              0.3333333333333333,
              "#9c179e"
             ],
             [
              0.4444444444444444,
              "#bd3786"
             ],
             [
              0.5555555555555556,
              "#d8576b"
             ],
             [
              0.6666666666666666,
              "#ed7953"
             ],
             [
              0.7777777777777778,
              "#fb9f3a"
             ],
             [
              0.8888888888888888,
              "#fdca26"
             ],
             [
              1,
              "#f0f921"
             ]
            ],
            "type": "histogram2dcontour"
           }
          ],
          "mesh3d": [
           {
            "colorbar": {
             "outlinewidth": 0,
             "ticks": ""
            },
            "type": "mesh3d"
           }
          ],
          "parcoords": [
           {
            "line": {
             "colorbar": {
              "outlinewidth": 0,
              "ticks": ""
             }
            },
            "type": "parcoords"
           }
          ],
          "pie": [
           {
            "automargin": true,
            "type": "pie"
           }
          ],
          "scatter": [
           {
            "marker": {
             "colorbar": {
              "outlinewidth": 0,
              "ticks": ""
             }
            },
            "type": "scatter"
           }
          ],
          "scatter3d": [
           {
            "line": {
             "colorbar": {
              "outlinewidth": 0,
              "ticks": ""
             }
            },
            "marker": {
             "colorbar": {
              "outlinewidth": 0,
              "ticks": ""
             }
            },
            "type": "scatter3d"
           }
          ],
          "scattercarpet": [
           {
            "marker": {
             "colorbar": {
              "outlinewidth": 0,
              "ticks": ""
             }
            },
            "type": "scattercarpet"
           }
          ],
          "scattergeo": [
           {
            "marker": {
             "colorbar": {
              "outlinewidth": 0,
              "ticks": ""
             }
            },
            "type": "scattergeo"
           }
          ],
          "scattergl": [
           {
            "marker": {
             "colorbar": {
              "outlinewidth": 0,
              "ticks": ""
             }
            },
            "type": "scattergl"
           }
          ],
          "scattermapbox": [
           {
            "marker": {
             "colorbar": {
              "outlinewidth": 0,
              "ticks": ""
             }
            },
            "type": "scattermapbox"
           }
          ],
          "scatterpolar": [
           {
            "marker": {
             "colorbar": {
              "outlinewidth": 0,
              "ticks": ""
             }
            },
            "type": "scatterpolar"
           }
          ],
          "scatterpolargl": [
           {
            "marker": {
             "colorbar": {
              "outlinewidth": 0,
              "ticks": ""
             }
            },
            "type": "scatterpolargl"
           }
          ],
          "scatterternary": [
           {
            "marker": {
             "colorbar": {
              "outlinewidth": 0,
              "ticks": ""
             }
            },
            "type": "scatterternary"
           }
          ],
          "surface": [
           {
            "colorbar": {
             "outlinewidth": 0,
             "ticks": ""
            },
            "colorscale": [
             [
              0,
              "#0d0887"
             ],
             [
              0.1111111111111111,
              "#46039f"
             ],
             [
              0.2222222222222222,
              "#7201a8"
             ],
             [
              0.3333333333333333,
              "#9c179e"
             ],
             [
              0.4444444444444444,
              "#bd3786"
             ],
             [
              0.5555555555555556,
              "#d8576b"
             ],
             [
              0.6666666666666666,
              "#ed7953"
             ],
             [
              0.7777777777777778,
              "#fb9f3a"
             ],
             [
              0.8888888888888888,
              "#fdca26"
             ],
             [
              1,
              "#f0f921"
             ]
            ],
            "type": "surface"
           }
          ],
          "table": [
           {
            "cells": {
             "fill": {
              "color": "#EBF0F8"
             },
             "line": {
              "color": "white"
             }
            },
            "header": {
             "fill": {
              "color": "#C8D4E3"
             },
             "line": {
              "color": "white"
             }
            },
            "type": "table"
           }
          ]
         },
         "layout": {
          "annotationdefaults": {
           "arrowcolor": "#2a3f5f",
           "arrowhead": 0,
           "arrowwidth": 1
          },
          "autotypenumbers": "strict",
          "coloraxis": {
           "colorbar": {
            "outlinewidth": 0,
            "ticks": ""
           }
          },
          "colorscale": {
           "diverging": [
            [
             0,
             "#8e0152"
            ],
            [
             0.1,
             "#c51b7d"
            ],
            [
             0.2,
             "#de77ae"
            ],
            [
             0.3,
             "#f1b6da"
            ],
            [
             0.4,
             "#fde0ef"
            ],
            [
             0.5,
             "#f7f7f7"
            ],
            [
             0.6,
             "#e6f5d0"
            ],
            [
             0.7,
             "#b8e186"
            ],
            [
             0.8,
             "#7fbc41"
            ],
            [
             0.9,
             "#4d9221"
            ],
            [
             1,
             "#276419"
            ]
           ],
           "sequential": [
            [
             0,
             "#0d0887"
            ],
            [
             0.1111111111111111,
             "#46039f"
            ],
            [
             0.2222222222222222,
             "#7201a8"
            ],
            [
             0.3333333333333333,
             "#9c179e"
            ],
            [
             0.4444444444444444,
             "#bd3786"
            ],
            [
             0.5555555555555556,
             "#d8576b"
            ],
            [
             0.6666666666666666,
             "#ed7953"
            ],
            [
             0.7777777777777778,
             "#fb9f3a"
            ],
            [
             0.8888888888888888,
             "#fdca26"
            ],
            [
             1,
             "#f0f921"
            ]
           ],
           "sequentialminus": [
            [
             0,
             "#0d0887"
            ],
            [
             0.1111111111111111,
             "#46039f"
            ],
            [
             0.2222222222222222,
             "#7201a8"
            ],
            [
             0.3333333333333333,
             "#9c179e"
            ],
            [
             0.4444444444444444,
             "#bd3786"
            ],
            [
             0.5555555555555556,
             "#d8576b"
            ],
            [
             0.6666666666666666,
             "#ed7953"
            ],
            [
             0.7777777777777778,
             "#fb9f3a"
            ],
            [
             0.8888888888888888,
             "#fdca26"
            ],
            [
             1,
             "#f0f921"
            ]
           ]
          },
          "colorway": [
           "#636efa",
           "#EF553B",
           "#00cc96",
           "#ab63fa",
           "#FFA15A",
           "#19d3f3",
           "#FF6692",
           "#B6E880",
           "#FF97FF",
           "#FECB52"
          ],
          "font": {
           "color": "#2a3f5f"
          },
          "geo": {
           "bgcolor": "white",
           "lakecolor": "white",
           "landcolor": "#E5ECF6",
           "showlakes": true,
           "showland": true,
           "subunitcolor": "white"
          },
          "hoverlabel": {
           "align": "left"
          },
          "hovermode": "closest",
          "mapbox": {
           "style": "light"
          },
          "paper_bgcolor": "white",
          "plot_bgcolor": "#E5ECF6",
          "polar": {
           "angularaxis": {
            "gridcolor": "white",
            "linecolor": "white",
            "ticks": ""
           },
           "bgcolor": "#E5ECF6",
           "radialaxis": {
            "gridcolor": "white",
            "linecolor": "white",
            "ticks": ""
           }
          },
          "scene": {
           "xaxis": {
            "backgroundcolor": "#E5ECF6",
            "gridcolor": "white",
            "gridwidth": 2,
            "linecolor": "white",
            "showbackground": true,
            "ticks": "",
            "zerolinecolor": "white"
           },
           "yaxis": {
            "backgroundcolor": "#E5ECF6",
            "gridcolor": "white",
            "gridwidth": 2,
            "linecolor": "white",
            "showbackground": true,
            "ticks": "",
            "zerolinecolor": "white"
           },
           "zaxis": {
            "backgroundcolor": "#E5ECF6",
            "gridcolor": "white",
            "gridwidth": 2,
            "linecolor": "white",
            "showbackground": true,
            "ticks": "",
            "zerolinecolor": "white"
           }
          },
          "shapedefaults": {
           "line": {
            "color": "#2a3f5f"
           }
          },
          "ternary": {
           "aaxis": {
            "gridcolor": "white",
            "linecolor": "white",
            "ticks": ""
           },
           "baxis": {
            "gridcolor": "white",
            "linecolor": "white",
            "ticks": ""
           },
           "bgcolor": "#E5ECF6",
           "caxis": {
            "gridcolor": "white",
            "linecolor": "white",
            "ticks": ""
           }
          },
          "title": {
           "x": 0.05
          },
          "xaxis": {
           "automargin": true,
           "gridcolor": "white",
           "linecolor": "white",
           "ticks": "",
           "title": {
            "standoff": 15
           },
           "zerolinecolor": "white",
           "zerolinewidth": 2
          },
          "yaxis": {
           "automargin": true,
           "gridcolor": "white",
           "linecolor": "white",
           "ticks": "",
           "title": {
            "standoff": 15
           },
           "zerolinecolor": "white",
           "zerolinewidth": 2
          }
         }
        }
       }
      },
      "text/html": [
       "<div>                            <div id=\"c49717ff-c127-4c6c-8a86-0c978be15e6f\" class=\"plotly-graph-div\" style=\"height:525px; width:100%;\"></div>            <script type=\"text/javascript\">                require([\"plotly\"], function(Plotly) {                    window.PLOTLYENV=window.PLOTLYENV || {};                                    if (document.getElementById(\"c49717ff-c127-4c6c-8a86-0c978be15e6f\")) {                    Plotly.newPlot(                        \"c49717ff-c127-4c6c-8a86-0c978be15e6f\",                        [{\"diagonal\": {\"visible\": false}, \"dimensions\": [{\"axis\": {\"matches\": true}, \"label\": \"Clade\", \"values\": [0]}, {\"axis\": {\"matches\": true}, \"label\": \"Sex\", \"values\": [0]}, {\"axis\": {\"matches\": true}, \"label\": \"Body Mass (g)\", \"values\": [34.0]}, {\"axis\": {\"matches\": true}, \"label\": \"Body _Length _(mm)\", \"values\": [174.0]}], \"hovertemplate\": \"Species=albidiventris<br>%{xaxis.title.text}=%{x}<br>%{yaxis.title.text}=%{y}<extra></extra>\", \"legendgroup\": \"albidiventris\", \"marker\": {\"color\": \"#636efa\", \"symbol\": \"circle\"}, \"name\": \"albidiventris\", \"showlegend\": true, \"type\": \"splom\"}, {\"diagonal\": {\"visible\": false}, \"dimensions\": [{\"axis\": {\"matches\": true}, \"label\": \"Clade\", \"values\": [0]}, {\"axis\": {\"matches\": true}, \"label\": \"Sex\", \"values\": [1]}, {\"axis\": {\"matches\": true}, \"label\": \"Body Mass (g)\", \"values\": [28.3]}, {\"axis\": {\"matches\": true}, \"label\": \"Body _Length _(mm)\", \"values\": [169.0]}], \"hovertemplate\": \"Species=albiventris<br>%{xaxis.title.text}=%{x}<br>%{yaxis.title.text}=%{y}<extra></extra>\", \"legendgroup\": \"albiventris\", \"marker\": {\"color\": \"#EF553B\", \"symbol\": \"circle\"}, \"name\": \"albiventris\", \"showlegend\": true, \"type\": \"splom\"}, {\"diagonal\": {\"visible\": false}, \"dimensions\": [{\"axis\": {\"matches\": true}, \"label\": \"Clade\", \"values\": [1, 1]}, {\"axis\": {\"matches\": true}, \"label\": \"Sex\", \"values\": [1, 1]}, {\"axis\": {\"matches\": true}, \"label\": \"Body Mass (g)\", \"values\": [49.0, 54.7]}, {\"axis\": {\"matches\": true}, \"label\": \"Body _Length _(mm)\", \"values\": [202.0, 204.0]}], \"hovertemplate\": \"Species=atacamensis<br>%{xaxis.title.text}=%{x}<br>%{yaxis.title.text}=%{y}<extra></extra>\", \"legendgroup\": \"atacamensis\", \"marker\": {\"color\": \"#00cc96\", \"symbol\": \"circle\"}, \"name\": \"atacamensis\", \"showlegend\": true, \"type\": \"splom\"}, {\"diagonal\": {\"visible\": false}, \"dimensions\": [{\"axis\": {\"matches\": true}, \"label\": \"Clade\", \"values\": [1]}, {\"axis\": {\"matches\": true}, \"label\": \"Sex\", \"values\": [1]}, {\"axis\": {\"matches\": true}, \"label\": \"Body Mass (g)\", \"values\": [65.0]}, {\"axis\": {\"matches\": true}, \"label\": \"Body _Length _(mm)\", \"values\": [211.0]}], \"hovertemplate\": \"Species=excelsior<br>%{xaxis.title.text}=%{x}<br>%{yaxis.title.text}=%{y}<extra></extra>\", \"legendgroup\": \"excelsior\", \"marker\": {\"color\": \"#ab63fa\", \"symbol\": \"circle\"}, \"name\": \"excelsior\", \"showlegend\": true, \"type\": \"splom\"}, {\"diagonal\": {\"visible\": false}, \"dimensions\": [{\"axis\": {\"matches\": true}, \"label\": \"Clade\", \"values\": [0, 0, 0, 0, 0, 0, 0, 0, 0, 0]}, {\"axis\": {\"matches\": true}, \"label\": \"Sex\", \"values\": [0, 0, 0, 0, 1, 1, 1, 1, 0, 0]}, {\"axis\": {\"matches\": true}, \"label\": \"Body Mass (g)\", \"values\": [28.4, 31.3, 29.3, 31.3, 26.2, 27.1, 30.3, 31.0, 34.0, 31.0]}, {\"axis\": {\"matches\": true}, \"label\": \"Body _Length _(mm)\", \"values\": [179.0, 201.0, 186.0, 189.0, 183.0, 181.0, 198.0, 178.0, 176.0, 162.0]}], \"hovertemplate\": \"Species=fuscus<br>%{xaxis.title.text}=%{x}<br>%{yaxis.title.text}=%{y}<extra></extra>\", \"legendgroup\": \"fuscus\", \"marker\": {\"color\": \"#FFA15A\", \"symbol\": \"circle\"}, \"name\": \"fuscus\", \"showlegend\": true, \"type\": \"splom\"}, {\"diagonal\": {\"visible\": false}, \"dimensions\": [{\"axis\": {\"matches\": true}, \"label\": \"Clade\", \"values\": [0, 0, 0, 0, 0]}, {\"axis\": {\"matches\": true}, \"label\": \"Sex\", \"values\": [1, 0, 0, 0, 0]}, {\"axis\": {\"matches\": true}, \"label\": \"Body Mass (g)\", \"values\": [32.0, 30.5, 31.3, 33.0, 34.7]}, {\"axis\": {\"matches\": true}, \"label\": \"Body _Length _(mm)\", \"values\": [169.0, 169.0, 166.0, 187.0, 187.0]}], \"hovertemplate\": \"Species=oustaleti<br>%{xaxis.title.text}=%{x}<br>%{yaxis.title.text}=%{y}<extra></extra>\", \"legendgroup\": \"oustaleti\", \"marker\": {\"color\": \"#19d3f3\", \"symbol\": \"circle\"}, \"name\": \"oustaleti\", \"showlegend\": true, \"type\": \"splom\"}, {\"diagonal\": {\"visible\": false}, \"dimensions\": [{\"axis\": {\"matches\": true}, \"label\": \"Clade\", \"values\": [1, 1, 1, 1, 1, 1, 1, 1, 1, 1, 1, 1, 1, 1]}, {\"axis\": {\"matches\": true}, \"label\": \"Sex\", \"values\": [1, 1, 1, 0, 1, 0, 0, 0, 0, 0, 0, 2, 2, 2]}, {\"axis\": {\"matches\": true}, \"label\": \"Body Mass (g)\", \"values\": [48.0, 45.0, 49.5, 48.0, 52.0, 50.0, 49.6, 50.2, 52.6, 54.4, 60.7, 42.0, 44.0, 36.0]}, {\"axis\": {\"matches\": true}, \"label\": \"Body _Length _(mm)\", \"values\": [190.0, 199.0, 198.0, 196.0, 219.0, 216.0, 214.0, 216.0, 223.0, 217.0, 212.0, 201.0, 203.0, 190.0]}], \"hovertemplate\": \"Species=patagonicus<br>%{xaxis.title.text}=%{x}<br>%{yaxis.title.text}=%{y}<extra></extra>\", \"legendgroup\": \"patagonicus\", \"marker\": {\"color\": \"#FF6692\", \"symbol\": \"circle\"}, \"name\": \"patagonicus\", \"showlegend\": true, \"type\": \"splom\"}],                        {\"dragmode\": \"select\", \"legend\": {\"title\": {\"text\": \"Species\"}, \"tracegroupgap\": 0}, \"margin\": {\"t\": 60}, \"template\": {\"data\": {\"bar\": [{\"error_x\": {\"color\": \"#2a3f5f\"}, \"error_y\": {\"color\": \"#2a3f5f\"}, \"marker\": {\"line\": {\"color\": \"#E5ECF6\", \"width\": 0.5}}, \"type\": \"bar\"}], \"barpolar\": [{\"marker\": {\"line\": {\"color\": \"#E5ECF6\", \"width\": 0.5}}, \"type\": \"barpolar\"}], \"carpet\": [{\"aaxis\": {\"endlinecolor\": \"#2a3f5f\", \"gridcolor\": \"white\", \"linecolor\": \"white\", \"minorgridcolor\": \"white\", \"startlinecolor\": \"#2a3f5f\"}, \"baxis\": {\"endlinecolor\": \"#2a3f5f\", \"gridcolor\": \"white\", \"linecolor\": \"white\", \"minorgridcolor\": \"white\", \"startlinecolor\": \"#2a3f5f\"}, \"type\": \"carpet\"}], \"choropleth\": [{\"colorbar\": {\"outlinewidth\": 0, \"ticks\": \"\"}, \"type\": \"choropleth\"}], \"contour\": [{\"colorbar\": {\"outlinewidth\": 0, \"ticks\": \"\"}, \"colorscale\": [[0.0, \"#0d0887\"], [0.1111111111111111, \"#46039f\"], [0.2222222222222222, \"#7201a8\"], [0.3333333333333333, \"#9c179e\"], [0.4444444444444444, \"#bd3786\"], [0.5555555555555556, \"#d8576b\"], [0.6666666666666666, \"#ed7953\"], [0.7777777777777778, \"#fb9f3a\"], [0.8888888888888888, \"#fdca26\"], [1.0, \"#f0f921\"]], \"type\": \"contour\"}], \"contourcarpet\": [{\"colorbar\": {\"outlinewidth\": 0, \"ticks\": \"\"}, \"type\": \"contourcarpet\"}], \"heatmap\": [{\"colorbar\": {\"outlinewidth\": 0, \"ticks\": \"\"}, \"colorscale\": [[0.0, \"#0d0887\"], [0.1111111111111111, \"#46039f\"], [0.2222222222222222, \"#7201a8\"], [0.3333333333333333, \"#9c179e\"], [0.4444444444444444, \"#bd3786\"], [0.5555555555555556, \"#d8576b\"], [0.6666666666666666, \"#ed7953\"], [0.7777777777777778, \"#fb9f3a\"], [0.8888888888888888, \"#fdca26\"], [1.0, \"#f0f921\"]], \"type\": \"heatmap\"}], \"heatmapgl\": [{\"colorbar\": {\"outlinewidth\": 0, \"ticks\": \"\"}, \"colorscale\": [[0.0, \"#0d0887\"], [0.1111111111111111, \"#46039f\"], [0.2222222222222222, \"#7201a8\"], [0.3333333333333333, \"#9c179e\"], [0.4444444444444444, \"#bd3786\"], [0.5555555555555556, \"#d8576b\"], [0.6666666666666666, \"#ed7953\"], [0.7777777777777778, \"#fb9f3a\"], [0.8888888888888888, \"#fdca26\"], [1.0, \"#f0f921\"]], \"type\": \"heatmapgl\"}], \"histogram\": [{\"marker\": {\"colorbar\": {\"outlinewidth\": 0, \"ticks\": \"\"}}, \"type\": \"histogram\"}], \"histogram2d\": [{\"colorbar\": {\"outlinewidth\": 0, \"ticks\": \"\"}, \"colorscale\": [[0.0, \"#0d0887\"], [0.1111111111111111, \"#46039f\"], [0.2222222222222222, \"#7201a8\"], [0.3333333333333333, \"#9c179e\"], [0.4444444444444444, \"#bd3786\"], [0.5555555555555556, \"#d8576b\"], [0.6666666666666666, \"#ed7953\"], [0.7777777777777778, \"#fb9f3a\"], [0.8888888888888888, \"#fdca26\"], [1.0, \"#f0f921\"]], \"type\": \"histogram2d\"}], \"histogram2dcontour\": [{\"colorbar\": {\"outlinewidth\": 0, \"ticks\": \"\"}, \"colorscale\": [[0.0, \"#0d0887\"], [0.1111111111111111, \"#46039f\"], [0.2222222222222222, \"#7201a8\"], [0.3333333333333333, \"#9c179e\"], [0.4444444444444444, \"#bd3786\"], [0.5555555555555556, \"#d8576b\"], [0.6666666666666666, \"#ed7953\"], [0.7777777777777778, \"#fb9f3a\"], [0.8888888888888888, \"#fdca26\"], [1.0, \"#f0f921\"]], \"type\": \"histogram2dcontour\"}], \"mesh3d\": [{\"colorbar\": {\"outlinewidth\": 0, \"ticks\": \"\"}, \"type\": \"mesh3d\"}], \"parcoords\": [{\"line\": {\"colorbar\": {\"outlinewidth\": 0, \"ticks\": \"\"}}, \"type\": \"parcoords\"}], \"pie\": [{\"automargin\": true, \"type\": \"pie\"}], \"scatter\": [{\"marker\": {\"colorbar\": {\"outlinewidth\": 0, \"ticks\": \"\"}}, \"type\": \"scatter\"}], \"scatter3d\": [{\"line\": {\"colorbar\": {\"outlinewidth\": 0, \"ticks\": \"\"}}, \"marker\": {\"colorbar\": {\"outlinewidth\": 0, \"ticks\": \"\"}}, \"type\": \"scatter3d\"}], \"scattercarpet\": [{\"marker\": {\"colorbar\": {\"outlinewidth\": 0, \"ticks\": \"\"}}, \"type\": \"scattercarpet\"}], \"scattergeo\": [{\"marker\": {\"colorbar\": {\"outlinewidth\": 0, \"ticks\": \"\"}}, \"type\": \"scattergeo\"}], \"scattergl\": [{\"marker\": {\"colorbar\": {\"outlinewidth\": 0, \"ticks\": \"\"}}, \"type\": \"scattergl\"}], \"scattermapbox\": [{\"marker\": {\"colorbar\": {\"outlinewidth\": 0, \"ticks\": \"\"}}, \"type\": \"scattermapbox\"}], \"scatterpolar\": [{\"marker\": {\"colorbar\": {\"outlinewidth\": 0, \"ticks\": \"\"}}, \"type\": \"scatterpolar\"}], \"scatterpolargl\": [{\"marker\": {\"colorbar\": {\"outlinewidth\": 0, \"ticks\": \"\"}}, \"type\": \"scatterpolargl\"}], \"scatterternary\": [{\"marker\": {\"colorbar\": {\"outlinewidth\": 0, \"ticks\": \"\"}}, \"type\": \"scatterternary\"}], \"surface\": [{\"colorbar\": {\"outlinewidth\": 0, \"ticks\": \"\"}, \"colorscale\": [[0.0, \"#0d0887\"], [0.1111111111111111, \"#46039f\"], [0.2222222222222222, \"#7201a8\"], [0.3333333333333333, \"#9c179e\"], [0.4444444444444444, \"#bd3786\"], [0.5555555555555556, \"#d8576b\"], [0.6666666666666666, \"#ed7953\"], [0.7777777777777778, \"#fb9f3a\"], [0.8888888888888888, \"#fdca26\"], [1.0, \"#f0f921\"]], \"type\": \"surface\"}], \"table\": [{\"cells\": {\"fill\": {\"color\": \"#EBF0F8\"}, \"line\": {\"color\": \"white\"}}, \"header\": {\"fill\": {\"color\": \"#C8D4E3\"}, \"line\": {\"color\": \"white\"}}, \"type\": \"table\"}]}, \"layout\": {\"annotationdefaults\": {\"arrowcolor\": \"#2a3f5f\", \"arrowhead\": 0, \"arrowwidth\": 1}, \"autotypenumbers\": \"strict\", \"coloraxis\": {\"colorbar\": {\"outlinewidth\": 0, \"ticks\": \"\"}}, \"colorscale\": {\"diverging\": [[0, \"#8e0152\"], [0.1, \"#c51b7d\"], [0.2, \"#de77ae\"], [0.3, \"#f1b6da\"], [0.4, \"#fde0ef\"], [0.5, \"#f7f7f7\"], [0.6, \"#e6f5d0\"], [0.7, \"#b8e186\"], [0.8, \"#7fbc41\"], [0.9, \"#4d9221\"], [1, \"#276419\"]], \"sequential\": [[0.0, \"#0d0887\"], [0.1111111111111111, \"#46039f\"], [0.2222222222222222, \"#7201a8\"], [0.3333333333333333, \"#9c179e\"], [0.4444444444444444, \"#bd3786\"], [0.5555555555555556, \"#d8576b\"], [0.6666666666666666, \"#ed7953\"], [0.7777777777777778, \"#fb9f3a\"], [0.8888888888888888, \"#fdca26\"], [1.0, \"#f0f921\"]], \"sequentialminus\": [[0.0, \"#0d0887\"], [0.1111111111111111, \"#46039f\"], [0.2222222222222222, \"#7201a8\"], [0.3333333333333333, \"#9c179e\"], [0.4444444444444444, \"#bd3786\"], [0.5555555555555556, \"#d8576b\"], [0.6666666666666666, \"#ed7953\"], [0.7777777777777778, \"#fb9f3a\"], [0.8888888888888888, \"#fdca26\"], [1.0, \"#f0f921\"]]}, \"colorway\": [\"#636efa\", \"#EF553B\", \"#00cc96\", \"#ab63fa\", \"#FFA15A\", \"#19d3f3\", \"#FF6692\", \"#B6E880\", \"#FF97FF\", \"#FECB52\"], \"font\": {\"color\": \"#2a3f5f\"}, \"geo\": {\"bgcolor\": \"white\", \"lakecolor\": \"white\", \"landcolor\": \"#E5ECF6\", \"showlakes\": true, \"showland\": true, \"subunitcolor\": \"white\"}, \"hoverlabel\": {\"align\": \"left\"}, \"hovermode\": \"closest\", \"mapbox\": {\"style\": \"light\"}, \"paper_bgcolor\": \"white\", \"plot_bgcolor\": \"#E5ECF6\", \"polar\": {\"angularaxis\": {\"gridcolor\": \"white\", \"linecolor\": \"white\", \"ticks\": \"\"}, \"bgcolor\": \"#E5ECF6\", \"radialaxis\": {\"gridcolor\": \"white\", \"linecolor\": \"white\", \"ticks\": \"\"}}, \"scene\": {\"xaxis\": {\"backgroundcolor\": \"#E5ECF6\", \"gridcolor\": \"white\", \"gridwidth\": 2, \"linecolor\": \"white\", \"showbackground\": true, \"ticks\": \"\", \"zerolinecolor\": \"white\"}, \"yaxis\": {\"backgroundcolor\": \"#E5ECF6\", \"gridcolor\": \"white\", \"gridwidth\": 2, \"linecolor\": \"white\", \"showbackground\": true, \"ticks\": \"\", \"zerolinecolor\": \"white\"}, \"zaxis\": {\"backgroundcolor\": \"#E5ECF6\", \"gridcolor\": \"white\", \"gridwidth\": 2, \"linecolor\": \"white\", \"showbackground\": true, \"ticks\": \"\", \"zerolinecolor\": \"white\"}}, \"shapedefaults\": {\"line\": {\"color\": \"#2a3f5f\"}}, \"ternary\": {\"aaxis\": {\"gridcolor\": \"white\", \"linecolor\": \"white\", \"ticks\": \"\"}, \"baxis\": {\"gridcolor\": \"white\", \"linecolor\": \"white\", \"ticks\": \"\"}, \"bgcolor\": \"#E5ECF6\", \"caxis\": {\"gridcolor\": \"white\", \"linecolor\": \"white\", \"ticks\": \"\"}}, \"title\": {\"x\": 0.05}, \"xaxis\": {\"automargin\": true, \"gridcolor\": \"white\", \"linecolor\": \"white\", \"ticks\": \"\", \"title\": {\"standoff\": 15}, \"zerolinecolor\": \"white\", \"zerolinewidth\": 2}, \"yaxis\": {\"automargin\": true, \"gridcolor\": \"white\", \"linecolor\": \"white\", \"ticks\": \"\", \"title\": {\"standoff\": 15}, \"zerolinecolor\": \"white\", \"zerolinewidth\": 2}}}},                        {\"responsive\": true}                    ).then(function(){\n",
       "                            \n",
       "var gd = document.getElementById('c49717ff-c127-4c6c-8a86-0c978be15e6f');\n",
       "var x = new MutationObserver(function (mutations, observer) {{\n",
       "        var display = window.getComputedStyle(gd).display;\n",
       "        if (!display || display === 'none') {{\n",
       "            console.log([gd, 'removed!']);\n",
       "            Plotly.purge(gd);\n",
       "            observer.disconnect();\n",
       "        }}\n",
       "}});\n",
       "\n",
       "// Listen for the removal of the full notebook cells\n",
       "var notebookContainer = gd.closest('#notebook-container');\n",
       "if (notebookContainer) {{\n",
       "    x.observe(notebookContainer, {childList: true});\n",
       "}}\n",
       "\n",
       "// Listen for the clearing of the current output cell\n",
       "var outputEl = gd.closest('.output');\n",
       "if (outputEl) {{\n",
       "    x.observe(outputEl, {childList: true});\n",
       "}}\n",
       "\n",
       "                        })                };                });            </script>        </div>"
      ]
     },
     "metadata": {},
     "output_type": "display_data"
    }
   ],
   "source": [
    "features = dataset.columns[2:6]\n",
    "print(features)\n",
    "\n",
    "fig = px.scatter_matrix(\n",
    "    dataset,\n",
    "    dimensions=features,\n",
    "    color=\"Species\"\n",
    ")\n",
    "fig.update_traces(diagonal_visible=False)\n",
    "fig.show()"
   ]
  },
  {
   "cell_type": "markdown",
   "metadata": {},
   "source": [
    "Visualize all the principal components"
   ]
  },
  {
   "cell_type": "code",
   "execution_count": 309,
   "metadata": {},
   "outputs": [
    {
     "data": {
      "application/vnd.plotly.v1+json": {
       "config": {
        "plotlyServerURL": "https://plot.ly"
       },
       "data": [
        {
         "diagonal": {
          "visible": false
         },
         "dimensions": [
          {
           "axis": {
            "matches": true
           },
           "label": "PC 1 (100.0%)",
           "values": [
            -11460.856894474848
           ]
          },
          {
           "axis": {
            "matches": true
           },
           "label": "PC 2 (0.0%)",
           "values": [
            -824.6204526050109
           ]
          },
          {
           "axis": {
            "matches": true
           },
           "label": "PC 3 (0.0%)",
           "values": [
            3400.3375854257774
           ]
          },
          {
           "axis": {
            "matches": true
           },
           "label": "PC 4 (0.0%)",
           "values": [
            -15.228629249315395
           ]
          }
         ],
         "hovertemplate": "color=albidiventris<br>%{xaxis.title.text}=%{x}<br>%{yaxis.title.text}=%{y}<extra></extra>",
         "legendgroup": "albidiventris",
         "marker": {
          "color": "#636efa",
          "symbol": "circle"
         },
         "name": "albidiventris",
         "showlegend": true,
         "type": "splom"
        },
        {
         "diagonal": {
          "visible": false
         },
         "dimensions": [
          {
           "axis": {
            "matches": true
           },
           "label": "PC 1 (100.0%)",
           "values": [
            -10069.188194665041
           ]
          },
          {
           "axis": {
            "matches": true
           },
           "label": "PC 2 (0.0%)",
           "values": [
            -764.8328022637925
           ]
          },
          {
           "axis": {
            "matches": true
           },
           "label": "PC 3 (0.0%)",
           "values": [
            2497.5175237877183
           ]
          },
          {
           "axis": {
            "matches": true
           },
           "label": "PC 4 (0.0%)",
           "values": [
            -62.31586113864578
           ]
          }
         ],
         "hovertemplate": "color=albiventris<br>%{xaxis.title.text}=%{x}<br>%{yaxis.title.text}=%{y}<extra></extra>",
         "legendgroup": "albiventris",
         "marker": {
          "color": "#EF553B",
          "symbol": "circle"
         },
         "name": "albiventris",
         "showlegend": true,
         "type": "splom"
        },
        {
         "diagonal": {
          "visible": false
         },
         "dimensions": [
          {
           "axis": {
            "matches": true
           },
           "label": "PC 1 (100.0%)",
           "values": [
            249691.26332311428,
            257781.26130626316
           ]
          },
          {
           "axis": {
            "matches": true
           },
           "label": "PC 2 (0.0%)",
           "values": [
            -1853.6247344112373,
            -1904.91904495197
           ]
          },
          {
           "axis": {
            "matches": true
           },
           "label": "PC 3 (0.0%)",
           "values": [
            2484.088319454965,
            2723.234915637356
           ]
          },
          {
           "axis": {
            "matches": true
           },
           "label": "PC 4 (0.0%)",
           "values": [
            35.84920068026561,
            2.0804423163071046
           ]
          }
         ],
         "hovertemplate": "color=atacamensis<br>%{xaxis.title.text}=%{x}<br>%{yaxis.title.text}=%{y}<extra></extra>",
         "legendgroup": "atacamensis",
         "marker": {
          "color": "#00cc96",
          "symbol": "circle"
         },
         "name": "atacamensis",
         "showlegend": true,
         "type": "splom"
        },
        {
         "diagonal": {
          "visible": false
         },
         "dimensions": [
          {
           "axis": {
            "matches": true
           },
           "label": "PC 1 (100.0%)",
           "values": [
            279205.505832233
           ]
          },
          {
           "axis": {
            "matches": true
           },
           "label": "PC 2 (0.0%)",
           "values": [
            -1970.3568401899968
           ]
          },
          {
           "axis": {
            "matches": true
           },
           "label": "PC 3 (0.0%)",
           "values": [
            2386.3738841311756
           ]
          },
          {
           "axis": {
            "matches": true
           },
           "label": "PC 4 (0.0%)",
           "values": [
            -0.05667513529841249
           ]
          }
         ],
         "hovertemplate": "color=excelsior<br>%{xaxis.title.text}=%{x}<br>%{yaxis.title.text}=%{y}<extra></extra>",
         "legendgroup": "excelsior",
         "marker": {
          "color": "#ab63fa",
          "symbol": "circle"
         },
         "name": "excelsior",
         "showlegend": true,
         "type": "splom"
        },
        {
         "diagonal": {
          "visible": false
         },
         "dimensions": [
          {
           "axis": {
            "matches": true
           },
           "label": "PC 1 (100.0%)",
           "values": [
            230318.8703503147,
            230320.2847880429,
            209197.53123486755,
            230323.20125896594,
            230324.61695779703,
            230326.02979540476,
            230327.3573451334,
            -185267.74810206186,
            -185263.50738429796,
            -185262.09251487843
           ]
          },
          {
           "axis": {
            "matches": true
           },
           "label": "PC 2 (0.0%)",
           "values": [
            -1487.6836323451632,
            -1487.7231599946795,
            19753.355359691377,
            -1489.8738095108001,
            -1489.861011581058,
            -1489.8702777559877,
            -1487.7343530014557,
            156.3854401486904,
            156.39841987670735,
            156.38634203544527
           ]
          },
          {
           "axis": {
            "matches": true
           },
           "label": "PC 3 (0.0%)",
           "values": [
            -1431.0434173564975,
            -1430.9651518202431,
            177.35362945535897,
            -1401.3725494416137,
            -1401.300243493964,
            -1401.3912362428912,
            -1430.9210909061264,
            -65.3592745951019,
            -65.6405487346825,
            -65.51764476084041
           ]
          },
          {
           "axis": {
            "matches": true
           },
           "label": "PC 4 (0.0%)",
           "values": [
            -9.772775719833849,
            -5.205805065663415,
            0.0004744735990800372,
            -34.41517629516922,
            -17.6760714934139,
            -32.56540606552683,
            10.520686080422205,
            -25.374010253611836,
            -43.770061004629014,
            -37.536729439388786
           ]
          }
         ],
         "hovertemplate": "color=fuscus<br>%{xaxis.title.text}=%{x}<br>%{yaxis.title.text}=%{y}<extra></extra>",
         "legendgroup": "fuscus",
         "marker": {
          "color": "#FFA15A",
          "symbol": "circle"
         },
         "name": "fuscus",
         "showlegend": true,
         "type": "splom"
        },
        {
         "diagonal": {
          "visible": false
         },
         "dimensions": [
          {
           "axis": {
            "matches": true
           },
           "label": "PC 1 (100.0%)",
           "values": [
            -185270.5711917068,
            -185269.15442355917,
            -113494.53746438997,
            -113492.95741665953,
            -113488.42053671922
           ]
          },
          {
           "axis": {
            "matches": true
           },
           "label": "PC 2 (0.0%)",
           "values": [
            156.39266600850559,
            156.36193019916843,
            -127.35988684892098,
            -131.3655945419054,
            -138.48099370379845
           ]
          },
          {
           "axis": {
            "matches": true
           },
           "label": "PC 3 (0.0%)",
           "values": [
            -64.91276849786598,
            -64.64759422973644,
            -303.5907968129223,
            -248.8334814923169,
            -151.2256353104633
           ]
          },
          {
           "axis": {
            "matches": true
           },
           "label": "PC 4 (0.0%)",
           "values": [
            26.59526796946253,
            52.07972552467956,
            -29.861273841328668,
            -25.83159775401705,
            -47.14925592572426
           ]
          }
         ],
         "hovertemplate": "color=oustaleti<br>%{xaxis.title.text}=%{x}<br>%{yaxis.title.text}=%{y}<extra></extra>",
         "legendgroup": "oustaleti",
         "marker": {
          "color": "#19d3f3",
          "symbol": "circle"
         },
         "name": "oustaleti",
         "showlegend": true,
         "type": "splom"
        },
        {
         "diagonal": {
          "visible": false
         },
         "dimensions": [
          {
           "axis": {
            "matches": true
           },
           "label": "PC 1 (100.0%)",
           "values": [
            296279.33985388454,
            -185367.60668530752,
            -185276.23378246455,
            -185274.8184050828,
            -113503.01849874732,
            -113501.60717352106,
            -113500.12288818847,
            -113497.29222598083,
            -113495.87918514741,
            -113487.46782815427,
            -113486.05078854972,
            -11790.12425012371,
            -11788.710178298215,
            -11787.296033044764
           ]
          },
          {
           "axis": {
            "matches": true
           },
           "label": "PC 2 (0.0%)",
           "values": [
            -1772.8932120291176,
            143.67562377378013,
            156.35954799247406,
            156.3680743120306,
            -127.46539022529383,
            -127.44441885645695,
            -129.1176202660606,
            -129.14651377823796,
            -129.14674322219278,
            -127.48481538551232,
            -127.50885325020425,
            -557.7192363631831,
            -557.725494841591,
            -557.7245121157722
           ]
          },
          {
           "axis": {
            "matches": true
           },
           "label": "PC 3 (0.0%)",
           "values": [
            -1314.681302050716,
            114.90112071953911,
            -65.1835368756276,
            -65.13553945556258,
            -302.8601250960419,
            -303.1392280802327,
            -280.1640749439275,
            -279.9547286846929,
            -280.0740203474927,
            -303.40132555179036,
            -303.12308081613827,
            -253.10453520063635,
            -253.1389951434566,
            -253.12505267015928
           ]
          },
          {
           "axis": {
            "matches": true
           },
           "label": "PC 4 (0.0%)",
           "values": [
            -24.29697602439503,
            27.198021572148487,
            -28.064266473265548,
            -13.892263468252493,
            16.716303349286598,
            -8.172707969374327,
            -4.910627400153067,
            16.844628276238225,
            5.696444351508451,
            -33.305515842514346,
            -6.437015236650099,
            105.55526162732157,
            102.89075490670753,
            103.81148966821625
           ]
          }
         ],
         "hovertemplate": "color=patagonicus<br>%{xaxis.title.text}=%{x}<br>%{yaxis.title.text}=%{y}<extra></extra>",
         "legendgroup": "patagonicus",
         "marker": {
          "color": "#FF6692",
          "symbol": "circle"
         },
         "name": "patagonicus",
         "showlegend": true,
         "type": "splom"
        }
       ],
       "layout": {
        "dragmode": "select",
        "legend": {
         "title": {
          "text": "color"
         },
         "tracegroupgap": 0
        },
        "margin": {
         "t": 60
        },
        "template": {
         "data": {
          "bar": [
           {
            "error_x": {
             "color": "#2a3f5f"
            },
            "error_y": {
             "color": "#2a3f5f"
            },
            "marker": {
             "line": {
              "color": "#E5ECF6",
              "width": 0.5
             }
            },
            "type": "bar"
           }
          ],
          "barpolar": [
           {
            "marker": {
             "line": {
              "color": "#E5ECF6",
              "width": 0.5
             }
            },
            "type": "barpolar"
           }
          ],
          "carpet": [
           {
            "aaxis": {
             "endlinecolor": "#2a3f5f",
             "gridcolor": "white",
             "linecolor": "white",
             "minorgridcolor": "white",
             "startlinecolor": "#2a3f5f"
            },
            "baxis": {
             "endlinecolor": "#2a3f5f",
             "gridcolor": "white",
             "linecolor": "white",
             "minorgridcolor": "white",
             "startlinecolor": "#2a3f5f"
            },
            "type": "carpet"
           }
          ],
          "choropleth": [
           {
            "colorbar": {
             "outlinewidth": 0,
             "ticks": ""
            },
            "type": "choropleth"
           }
          ],
          "contour": [
           {
            "colorbar": {
             "outlinewidth": 0,
             "ticks": ""
            },
            "colorscale": [
             [
              0,
              "#0d0887"
             ],
             [
              0.1111111111111111,
              "#46039f"
             ],
             [
              0.2222222222222222,
              "#7201a8"
             ],
             [
              0.3333333333333333,
              "#9c179e"
             ],
             [
              0.4444444444444444,
              "#bd3786"
             ],
             [
              0.5555555555555556,
              "#d8576b"
             ],
             [
              0.6666666666666666,
              "#ed7953"
             ],
             [
              0.7777777777777778,
              "#fb9f3a"
             ],
             [
              0.8888888888888888,
              "#fdca26"
             ],
             [
              1,
              "#f0f921"
             ]
            ],
            "type": "contour"
           }
          ],
          "contourcarpet": [
           {
            "colorbar": {
             "outlinewidth": 0,
             "ticks": ""
            },
            "type": "contourcarpet"
           }
          ],
          "heatmap": [
           {
            "colorbar": {
             "outlinewidth": 0,
             "ticks": ""
            },
            "colorscale": [
             [
              0,
              "#0d0887"
             ],
             [
              0.1111111111111111,
              "#46039f"
             ],
             [
              0.2222222222222222,
              "#7201a8"
             ],
             [
              0.3333333333333333,
              "#9c179e"
             ],
             [
              0.4444444444444444,
              "#bd3786"
             ],
             [
              0.5555555555555556,
              "#d8576b"
             ],
             [
              0.6666666666666666,
              "#ed7953"
             ],
             [
              0.7777777777777778,
              "#fb9f3a"
             ],
             [
              0.8888888888888888,
              "#fdca26"
             ],
             [
              1,
              "#f0f921"
             ]
            ],
            "type": "heatmap"
           }
          ],
          "heatmapgl": [
           {
            "colorbar": {
             "outlinewidth": 0,
             "ticks": ""
            },
            "colorscale": [
             [
              0,
              "#0d0887"
             ],
             [
              0.1111111111111111,
              "#46039f"
             ],
             [
              0.2222222222222222,
              "#7201a8"
             ],
             [
              0.3333333333333333,
              "#9c179e"
             ],
             [
              0.4444444444444444,
              "#bd3786"
             ],
             [
              0.5555555555555556,
              "#d8576b"
             ],
             [
              0.6666666666666666,
              "#ed7953"
             ],
             [
              0.7777777777777778,
              "#fb9f3a"
             ],
             [
              0.8888888888888888,
              "#fdca26"
             ],
             [
              1,
              "#f0f921"
             ]
            ],
            "type": "heatmapgl"
           }
          ],
          "histogram": [
           {
            "marker": {
             "colorbar": {
              "outlinewidth": 0,
              "ticks": ""
             }
            },
            "type": "histogram"
           }
          ],
          "histogram2d": [
           {
            "colorbar": {
             "outlinewidth": 0,
             "ticks": ""
            },
            "colorscale": [
             [
              0,
              "#0d0887"
             ],
             [
              0.1111111111111111,
              "#46039f"
             ],
             [
              0.2222222222222222,
              "#7201a8"
             ],
             [
              0.3333333333333333,
              "#9c179e"
             ],
             [
              0.4444444444444444,
              "#bd3786"
             ],
             [
              0.5555555555555556,
              "#d8576b"
             ],
             [
              0.6666666666666666,
              "#ed7953"
             ],
             [
              0.7777777777777778,
              "#fb9f3a"
             ],
             [
              0.8888888888888888,
              "#fdca26"
             ],
             [
              1,
              "#f0f921"
             ]
            ],
            "type": "histogram2d"
           }
          ],
          "histogram2dcontour": [
           {
            "colorbar": {
             "outlinewidth": 0,
             "ticks": ""
            },
            "colorscale": [
             [
              0,
              "#0d0887"
             ],
             [
              0.1111111111111111,
              "#46039f"
             ],
             [
              0.2222222222222222,
              "#7201a8"
             ],
             [
              0.3333333333333333,
              "#9c179e"
             ],
             [
              0.4444444444444444,
              "#bd3786"
             ],
             [
              0.5555555555555556,
              "#d8576b"
             ],
             [
              0.6666666666666666,
              "#ed7953"
             ],
             [
              0.7777777777777778,
              "#fb9f3a"
             ],
             [
              0.8888888888888888,
              "#fdca26"
             ],
             [
              1,
              "#f0f921"
             ]
            ],
            "type": "histogram2dcontour"
           }
          ],
          "mesh3d": [
           {
            "colorbar": {
             "outlinewidth": 0,
             "ticks": ""
            },
            "type": "mesh3d"
           }
          ],
          "parcoords": [
           {
            "line": {
             "colorbar": {
              "outlinewidth": 0,
              "ticks": ""
             }
            },
            "type": "parcoords"
           }
          ],
          "pie": [
           {
            "automargin": true,
            "type": "pie"
           }
          ],
          "scatter": [
           {
            "marker": {
             "colorbar": {
              "outlinewidth": 0,
              "ticks": ""
             }
            },
            "type": "scatter"
           }
          ],
          "scatter3d": [
           {
            "line": {
             "colorbar": {
              "outlinewidth": 0,
              "ticks": ""
             }
            },
            "marker": {
             "colorbar": {
              "outlinewidth": 0,
              "ticks": ""
             }
            },
            "type": "scatter3d"
           }
          ],
          "scattercarpet": [
           {
            "marker": {
             "colorbar": {
              "outlinewidth": 0,
              "ticks": ""
             }
            },
            "type": "scattercarpet"
           }
          ],
          "scattergeo": [
           {
            "marker": {
             "colorbar": {
              "outlinewidth": 0,
              "ticks": ""
             }
            },
            "type": "scattergeo"
           }
          ],
          "scattergl": [
           {
            "marker": {
             "colorbar": {
              "outlinewidth": 0,
              "ticks": ""
             }
            },
            "type": "scattergl"
           }
          ],
          "scattermapbox": [
           {
            "marker": {
             "colorbar": {
              "outlinewidth": 0,
              "ticks": ""
             }
            },
            "type": "scattermapbox"
           }
          ],
          "scatterpolar": [
           {
            "marker": {
             "colorbar": {
              "outlinewidth": 0,
              "ticks": ""
             }
            },
            "type": "scatterpolar"
           }
          ],
          "scatterpolargl": [
           {
            "marker": {
             "colorbar": {
              "outlinewidth": 0,
              "ticks": ""
             }
            },
            "type": "scatterpolargl"
           }
          ],
          "scatterternary": [
           {
            "marker": {
             "colorbar": {
              "outlinewidth": 0,
              "ticks": ""
             }
            },
            "type": "scatterternary"
           }
          ],
          "surface": [
           {
            "colorbar": {
             "outlinewidth": 0,
             "ticks": ""
            },
            "colorscale": [
             [
              0,
              "#0d0887"
             ],
             [
              0.1111111111111111,
              "#46039f"
             ],
             [
              0.2222222222222222,
              "#7201a8"
             ],
             [
              0.3333333333333333,
              "#9c179e"
             ],
             [
              0.4444444444444444,
              "#bd3786"
             ],
             [
              0.5555555555555556,
              "#d8576b"
             ],
             [
              0.6666666666666666,
              "#ed7953"
             ],
             [
              0.7777777777777778,
              "#fb9f3a"
             ],
             [
              0.8888888888888888,
              "#fdca26"
             ],
             [
              1,
              "#f0f921"
             ]
            ],
            "type": "surface"
           }
          ],
          "table": [
           {
            "cells": {
             "fill": {
              "color": "#EBF0F8"
             },
             "line": {
              "color": "white"
             }
            },
            "header": {
             "fill": {
              "color": "#C8D4E3"
             },
             "line": {
              "color": "white"
             }
            },
            "type": "table"
           }
          ]
         },
         "layout": {
          "annotationdefaults": {
           "arrowcolor": "#2a3f5f",
           "arrowhead": 0,
           "arrowwidth": 1
          },
          "autotypenumbers": "strict",
          "coloraxis": {
           "colorbar": {
            "outlinewidth": 0,
            "ticks": ""
           }
          },
          "colorscale": {
           "diverging": [
            [
             0,
             "#8e0152"
            ],
            [
             0.1,
             "#c51b7d"
            ],
            [
             0.2,
             "#de77ae"
            ],
            [
             0.3,
             "#f1b6da"
            ],
            [
             0.4,
             "#fde0ef"
            ],
            [
             0.5,
             "#f7f7f7"
            ],
            [
             0.6,
             "#e6f5d0"
            ],
            [
             0.7,
             "#b8e186"
            ],
            [
             0.8,
             "#7fbc41"
            ],
            [
             0.9,
             "#4d9221"
            ],
            [
             1,
             "#276419"
            ]
           ],
           "sequential": [
            [
             0,
             "#0d0887"
            ],
            [
             0.1111111111111111,
             "#46039f"
            ],
            [
             0.2222222222222222,
             "#7201a8"
            ],
            [
             0.3333333333333333,
             "#9c179e"
            ],
            [
             0.4444444444444444,
             "#bd3786"
            ],
            [
             0.5555555555555556,
             "#d8576b"
            ],
            [
             0.6666666666666666,
             "#ed7953"
            ],
            [
             0.7777777777777778,
             "#fb9f3a"
            ],
            [
             0.8888888888888888,
             "#fdca26"
            ],
            [
             1,
             "#f0f921"
            ]
           ],
           "sequentialminus": [
            [
             0,
             "#0d0887"
            ],
            [
             0.1111111111111111,
             "#46039f"
            ],
            [
             0.2222222222222222,
             "#7201a8"
            ],
            [
             0.3333333333333333,
             "#9c179e"
            ],
            [
             0.4444444444444444,
             "#bd3786"
            ],
            [
             0.5555555555555556,
             "#d8576b"
            ],
            [
             0.6666666666666666,
             "#ed7953"
            ],
            [
             0.7777777777777778,
             "#fb9f3a"
            ],
            [
             0.8888888888888888,
             "#fdca26"
            ],
            [
             1,
             "#f0f921"
            ]
           ]
          },
          "colorway": [
           "#636efa",
           "#EF553B",
           "#00cc96",
           "#ab63fa",
           "#FFA15A",
           "#19d3f3",
           "#FF6692",
           "#B6E880",
           "#FF97FF",
           "#FECB52"
          ],
          "font": {
           "color": "#2a3f5f"
          },
          "geo": {
           "bgcolor": "white",
           "lakecolor": "white",
           "landcolor": "#E5ECF6",
           "showlakes": true,
           "showland": true,
           "subunitcolor": "white"
          },
          "hoverlabel": {
           "align": "left"
          },
          "hovermode": "closest",
          "mapbox": {
           "style": "light"
          },
          "paper_bgcolor": "white",
          "plot_bgcolor": "#E5ECF6",
          "polar": {
           "angularaxis": {
            "gridcolor": "white",
            "linecolor": "white",
            "ticks": ""
           },
           "bgcolor": "#E5ECF6",
           "radialaxis": {
            "gridcolor": "white",
            "linecolor": "white",
            "ticks": ""
           }
          },
          "scene": {
           "xaxis": {
            "backgroundcolor": "#E5ECF6",
            "gridcolor": "white",
            "gridwidth": 2,
            "linecolor": "white",
            "showbackground": true,
            "ticks": "",
            "zerolinecolor": "white"
           },
           "yaxis": {
            "backgroundcolor": "#E5ECF6",
            "gridcolor": "white",
            "gridwidth": 2,
            "linecolor": "white",
            "showbackground": true,
            "ticks": "",
            "zerolinecolor": "white"
           },
           "zaxis": {
            "backgroundcolor": "#E5ECF6",
            "gridcolor": "white",
            "gridwidth": 2,
            "linecolor": "white",
            "showbackground": true,
            "ticks": "",
            "zerolinecolor": "white"
           }
          },
          "shapedefaults": {
           "line": {
            "color": "#2a3f5f"
           }
          },
          "ternary": {
           "aaxis": {
            "gridcolor": "white",
            "linecolor": "white",
            "ticks": ""
           },
           "baxis": {
            "gridcolor": "white",
            "linecolor": "white",
            "ticks": ""
           },
           "bgcolor": "#E5ECF6",
           "caxis": {
            "gridcolor": "white",
            "linecolor": "white",
            "ticks": ""
           }
          },
          "title": {
           "x": 0.05
          },
          "xaxis": {
           "automargin": true,
           "gridcolor": "white",
           "linecolor": "white",
           "ticks": "",
           "title": {
            "standoff": 15
           },
           "zerolinecolor": "white",
           "zerolinewidth": 2
          },
          "yaxis": {
           "automargin": true,
           "gridcolor": "white",
           "linecolor": "white",
           "ticks": "",
           "title": {
            "standoff": 15
           },
           "zerolinecolor": "white",
           "zerolinewidth": 2
          }
         }
        }
       }
      },
      "text/html": [
       "<div>                            <div id=\"7c97a574-1977-4295-8093-5ee44fe154e3\" class=\"plotly-graph-div\" style=\"height:525px; width:100%;\"></div>            <script type=\"text/javascript\">                require([\"plotly\"], function(Plotly) {                    window.PLOTLYENV=window.PLOTLYENV || {};                                    if (document.getElementById(\"7c97a574-1977-4295-8093-5ee44fe154e3\")) {                    Plotly.newPlot(                        \"7c97a574-1977-4295-8093-5ee44fe154e3\",                        [{\"diagonal\": {\"visible\": false}, \"dimensions\": [{\"axis\": {\"matches\": true}, \"label\": \"PC 1 (100.0%)\", \"values\": [-11460.856894474848]}, {\"axis\": {\"matches\": true}, \"label\": \"PC 2 (0.0%)\", \"values\": [-824.6204526050109]}, {\"axis\": {\"matches\": true}, \"label\": \"PC 3 (0.0%)\", \"values\": [3400.3375854257774]}, {\"axis\": {\"matches\": true}, \"label\": \"PC 4 (0.0%)\", \"values\": [-15.228629249315395]}], \"hovertemplate\": \"color=albidiventris<br>%{xaxis.title.text}=%{x}<br>%{yaxis.title.text}=%{y}<extra></extra>\", \"legendgroup\": \"albidiventris\", \"marker\": {\"color\": \"#636efa\", \"symbol\": \"circle\"}, \"name\": \"albidiventris\", \"showlegend\": true, \"type\": \"splom\"}, {\"diagonal\": {\"visible\": false}, \"dimensions\": [{\"axis\": {\"matches\": true}, \"label\": \"PC 1 (100.0%)\", \"values\": [-10069.188194665041]}, {\"axis\": {\"matches\": true}, \"label\": \"PC 2 (0.0%)\", \"values\": [-764.8328022637925]}, {\"axis\": {\"matches\": true}, \"label\": \"PC 3 (0.0%)\", \"values\": [2497.5175237877183]}, {\"axis\": {\"matches\": true}, \"label\": \"PC 4 (0.0%)\", \"values\": [-62.31586113864578]}], \"hovertemplate\": \"color=albiventris<br>%{xaxis.title.text}=%{x}<br>%{yaxis.title.text}=%{y}<extra></extra>\", \"legendgroup\": \"albiventris\", \"marker\": {\"color\": \"#EF553B\", \"symbol\": \"circle\"}, \"name\": \"albiventris\", \"showlegend\": true, \"type\": \"splom\"}, {\"diagonal\": {\"visible\": false}, \"dimensions\": [{\"axis\": {\"matches\": true}, \"label\": \"PC 1 (100.0%)\", \"values\": [249691.26332311428, 257781.26130626316]}, {\"axis\": {\"matches\": true}, \"label\": \"PC 2 (0.0%)\", \"values\": [-1853.6247344112373, -1904.91904495197]}, {\"axis\": {\"matches\": true}, \"label\": \"PC 3 (0.0%)\", \"values\": [2484.088319454965, 2723.234915637356]}, {\"axis\": {\"matches\": true}, \"label\": \"PC 4 (0.0%)\", \"values\": [35.84920068026561, 2.0804423163071046]}], \"hovertemplate\": \"color=atacamensis<br>%{xaxis.title.text}=%{x}<br>%{yaxis.title.text}=%{y}<extra></extra>\", \"legendgroup\": \"atacamensis\", \"marker\": {\"color\": \"#00cc96\", \"symbol\": \"circle\"}, \"name\": \"atacamensis\", \"showlegend\": true, \"type\": \"splom\"}, {\"diagonal\": {\"visible\": false}, \"dimensions\": [{\"axis\": {\"matches\": true}, \"label\": \"PC 1 (100.0%)\", \"values\": [279205.505832233]}, {\"axis\": {\"matches\": true}, \"label\": \"PC 2 (0.0%)\", \"values\": [-1970.3568401899968]}, {\"axis\": {\"matches\": true}, \"label\": \"PC 3 (0.0%)\", \"values\": [2386.3738841311756]}, {\"axis\": {\"matches\": true}, \"label\": \"PC 4 (0.0%)\", \"values\": [-0.05667513529841249]}], \"hovertemplate\": \"color=excelsior<br>%{xaxis.title.text}=%{x}<br>%{yaxis.title.text}=%{y}<extra></extra>\", \"legendgroup\": \"excelsior\", \"marker\": {\"color\": \"#ab63fa\", \"symbol\": \"circle\"}, \"name\": \"excelsior\", \"showlegend\": true, \"type\": \"splom\"}, {\"diagonal\": {\"visible\": false}, \"dimensions\": [{\"axis\": {\"matches\": true}, \"label\": \"PC 1 (100.0%)\", \"values\": [230318.8703503147, 230320.2847880429, 209197.53123486755, 230323.20125896594, 230324.61695779703, 230326.02979540476, 230327.3573451334, -185267.74810206186, -185263.50738429796, -185262.09251487843]}, {\"axis\": {\"matches\": true}, \"label\": \"PC 2 (0.0%)\", \"values\": [-1487.6836323451632, -1487.7231599946795, 19753.355359691377, -1489.8738095108001, -1489.861011581058, -1489.8702777559877, -1487.7343530014557, 156.3854401486904, 156.39841987670735, 156.38634203544527]}, {\"axis\": {\"matches\": true}, \"label\": \"PC 3 (0.0%)\", \"values\": [-1431.0434173564975, -1430.9651518202431, 177.35362945535897, -1401.3725494416137, -1401.300243493964, -1401.3912362428912, -1430.9210909061264, -65.3592745951019, -65.6405487346825, -65.51764476084041]}, {\"axis\": {\"matches\": true}, \"label\": \"PC 4 (0.0%)\", \"values\": [-9.772775719833849, -5.205805065663415, 0.0004744735990800372, -34.41517629516922, -17.6760714934139, -32.56540606552683, 10.520686080422205, -25.374010253611836, -43.770061004629014, -37.536729439388786]}], \"hovertemplate\": \"color=fuscus<br>%{xaxis.title.text}=%{x}<br>%{yaxis.title.text}=%{y}<extra></extra>\", \"legendgroup\": \"fuscus\", \"marker\": {\"color\": \"#FFA15A\", \"symbol\": \"circle\"}, \"name\": \"fuscus\", \"showlegend\": true, \"type\": \"splom\"}, {\"diagonal\": {\"visible\": false}, \"dimensions\": [{\"axis\": {\"matches\": true}, \"label\": \"PC 1 (100.0%)\", \"values\": [-185270.5711917068, -185269.15442355917, -113494.53746438997, -113492.95741665953, -113488.42053671922]}, {\"axis\": {\"matches\": true}, \"label\": \"PC 2 (0.0%)\", \"values\": [156.39266600850559, 156.36193019916843, -127.35988684892098, -131.3655945419054, -138.48099370379845]}, {\"axis\": {\"matches\": true}, \"label\": \"PC 3 (0.0%)\", \"values\": [-64.91276849786598, -64.64759422973644, -303.5907968129223, -248.8334814923169, -151.2256353104633]}, {\"axis\": {\"matches\": true}, \"label\": \"PC 4 (0.0%)\", \"values\": [26.59526796946253, 52.07972552467956, -29.861273841328668, -25.83159775401705, -47.14925592572426]}], \"hovertemplate\": \"color=oustaleti<br>%{xaxis.title.text}=%{x}<br>%{yaxis.title.text}=%{y}<extra></extra>\", \"legendgroup\": \"oustaleti\", \"marker\": {\"color\": \"#19d3f3\", \"symbol\": \"circle\"}, \"name\": \"oustaleti\", \"showlegend\": true, \"type\": \"splom\"}, {\"diagonal\": {\"visible\": false}, \"dimensions\": [{\"axis\": {\"matches\": true}, \"label\": \"PC 1 (100.0%)\", \"values\": [296279.33985388454, -185367.60668530752, -185276.23378246455, -185274.8184050828, -113503.01849874732, -113501.60717352106, -113500.12288818847, -113497.29222598083, -113495.87918514741, -113487.46782815427, -113486.05078854972, -11790.12425012371, -11788.710178298215, -11787.296033044764]}, {\"axis\": {\"matches\": true}, \"label\": \"PC 2 (0.0%)\", \"values\": [-1772.8932120291176, 143.67562377378013, 156.35954799247406, 156.3680743120306, -127.46539022529383, -127.44441885645695, -129.1176202660606, -129.14651377823796, -129.14674322219278, -127.48481538551232, -127.50885325020425, -557.7192363631831, -557.725494841591, -557.7245121157722]}, {\"axis\": {\"matches\": true}, \"label\": \"PC 3 (0.0%)\", \"values\": [-1314.681302050716, 114.90112071953911, -65.1835368756276, -65.13553945556258, -302.8601250960419, -303.1392280802327, -280.1640749439275, -279.9547286846929, -280.0740203474927, -303.40132555179036, -303.12308081613827, -253.10453520063635, -253.1389951434566, -253.12505267015928]}, {\"axis\": {\"matches\": true}, \"label\": \"PC 4 (0.0%)\", \"values\": [-24.29697602439503, 27.198021572148487, -28.064266473265548, -13.892263468252493, 16.716303349286598, -8.172707969374327, -4.910627400153067, 16.844628276238225, 5.696444351508451, -33.305515842514346, -6.437015236650099, 105.55526162732157, 102.89075490670753, 103.81148966821625]}], \"hovertemplate\": \"color=patagonicus<br>%{xaxis.title.text}=%{x}<br>%{yaxis.title.text}=%{y}<extra></extra>\", \"legendgroup\": \"patagonicus\", \"marker\": {\"color\": \"#FF6692\", \"symbol\": \"circle\"}, \"name\": \"patagonicus\", \"showlegend\": true, \"type\": \"splom\"}],                        {\"dragmode\": \"select\", \"legend\": {\"title\": {\"text\": \"color\"}, \"tracegroupgap\": 0}, \"margin\": {\"t\": 60}, \"template\": {\"data\": {\"bar\": [{\"error_x\": {\"color\": \"#2a3f5f\"}, \"error_y\": {\"color\": \"#2a3f5f\"}, \"marker\": {\"line\": {\"color\": \"#E5ECF6\", \"width\": 0.5}}, \"type\": \"bar\"}], \"barpolar\": [{\"marker\": {\"line\": {\"color\": \"#E5ECF6\", \"width\": 0.5}}, \"type\": \"barpolar\"}], \"carpet\": [{\"aaxis\": {\"endlinecolor\": \"#2a3f5f\", \"gridcolor\": \"white\", \"linecolor\": \"white\", \"minorgridcolor\": \"white\", \"startlinecolor\": \"#2a3f5f\"}, \"baxis\": {\"endlinecolor\": \"#2a3f5f\", \"gridcolor\": \"white\", \"linecolor\": \"white\", \"minorgridcolor\": \"white\", \"startlinecolor\": \"#2a3f5f\"}, \"type\": \"carpet\"}], \"choropleth\": [{\"colorbar\": {\"outlinewidth\": 0, \"ticks\": \"\"}, \"type\": \"choropleth\"}], \"contour\": [{\"colorbar\": {\"outlinewidth\": 0, \"ticks\": \"\"}, \"colorscale\": [[0.0, \"#0d0887\"], [0.1111111111111111, \"#46039f\"], [0.2222222222222222, \"#7201a8\"], [0.3333333333333333, \"#9c179e\"], [0.4444444444444444, \"#bd3786\"], [0.5555555555555556, \"#d8576b\"], [0.6666666666666666, \"#ed7953\"], [0.7777777777777778, \"#fb9f3a\"], [0.8888888888888888, \"#fdca26\"], [1.0, \"#f0f921\"]], \"type\": \"contour\"}], \"contourcarpet\": [{\"colorbar\": {\"outlinewidth\": 0, \"ticks\": \"\"}, \"type\": \"contourcarpet\"}], \"heatmap\": [{\"colorbar\": {\"outlinewidth\": 0, \"ticks\": \"\"}, \"colorscale\": [[0.0, \"#0d0887\"], [0.1111111111111111, \"#46039f\"], [0.2222222222222222, \"#7201a8\"], [0.3333333333333333, \"#9c179e\"], [0.4444444444444444, \"#bd3786\"], [0.5555555555555556, \"#d8576b\"], [0.6666666666666666, \"#ed7953\"], [0.7777777777777778, \"#fb9f3a\"], [0.8888888888888888, \"#fdca26\"], [1.0, \"#f0f921\"]], \"type\": \"heatmap\"}], \"heatmapgl\": [{\"colorbar\": {\"outlinewidth\": 0, \"ticks\": \"\"}, \"colorscale\": [[0.0, \"#0d0887\"], [0.1111111111111111, \"#46039f\"], [0.2222222222222222, \"#7201a8\"], [0.3333333333333333, \"#9c179e\"], [0.4444444444444444, \"#bd3786\"], [0.5555555555555556, \"#d8576b\"], [0.6666666666666666, \"#ed7953\"], [0.7777777777777778, \"#fb9f3a\"], [0.8888888888888888, \"#fdca26\"], [1.0, \"#f0f921\"]], \"type\": \"heatmapgl\"}], \"histogram\": [{\"marker\": {\"colorbar\": {\"outlinewidth\": 0, \"ticks\": \"\"}}, \"type\": \"histogram\"}], \"histogram2d\": [{\"colorbar\": {\"outlinewidth\": 0, \"ticks\": \"\"}, \"colorscale\": [[0.0, \"#0d0887\"], [0.1111111111111111, \"#46039f\"], [0.2222222222222222, \"#7201a8\"], [0.3333333333333333, \"#9c179e\"], [0.4444444444444444, \"#bd3786\"], [0.5555555555555556, \"#d8576b\"], [0.6666666666666666, \"#ed7953\"], [0.7777777777777778, \"#fb9f3a\"], [0.8888888888888888, \"#fdca26\"], [1.0, \"#f0f921\"]], \"type\": \"histogram2d\"}], \"histogram2dcontour\": [{\"colorbar\": {\"outlinewidth\": 0, \"ticks\": \"\"}, \"colorscale\": [[0.0, \"#0d0887\"], [0.1111111111111111, \"#46039f\"], [0.2222222222222222, \"#7201a8\"], [0.3333333333333333, \"#9c179e\"], [0.4444444444444444, \"#bd3786\"], [0.5555555555555556, \"#d8576b\"], [0.6666666666666666, \"#ed7953\"], [0.7777777777777778, \"#fb9f3a\"], [0.8888888888888888, \"#fdca26\"], [1.0, \"#f0f921\"]], \"type\": \"histogram2dcontour\"}], \"mesh3d\": [{\"colorbar\": {\"outlinewidth\": 0, \"ticks\": \"\"}, \"type\": \"mesh3d\"}], \"parcoords\": [{\"line\": {\"colorbar\": {\"outlinewidth\": 0, \"ticks\": \"\"}}, \"type\": \"parcoords\"}], \"pie\": [{\"automargin\": true, \"type\": \"pie\"}], \"scatter\": [{\"marker\": {\"colorbar\": {\"outlinewidth\": 0, \"ticks\": \"\"}}, \"type\": \"scatter\"}], \"scatter3d\": [{\"line\": {\"colorbar\": {\"outlinewidth\": 0, \"ticks\": \"\"}}, \"marker\": {\"colorbar\": {\"outlinewidth\": 0, \"ticks\": \"\"}}, \"type\": \"scatter3d\"}], \"scattercarpet\": [{\"marker\": {\"colorbar\": {\"outlinewidth\": 0, \"ticks\": \"\"}}, \"type\": \"scattercarpet\"}], \"scattergeo\": [{\"marker\": {\"colorbar\": {\"outlinewidth\": 0, \"ticks\": \"\"}}, \"type\": \"scattergeo\"}], \"scattergl\": [{\"marker\": {\"colorbar\": {\"outlinewidth\": 0, \"ticks\": \"\"}}, \"type\": \"scattergl\"}], \"scattermapbox\": [{\"marker\": {\"colorbar\": {\"outlinewidth\": 0, \"ticks\": \"\"}}, \"type\": \"scattermapbox\"}], \"scatterpolar\": [{\"marker\": {\"colorbar\": {\"outlinewidth\": 0, \"ticks\": \"\"}}, \"type\": \"scatterpolar\"}], \"scatterpolargl\": [{\"marker\": {\"colorbar\": {\"outlinewidth\": 0, \"ticks\": \"\"}}, \"type\": \"scatterpolargl\"}], \"scatterternary\": [{\"marker\": {\"colorbar\": {\"outlinewidth\": 0, \"ticks\": \"\"}}, \"type\": \"scatterternary\"}], \"surface\": [{\"colorbar\": {\"outlinewidth\": 0, \"ticks\": \"\"}, \"colorscale\": [[0.0, \"#0d0887\"], [0.1111111111111111, \"#46039f\"], [0.2222222222222222, \"#7201a8\"], [0.3333333333333333, \"#9c179e\"], [0.4444444444444444, \"#bd3786\"], [0.5555555555555556, \"#d8576b\"], [0.6666666666666666, \"#ed7953\"], [0.7777777777777778, \"#fb9f3a\"], [0.8888888888888888, \"#fdca26\"], [1.0, \"#f0f921\"]], \"type\": \"surface\"}], \"table\": [{\"cells\": {\"fill\": {\"color\": \"#EBF0F8\"}, \"line\": {\"color\": \"white\"}}, \"header\": {\"fill\": {\"color\": \"#C8D4E3\"}, \"line\": {\"color\": \"white\"}}, \"type\": \"table\"}]}, \"layout\": {\"annotationdefaults\": {\"arrowcolor\": \"#2a3f5f\", \"arrowhead\": 0, \"arrowwidth\": 1}, \"autotypenumbers\": \"strict\", \"coloraxis\": {\"colorbar\": {\"outlinewidth\": 0, \"ticks\": \"\"}}, \"colorscale\": {\"diverging\": [[0, \"#8e0152\"], [0.1, \"#c51b7d\"], [0.2, \"#de77ae\"], [0.3, \"#f1b6da\"], [0.4, \"#fde0ef\"], [0.5, \"#f7f7f7\"], [0.6, \"#e6f5d0\"], [0.7, \"#b8e186\"], [0.8, \"#7fbc41\"], [0.9, \"#4d9221\"], [1, \"#276419\"]], \"sequential\": [[0.0, \"#0d0887\"], [0.1111111111111111, \"#46039f\"], [0.2222222222222222, \"#7201a8\"], [0.3333333333333333, \"#9c179e\"], [0.4444444444444444, \"#bd3786\"], [0.5555555555555556, \"#d8576b\"], [0.6666666666666666, \"#ed7953\"], [0.7777777777777778, \"#fb9f3a\"], [0.8888888888888888, \"#fdca26\"], [1.0, \"#f0f921\"]], \"sequentialminus\": [[0.0, \"#0d0887\"], [0.1111111111111111, \"#46039f\"], [0.2222222222222222, \"#7201a8\"], [0.3333333333333333, \"#9c179e\"], [0.4444444444444444, \"#bd3786\"], [0.5555555555555556, \"#d8576b\"], [0.6666666666666666, \"#ed7953\"], [0.7777777777777778, \"#fb9f3a\"], [0.8888888888888888, \"#fdca26\"], [1.0, \"#f0f921\"]]}, \"colorway\": [\"#636efa\", \"#EF553B\", \"#00cc96\", \"#ab63fa\", \"#FFA15A\", \"#19d3f3\", \"#FF6692\", \"#B6E880\", \"#FF97FF\", \"#FECB52\"], \"font\": {\"color\": \"#2a3f5f\"}, \"geo\": {\"bgcolor\": \"white\", \"lakecolor\": \"white\", \"landcolor\": \"#E5ECF6\", \"showlakes\": true, \"showland\": true, \"subunitcolor\": \"white\"}, \"hoverlabel\": {\"align\": \"left\"}, \"hovermode\": \"closest\", \"mapbox\": {\"style\": \"light\"}, \"paper_bgcolor\": \"white\", \"plot_bgcolor\": \"#E5ECF6\", \"polar\": {\"angularaxis\": {\"gridcolor\": \"white\", \"linecolor\": \"white\", \"ticks\": \"\"}, \"bgcolor\": \"#E5ECF6\", \"radialaxis\": {\"gridcolor\": \"white\", \"linecolor\": \"white\", \"ticks\": \"\"}}, \"scene\": {\"xaxis\": {\"backgroundcolor\": \"#E5ECF6\", \"gridcolor\": \"white\", \"gridwidth\": 2, \"linecolor\": \"white\", \"showbackground\": true, \"ticks\": \"\", \"zerolinecolor\": \"white\"}, \"yaxis\": {\"backgroundcolor\": \"#E5ECF6\", \"gridcolor\": \"white\", \"gridwidth\": 2, \"linecolor\": \"white\", \"showbackground\": true, \"ticks\": \"\", \"zerolinecolor\": \"white\"}, \"zaxis\": {\"backgroundcolor\": \"#E5ECF6\", \"gridcolor\": \"white\", \"gridwidth\": 2, \"linecolor\": \"white\", \"showbackground\": true, \"ticks\": \"\", \"zerolinecolor\": \"white\"}}, \"shapedefaults\": {\"line\": {\"color\": \"#2a3f5f\"}}, \"ternary\": {\"aaxis\": {\"gridcolor\": \"white\", \"linecolor\": \"white\", \"ticks\": \"\"}, \"baxis\": {\"gridcolor\": \"white\", \"linecolor\": \"white\", \"ticks\": \"\"}, \"bgcolor\": \"#E5ECF6\", \"caxis\": {\"gridcolor\": \"white\", \"linecolor\": \"white\", \"ticks\": \"\"}}, \"title\": {\"x\": 0.05}, \"xaxis\": {\"automargin\": true, \"gridcolor\": \"white\", \"linecolor\": \"white\", \"ticks\": \"\", \"title\": {\"standoff\": 15}, \"zerolinecolor\": \"white\", \"zerolinewidth\": 2}, \"yaxis\": {\"automargin\": true, \"gridcolor\": \"white\", \"linecolor\": \"white\", \"ticks\": \"\", \"title\": {\"standoff\": 15}, \"zerolinecolor\": \"white\", \"zerolinewidth\": 2}}}},                        {\"responsive\": true}                    ).then(function(){\n",
       "                            \n",
       "var gd = document.getElementById('7c97a574-1977-4295-8093-5ee44fe154e3');\n",
       "var x = new MutationObserver(function (mutations, observer) {{\n",
       "        var display = window.getComputedStyle(gd).display;\n",
       "        if (!display || display === 'none') {{\n",
       "            console.log([gd, 'removed!']);\n",
       "            Plotly.purge(gd);\n",
       "            observer.disconnect();\n",
       "        }}\n",
       "}});\n",
       "\n",
       "// Listen for the removal of the full notebook cells\n",
       "var notebookContainer = gd.closest('#notebook-container');\n",
       "if (notebookContainer) {{\n",
       "    x.observe(notebookContainer, {childList: true});\n",
       "}}\n",
       "\n",
       "// Listen for the clearing of the current output cell\n",
       "var outputEl = gd.closest('.output');\n",
       "if (outputEl) {{\n",
       "    x.observe(outputEl, {childList: true});\n",
       "}}\n",
       "\n",
       "                        })                };                });            </script>        </div>"
      ]
     },
     "metadata": {},
     "output_type": "display_data"
    }
   ],
   "source": [
    "features = dataset.columns\n",
    "features = features.drop('Species',1)\n",
    "\n",
    "pca = PCA()\n",
    "principalComponents = pca.fit_transform(dataset[features])\n",
    "labels = {\n",
    "    str(i): f\"PC {i+1} ({var:.1f}%)\"\n",
    "    for i, var in enumerate(pca.explained_variance_ratio_ * 100)\n",
    "}\n",
    "\n",
    "fig = px.scatter_matrix(\n",
    "    components,\n",
    "    labels=labels,\n",
    "    dimensions=range(4),\n",
    "    color=dataset[\"Species\"]\n",
    ")\n",
    "fig.update_traces(diagonal_visible=False)\n",
    "fig.show()"
   ]
  },
  {
   "cell_type": "markdown",
   "metadata": {},
   "source": [
    "Visualize a subset of the principal components"
   ]
  },
  {
   "cell_type": "code",
   "execution_count": 282,
   "metadata": {},
   "outputs": [
    {
     "data": {
      "application/vnd.plotly.v1+json": {
       "config": {
        "plotlyServerURL": "https://plot.ly"
       },
       "data": [
        {
         "diagonal": {
          "visible": false
         },
         "dimensions": [
          {
           "axis": {
            "matches": true
           },
           "label": "PC 1",
           "values": [
            -11460.856894474848,
            -10069.188194665041,
            249691.26332311428,
            257781.26130626316,
            279205.505832233,
            230318.8703503147,
            230320.2847880429,
            209197.53123486755,
            230323.20125896594,
            230324.61695779703,
            230326.02979540476,
            230327.3573451334,
            -185267.74810206186,
            -185263.50738429796,
            -185262.09251487843,
            -185270.5711917068,
            -185269.15442355917,
            -113494.53746438997,
            -113492.95741665953,
            -113488.42053671922,
            296279.33985388454,
            -185367.60668530752,
            -185276.23378246455,
            -185274.8184050828,
            -113503.01849874732,
            -113501.60717352106,
            -113500.12288818847,
            -113497.29222598083,
            -113495.87918514741,
            -113487.46782815427,
            -113486.05078854972,
            -11790.12425012371,
            -11788.710178298215,
            -11787.296033044764
           ]
          },
          {
           "axis": {
            "matches": true
           },
           "label": "PC 2",
           "values": [
            -824.6204526050109,
            -764.8328022637925,
            -1853.6247344112373,
            -1904.91904495197,
            -1970.3568401899968,
            -1487.6836323451632,
            -1487.7231599946795,
            19753.355359691377,
            -1489.8738095108001,
            -1489.861011581058,
            -1489.8702777559877,
            -1487.7343530014557,
            156.3854401486904,
            156.39841987670735,
            156.38634203544527,
            156.39266600850559,
            156.36193019916843,
            -127.35988684892098,
            -131.3655945419054,
            -138.48099370379845,
            -1772.8932120291176,
            143.67562377378013,
            156.35954799247406,
            156.3680743120306,
            -127.46539022529383,
            -127.44441885645695,
            -129.1176202660606,
            -129.14651377823796,
            -129.14674322219278,
            -127.48481538551232,
            -127.50885325020425,
            -557.7192363631831,
            -557.725494841591,
            -557.7245121157722
           ]
          },
          {
           "axis": {
            "matches": true
           },
           "label": "PC 3",
           "values": [
            3400.3375854257774,
            2497.5175237877183,
            2484.088319454965,
            2723.234915637356,
            2386.3738841311756,
            -1431.0434173564975,
            -1430.9651518202431,
            177.35362945535897,
            -1401.3725494416137,
            -1401.300243493964,
            -1401.3912362428912,
            -1430.9210909061264,
            -65.3592745951019,
            -65.6405487346825,
            -65.51764476084041,
            -64.91276849786598,
            -64.64759422973644,
            -303.5907968129223,
            -248.8334814923169,
            -151.2256353104633,
            -1314.681302050716,
            114.90112071953911,
            -65.1835368756276,
            -65.13553945556258,
            -302.8601250960419,
            -303.1392280802327,
            -280.1640749439275,
            -279.9547286846929,
            -280.0740203474927,
            -303.40132555179036,
            -303.12308081613827,
            -253.10453520063635,
            -253.1389951434566,
            -253.12505267015928
           ]
          },
          {
           "axis": {
            "matches": true
           },
           "label": "PC 4",
           "values": [
            -15.228629249315395,
            -62.31586113864578,
            35.84920068026561,
            2.0804423163071046,
            -0.05667513529841249,
            -9.772775719833849,
            -5.205805065663415,
            0.0004744735990800372,
            -34.41517629516922,
            -17.6760714934139,
            -32.56540606552683,
            10.520686080422205,
            -25.374010253611836,
            -43.770061004629014,
            -37.536729439388786,
            26.59526796946253,
            52.07972552467956,
            -29.861273841328668,
            -25.83159775401705,
            -47.14925592572426,
            -24.29697602439503,
            27.198021572148487,
            -28.064266473265548,
            -13.892263468252493,
            16.716303349286598,
            -8.172707969374327,
            -4.910627400153067,
            16.844628276238225,
            5.696444351508451,
            -33.305515842514346,
            -6.437015236650099,
            105.55526162732157,
            102.89075490670753,
            103.81148966821625
           ]
          }
         ],
         "hovertemplate": "%{xaxis.title.text}=%{x}<br>%{yaxis.title.text}=%{y}<br>Median Price=%{marker.color}<extra></extra>",
         "legendgroup": "",
         "marker": {
          "color": [
           0,
           1,
           2,
           2,
           3,
           4,
           4,
           4,
           4,
           4,
           4,
           4,
           4,
           4,
           4,
           5,
           5,
           5,
           5,
           5,
           6,
           6,
           6,
           6,
           6,
           6,
           6,
           6,
           6,
           6,
           6,
           6,
           6,
           6
          ],
          "coloraxis": "coloraxis",
          "symbol": "circle"
         },
         "name": "",
         "showlegend": false,
         "type": "splom"
        }
       ],
       "layout": {
        "coloraxis": {
         "colorbar": {
          "title": {
           "text": "Median Price"
          }
         },
         "colorscale": [
          [
           0,
           "#0d0887"
          ],
          [
           0.1111111111111111,
           "#46039f"
          ],
          [
           0.2222222222222222,
           "#7201a8"
          ],
          [
           0.3333333333333333,
           "#9c179e"
          ],
          [
           0.4444444444444444,
           "#bd3786"
          ],
          [
           0.5555555555555556,
           "#d8576b"
          ],
          [
           0.6666666666666666,
           "#ed7953"
          ],
          [
           0.7777777777777778,
           "#fb9f3a"
          ],
          [
           0.8888888888888888,
           "#fdca26"
          ],
          [
           1,
           "#f0f921"
          ]
         ]
        },
        "dragmode": "select",
        "legend": {
         "tracegroupgap": 0
        },
        "template": {
         "data": {
          "bar": [
           {
            "error_x": {
             "color": "#2a3f5f"
            },
            "error_y": {
             "color": "#2a3f5f"
            },
            "marker": {
             "line": {
              "color": "#E5ECF6",
              "width": 0.5
             }
            },
            "type": "bar"
           }
          ],
          "barpolar": [
           {
            "marker": {
             "line": {
              "color": "#E5ECF6",
              "width": 0.5
             }
            },
            "type": "barpolar"
           }
          ],
          "carpet": [
           {
            "aaxis": {
             "endlinecolor": "#2a3f5f",
             "gridcolor": "white",
             "linecolor": "white",
             "minorgridcolor": "white",
             "startlinecolor": "#2a3f5f"
            },
            "baxis": {
             "endlinecolor": "#2a3f5f",
             "gridcolor": "white",
             "linecolor": "white",
             "minorgridcolor": "white",
             "startlinecolor": "#2a3f5f"
            },
            "type": "carpet"
           }
          ],
          "choropleth": [
           {
            "colorbar": {
             "outlinewidth": 0,
             "ticks": ""
            },
            "type": "choropleth"
           }
          ],
          "contour": [
           {
            "colorbar": {
             "outlinewidth": 0,
             "ticks": ""
            },
            "colorscale": [
             [
              0,
              "#0d0887"
             ],
             [
              0.1111111111111111,
              "#46039f"
             ],
             [
              0.2222222222222222,
              "#7201a8"
             ],
             [
              0.3333333333333333,
              "#9c179e"
             ],
             [
              0.4444444444444444,
              "#bd3786"
             ],
             [
              0.5555555555555556,
              "#d8576b"
             ],
             [
              0.6666666666666666,
              "#ed7953"
             ],
             [
              0.7777777777777778,
              "#fb9f3a"
             ],
             [
              0.8888888888888888,
              "#fdca26"
             ],
             [
              1,
              "#f0f921"
             ]
            ],
            "type": "contour"
           }
          ],
          "contourcarpet": [
           {
            "colorbar": {
             "outlinewidth": 0,
             "ticks": ""
            },
            "type": "contourcarpet"
           }
          ],
          "heatmap": [
           {
            "colorbar": {
             "outlinewidth": 0,
             "ticks": ""
            },
            "colorscale": [
             [
              0,
              "#0d0887"
             ],
             [
              0.1111111111111111,
              "#46039f"
             ],
             [
              0.2222222222222222,
              "#7201a8"
             ],
             [
              0.3333333333333333,
              "#9c179e"
             ],
             [
              0.4444444444444444,
              "#bd3786"
             ],
             [
              0.5555555555555556,
              "#d8576b"
             ],
             [
              0.6666666666666666,
              "#ed7953"
             ],
             [
              0.7777777777777778,
              "#fb9f3a"
             ],
             [
              0.8888888888888888,
              "#fdca26"
             ],
             [
              1,
              "#f0f921"
             ]
            ],
            "type": "heatmap"
           }
          ],
          "heatmapgl": [
           {
            "colorbar": {
             "outlinewidth": 0,
             "ticks": ""
            },
            "colorscale": [
             [
              0,
              "#0d0887"
             ],
             [
              0.1111111111111111,
              "#46039f"
             ],
             [
              0.2222222222222222,
              "#7201a8"
             ],
             [
              0.3333333333333333,
              "#9c179e"
             ],
             [
              0.4444444444444444,
              "#bd3786"
             ],
             [
              0.5555555555555556,
              "#d8576b"
             ],
             [
              0.6666666666666666,
              "#ed7953"
             ],
             [
              0.7777777777777778,
              "#fb9f3a"
             ],
             [
              0.8888888888888888,
              "#fdca26"
             ],
             [
              1,
              "#f0f921"
             ]
            ],
            "type": "heatmapgl"
           }
          ],
          "histogram": [
           {
            "marker": {
             "colorbar": {
              "outlinewidth": 0,
              "ticks": ""
             }
            },
            "type": "histogram"
           }
          ],
          "histogram2d": [
           {
            "colorbar": {
             "outlinewidth": 0,
             "ticks": ""
            },
            "colorscale": [
             [
              0,
              "#0d0887"
             ],
             [
              0.1111111111111111,
              "#46039f"
             ],
             [
              0.2222222222222222,
              "#7201a8"
             ],
             [
              0.3333333333333333,
              "#9c179e"
             ],
             [
              0.4444444444444444,
              "#bd3786"
             ],
             [
              0.5555555555555556,
              "#d8576b"
             ],
             [
              0.6666666666666666,
              "#ed7953"
             ],
             [
              0.7777777777777778,
              "#fb9f3a"
             ],
             [
              0.8888888888888888,
              "#fdca26"
             ],
             [
              1,
              "#f0f921"
             ]
            ],
            "type": "histogram2d"
           }
          ],
          "histogram2dcontour": [
           {
            "colorbar": {
             "outlinewidth": 0,
             "ticks": ""
            },
            "colorscale": [
             [
              0,
              "#0d0887"
             ],
             [
              0.1111111111111111,
              "#46039f"
             ],
             [
              0.2222222222222222,
              "#7201a8"
             ],
             [
              0.3333333333333333,
              "#9c179e"
             ],
             [
              0.4444444444444444,
              "#bd3786"
             ],
             [
              0.5555555555555556,
              "#d8576b"
             ],
             [
              0.6666666666666666,
              "#ed7953"
             ],
             [
              0.7777777777777778,
              "#fb9f3a"
             ],
             [
              0.8888888888888888,
              "#fdca26"
             ],
             [
              1,
              "#f0f921"
             ]
            ],
            "type": "histogram2dcontour"
           }
          ],
          "mesh3d": [
           {
            "colorbar": {
             "outlinewidth": 0,
             "ticks": ""
            },
            "type": "mesh3d"
           }
          ],
          "parcoords": [
           {
            "line": {
             "colorbar": {
              "outlinewidth": 0,
              "ticks": ""
             }
            },
            "type": "parcoords"
           }
          ],
          "pie": [
           {
            "automargin": true,
            "type": "pie"
           }
          ],
          "scatter": [
           {
            "marker": {
             "colorbar": {
              "outlinewidth": 0,
              "ticks": ""
             }
            },
            "type": "scatter"
           }
          ],
          "scatter3d": [
           {
            "line": {
             "colorbar": {
              "outlinewidth": 0,
              "ticks": ""
             }
            },
            "marker": {
             "colorbar": {
              "outlinewidth": 0,
              "ticks": ""
             }
            },
            "type": "scatter3d"
           }
          ],
          "scattercarpet": [
           {
            "marker": {
             "colorbar": {
              "outlinewidth": 0,
              "ticks": ""
             }
            },
            "type": "scattercarpet"
           }
          ],
          "scattergeo": [
           {
            "marker": {
             "colorbar": {
              "outlinewidth": 0,
              "ticks": ""
             }
            },
            "type": "scattergeo"
           }
          ],
          "scattergl": [
           {
            "marker": {
             "colorbar": {
              "outlinewidth": 0,
              "ticks": ""
             }
            },
            "type": "scattergl"
           }
          ],
          "scattermapbox": [
           {
            "marker": {
             "colorbar": {
              "outlinewidth": 0,
              "ticks": ""
             }
            },
            "type": "scattermapbox"
           }
          ],
          "scatterpolar": [
           {
            "marker": {
             "colorbar": {
              "outlinewidth": 0,
              "ticks": ""
             }
            },
            "type": "scatterpolar"
           }
          ],
          "scatterpolargl": [
           {
            "marker": {
             "colorbar": {
              "outlinewidth": 0,
              "ticks": ""
             }
            },
            "type": "scatterpolargl"
           }
          ],
          "scatterternary": [
           {
            "marker": {
             "colorbar": {
              "outlinewidth": 0,
              "ticks": ""
             }
            },
            "type": "scatterternary"
           }
          ],
          "surface": [
           {
            "colorbar": {
             "outlinewidth": 0,
             "ticks": ""
            },
            "colorscale": [
             [
              0,
              "#0d0887"
             ],
             [
              0.1111111111111111,
              "#46039f"
             ],
             [
              0.2222222222222222,
              "#7201a8"
             ],
             [
              0.3333333333333333,
              "#9c179e"
             ],
             [
              0.4444444444444444,
              "#bd3786"
             ],
             [
              0.5555555555555556,
              "#d8576b"
             ],
             [
              0.6666666666666666,
              "#ed7953"
             ],
             [
              0.7777777777777778,
              "#fb9f3a"
             ],
             [
              0.8888888888888888,
              "#fdca26"
             ],
             [
              1,
              "#f0f921"
             ]
            ],
            "type": "surface"
           }
          ],
          "table": [
           {
            "cells": {
             "fill": {
              "color": "#EBF0F8"
             },
             "line": {
              "color": "white"
             }
            },
            "header": {
             "fill": {
              "color": "#C8D4E3"
             },
             "line": {
              "color": "white"
             }
            },
            "type": "table"
           }
          ]
         },
         "layout": {
          "annotationdefaults": {
           "arrowcolor": "#2a3f5f",
           "arrowhead": 0,
           "arrowwidth": 1
          },
          "autotypenumbers": "strict",
          "coloraxis": {
           "colorbar": {
            "outlinewidth": 0,
            "ticks": ""
           }
          },
          "colorscale": {
           "diverging": [
            [
             0,
             "#8e0152"
            ],
            [
             0.1,
             "#c51b7d"
            ],
            [
             0.2,
             "#de77ae"
            ],
            [
             0.3,
             "#f1b6da"
            ],
            [
             0.4,
             "#fde0ef"
            ],
            [
             0.5,
             "#f7f7f7"
            ],
            [
             0.6,
             "#e6f5d0"
            ],
            [
             0.7,
             "#b8e186"
            ],
            [
             0.8,
             "#7fbc41"
            ],
            [
             0.9,
             "#4d9221"
            ],
            [
             1,
             "#276419"
            ]
           ],
           "sequential": [
            [
             0,
             "#0d0887"
            ],
            [
             0.1111111111111111,
             "#46039f"
            ],
            [
             0.2222222222222222,
             "#7201a8"
            ],
            [
             0.3333333333333333,
             "#9c179e"
            ],
            [
             0.4444444444444444,
             "#bd3786"
            ],
            [
             0.5555555555555556,
             "#d8576b"
            ],
            [
             0.6666666666666666,
             "#ed7953"
            ],
            [
             0.7777777777777778,
             "#fb9f3a"
            ],
            [
             0.8888888888888888,
             "#fdca26"
            ],
            [
             1,
             "#f0f921"
            ]
           ],
           "sequentialminus": [
            [
             0,
             "#0d0887"
            ],
            [
             0.1111111111111111,
             "#46039f"
            ],
            [
             0.2222222222222222,
             "#7201a8"
            ],
            [
             0.3333333333333333,
             "#9c179e"
            ],
            [
             0.4444444444444444,
             "#bd3786"
            ],
            [
             0.5555555555555556,
             "#d8576b"
            ],
            [
             0.6666666666666666,
             "#ed7953"
            ],
            [
             0.7777777777777778,
             "#fb9f3a"
            ],
            [
             0.8888888888888888,
             "#fdca26"
            ],
            [
             1,
             "#f0f921"
            ]
           ]
          },
          "colorway": [
           "#636efa",
           "#EF553B",
           "#00cc96",
           "#ab63fa",
           "#FFA15A",
           "#19d3f3",
           "#FF6692",
           "#B6E880",
           "#FF97FF",
           "#FECB52"
          ],
          "font": {
           "color": "#2a3f5f"
          },
          "geo": {
           "bgcolor": "white",
           "lakecolor": "white",
           "landcolor": "#E5ECF6",
           "showlakes": true,
           "showland": true,
           "subunitcolor": "white"
          },
          "hoverlabel": {
           "align": "left"
          },
          "hovermode": "closest",
          "mapbox": {
           "style": "light"
          },
          "paper_bgcolor": "white",
          "plot_bgcolor": "#E5ECF6",
          "polar": {
           "angularaxis": {
            "gridcolor": "white",
            "linecolor": "white",
            "ticks": ""
           },
           "bgcolor": "#E5ECF6",
           "radialaxis": {
            "gridcolor": "white",
            "linecolor": "white",
            "ticks": ""
           }
          },
          "scene": {
           "xaxis": {
            "backgroundcolor": "#E5ECF6",
            "gridcolor": "white",
            "gridwidth": 2,
            "linecolor": "white",
            "showbackground": true,
            "ticks": "",
            "zerolinecolor": "white"
           },
           "yaxis": {
            "backgroundcolor": "#E5ECF6",
            "gridcolor": "white",
            "gridwidth": 2,
            "linecolor": "white",
            "showbackground": true,
            "ticks": "",
            "zerolinecolor": "white"
           },
           "zaxis": {
            "backgroundcolor": "#E5ECF6",
            "gridcolor": "white",
            "gridwidth": 2,
            "linecolor": "white",
            "showbackground": true,
            "ticks": "",
            "zerolinecolor": "white"
           }
          },
          "shapedefaults": {
           "line": {
            "color": "#2a3f5f"
           }
          },
          "ternary": {
           "aaxis": {
            "gridcolor": "white",
            "linecolor": "white",
            "ticks": ""
           },
           "baxis": {
            "gridcolor": "white",
            "linecolor": "white",
            "ticks": ""
           },
           "bgcolor": "#E5ECF6",
           "caxis": {
            "gridcolor": "white",
            "linecolor": "white",
            "ticks": ""
           }
          },
          "title": {
           "x": 0.05
          },
          "xaxis": {
           "automargin": true,
           "gridcolor": "white",
           "linecolor": "white",
           "ticks": "",
           "title": {
            "standoff": 15
           },
           "zerolinecolor": "white",
           "zerolinewidth": 2
          },
          "yaxis": {
           "automargin": true,
           "gridcolor": "white",
           "linecolor": "white",
           "ticks": "",
           "title": {
            "standoff": 15
           },
           "zerolinecolor": "white",
           "zerolinewidth": 2
          }
         }
        },
        "title": {
         "text": "Total Explained Variance: 100.00%"
        }
       }
      },
      "text/html": [
       "<div>                            <div id=\"fec6217c-a578-400f-91a3-5070db13d50a\" class=\"plotly-graph-div\" style=\"height:525px; width:100%;\"></div>            <script type=\"text/javascript\">                require([\"plotly\"], function(Plotly) {                    window.PLOTLYENV=window.PLOTLYENV || {};                                    if (document.getElementById(\"fec6217c-a578-400f-91a3-5070db13d50a\")) {                    Plotly.newPlot(                        \"fec6217c-a578-400f-91a3-5070db13d50a\",                        [{\"diagonal\": {\"visible\": false}, \"dimensions\": [{\"axis\": {\"matches\": true}, \"label\": \"PC 1\", \"values\": [-11460.856894474848, -10069.188194665041, 249691.26332311428, 257781.26130626316, 279205.505832233, 230318.8703503147, 230320.2847880429, 209197.53123486755, 230323.20125896594, 230324.61695779703, 230326.02979540476, 230327.3573451334, -185267.74810206186, -185263.50738429796, -185262.09251487843, -185270.5711917068, -185269.15442355917, -113494.53746438997, -113492.95741665953, -113488.42053671922, 296279.33985388454, -185367.60668530752, -185276.23378246455, -185274.8184050828, -113503.01849874732, -113501.60717352106, -113500.12288818847, -113497.29222598083, -113495.87918514741, -113487.46782815427, -113486.05078854972, -11790.12425012371, -11788.710178298215, -11787.296033044764]}, {\"axis\": {\"matches\": true}, \"label\": \"PC 2\", \"values\": [-824.6204526050109, -764.8328022637925, -1853.6247344112373, -1904.91904495197, -1970.3568401899968, -1487.6836323451632, -1487.7231599946795, 19753.355359691377, -1489.8738095108001, -1489.861011581058, -1489.8702777559877, -1487.7343530014557, 156.3854401486904, 156.39841987670735, 156.38634203544527, 156.39266600850559, 156.36193019916843, -127.35988684892098, -131.3655945419054, -138.48099370379845, -1772.8932120291176, 143.67562377378013, 156.35954799247406, 156.3680743120306, -127.46539022529383, -127.44441885645695, -129.1176202660606, -129.14651377823796, -129.14674322219278, -127.48481538551232, -127.50885325020425, -557.7192363631831, -557.725494841591, -557.7245121157722]}, {\"axis\": {\"matches\": true}, \"label\": \"PC 3\", \"values\": [3400.3375854257774, 2497.5175237877183, 2484.088319454965, 2723.234915637356, 2386.3738841311756, -1431.0434173564975, -1430.9651518202431, 177.35362945535897, -1401.3725494416137, -1401.300243493964, -1401.3912362428912, -1430.9210909061264, -65.3592745951019, -65.6405487346825, -65.51764476084041, -64.91276849786598, -64.64759422973644, -303.5907968129223, -248.8334814923169, -151.2256353104633, -1314.681302050716, 114.90112071953911, -65.1835368756276, -65.13553945556258, -302.8601250960419, -303.1392280802327, -280.1640749439275, -279.9547286846929, -280.0740203474927, -303.40132555179036, -303.12308081613827, -253.10453520063635, -253.1389951434566, -253.12505267015928]}, {\"axis\": {\"matches\": true}, \"label\": \"PC 4\", \"values\": [-15.228629249315395, -62.31586113864578, 35.84920068026561, 2.0804423163071046, -0.05667513529841249, -9.772775719833849, -5.205805065663415, 0.0004744735990800372, -34.41517629516922, -17.6760714934139, -32.56540606552683, 10.520686080422205, -25.374010253611836, -43.770061004629014, -37.536729439388786, 26.59526796946253, 52.07972552467956, -29.861273841328668, -25.83159775401705, -47.14925592572426, -24.29697602439503, 27.198021572148487, -28.064266473265548, -13.892263468252493, 16.716303349286598, -8.172707969374327, -4.910627400153067, 16.844628276238225, 5.696444351508451, -33.305515842514346, -6.437015236650099, 105.55526162732157, 102.89075490670753, 103.81148966821625]}], \"hovertemplate\": \"%{xaxis.title.text}=%{x}<br>%{yaxis.title.text}=%{y}<br>Median Price=%{marker.color}<extra></extra>\", \"legendgroup\": \"\", \"marker\": {\"color\": [0, 1, 2, 2, 3, 4, 4, 4, 4, 4, 4, 4, 4, 4, 4, 5, 5, 5, 5, 5, 6, 6, 6, 6, 6, 6, 6, 6, 6, 6, 6, 6, 6, 6], \"coloraxis\": \"coloraxis\", \"symbol\": \"circle\"}, \"name\": \"\", \"showlegend\": false, \"type\": \"splom\"}],                        {\"coloraxis\": {\"colorbar\": {\"title\": {\"text\": \"Median Price\"}}, \"colorscale\": [[0.0, \"#0d0887\"], [0.1111111111111111, \"#46039f\"], [0.2222222222222222, \"#7201a8\"], [0.3333333333333333, \"#9c179e\"], [0.4444444444444444, \"#bd3786\"], [0.5555555555555556, \"#d8576b\"], [0.6666666666666666, \"#ed7953\"], [0.7777777777777778, \"#fb9f3a\"], [0.8888888888888888, \"#fdca26\"], [1.0, \"#f0f921\"]]}, \"dragmode\": \"select\", \"legend\": {\"tracegroupgap\": 0}, \"template\": {\"data\": {\"bar\": [{\"error_x\": {\"color\": \"#2a3f5f\"}, \"error_y\": {\"color\": \"#2a3f5f\"}, \"marker\": {\"line\": {\"color\": \"#E5ECF6\", \"width\": 0.5}}, \"type\": \"bar\"}], \"barpolar\": [{\"marker\": {\"line\": {\"color\": \"#E5ECF6\", \"width\": 0.5}}, \"type\": \"barpolar\"}], \"carpet\": [{\"aaxis\": {\"endlinecolor\": \"#2a3f5f\", \"gridcolor\": \"white\", \"linecolor\": \"white\", \"minorgridcolor\": \"white\", \"startlinecolor\": \"#2a3f5f\"}, \"baxis\": {\"endlinecolor\": \"#2a3f5f\", \"gridcolor\": \"white\", \"linecolor\": \"white\", \"minorgridcolor\": \"white\", \"startlinecolor\": \"#2a3f5f\"}, \"type\": \"carpet\"}], \"choropleth\": [{\"colorbar\": {\"outlinewidth\": 0, \"ticks\": \"\"}, \"type\": \"choropleth\"}], \"contour\": [{\"colorbar\": {\"outlinewidth\": 0, \"ticks\": \"\"}, \"colorscale\": [[0.0, \"#0d0887\"], [0.1111111111111111, \"#46039f\"], [0.2222222222222222, \"#7201a8\"], [0.3333333333333333, \"#9c179e\"], [0.4444444444444444, \"#bd3786\"], [0.5555555555555556, \"#d8576b\"], [0.6666666666666666, \"#ed7953\"], [0.7777777777777778, \"#fb9f3a\"], [0.8888888888888888, \"#fdca26\"], [1.0, \"#f0f921\"]], \"type\": \"contour\"}], \"contourcarpet\": [{\"colorbar\": {\"outlinewidth\": 0, \"ticks\": \"\"}, \"type\": \"contourcarpet\"}], \"heatmap\": [{\"colorbar\": {\"outlinewidth\": 0, \"ticks\": \"\"}, \"colorscale\": [[0.0, \"#0d0887\"], [0.1111111111111111, \"#46039f\"], [0.2222222222222222, \"#7201a8\"], [0.3333333333333333, \"#9c179e\"], [0.4444444444444444, \"#bd3786\"], [0.5555555555555556, \"#d8576b\"], [0.6666666666666666, \"#ed7953\"], [0.7777777777777778, \"#fb9f3a\"], [0.8888888888888888, \"#fdca26\"], [1.0, \"#f0f921\"]], \"type\": \"heatmap\"}], \"heatmapgl\": [{\"colorbar\": {\"outlinewidth\": 0, \"ticks\": \"\"}, \"colorscale\": [[0.0, \"#0d0887\"], [0.1111111111111111, \"#46039f\"], [0.2222222222222222, \"#7201a8\"], [0.3333333333333333, \"#9c179e\"], [0.4444444444444444, \"#bd3786\"], [0.5555555555555556, \"#d8576b\"], [0.6666666666666666, \"#ed7953\"], [0.7777777777777778, \"#fb9f3a\"], [0.8888888888888888, \"#fdca26\"], [1.0, \"#f0f921\"]], \"type\": \"heatmapgl\"}], \"histogram\": [{\"marker\": {\"colorbar\": {\"outlinewidth\": 0, \"ticks\": \"\"}}, \"type\": \"histogram\"}], \"histogram2d\": [{\"colorbar\": {\"outlinewidth\": 0, \"ticks\": \"\"}, \"colorscale\": [[0.0, \"#0d0887\"], [0.1111111111111111, \"#46039f\"], [0.2222222222222222, \"#7201a8\"], [0.3333333333333333, \"#9c179e\"], [0.4444444444444444, \"#bd3786\"], [0.5555555555555556, \"#d8576b\"], [0.6666666666666666, \"#ed7953\"], [0.7777777777777778, \"#fb9f3a\"], [0.8888888888888888, \"#fdca26\"], [1.0, \"#f0f921\"]], \"type\": \"histogram2d\"}], \"histogram2dcontour\": [{\"colorbar\": {\"outlinewidth\": 0, \"ticks\": \"\"}, \"colorscale\": [[0.0, \"#0d0887\"], [0.1111111111111111, \"#46039f\"], [0.2222222222222222, \"#7201a8\"], [0.3333333333333333, \"#9c179e\"], [0.4444444444444444, \"#bd3786\"], [0.5555555555555556, \"#d8576b\"], [0.6666666666666666, \"#ed7953\"], [0.7777777777777778, \"#fb9f3a\"], [0.8888888888888888, \"#fdca26\"], [1.0, \"#f0f921\"]], \"type\": \"histogram2dcontour\"}], \"mesh3d\": [{\"colorbar\": {\"outlinewidth\": 0, \"ticks\": \"\"}, \"type\": \"mesh3d\"}], \"parcoords\": [{\"line\": {\"colorbar\": {\"outlinewidth\": 0, \"ticks\": \"\"}}, \"type\": \"parcoords\"}], \"pie\": [{\"automargin\": true, \"type\": \"pie\"}], \"scatter\": [{\"marker\": {\"colorbar\": {\"outlinewidth\": 0, \"ticks\": \"\"}}, \"type\": \"scatter\"}], \"scatter3d\": [{\"line\": {\"colorbar\": {\"outlinewidth\": 0, \"ticks\": \"\"}}, \"marker\": {\"colorbar\": {\"outlinewidth\": 0, \"ticks\": \"\"}}, \"type\": \"scatter3d\"}], \"scattercarpet\": [{\"marker\": {\"colorbar\": {\"outlinewidth\": 0, \"ticks\": \"\"}}, \"type\": \"scattercarpet\"}], \"scattergeo\": [{\"marker\": {\"colorbar\": {\"outlinewidth\": 0, \"ticks\": \"\"}}, \"type\": \"scattergeo\"}], \"scattergl\": [{\"marker\": {\"colorbar\": {\"outlinewidth\": 0, \"ticks\": \"\"}}, \"type\": \"scattergl\"}], \"scattermapbox\": [{\"marker\": {\"colorbar\": {\"outlinewidth\": 0, \"ticks\": \"\"}}, \"type\": \"scattermapbox\"}], \"scatterpolar\": [{\"marker\": {\"colorbar\": {\"outlinewidth\": 0, \"ticks\": \"\"}}, \"type\": \"scatterpolar\"}], \"scatterpolargl\": [{\"marker\": {\"colorbar\": {\"outlinewidth\": 0, \"ticks\": \"\"}}, \"type\": \"scatterpolargl\"}], \"scatterternary\": [{\"marker\": {\"colorbar\": {\"outlinewidth\": 0, \"ticks\": \"\"}}, \"type\": \"scatterternary\"}], \"surface\": [{\"colorbar\": {\"outlinewidth\": 0, \"ticks\": \"\"}, \"colorscale\": [[0.0, \"#0d0887\"], [0.1111111111111111, \"#46039f\"], [0.2222222222222222, \"#7201a8\"], [0.3333333333333333, \"#9c179e\"], [0.4444444444444444, \"#bd3786\"], [0.5555555555555556, \"#d8576b\"], [0.6666666666666666, \"#ed7953\"], [0.7777777777777778, \"#fb9f3a\"], [0.8888888888888888, \"#fdca26\"], [1.0, \"#f0f921\"]], \"type\": \"surface\"}], \"table\": [{\"cells\": {\"fill\": {\"color\": \"#EBF0F8\"}, \"line\": {\"color\": \"white\"}}, \"header\": {\"fill\": {\"color\": \"#C8D4E3\"}, \"line\": {\"color\": \"white\"}}, \"type\": \"table\"}]}, \"layout\": {\"annotationdefaults\": {\"arrowcolor\": \"#2a3f5f\", \"arrowhead\": 0, \"arrowwidth\": 1}, \"autotypenumbers\": \"strict\", \"coloraxis\": {\"colorbar\": {\"outlinewidth\": 0, \"ticks\": \"\"}}, \"colorscale\": {\"diverging\": [[0, \"#8e0152\"], [0.1, \"#c51b7d\"], [0.2, \"#de77ae\"], [0.3, \"#f1b6da\"], [0.4, \"#fde0ef\"], [0.5, \"#f7f7f7\"], [0.6, \"#e6f5d0\"], [0.7, \"#b8e186\"], [0.8, \"#7fbc41\"], [0.9, \"#4d9221\"], [1, \"#276419\"]], \"sequential\": [[0.0, \"#0d0887\"], [0.1111111111111111, \"#46039f\"], [0.2222222222222222, \"#7201a8\"], [0.3333333333333333, \"#9c179e\"], [0.4444444444444444, \"#bd3786\"], [0.5555555555555556, \"#d8576b\"], [0.6666666666666666, \"#ed7953\"], [0.7777777777777778, \"#fb9f3a\"], [0.8888888888888888, \"#fdca26\"], [1.0, \"#f0f921\"]], \"sequentialminus\": [[0.0, \"#0d0887\"], [0.1111111111111111, \"#46039f\"], [0.2222222222222222, \"#7201a8\"], [0.3333333333333333, \"#9c179e\"], [0.4444444444444444, \"#bd3786\"], [0.5555555555555556, \"#d8576b\"], [0.6666666666666666, \"#ed7953\"], [0.7777777777777778, \"#fb9f3a\"], [0.8888888888888888, \"#fdca26\"], [1.0, \"#f0f921\"]]}, \"colorway\": [\"#636efa\", \"#EF553B\", \"#00cc96\", \"#ab63fa\", \"#FFA15A\", \"#19d3f3\", \"#FF6692\", \"#B6E880\", \"#FF97FF\", \"#FECB52\"], \"font\": {\"color\": \"#2a3f5f\"}, \"geo\": {\"bgcolor\": \"white\", \"lakecolor\": \"white\", \"landcolor\": \"#E5ECF6\", \"showlakes\": true, \"showland\": true, \"subunitcolor\": \"white\"}, \"hoverlabel\": {\"align\": \"left\"}, \"hovermode\": \"closest\", \"mapbox\": {\"style\": \"light\"}, \"paper_bgcolor\": \"white\", \"plot_bgcolor\": \"#E5ECF6\", \"polar\": {\"angularaxis\": {\"gridcolor\": \"white\", \"linecolor\": \"white\", \"ticks\": \"\"}, \"bgcolor\": \"#E5ECF6\", \"radialaxis\": {\"gridcolor\": \"white\", \"linecolor\": \"white\", \"ticks\": \"\"}}, \"scene\": {\"xaxis\": {\"backgroundcolor\": \"#E5ECF6\", \"gridcolor\": \"white\", \"gridwidth\": 2, \"linecolor\": \"white\", \"showbackground\": true, \"ticks\": \"\", \"zerolinecolor\": \"white\"}, \"yaxis\": {\"backgroundcolor\": \"#E5ECF6\", \"gridcolor\": \"white\", \"gridwidth\": 2, \"linecolor\": \"white\", \"showbackground\": true, \"ticks\": \"\", \"zerolinecolor\": \"white\"}, \"zaxis\": {\"backgroundcolor\": \"#E5ECF6\", \"gridcolor\": \"white\", \"gridwidth\": 2, \"linecolor\": \"white\", \"showbackground\": true, \"ticks\": \"\", \"zerolinecolor\": \"white\"}}, \"shapedefaults\": {\"line\": {\"color\": \"#2a3f5f\"}}, \"ternary\": {\"aaxis\": {\"gridcolor\": \"white\", \"linecolor\": \"white\", \"ticks\": \"\"}, \"baxis\": {\"gridcolor\": \"white\", \"linecolor\": \"white\", \"ticks\": \"\"}, \"bgcolor\": \"#E5ECF6\", \"caxis\": {\"gridcolor\": \"white\", \"linecolor\": \"white\", \"ticks\": \"\"}}, \"title\": {\"x\": 0.05}, \"xaxis\": {\"automargin\": true, \"gridcolor\": \"white\", \"linecolor\": \"white\", \"ticks\": \"\", \"title\": {\"standoff\": 15}, \"zerolinecolor\": \"white\", \"zerolinewidth\": 2}, \"yaxis\": {\"automargin\": true, \"gridcolor\": \"white\", \"linecolor\": \"white\", \"ticks\": \"\", \"title\": {\"standoff\": 15}, \"zerolinecolor\": \"white\", \"zerolinewidth\": 2}}}, \"title\": {\"text\": \"Total Explained Variance: 100.00%\"}},                        {\"responsive\": true}                    ).then(function(){\n",
       "                            \n",
       "var gd = document.getElementById('fec6217c-a578-400f-91a3-5070db13d50a');\n",
       "var x = new MutationObserver(function (mutations, observer) {{\n",
       "        var display = window.getComputedStyle(gd).display;\n",
       "        if (!display || display === 'none') {{\n",
       "            console.log([gd, 'removed!']);\n",
       "            Plotly.purge(gd);\n",
       "            observer.disconnect();\n",
       "        }}\n",
       "}});\n",
       "\n",
       "// Listen for the removal of the full notebook cells\n",
       "var notebookContainer = gd.closest('#notebook-container');\n",
       "if (notebookContainer) {{\n",
       "    x.observe(notebookContainer, {childList: true});\n",
       "}}\n",
       "\n",
       "// Listen for the clearing of the current output cell\n",
       "var outputEl = gd.closest('.output');\n",
       "if (outputEl) {{\n",
       "    x.observe(outputEl, {childList: true});\n",
       "}}\n",
       "\n",
       "                        })                };                });            </script>        </div>"
      ]
     },
     "metadata": {},
     "output_type": "display_data"
    }
   ],
   "source": [
    "n_components = 4\n",
    "\n",
    "pca = PCA(n_components=n_components)\n",
    "components = pca.fit_transform(dataset[features])\n",
    "\n",
    "total_var = pca.explained_variance_ratio_.sum() * 100\n",
    "\n",
    "labels = {str(i): f\"PC {i+1}\" for i in range(n_components)}\n",
    "labels['color'] = 'Median Price'\n",
    "\n",
    "fig = px.scatter_matrix(\n",
    "    components,\n",
    "    color=dataset[\"Species\"],\n",
    "    dimensions=range(n_components),\n",
    "    labels=labels,\n",
    "    title=f'Total Explained Variance: {total_var:.2f}%',\n",
    ")\n",
    "fig.update_traces(diagonal_visible=False)\n",
    "fig.show()"
   ]
  },
  {
   "cell_type": "markdown",
   "metadata": {},
   "source": [
    "2D PCA Scatter Plot"
   ]
  },
  {
   "cell_type": "code",
   "execution_count": 317,
   "metadata": {},
   "outputs": [
    {
     "data": {
      "application/vnd.plotly.v1+json": {
       "config": {
        "plotlyServerURL": "https://plot.ly"
       },
       "data": [
        {
         "hovertemplate": "color=albidiventris<br>0=%{x}<br>1=%{y}<extra></extra>",
         "legendgroup": "albidiventris",
         "marker": {
          "color": "#636efa",
          "symbol": "circle"
         },
         "mode": "markers",
         "name": "albidiventris",
         "orientation": "v",
         "showlegend": true,
         "type": "scatter",
         "x": [
          -11460.856894474848
         ],
         "xaxis": "x",
         "y": [
          -824.6204526050109
         ],
         "yaxis": "y"
        },
        {
         "hovertemplate": "color=albiventris<br>0=%{x}<br>1=%{y}<extra></extra>",
         "legendgroup": "albiventris",
         "marker": {
          "color": "#EF553B",
          "symbol": "circle"
         },
         "mode": "markers",
         "name": "albiventris",
         "orientation": "v",
         "showlegend": true,
         "type": "scatter",
         "x": [
          -10069.188194665041
         ],
         "xaxis": "x",
         "y": [
          -764.8328022637925
         ],
         "yaxis": "y"
        },
        {
         "hovertemplate": "color=atacamensis<br>0=%{x}<br>1=%{y}<extra></extra>",
         "legendgroup": "atacamensis",
         "marker": {
          "color": "#00cc96",
          "symbol": "circle"
         },
         "mode": "markers",
         "name": "atacamensis",
         "orientation": "v",
         "showlegend": true,
         "type": "scatter",
         "x": [
          249691.26332311428,
          257781.26130626316
         ],
         "xaxis": "x",
         "y": [
          -1853.6247344112373,
          -1904.91904495197
         ],
         "yaxis": "y"
        },
        {
         "hovertemplate": "color=excelsior<br>0=%{x}<br>1=%{y}<extra></extra>",
         "legendgroup": "excelsior",
         "marker": {
          "color": "#ab63fa",
          "symbol": "circle"
         },
         "mode": "markers",
         "name": "excelsior",
         "orientation": "v",
         "showlegend": true,
         "type": "scatter",
         "x": [
          279205.505832233
         ],
         "xaxis": "x",
         "y": [
          -1970.3568401899968
         ],
         "yaxis": "y"
        },
        {
         "hovertemplate": "color=fuscus<br>0=%{x}<br>1=%{y}<extra></extra>",
         "legendgroup": "fuscus",
         "marker": {
          "color": "#FFA15A",
          "symbol": "circle"
         },
         "mode": "markers",
         "name": "fuscus",
         "orientation": "v",
         "showlegend": true,
         "type": "scatter",
         "x": [
          230318.8703503147,
          230320.2847880429,
          209197.53123486755,
          230323.20125896594,
          230324.61695779703,
          230326.02979540476,
          230327.3573451334,
          -185267.74810206186,
          -185263.50738429796,
          -185262.09251487843
         ],
         "xaxis": "x",
         "y": [
          -1487.6836323451632,
          -1487.7231599946795,
          19753.355359691377,
          -1489.8738095108001,
          -1489.861011581058,
          -1489.8702777559877,
          -1487.7343530014557,
          156.3854401486904,
          156.39841987670735,
          156.38634203544527
         ],
         "yaxis": "y"
        },
        {
         "hovertemplate": "color=oustaleti<br>0=%{x}<br>1=%{y}<extra></extra>",
         "legendgroup": "oustaleti",
         "marker": {
          "color": "#19d3f3",
          "symbol": "circle"
         },
         "mode": "markers",
         "name": "oustaleti",
         "orientation": "v",
         "showlegend": true,
         "type": "scatter",
         "x": [
          -185270.5711917068,
          -185269.15442355917,
          -113494.53746438997,
          -113492.95741665953,
          -113488.42053671922
         ],
         "xaxis": "x",
         "y": [
          156.39266600850559,
          156.36193019916843,
          -127.35988684892098,
          -131.3655945419054,
          -138.48099370379845
         ],
         "yaxis": "y"
        },
        {
         "hovertemplate": "color=patagonicus<br>0=%{x}<br>1=%{y}<extra></extra>",
         "legendgroup": "patagonicus",
         "marker": {
          "color": "#FF6692",
          "symbol": "circle"
         },
         "mode": "markers",
         "name": "patagonicus",
         "orientation": "v",
         "showlegend": true,
         "type": "scatter",
         "x": [
          296279.33985388454,
          -185367.60668530752,
          -185276.23378246455,
          -185274.8184050828,
          -113503.01849874732,
          -113501.60717352106,
          -113500.12288818847,
          -113497.29222598083,
          -113495.87918514741,
          -113487.46782815427,
          -113486.05078854972,
          -11790.12425012371,
          -11788.710178298215,
          -11787.296033044764
         ],
         "xaxis": "x",
         "y": [
          -1772.8932120291176,
          143.67562377378013,
          156.35954799247406,
          156.3680743120306,
          -127.46539022529383,
          -127.44441885645695,
          -129.1176202660606,
          -129.14651377823796,
          -129.14674322219278,
          -127.48481538551232,
          -127.50885325020425,
          -557.7192363631831,
          -557.725494841591,
          -557.7245121157722
         ],
         "yaxis": "y"
        }
       ],
       "layout": {
        "legend": {
         "title": {
          "text": "color"
         },
         "tracegroupgap": 0
        },
        "margin": {
         "t": 60
        },
        "template": {
         "data": {
          "bar": [
           {
            "error_x": {
             "color": "#2a3f5f"
            },
            "error_y": {
             "color": "#2a3f5f"
            },
            "marker": {
             "line": {
              "color": "#E5ECF6",
              "width": 0.5
             }
            },
            "type": "bar"
           }
          ],
          "barpolar": [
           {
            "marker": {
             "line": {
              "color": "#E5ECF6",
              "width": 0.5
             }
            },
            "type": "barpolar"
           }
          ],
          "carpet": [
           {
            "aaxis": {
             "endlinecolor": "#2a3f5f",
             "gridcolor": "white",
             "linecolor": "white",
             "minorgridcolor": "white",
             "startlinecolor": "#2a3f5f"
            },
            "baxis": {
             "endlinecolor": "#2a3f5f",
             "gridcolor": "white",
             "linecolor": "white",
             "minorgridcolor": "white",
             "startlinecolor": "#2a3f5f"
            },
            "type": "carpet"
           }
          ],
          "choropleth": [
           {
            "colorbar": {
             "outlinewidth": 0,
             "ticks": ""
            },
            "type": "choropleth"
           }
          ],
          "contour": [
           {
            "colorbar": {
             "outlinewidth": 0,
             "ticks": ""
            },
            "colorscale": [
             [
              0,
              "#0d0887"
             ],
             [
              0.1111111111111111,
              "#46039f"
             ],
             [
              0.2222222222222222,
              "#7201a8"
             ],
             [
              0.3333333333333333,
              "#9c179e"
             ],
             [
              0.4444444444444444,
              "#bd3786"
             ],
             [
              0.5555555555555556,
              "#d8576b"
             ],
             [
              0.6666666666666666,
              "#ed7953"
             ],
             [
              0.7777777777777778,
              "#fb9f3a"
             ],
             [
              0.8888888888888888,
              "#fdca26"
             ],
             [
              1,
              "#f0f921"
             ]
            ],
            "type": "contour"
           }
          ],
          "contourcarpet": [
           {
            "colorbar": {
             "outlinewidth": 0,
             "ticks": ""
            },
            "type": "contourcarpet"
           }
          ],
          "heatmap": [
           {
            "colorbar": {
             "outlinewidth": 0,
             "ticks": ""
            },
            "colorscale": [
             [
              0,
              "#0d0887"
             ],
             [
              0.1111111111111111,
              "#46039f"
             ],
             [
              0.2222222222222222,
              "#7201a8"
             ],
             [
              0.3333333333333333,
              "#9c179e"
             ],
             [
              0.4444444444444444,
              "#bd3786"
             ],
             [
              0.5555555555555556,
              "#d8576b"
             ],
             [
              0.6666666666666666,
              "#ed7953"
             ],
             [
              0.7777777777777778,
              "#fb9f3a"
             ],
             [
              0.8888888888888888,
              "#fdca26"
             ],
             [
              1,
              "#f0f921"
             ]
            ],
            "type": "heatmap"
           }
          ],
          "heatmapgl": [
           {
            "colorbar": {
             "outlinewidth": 0,
             "ticks": ""
            },
            "colorscale": [
             [
              0,
              "#0d0887"
             ],
             [
              0.1111111111111111,
              "#46039f"
             ],
             [
              0.2222222222222222,
              "#7201a8"
             ],
             [
              0.3333333333333333,
              "#9c179e"
             ],
             [
              0.4444444444444444,
              "#bd3786"
             ],
             [
              0.5555555555555556,
              "#d8576b"
             ],
             [
              0.6666666666666666,
              "#ed7953"
             ],
             [
              0.7777777777777778,
              "#fb9f3a"
             ],
             [
              0.8888888888888888,
              "#fdca26"
             ],
             [
              1,
              "#f0f921"
             ]
            ],
            "type": "heatmapgl"
           }
          ],
          "histogram": [
           {
            "marker": {
             "colorbar": {
              "outlinewidth": 0,
              "ticks": ""
             }
            },
            "type": "histogram"
           }
          ],
          "histogram2d": [
           {
            "colorbar": {
             "outlinewidth": 0,
             "ticks": ""
            },
            "colorscale": [
             [
              0,
              "#0d0887"
             ],
             [
              0.1111111111111111,
              "#46039f"
             ],
             [
              0.2222222222222222,
              "#7201a8"
             ],
             [
              0.3333333333333333,
              "#9c179e"
             ],
             [
              0.4444444444444444,
              "#bd3786"
             ],
             [
              0.5555555555555556,
              "#d8576b"
             ],
             [
              0.6666666666666666,
              "#ed7953"
             ],
             [
              0.7777777777777778,
              "#fb9f3a"
             ],
             [
              0.8888888888888888,
              "#fdca26"
             ],
             [
              1,
              "#f0f921"
             ]
            ],
            "type": "histogram2d"
           }
          ],
          "histogram2dcontour": [
           {
            "colorbar": {
             "outlinewidth": 0,
             "ticks": ""
            },
            "colorscale": [
             [
              0,
              "#0d0887"
             ],
             [
              0.1111111111111111,
              "#46039f"
             ],
             [
              0.2222222222222222,
              "#7201a8"
             ],
             [
              0.3333333333333333,
              "#9c179e"
             ],
             [
              0.4444444444444444,
              "#bd3786"
             ],
             [
              0.5555555555555556,
              "#d8576b"
             ],
             [
              0.6666666666666666,
              "#ed7953"
             ],
             [
              0.7777777777777778,
              "#fb9f3a"
             ],
             [
              0.8888888888888888,
              "#fdca26"
             ],
             [
              1,
              "#f0f921"
             ]
            ],
            "type": "histogram2dcontour"
           }
          ],
          "mesh3d": [
           {
            "colorbar": {
             "outlinewidth": 0,
             "ticks": ""
            },
            "type": "mesh3d"
           }
          ],
          "parcoords": [
           {
            "line": {
             "colorbar": {
              "outlinewidth": 0,
              "ticks": ""
             }
            },
            "type": "parcoords"
           }
          ],
          "pie": [
           {
            "automargin": true,
            "type": "pie"
           }
          ],
          "scatter": [
           {
            "marker": {
             "colorbar": {
              "outlinewidth": 0,
              "ticks": ""
             }
            },
            "type": "scatter"
           }
          ],
          "scatter3d": [
           {
            "line": {
             "colorbar": {
              "outlinewidth": 0,
              "ticks": ""
             }
            },
            "marker": {
             "colorbar": {
              "outlinewidth": 0,
              "ticks": ""
             }
            },
            "type": "scatter3d"
           }
          ],
          "scattercarpet": [
           {
            "marker": {
             "colorbar": {
              "outlinewidth": 0,
              "ticks": ""
             }
            },
            "type": "scattercarpet"
           }
          ],
          "scattergeo": [
           {
            "marker": {
             "colorbar": {
              "outlinewidth": 0,
              "ticks": ""
             }
            },
            "type": "scattergeo"
           }
          ],
          "scattergl": [
           {
            "marker": {
             "colorbar": {
              "outlinewidth": 0,
              "ticks": ""
             }
            },
            "type": "scattergl"
           }
          ],
          "scattermapbox": [
           {
            "marker": {
             "colorbar": {
              "outlinewidth": 0,
              "ticks": ""
             }
            },
            "type": "scattermapbox"
           }
          ],
          "scatterpolar": [
           {
            "marker": {
             "colorbar": {
              "outlinewidth": 0,
              "ticks": ""
             }
            },
            "type": "scatterpolar"
           }
          ],
          "scatterpolargl": [
           {
            "marker": {
             "colorbar": {
              "outlinewidth": 0,
              "ticks": ""
             }
            },
            "type": "scatterpolargl"
           }
          ],
          "scatterternary": [
           {
            "marker": {
             "colorbar": {
              "outlinewidth": 0,
              "ticks": ""
             }
            },
            "type": "scatterternary"
           }
          ],
          "surface": [
           {
            "colorbar": {
             "outlinewidth": 0,
             "ticks": ""
            },
            "colorscale": [
             [
              0,
              "#0d0887"
             ],
             [
              0.1111111111111111,
              "#46039f"
             ],
             [
              0.2222222222222222,
              "#7201a8"
             ],
             [
              0.3333333333333333,
              "#9c179e"
             ],
             [
              0.4444444444444444,
              "#bd3786"
             ],
             [
              0.5555555555555556,
              "#d8576b"
             ],
             [
              0.6666666666666666,
              "#ed7953"
             ],
             [
              0.7777777777777778,
              "#fb9f3a"
             ],
             [
              0.8888888888888888,
              "#fdca26"
             ],
             [
              1,
              "#f0f921"
             ]
            ],
            "type": "surface"
           }
          ],
          "table": [
           {
            "cells": {
             "fill": {
              "color": "#EBF0F8"
             },
             "line": {
              "color": "white"
             }
            },
            "header": {
             "fill": {
              "color": "#C8D4E3"
             },
             "line": {
              "color": "white"
             }
            },
            "type": "table"
           }
          ]
         },
         "layout": {
          "annotationdefaults": {
           "arrowcolor": "#2a3f5f",
           "arrowhead": 0,
           "arrowwidth": 1
          },
          "autotypenumbers": "strict",
          "coloraxis": {
           "colorbar": {
            "outlinewidth": 0,
            "ticks": ""
           }
          },
          "colorscale": {
           "diverging": [
            [
             0,
             "#8e0152"
            ],
            [
             0.1,
             "#c51b7d"
            ],
            [
             0.2,
             "#de77ae"
            ],
            [
             0.3,
             "#f1b6da"
            ],
            [
             0.4,
             "#fde0ef"
            ],
            [
             0.5,
             "#f7f7f7"
            ],
            [
             0.6,
             "#e6f5d0"
            ],
            [
             0.7,
             "#b8e186"
            ],
            [
             0.8,
             "#7fbc41"
            ],
            [
             0.9,
             "#4d9221"
            ],
            [
             1,
             "#276419"
            ]
           ],
           "sequential": [
            [
             0,
             "#0d0887"
            ],
            [
             0.1111111111111111,
             "#46039f"
            ],
            [
             0.2222222222222222,
             "#7201a8"
            ],
            [
             0.3333333333333333,
             "#9c179e"
            ],
            [
             0.4444444444444444,
             "#bd3786"
            ],
            [
             0.5555555555555556,
             "#d8576b"
            ],
            [
             0.6666666666666666,
             "#ed7953"
            ],
            [
             0.7777777777777778,
             "#fb9f3a"
            ],
            [
             0.8888888888888888,
             "#fdca26"
            ],
            [
             1,
             "#f0f921"
            ]
           ],
           "sequentialminus": [
            [
             0,
             "#0d0887"
            ],
            [
             0.1111111111111111,
             "#46039f"
            ],
            [
             0.2222222222222222,
             "#7201a8"
            ],
            [
             0.3333333333333333,
             "#9c179e"
            ],
            [
             0.4444444444444444,
             "#bd3786"
            ],
            [
             0.5555555555555556,
             "#d8576b"
            ],
            [
             0.6666666666666666,
             "#ed7953"
            ],
            [
             0.7777777777777778,
             "#fb9f3a"
            ],
            [
             0.8888888888888888,
             "#fdca26"
            ],
            [
             1,
             "#f0f921"
            ]
           ]
          },
          "colorway": [
           "#636efa",
           "#EF553B",
           "#00cc96",
           "#ab63fa",
           "#FFA15A",
           "#19d3f3",
           "#FF6692",
           "#B6E880",
           "#FF97FF",
           "#FECB52"
          ],
          "font": {
           "color": "#2a3f5f"
          },
          "geo": {
           "bgcolor": "white",
           "lakecolor": "white",
           "landcolor": "#E5ECF6",
           "showlakes": true,
           "showland": true,
           "subunitcolor": "white"
          },
          "hoverlabel": {
           "align": "left"
          },
          "hovermode": "closest",
          "mapbox": {
           "style": "light"
          },
          "paper_bgcolor": "white",
          "plot_bgcolor": "#E5ECF6",
          "polar": {
           "angularaxis": {
            "gridcolor": "white",
            "linecolor": "white",
            "ticks": ""
           },
           "bgcolor": "#E5ECF6",
           "radialaxis": {
            "gridcolor": "white",
            "linecolor": "white",
            "ticks": ""
           }
          },
          "scene": {
           "xaxis": {
            "backgroundcolor": "#E5ECF6",
            "gridcolor": "white",
            "gridwidth": 2,
            "linecolor": "white",
            "showbackground": true,
            "ticks": "",
            "zerolinecolor": "white"
           },
           "yaxis": {
            "backgroundcolor": "#E5ECF6",
            "gridcolor": "white",
            "gridwidth": 2,
            "linecolor": "white",
            "showbackground": true,
            "ticks": "",
            "zerolinecolor": "white"
           },
           "zaxis": {
            "backgroundcolor": "#E5ECF6",
            "gridcolor": "white",
            "gridwidth": 2,
            "linecolor": "white",
            "showbackground": true,
            "ticks": "",
            "zerolinecolor": "white"
           }
          },
          "shapedefaults": {
           "line": {
            "color": "#2a3f5f"
           }
          },
          "ternary": {
           "aaxis": {
            "gridcolor": "white",
            "linecolor": "white",
            "ticks": ""
           },
           "baxis": {
            "gridcolor": "white",
            "linecolor": "white",
            "ticks": ""
           },
           "bgcolor": "#E5ECF6",
           "caxis": {
            "gridcolor": "white",
            "linecolor": "white",
            "ticks": ""
           }
          },
          "title": {
           "x": 0.05
          },
          "xaxis": {
           "automargin": true,
           "gridcolor": "white",
           "linecolor": "white",
           "ticks": "",
           "title": {
            "standoff": 15
           },
           "zerolinecolor": "white",
           "zerolinewidth": 2
          },
          "yaxis": {
           "automargin": true,
           "gridcolor": "white",
           "linecolor": "white",
           "ticks": "",
           "title": {
            "standoff": 15
           },
           "zerolinecolor": "white",
           "zerolinewidth": 2
          }
         }
        },
        "xaxis": {
         "anchor": "y",
         "domain": [
          0,
          1
         ],
         "title": {
          "text": "0"
         }
        },
        "yaxis": {
         "anchor": "x",
         "domain": [
          0,
          1
         ],
         "title": {
          "text": "1"
         }
        }
       }
      },
      "text/html": [
       "<div>                            <div id=\"2f776cdd-dca1-4bc4-939c-18a2fc5ab747\" class=\"plotly-graph-div\" style=\"height:525px; width:100%;\"></div>            <script type=\"text/javascript\">                require([\"plotly\"], function(Plotly) {                    window.PLOTLYENV=window.PLOTLYENV || {};                                    if (document.getElementById(\"2f776cdd-dca1-4bc4-939c-18a2fc5ab747\")) {                    Plotly.newPlot(                        \"2f776cdd-dca1-4bc4-939c-18a2fc5ab747\",                        [{\"hovertemplate\": \"color=albidiventris<br>0=%{x}<br>1=%{y}<extra></extra>\", \"legendgroup\": \"albidiventris\", \"marker\": {\"color\": \"#636efa\", \"symbol\": \"circle\"}, \"mode\": \"markers\", \"name\": \"albidiventris\", \"orientation\": \"v\", \"showlegend\": true, \"type\": \"scatter\", \"x\": [-11460.856894474848], \"xaxis\": \"x\", \"y\": [-824.6204526050109], \"yaxis\": \"y\"}, {\"hovertemplate\": \"color=albiventris<br>0=%{x}<br>1=%{y}<extra></extra>\", \"legendgroup\": \"albiventris\", \"marker\": {\"color\": \"#EF553B\", \"symbol\": \"circle\"}, \"mode\": \"markers\", \"name\": \"albiventris\", \"orientation\": \"v\", \"showlegend\": true, \"type\": \"scatter\", \"x\": [-10069.188194665041], \"xaxis\": \"x\", \"y\": [-764.8328022637925], \"yaxis\": \"y\"}, {\"hovertemplate\": \"color=atacamensis<br>0=%{x}<br>1=%{y}<extra></extra>\", \"legendgroup\": \"atacamensis\", \"marker\": {\"color\": \"#00cc96\", \"symbol\": \"circle\"}, \"mode\": \"markers\", \"name\": \"atacamensis\", \"orientation\": \"v\", \"showlegend\": true, \"type\": \"scatter\", \"x\": [249691.26332311428, 257781.26130626316], \"xaxis\": \"x\", \"y\": [-1853.6247344112373, -1904.91904495197], \"yaxis\": \"y\"}, {\"hovertemplate\": \"color=excelsior<br>0=%{x}<br>1=%{y}<extra></extra>\", \"legendgroup\": \"excelsior\", \"marker\": {\"color\": \"#ab63fa\", \"symbol\": \"circle\"}, \"mode\": \"markers\", \"name\": \"excelsior\", \"orientation\": \"v\", \"showlegend\": true, \"type\": \"scatter\", \"x\": [279205.505832233], \"xaxis\": \"x\", \"y\": [-1970.3568401899968], \"yaxis\": \"y\"}, {\"hovertemplate\": \"color=fuscus<br>0=%{x}<br>1=%{y}<extra></extra>\", \"legendgroup\": \"fuscus\", \"marker\": {\"color\": \"#FFA15A\", \"symbol\": \"circle\"}, \"mode\": \"markers\", \"name\": \"fuscus\", \"orientation\": \"v\", \"showlegend\": true, \"type\": \"scatter\", \"x\": [230318.8703503147, 230320.2847880429, 209197.53123486755, 230323.20125896594, 230324.61695779703, 230326.02979540476, 230327.3573451334, -185267.74810206186, -185263.50738429796, -185262.09251487843], \"xaxis\": \"x\", \"y\": [-1487.6836323451632, -1487.7231599946795, 19753.355359691377, -1489.8738095108001, -1489.861011581058, -1489.8702777559877, -1487.7343530014557, 156.3854401486904, 156.39841987670735, 156.38634203544527], \"yaxis\": \"y\"}, {\"hovertemplate\": \"color=oustaleti<br>0=%{x}<br>1=%{y}<extra></extra>\", \"legendgroup\": \"oustaleti\", \"marker\": {\"color\": \"#19d3f3\", \"symbol\": \"circle\"}, \"mode\": \"markers\", \"name\": \"oustaleti\", \"orientation\": \"v\", \"showlegend\": true, \"type\": \"scatter\", \"x\": [-185270.5711917068, -185269.15442355917, -113494.53746438997, -113492.95741665953, -113488.42053671922], \"xaxis\": \"x\", \"y\": [156.39266600850559, 156.36193019916843, -127.35988684892098, -131.3655945419054, -138.48099370379845], \"yaxis\": \"y\"}, {\"hovertemplate\": \"color=patagonicus<br>0=%{x}<br>1=%{y}<extra></extra>\", \"legendgroup\": \"patagonicus\", \"marker\": {\"color\": \"#FF6692\", \"symbol\": \"circle\"}, \"mode\": \"markers\", \"name\": \"patagonicus\", \"orientation\": \"v\", \"showlegend\": true, \"type\": \"scatter\", \"x\": [296279.33985388454, -185367.60668530752, -185276.23378246455, -185274.8184050828, -113503.01849874732, -113501.60717352106, -113500.12288818847, -113497.29222598083, -113495.87918514741, -113487.46782815427, -113486.05078854972, -11790.12425012371, -11788.710178298215, -11787.296033044764], \"xaxis\": \"x\", \"y\": [-1772.8932120291176, 143.67562377378013, 156.35954799247406, 156.3680743120306, -127.46539022529383, -127.44441885645695, -129.1176202660606, -129.14651377823796, -129.14674322219278, -127.48481538551232, -127.50885325020425, -557.7192363631831, -557.725494841591, -557.7245121157722], \"yaxis\": \"y\"}],                        {\"legend\": {\"title\": {\"text\": \"color\"}, \"tracegroupgap\": 0}, \"margin\": {\"t\": 60}, \"template\": {\"data\": {\"bar\": [{\"error_x\": {\"color\": \"#2a3f5f\"}, \"error_y\": {\"color\": \"#2a3f5f\"}, \"marker\": {\"line\": {\"color\": \"#E5ECF6\", \"width\": 0.5}}, \"type\": \"bar\"}], \"barpolar\": [{\"marker\": {\"line\": {\"color\": \"#E5ECF6\", \"width\": 0.5}}, \"type\": \"barpolar\"}], \"carpet\": [{\"aaxis\": {\"endlinecolor\": \"#2a3f5f\", \"gridcolor\": \"white\", \"linecolor\": \"white\", \"minorgridcolor\": \"white\", \"startlinecolor\": \"#2a3f5f\"}, \"baxis\": {\"endlinecolor\": \"#2a3f5f\", \"gridcolor\": \"white\", \"linecolor\": \"white\", \"minorgridcolor\": \"white\", \"startlinecolor\": \"#2a3f5f\"}, \"type\": \"carpet\"}], \"choropleth\": [{\"colorbar\": {\"outlinewidth\": 0, \"ticks\": \"\"}, \"type\": \"choropleth\"}], \"contour\": [{\"colorbar\": {\"outlinewidth\": 0, \"ticks\": \"\"}, \"colorscale\": [[0.0, \"#0d0887\"], [0.1111111111111111, \"#46039f\"], [0.2222222222222222, \"#7201a8\"], [0.3333333333333333, \"#9c179e\"], [0.4444444444444444, \"#bd3786\"], [0.5555555555555556, \"#d8576b\"], [0.6666666666666666, \"#ed7953\"], [0.7777777777777778, \"#fb9f3a\"], [0.8888888888888888, \"#fdca26\"], [1.0, \"#f0f921\"]], \"type\": \"contour\"}], \"contourcarpet\": [{\"colorbar\": {\"outlinewidth\": 0, \"ticks\": \"\"}, \"type\": \"contourcarpet\"}], \"heatmap\": [{\"colorbar\": {\"outlinewidth\": 0, \"ticks\": \"\"}, \"colorscale\": [[0.0, \"#0d0887\"], [0.1111111111111111, \"#46039f\"], [0.2222222222222222, \"#7201a8\"], [0.3333333333333333, \"#9c179e\"], [0.4444444444444444, \"#bd3786\"], [0.5555555555555556, \"#d8576b\"], [0.6666666666666666, \"#ed7953\"], [0.7777777777777778, \"#fb9f3a\"], [0.8888888888888888, \"#fdca26\"], [1.0, \"#f0f921\"]], \"type\": \"heatmap\"}], \"heatmapgl\": [{\"colorbar\": {\"outlinewidth\": 0, \"ticks\": \"\"}, \"colorscale\": [[0.0, \"#0d0887\"], [0.1111111111111111, \"#46039f\"], [0.2222222222222222, \"#7201a8\"], [0.3333333333333333, \"#9c179e\"], [0.4444444444444444, \"#bd3786\"], [0.5555555555555556, \"#d8576b\"], [0.6666666666666666, \"#ed7953\"], [0.7777777777777778, \"#fb9f3a\"], [0.8888888888888888, \"#fdca26\"], [1.0, \"#f0f921\"]], \"type\": \"heatmapgl\"}], \"histogram\": [{\"marker\": {\"colorbar\": {\"outlinewidth\": 0, \"ticks\": \"\"}}, \"type\": \"histogram\"}], \"histogram2d\": [{\"colorbar\": {\"outlinewidth\": 0, \"ticks\": \"\"}, \"colorscale\": [[0.0, \"#0d0887\"], [0.1111111111111111, \"#46039f\"], [0.2222222222222222, \"#7201a8\"], [0.3333333333333333, \"#9c179e\"], [0.4444444444444444, \"#bd3786\"], [0.5555555555555556, \"#d8576b\"], [0.6666666666666666, \"#ed7953\"], [0.7777777777777778, \"#fb9f3a\"], [0.8888888888888888, \"#fdca26\"], [1.0, \"#f0f921\"]], \"type\": \"histogram2d\"}], \"histogram2dcontour\": [{\"colorbar\": {\"outlinewidth\": 0, \"ticks\": \"\"}, \"colorscale\": [[0.0, \"#0d0887\"], [0.1111111111111111, \"#46039f\"], [0.2222222222222222, \"#7201a8\"], [0.3333333333333333, \"#9c179e\"], [0.4444444444444444, \"#bd3786\"], [0.5555555555555556, \"#d8576b\"], [0.6666666666666666, \"#ed7953\"], [0.7777777777777778, \"#fb9f3a\"], [0.8888888888888888, \"#fdca26\"], [1.0, \"#f0f921\"]], \"type\": \"histogram2dcontour\"}], \"mesh3d\": [{\"colorbar\": {\"outlinewidth\": 0, \"ticks\": \"\"}, \"type\": \"mesh3d\"}], \"parcoords\": [{\"line\": {\"colorbar\": {\"outlinewidth\": 0, \"ticks\": \"\"}}, \"type\": \"parcoords\"}], \"pie\": [{\"automargin\": true, \"type\": \"pie\"}], \"scatter\": [{\"marker\": {\"colorbar\": {\"outlinewidth\": 0, \"ticks\": \"\"}}, \"type\": \"scatter\"}], \"scatter3d\": [{\"line\": {\"colorbar\": {\"outlinewidth\": 0, \"ticks\": \"\"}}, \"marker\": {\"colorbar\": {\"outlinewidth\": 0, \"ticks\": \"\"}}, \"type\": \"scatter3d\"}], \"scattercarpet\": [{\"marker\": {\"colorbar\": {\"outlinewidth\": 0, \"ticks\": \"\"}}, \"type\": \"scattercarpet\"}], \"scattergeo\": [{\"marker\": {\"colorbar\": {\"outlinewidth\": 0, \"ticks\": \"\"}}, \"type\": \"scattergeo\"}], \"scattergl\": [{\"marker\": {\"colorbar\": {\"outlinewidth\": 0, \"ticks\": \"\"}}, \"type\": \"scattergl\"}], \"scattermapbox\": [{\"marker\": {\"colorbar\": {\"outlinewidth\": 0, \"ticks\": \"\"}}, \"type\": \"scattermapbox\"}], \"scatterpolar\": [{\"marker\": {\"colorbar\": {\"outlinewidth\": 0, \"ticks\": \"\"}}, \"type\": \"scatterpolar\"}], \"scatterpolargl\": [{\"marker\": {\"colorbar\": {\"outlinewidth\": 0, \"ticks\": \"\"}}, \"type\": \"scatterpolargl\"}], \"scatterternary\": [{\"marker\": {\"colorbar\": {\"outlinewidth\": 0, \"ticks\": \"\"}}, \"type\": \"scatterternary\"}], \"surface\": [{\"colorbar\": {\"outlinewidth\": 0, \"ticks\": \"\"}, \"colorscale\": [[0.0, \"#0d0887\"], [0.1111111111111111, \"#46039f\"], [0.2222222222222222, \"#7201a8\"], [0.3333333333333333, \"#9c179e\"], [0.4444444444444444, \"#bd3786\"], [0.5555555555555556, \"#d8576b\"], [0.6666666666666666, \"#ed7953\"], [0.7777777777777778, \"#fb9f3a\"], [0.8888888888888888, \"#fdca26\"], [1.0, \"#f0f921\"]], \"type\": \"surface\"}], \"table\": [{\"cells\": {\"fill\": {\"color\": \"#EBF0F8\"}, \"line\": {\"color\": \"white\"}}, \"header\": {\"fill\": {\"color\": \"#C8D4E3\"}, \"line\": {\"color\": \"white\"}}, \"type\": \"table\"}]}, \"layout\": {\"annotationdefaults\": {\"arrowcolor\": \"#2a3f5f\", \"arrowhead\": 0, \"arrowwidth\": 1}, \"autotypenumbers\": \"strict\", \"coloraxis\": {\"colorbar\": {\"outlinewidth\": 0, \"ticks\": \"\"}}, \"colorscale\": {\"diverging\": [[0, \"#8e0152\"], [0.1, \"#c51b7d\"], [0.2, \"#de77ae\"], [0.3, \"#f1b6da\"], [0.4, \"#fde0ef\"], [0.5, \"#f7f7f7\"], [0.6, \"#e6f5d0\"], [0.7, \"#b8e186\"], [0.8, \"#7fbc41\"], [0.9, \"#4d9221\"], [1, \"#276419\"]], \"sequential\": [[0.0, \"#0d0887\"], [0.1111111111111111, \"#46039f\"], [0.2222222222222222, \"#7201a8\"], [0.3333333333333333, \"#9c179e\"], [0.4444444444444444, \"#bd3786\"], [0.5555555555555556, \"#d8576b\"], [0.6666666666666666, \"#ed7953\"], [0.7777777777777778, \"#fb9f3a\"], [0.8888888888888888, \"#fdca26\"], [1.0, \"#f0f921\"]], \"sequentialminus\": [[0.0, \"#0d0887\"], [0.1111111111111111, \"#46039f\"], [0.2222222222222222, \"#7201a8\"], [0.3333333333333333, \"#9c179e\"], [0.4444444444444444, \"#bd3786\"], [0.5555555555555556, \"#d8576b\"], [0.6666666666666666, \"#ed7953\"], [0.7777777777777778, \"#fb9f3a\"], [0.8888888888888888, \"#fdca26\"], [1.0, \"#f0f921\"]]}, \"colorway\": [\"#636efa\", \"#EF553B\", \"#00cc96\", \"#ab63fa\", \"#FFA15A\", \"#19d3f3\", \"#FF6692\", \"#B6E880\", \"#FF97FF\", \"#FECB52\"], \"font\": {\"color\": \"#2a3f5f\"}, \"geo\": {\"bgcolor\": \"white\", \"lakecolor\": \"white\", \"landcolor\": \"#E5ECF6\", \"showlakes\": true, \"showland\": true, \"subunitcolor\": \"white\"}, \"hoverlabel\": {\"align\": \"left\"}, \"hovermode\": \"closest\", \"mapbox\": {\"style\": \"light\"}, \"paper_bgcolor\": \"white\", \"plot_bgcolor\": \"#E5ECF6\", \"polar\": {\"angularaxis\": {\"gridcolor\": \"white\", \"linecolor\": \"white\", \"ticks\": \"\"}, \"bgcolor\": \"#E5ECF6\", \"radialaxis\": {\"gridcolor\": \"white\", \"linecolor\": \"white\", \"ticks\": \"\"}}, \"scene\": {\"xaxis\": {\"backgroundcolor\": \"#E5ECF6\", \"gridcolor\": \"white\", \"gridwidth\": 2, \"linecolor\": \"white\", \"showbackground\": true, \"ticks\": \"\", \"zerolinecolor\": \"white\"}, \"yaxis\": {\"backgroundcolor\": \"#E5ECF6\", \"gridcolor\": \"white\", \"gridwidth\": 2, \"linecolor\": \"white\", \"showbackground\": true, \"ticks\": \"\", \"zerolinecolor\": \"white\"}, \"zaxis\": {\"backgroundcolor\": \"#E5ECF6\", \"gridcolor\": \"white\", \"gridwidth\": 2, \"linecolor\": \"white\", \"showbackground\": true, \"ticks\": \"\", \"zerolinecolor\": \"white\"}}, \"shapedefaults\": {\"line\": {\"color\": \"#2a3f5f\"}}, \"ternary\": {\"aaxis\": {\"gridcolor\": \"white\", \"linecolor\": \"white\", \"ticks\": \"\"}, \"baxis\": {\"gridcolor\": \"white\", \"linecolor\": \"white\", \"ticks\": \"\"}, \"bgcolor\": \"#E5ECF6\", \"caxis\": {\"gridcolor\": \"white\", \"linecolor\": \"white\", \"ticks\": \"\"}}, \"title\": {\"x\": 0.05}, \"xaxis\": {\"automargin\": true, \"gridcolor\": \"white\", \"linecolor\": \"white\", \"ticks\": \"\", \"title\": {\"standoff\": 15}, \"zerolinecolor\": \"white\", \"zerolinewidth\": 2}, \"yaxis\": {\"automargin\": true, \"gridcolor\": \"white\", \"linecolor\": \"white\", \"ticks\": \"\", \"title\": {\"standoff\": 15}, \"zerolinecolor\": \"white\", \"zerolinewidth\": 2}}}, \"xaxis\": {\"anchor\": \"y\", \"domain\": [0.0, 1.0], \"title\": {\"text\": \"0\"}}, \"yaxis\": {\"anchor\": \"x\", \"domain\": [0.0, 1.0], \"title\": {\"text\": \"1\"}}},                        {\"responsive\": true}                    ).then(function(){\n",
       "                            \n",
       "var gd = document.getElementById('2f776cdd-dca1-4bc4-939c-18a2fc5ab747');\n",
       "var x = new MutationObserver(function (mutations, observer) {{\n",
       "        var display = window.getComputedStyle(gd).display;\n",
       "        if (!display || display === 'none') {{\n",
       "            console.log([gd, 'removed!']);\n",
       "            Plotly.purge(gd);\n",
       "            observer.disconnect();\n",
       "        }}\n",
       "}});\n",
       "\n",
       "// Listen for the removal of the full notebook cells\n",
       "var notebookContainer = gd.closest('#notebook-container');\n",
       "if (notebookContainer) {{\n",
       "    x.observe(notebookContainer, {childList: true});\n",
       "}}\n",
       "\n",
       "// Listen for the clearing of the current output cell\n",
       "var outputEl = gd.closest('.output');\n",
       "if (outputEl) {{\n",
       "    x.observe(outputEl, {childList: true});\n",
       "}}\n",
       "\n",
       "                        })                };                });            </script>        </div>"
      ]
     },
     "metadata": {},
     "output_type": "display_data"
    }
   ],
   "source": [
    "features = dataset.columns\n",
    "features = features.drop('Species',1)\n",
    "X =  dataset[features]\n",
    "\n",
    "pca = PCA(.95)\n",
    "principalComponents = pca.fit_transform(dataset[features])\n",
    "\n",
    "fig = px.scatter(components, x=0, y=1, color=dataset['Species'])\n",
    "fig.show()"
   ]
  },
  {
   "cell_type": "code",
   "execution_count": 280,
   "metadata": {},
   "outputs": [
    {
     "name": "stdout",
     "output_type": "stream",
     "text": [
      "{'albidiventris': 0, 'albiventris': 1, 'atacamensis': 2, 'excelsior': 3, 'fuscus': 4, 'oustaleti': 5, 'patagonicus': 6}\n"
     ]
    }
   ],
   "source": [
    "new_data =  words_to_numeric(dataset['Species'])\n",
    "print(new_data)\n",
    "dataset['Species'] = dataset['Species'].apply(lambda x: new_data[x.lower()])"
   ]
  },
  {
   "cell_type": "markdown",
   "metadata": {},
   "source": [
    "## PCA  with 95% information contetnt"
   ]
  },
  {
   "cell_type": "markdown",
   "metadata": {},
   "source": [
    "Standartize values for correct work of algorithm"
   ]
  },
  {
   "cell_type": "code",
   "execution_count": 251,
   "metadata": {},
   "outputs": [],
   "source": [
    "dataset_np = StandardScaler().fit_transform(dataset)"
   ]
  },
  {
   "cell_type": "code",
   "execution_count": 252,
   "metadata": {},
   "outputs": [
    {
     "name": "stdout",
     "output_type": "stream",
     "text": [
      "(34, 65)\n"
     ]
    }
   ],
   "source": [
    "print(dataset_np.shape)"
   ]
  },
  {
   "cell_type": "markdown",
   "metadata": {},
   "source": [
    "Use PCA from sklearn.decomposition with 95% information contetnt from original data"
   ]
  },
  {
   "cell_type": "code",
   "execution_count": 253,
   "metadata": {},
   "outputs": [
    {
     "data": {
      "application/vnd.plotly.v1+json": {
       "config": {
        "plotlyServerURL": "https://plot.ly"
       },
       "data": [
        {
         "hovertemplate": "# Components=%{x}<br>Explained Variance=%{y}<extra></extra>",
         "legendgroup": "",
         "line": {
          "color": "#636efa"
         },
         "mode": "lines",
         "name": "",
         "orientation": "v",
         "showlegend": false,
         "stackgroup": "1",
         "type": "scatter",
         "x": [
          1,
          2,
          3,
          4,
          5,
          6,
          7,
          8,
          9,
          10,
          11,
          12,
          13,
          14
         ],
         "xaxis": "x",
         "y": [
          0.40325796915735895,
          0.5597022865016402,
          0.6547491270872297,
          0.7182924130931321,
          0.7628502639759154,
          0.7998908161670198,
          0.8317913132824867,
          0.8610155924829368,
          0.8857058831851504,
          0.9046481694474888,
          0.9194658473782419,
          0.9317937962030638,
          0.9415982849251994,
          0.9505006552308617
         ],
         "yaxis": "y"
        }
       ],
       "layout": {
        "legend": {
         "tracegroupgap": 0
        },
        "margin": {
         "t": 60
        },
        "template": {
         "data": {
          "bar": [
           {
            "error_x": {
             "color": "#2a3f5f"
            },
            "error_y": {
             "color": "#2a3f5f"
            },
            "marker": {
             "line": {
              "color": "#E5ECF6",
              "width": 0.5
             }
            },
            "type": "bar"
           }
          ],
          "barpolar": [
           {
            "marker": {
             "line": {
              "color": "#E5ECF6",
              "width": 0.5
             }
            },
            "type": "barpolar"
           }
          ],
          "carpet": [
           {
            "aaxis": {
             "endlinecolor": "#2a3f5f",
             "gridcolor": "white",
             "linecolor": "white",
             "minorgridcolor": "white",
             "startlinecolor": "#2a3f5f"
            },
            "baxis": {
             "endlinecolor": "#2a3f5f",
             "gridcolor": "white",
             "linecolor": "white",
             "minorgridcolor": "white",
             "startlinecolor": "#2a3f5f"
            },
            "type": "carpet"
           }
          ],
          "choropleth": [
           {
            "colorbar": {
             "outlinewidth": 0,
             "ticks": ""
            },
            "type": "choropleth"
           }
          ],
          "contour": [
           {
            "colorbar": {
             "outlinewidth": 0,
             "ticks": ""
            },
            "colorscale": [
             [
              0,
              "#0d0887"
             ],
             [
              0.1111111111111111,
              "#46039f"
             ],
             [
              0.2222222222222222,
              "#7201a8"
             ],
             [
              0.3333333333333333,
              "#9c179e"
             ],
             [
              0.4444444444444444,
              "#bd3786"
             ],
             [
              0.5555555555555556,
              "#d8576b"
             ],
             [
              0.6666666666666666,
              "#ed7953"
             ],
             [
              0.7777777777777778,
              "#fb9f3a"
             ],
             [
              0.8888888888888888,
              "#fdca26"
             ],
             [
              1,
              "#f0f921"
             ]
            ],
            "type": "contour"
           }
          ],
          "contourcarpet": [
           {
            "colorbar": {
             "outlinewidth": 0,
             "ticks": ""
            },
            "type": "contourcarpet"
           }
          ],
          "heatmap": [
           {
            "colorbar": {
             "outlinewidth": 0,
             "ticks": ""
            },
            "colorscale": [
             [
              0,
              "#0d0887"
             ],
             [
              0.1111111111111111,
              "#46039f"
             ],
             [
              0.2222222222222222,
              "#7201a8"
             ],
             [
              0.3333333333333333,
              "#9c179e"
             ],
             [
              0.4444444444444444,
              "#bd3786"
             ],
             [
              0.5555555555555556,
              "#d8576b"
             ],
             [
              0.6666666666666666,
              "#ed7953"
             ],
             [
              0.7777777777777778,
              "#fb9f3a"
             ],
             [
              0.8888888888888888,
              "#fdca26"
             ],
             [
              1,
              "#f0f921"
             ]
            ],
            "type": "heatmap"
           }
          ],
          "heatmapgl": [
           {
            "colorbar": {
             "outlinewidth": 0,
             "ticks": ""
            },
            "colorscale": [
             [
              0,
              "#0d0887"
             ],
             [
              0.1111111111111111,
              "#46039f"
             ],
             [
              0.2222222222222222,
              "#7201a8"
             ],
             [
              0.3333333333333333,
              "#9c179e"
             ],
             [
              0.4444444444444444,
              "#bd3786"
             ],
             [
              0.5555555555555556,
              "#d8576b"
             ],
             [
              0.6666666666666666,
              "#ed7953"
             ],
             [
              0.7777777777777778,
              "#fb9f3a"
             ],
             [
              0.8888888888888888,
              "#fdca26"
             ],
             [
              1,
              "#f0f921"
             ]
            ],
            "type": "heatmapgl"
           }
          ],
          "histogram": [
           {
            "marker": {
             "colorbar": {
              "outlinewidth": 0,
              "ticks": ""
             }
            },
            "type": "histogram"
           }
          ],
          "histogram2d": [
           {
            "colorbar": {
             "outlinewidth": 0,
             "ticks": ""
            },
            "colorscale": [
             [
              0,
              "#0d0887"
             ],
             [
              0.1111111111111111,
              "#46039f"
             ],
             [
              0.2222222222222222,
              "#7201a8"
             ],
             [
              0.3333333333333333,
              "#9c179e"
             ],
             [
              0.4444444444444444,
              "#bd3786"
             ],
             [
              0.5555555555555556,
              "#d8576b"
             ],
             [
              0.6666666666666666,
              "#ed7953"
             ],
             [
              0.7777777777777778,
              "#fb9f3a"
             ],
             [
              0.8888888888888888,
              "#fdca26"
             ],
             [
              1,
              "#f0f921"
             ]
            ],
            "type": "histogram2d"
           }
          ],
          "histogram2dcontour": [
           {
            "colorbar": {
             "outlinewidth": 0,
             "ticks": ""
            },
            "colorscale": [
             [
              0,
              "#0d0887"
             ],
             [
              0.1111111111111111,
              "#46039f"
             ],
             [
              0.2222222222222222,
              "#7201a8"
             ],
             [
              0.3333333333333333,
              "#9c179e"
             ],
             [
              0.4444444444444444,
              "#bd3786"
             ],
             [
              0.5555555555555556,
              "#d8576b"
             ],
             [
              0.6666666666666666,
              "#ed7953"
             ],
             [
              0.7777777777777778,
              "#fb9f3a"
             ],
             [
              0.8888888888888888,
              "#fdca26"
             ],
             [
              1,
              "#f0f921"
             ]
            ],
            "type": "histogram2dcontour"
           }
          ],
          "mesh3d": [
           {
            "colorbar": {
             "outlinewidth": 0,
             "ticks": ""
            },
            "type": "mesh3d"
           }
          ],
          "parcoords": [
           {
            "line": {
             "colorbar": {
              "outlinewidth": 0,
              "ticks": ""
             }
            },
            "type": "parcoords"
           }
          ],
          "pie": [
           {
            "automargin": true,
            "type": "pie"
           }
          ],
          "scatter": [
           {
            "marker": {
             "colorbar": {
              "outlinewidth": 0,
              "ticks": ""
             }
            },
            "type": "scatter"
           }
          ],
          "scatter3d": [
           {
            "line": {
             "colorbar": {
              "outlinewidth": 0,
              "ticks": ""
             }
            },
            "marker": {
             "colorbar": {
              "outlinewidth": 0,
              "ticks": ""
             }
            },
            "type": "scatter3d"
           }
          ],
          "scattercarpet": [
           {
            "marker": {
             "colorbar": {
              "outlinewidth": 0,
              "ticks": ""
             }
            },
            "type": "scattercarpet"
           }
          ],
          "scattergeo": [
           {
            "marker": {
             "colorbar": {
              "outlinewidth": 0,
              "ticks": ""
             }
            },
            "type": "scattergeo"
           }
          ],
          "scattergl": [
           {
            "marker": {
             "colorbar": {
              "outlinewidth": 0,
              "ticks": ""
             }
            },
            "type": "scattergl"
           }
          ],
          "scattermapbox": [
           {
            "marker": {
             "colorbar": {
              "outlinewidth": 0,
              "ticks": ""
             }
            },
            "type": "scattermapbox"
           }
          ],
          "scatterpolar": [
           {
            "marker": {
             "colorbar": {
              "outlinewidth": 0,
              "ticks": ""
             }
            },
            "type": "scatterpolar"
           }
          ],
          "scatterpolargl": [
           {
            "marker": {
             "colorbar": {
              "outlinewidth": 0,
              "ticks": ""
             }
            },
            "type": "scatterpolargl"
           }
          ],
          "scatterternary": [
           {
            "marker": {
             "colorbar": {
              "outlinewidth": 0,
              "ticks": ""
             }
            },
            "type": "scatterternary"
           }
          ],
          "surface": [
           {
            "colorbar": {
             "outlinewidth": 0,
             "ticks": ""
            },
            "colorscale": [
             [
              0,
              "#0d0887"
             ],
             [
              0.1111111111111111,
              "#46039f"
             ],
             [
              0.2222222222222222,
              "#7201a8"
             ],
             [
              0.3333333333333333,
              "#9c179e"
             ],
             [
              0.4444444444444444,
              "#bd3786"
             ],
             [
              0.5555555555555556,
              "#d8576b"
             ],
             [
              0.6666666666666666,
              "#ed7953"
             ],
             [
              0.7777777777777778,
              "#fb9f3a"
             ],
             [
              0.8888888888888888,
              "#fdca26"
             ],
             [
              1,
              "#f0f921"
             ]
            ],
            "type": "surface"
           }
          ],
          "table": [
           {
            "cells": {
             "fill": {
              "color": "#EBF0F8"
             },
             "line": {
              "color": "white"
             }
            },
            "header": {
             "fill": {
              "color": "#C8D4E3"
             },
             "line": {
              "color": "white"
             }
            },
            "type": "table"
           }
          ]
         },
         "layout": {
          "annotationdefaults": {
           "arrowcolor": "#2a3f5f",
           "arrowhead": 0,
           "arrowwidth": 1
          },
          "autotypenumbers": "strict",
          "coloraxis": {
           "colorbar": {
            "outlinewidth": 0,
            "ticks": ""
           }
          },
          "colorscale": {
           "diverging": [
            [
             0,
             "#8e0152"
            ],
            [
             0.1,
             "#c51b7d"
            ],
            [
             0.2,
             "#de77ae"
            ],
            [
             0.3,
             "#f1b6da"
            ],
            [
             0.4,
             "#fde0ef"
            ],
            [
             0.5,
             "#f7f7f7"
            ],
            [
             0.6,
             "#e6f5d0"
            ],
            [
             0.7,
             "#b8e186"
            ],
            [
             0.8,
             "#7fbc41"
            ],
            [
             0.9,
             "#4d9221"
            ],
            [
             1,
             "#276419"
            ]
           ],
           "sequential": [
            [
             0,
             "#0d0887"
            ],
            [
             0.1111111111111111,
             "#46039f"
            ],
            [
             0.2222222222222222,
             "#7201a8"
            ],
            [
             0.3333333333333333,
             "#9c179e"
            ],
            [
             0.4444444444444444,
             "#bd3786"
            ],
            [
             0.5555555555555556,
             "#d8576b"
            ],
            [
             0.6666666666666666,
             "#ed7953"
            ],
            [
             0.7777777777777778,
             "#fb9f3a"
            ],
            [
             0.8888888888888888,
             "#fdca26"
            ],
            [
             1,
             "#f0f921"
            ]
           ],
           "sequentialminus": [
            [
             0,
             "#0d0887"
            ],
            [
             0.1111111111111111,
             "#46039f"
            ],
            [
             0.2222222222222222,
             "#7201a8"
            ],
            [
             0.3333333333333333,
             "#9c179e"
            ],
            [
             0.4444444444444444,
             "#bd3786"
            ],
            [
             0.5555555555555556,
             "#d8576b"
            ],
            [
             0.6666666666666666,
             "#ed7953"
            ],
            [
             0.7777777777777778,
             "#fb9f3a"
            ],
            [
             0.8888888888888888,
             "#fdca26"
            ],
            [
             1,
             "#f0f921"
            ]
           ]
          },
          "colorway": [
           "#636efa",
           "#EF553B",
           "#00cc96",
           "#ab63fa",
           "#FFA15A",
           "#19d3f3",
           "#FF6692",
           "#B6E880",
           "#FF97FF",
           "#FECB52"
          ],
          "font": {
           "color": "#2a3f5f"
          },
          "geo": {
           "bgcolor": "white",
           "lakecolor": "white",
           "landcolor": "#E5ECF6",
           "showlakes": true,
           "showland": true,
           "subunitcolor": "white"
          },
          "hoverlabel": {
           "align": "left"
          },
          "hovermode": "closest",
          "mapbox": {
           "style": "light"
          },
          "paper_bgcolor": "white",
          "plot_bgcolor": "#E5ECF6",
          "polar": {
           "angularaxis": {
            "gridcolor": "white",
            "linecolor": "white",
            "ticks": ""
           },
           "bgcolor": "#E5ECF6",
           "radialaxis": {
            "gridcolor": "white",
            "linecolor": "white",
            "ticks": ""
           }
          },
          "scene": {
           "xaxis": {
            "backgroundcolor": "#E5ECF6",
            "gridcolor": "white",
            "gridwidth": 2,
            "linecolor": "white",
            "showbackground": true,
            "ticks": "",
            "zerolinecolor": "white"
           },
           "yaxis": {
            "backgroundcolor": "#E5ECF6",
            "gridcolor": "white",
            "gridwidth": 2,
            "linecolor": "white",
            "showbackground": true,
            "ticks": "",
            "zerolinecolor": "white"
           },
           "zaxis": {
            "backgroundcolor": "#E5ECF6",
            "gridcolor": "white",
            "gridwidth": 2,
            "linecolor": "white",
            "showbackground": true,
            "ticks": "",
            "zerolinecolor": "white"
           }
          },
          "shapedefaults": {
           "line": {
            "color": "#2a3f5f"
           }
          },
          "ternary": {
           "aaxis": {
            "gridcolor": "white",
            "linecolor": "white",
            "ticks": ""
           },
           "baxis": {
            "gridcolor": "white",
            "linecolor": "white",
            "ticks": ""
           },
           "bgcolor": "#E5ECF6",
           "caxis": {
            "gridcolor": "white",
            "linecolor": "white",
            "ticks": ""
           }
          },
          "title": {
           "x": 0.05
          },
          "xaxis": {
           "automargin": true,
           "gridcolor": "white",
           "linecolor": "white",
           "ticks": "",
           "title": {
            "standoff": 15
           },
           "zerolinecolor": "white",
           "zerolinewidth": 2
          },
          "yaxis": {
           "automargin": true,
           "gridcolor": "white",
           "linecolor": "white",
           "ticks": "",
           "title": {
            "standoff": 15
           },
           "zerolinecolor": "white",
           "zerolinewidth": 2
          }
         }
        },
        "xaxis": {
         "anchor": "y",
         "domain": [
          0,
          1
         ],
         "title": {
          "text": "# Components"
         }
        },
        "yaxis": {
         "anchor": "x",
         "domain": [
          0,
          1
         ],
         "title": {
          "text": "Explained Variance"
         }
        }
       }
      },
      "text/html": [
       "<div>                            <div id=\"f72c1250-94b1-4e23-b35c-a17b9e31b032\" class=\"plotly-graph-div\" style=\"height:525px; width:100%;\"></div>            <script type=\"text/javascript\">                require([\"plotly\"], function(Plotly) {                    window.PLOTLYENV=window.PLOTLYENV || {};                                    if (document.getElementById(\"f72c1250-94b1-4e23-b35c-a17b9e31b032\")) {                    Plotly.newPlot(                        \"f72c1250-94b1-4e23-b35c-a17b9e31b032\",                        [{\"hovertemplate\": \"# Components=%{x}<br>Explained Variance=%{y}<extra></extra>\", \"legendgroup\": \"\", \"line\": {\"color\": \"#636efa\"}, \"mode\": \"lines\", \"name\": \"\", \"orientation\": \"v\", \"showlegend\": false, \"stackgroup\": \"1\", \"type\": \"scatter\", \"x\": [1, 2, 3, 4, 5, 6, 7, 8, 9, 10, 11, 12, 13, 14], \"xaxis\": \"x\", \"y\": [0.40325796915735895, 0.5597022865016402, 0.6547491270872297, 0.7182924130931321, 0.7628502639759154, 0.7998908161670198, 0.8317913132824867, 0.8610155924829368, 0.8857058831851504, 0.9046481694474888, 0.9194658473782419, 0.9317937962030638, 0.9415982849251994, 0.9505006552308617], \"yaxis\": \"y\"}],                        {\"legend\": {\"tracegroupgap\": 0}, \"margin\": {\"t\": 60}, \"template\": {\"data\": {\"bar\": [{\"error_x\": {\"color\": \"#2a3f5f\"}, \"error_y\": {\"color\": \"#2a3f5f\"}, \"marker\": {\"line\": {\"color\": \"#E5ECF6\", \"width\": 0.5}}, \"type\": \"bar\"}], \"barpolar\": [{\"marker\": {\"line\": {\"color\": \"#E5ECF6\", \"width\": 0.5}}, \"type\": \"barpolar\"}], \"carpet\": [{\"aaxis\": {\"endlinecolor\": \"#2a3f5f\", \"gridcolor\": \"white\", \"linecolor\": \"white\", \"minorgridcolor\": \"white\", \"startlinecolor\": \"#2a3f5f\"}, \"baxis\": {\"endlinecolor\": \"#2a3f5f\", \"gridcolor\": \"white\", \"linecolor\": \"white\", \"minorgridcolor\": \"white\", \"startlinecolor\": \"#2a3f5f\"}, \"type\": \"carpet\"}], \"choropleth\": [{\"colorbar\": {\"outlinewidth\": 0, \"ticks\": \"\"}, \"type\": \"choropleth\"}], \"contour\": [{\"colorbar\": {\"outlinewidth\": 0, \"ticks\": \"\"}, \"colorscale\": [[0.0, \"#0d0887\"], [0.1111111111111111, \"#46039f\"], [0.2222222222222222, \"#7201a8\"], [0.3333333333333333, \"#9c179e\"], [0.4444444444444444, \"#bd3786\"], [0.5555555555555556, \"#d8576b\"], [0.6666666666666666, \"#ed7953\"], [0.7777777777777778, \"#fb9f3a\"], [0.8888888888888888, \"#fdca26\"], [1.0, \"#f0f921\"]], \"type\": \"contour\"}], \"contourcarpet\": [{\"colorbar\": {\"outlinewidth\": 0, \"ticks\": \"\"}, \"type\": \"contourcarpet\"}], \"heatmap\": [{\"colorbar\": {\"outlinewidth\": 0, \"ticks\": \"\"}, \"colorscale\": [[0.0, \"#0d0887\"], [0.1111111111111111, \"#46039f\"], [0.2222222222222222, \"#7201a8\"], [0.3333333333333333, \"#9c179e\"], [0.4444444444444444, \"#bd3786\"], [0.5555555555555556, \"#d8576b\"], [0.6666666666666666, \"#ed7953\"], [0.7777777777777778, \"#fb9f3a\"], [0.8888888888888888, \"#fdca26\"], [1.0, \"#f0f921\"]], \"type\": \"heatmap\"}], \"heatmapgl\": [{\"colorbar\": {\"outlinewidth\": 0, \"ticks\": \"\"}, \"colorscale\": [[0.0, \"#0d0887\"], [0.1111111111111111, \"#46039f\"], [0.2222222222222222, \"#7201a8\"], [0.3333333333333333, \"#9c179e\"], [0.4444444444444444, \"#bd3786\"], [0.5555555555555556, \"#d8576b\"], [0.6666666666666666, \"#ed7953\"], [0.7777777777777778, \"#fb9f3a\"], [0.8888888888888888, \"#fdca26\"], [1.0, \"#f0f921\"]], \"type\": \"heatmapgl\"}], \"histogram\": [{\"marker\": {\"colorbar\": {\"outlinewidth\": 0, \"ticks\": \"\"}}, \"type\": \"histogram\"}], \"histogram2d\": [{\"colorbar\": {\"outlinewidth\": 0, \"ticks\": \"\"}, \"colorscale\": [[0.0, \"#0d0887\"], [0.1111111111111111, \"#46039f\"], [0.2222222222222222, \"#7201a8\"], [0.3333333333333333, \"#9c179e\"], [0.4444444444444444, \"#bd3786\"], [0.5555555555555556, \"#d8576b\"], [0.6666666666666666, \"#ed7953\"], [0.7777777777777778, \"#fb9f3a\"], [0.8888888888888888, \"#fdca26\"], [1.0, \"#f0f921\"]], \"type\": \"histogram2d\"}], \"histogram2dcontour\": [{\"colorbar\": {\"outlinewidth\": 0, \"ticks\": \"\"}, \"colorscale\": [[0.0, \"#0d0887\"], [0.1111111111111111, \"#46039f\"], [0.2222222222222222, \"#7201a8\"], [0.3333333333333333, \"#9c179e\"], [0.4444444444444444, \"#bd3786\"], [0.5555555555555556, \"#d8576b\"], [0.6666666666666666, \"#ed7953\"], [0.7777777777777778, \"#fb9f3a\"], [0.8888888888888888, \"#fdca26\"], [1.0, \"#f0f921\"]], \"type\": \"histogram2dcontour\"}], \"mesh3d\": [{\"colorbar\": {\"outlinewidth\": 0, \"ticks\": \"\"}, \"type\": \"mesh3d\"}], \"parcoords\": [{\"line\": {\"colorbar\": {\"outlinewidth\": 0, \"ticks\": \"\"}}, \"type\": \"parcoords\"}], \"pie\": [{\"automargin\": true, \"type\": \"pie\"}], \"scatter\": [{\"marker\": {\"colorbar\": {\"outlinewidth\": 0, \"ticks\": \"\"}}, \"type\": \"scatter\"}], \"scatter3d\": [{\"line\": {\"colorbar\": {\"outlinewidth\": 0, \"ticks\": \"\"}}, \"marker\": {\"colorbar\": {\"outlinewidth\": 0, \"ticks\": \"\"}}, \"type\": \"scatter3d\"}], \"scattercarpet\": [{\"marker\": {\"colorbar\": {\"outlinewidth\": 0, \"ticks\": \"\"}}, \"type\": \"scattercarpet\"}], \"scattergeo\": [{\"marker\": {\"colorbar\": {\"outlinewidth\": 0, \"ticks\": \"\"}}, \"type\": \"scattergeo\"}], \"scattergl\": [{\"marker\": {\"colorbar\": {\"outlinewidth\": 0, \"ticks\": \"\"}}, \"type\": \"scattergl\"}], \"scattermapbox\": [{\"marker\": {\"colorbar\": {\"outlinewidth\": 0, \"ticks\": \"\"}}, \"type\": \"scattermapbox\"}], \"scatterpolar\": [{\"marker\": {\"colorbar\": {\"outlinewidth\": 0, \"ticks\": \"\"}}, \"type\": \"scatterpolar\"}], \"scatterpolargl\": [{\"marker\": {\"colorbar\": {\"outlinewidth\": 0, \"ticks\": \"\"}}, \"type\": \"scatterpolargl\"}], \"scatterternary\": [{\"marker\": {\"colorbar\": {\"outlinewidth\": 0, \"ticks\": \"\"}}, \"type\": \"scatterternary\"}], \"surface\": [{\"colorbar\": {\"outlinewidth\": 0, \"ticks\": \"\"}, \"colorscale\": [[0.0, \"#0d0887\"], [0.1111111111111111, \"#46039f\"], [0.2222222222222222, \"#7201a8\"], [0.3333333333333333, \"#9c179e\"], [0.4444444444444444, \"#bd3786\"], [0.5555555555555556, \"#d8576b\"], [0.6666666666666666, \"#ed7953\"], [0.7777777777777778, \"#fb9f3a\"], [0.8888888888888888, \"#fdca26\"], [1.0, \"#f0f921\"]], \"type\": \"surface\"}], \"table\": [{\"cells\": {\"fill\": {\"color\": \"#EBF0F8\"}, \"line\": {\"color\": \"white\"}}, \"header\": {\"fill\": {\"color\": \"#C8D4E3\"}, \"line\": {\"color\": \"white\"}}, \"type\": \"table\"}]}, \"layout\": {\"annotationdefaults\": {\"arrowcolor\": \"#2a3f5f\", \"arrowhead\": 0, \"arrowwidth\": 1}, \"autotypenumbers\": \"strict\", \"coloraxis\": {\"colorbar\": {\"outlinewidth\": 0, \"ticks\": \"\"}}, \"colorscale\": {\"diverging\": [[0, \"#8e0152\"], [0.1, \"#c51b7d\"], [0.2, \"#de77ae\"], [0.3, \"#f1b6da\"], [0.4, \"#fde0ef\"], [0.5, \"#f7f7f7\"], [0.6, \"#e6f5d0\"], [0.7, \"#b8e186\"], [0.8, \"#7fbc41\"], [0.9, \"#4d9221\"], [1, \"#276419\"]], \"sequential\": [[0.0, \"#0d0887\"], [0.1111111111111111, \"#46039f\"], [0.2222222222222222, \"#7201a8\"], [0.3333333333333333, \"#9c179e\"], [0.4444444444444444, \"#bd3786\"], [0.5555555555555556, \"#d8576b\"], [0.6666666666666666, \"#ed7953\"], [0.7777777777777778, \"#fb9f3a\"], [0.8888888888888888, \"#fdca26\"], [1.0, \"#f0f921\"]], \"sequentialminus\": [[0.0, \"#0d0887\"], [0.1111111111111111, \"#46039f\"], [0.2222222222222222, \"#7201a8\"], [0.3333333333333333, \"#9c179e\"], [0.4444444444444444, \"#bd3786\"], [0.5555555555555556, \"#d8576b\"], [0.6666666666666666, \"#ed7953\"], [0.7777777777777778, \"#fb9f3a\"], [0.8888888888888888, \"#fdca26\"], [1.0, \"#f0f921\"]]}, \"colorway\": [\"#636efa\", \"#EF553B\", \"#00cc96\", \"#ab63fa\", \"#FFA15A\", \"#19d3f3\", \"#FF6692\", \"#B6E880\", \"#FF97FF\", \"#FECB52\"], \"font\": {\"color\": \"#2a3f5f\"}, \"geo\": {\"bgcolor\": \"white\", \"lakecolor\": \"white\", \"landcolor\": \"#E5ECF6\", \"showlakes\": true, \"showland\": true, \"subunitcolor\": \"white\"}, \"hoverlabel\": {\"align\": \"left\"}, \"hovermode\": \"closest\", \"mapbox\": {\"style\": \"light\"}, \"paper_bgcolor\": \"white\", \"plot_bgcolor\": \"#E5ECF6\", \"polar\": {\"angularaxis\": {\"gridcolor\": \"white\", \"linecolor\": \"white\", \"ticks\": \"\"}, \"bgcolor\": \"#E5ECF6\", \"radialaxis\": {\"gridcolor\": \"white\", \"linecolor\": \"white\", \"ticks\": \"\"}}, \"scene\": {\"xaxis\": {\"backgroundcolor\": \"#E5ECF6\", \"gridcolor\": \"white\", \"gridwidth\": 2, \"linecolor\": \"white\", \"showbackground\": true, \"ticks\": \"\", \"zerolinecolor\": \"white\"}, \"yaxis\": {\"backgroundcolor\": \"#E5ECF6\", \"gridcolor\": \"white\", \"gridwidth\": 2, \"linecolor\": \"white\", \"showbackground\": true, \"ticks\": \"\", \"zerolinecolor\": \"white\"}, \"zaxis\": {\"backgroundcolor\": \"#E5ECF6\", \"gridcolor\": \"white\", \"gridwidth\": 2, \"linecolor\": \"white\", \"showbackground\": true, \"ticks\": \"\", \"zerolinecolor\": \"white\"}}, \"shapedefaults\": {\"line\": {\"color\": \"#2a3f5f\"}}, \"ternary\": {\"aaxis\": {\"gridcolor\": \"white\", \"linecolor\": \"white\", \"ticks\": \"\"}, \"baxis\": {\"gridcolor\": \"white\", \"linecolor\": \"white\", \"ticks\": \"\"}, \"bgcolor\": \"#E5ECF6\", \"caxis\": {\"gridcolor\": \"white\", \"linecolor\": \"white\", \"ticks\": \"\"}}, \"title\": {\"x\": 0.05}, \"xaxis\": {\"automargin\": true, \"gridcolor\": \"white\", \"linecolor\": \"white\", \"ticks\": \"\", \"title\": {\"standoff\": 15}, \"zerolinecolor\": \"white\", \"zerolinewidth\": 2}, \"yaxis\": {\"automargin\": true, \"gridcolor\": \"white\", \"linecolor\": \"white\", \"ticks\": \"\", \"title\": {\"standoff\": 15}, \"zerolinecolor\": \"white\", \"zerolinewidth\": 2}}}, \"xaxis\": {\"anchor\": \"y\", \"domain\": [0.0, 1.0], \"title\": {\"text\": \"# Components\"}}, \"yaxis\": {\"anchor\": \"x\", \"domain\": [0.0, 1.0], \"title\": {\"text\": \"Explained Variance\"}}},                        {\"responsive\": true}                    ).then(function(){\n",
       "                            \n",
       "var gd = document.getElementById('f72c1250-94b1-4e23-b35c-a17b9e31b032');\n",
       "var x = new MutationObserver(function (mutations, observer) {{\n",
       "        var display = window.getComputedStyle(gd).display;\n",
       "        if (!display || display === 'none') {{\n",
       "            console.log([gd, 'removed!']);\n",
       "            Plotly.purge(gd);\n",
       "            observer.disconnect();\n",
       "        }}\n",
       "}});\n",
       "\n",
       "// Listen for the removal of the full notebook cells\n",
       "var notebookContainer = gd.closest('#notebook-container');\n",
       "if (notebookContainer) {{\n",
       "    x.observe(notebookContainer, {childList: true});\n",
       "}}\n",
       "\n",
       "// Listen for the clearing of the current output cell\n",
       "var outputEl = gd.closest('.output');\n",
       "if (outputEl) {{\n",
       "    x.observe(outputEl, {childList: true});\n",
       "}}\n",
       "\n",
       "                        })                };                });            </script>        </div>"
      ]
     },
     "metadata": {},
     "output_type": "display_data"
    }
   ],
   "source": [
    "pca = PCA(.95)\n",
    "principalComponents = pca.fit_transform(dataset_np)\n",
    "principalDf = pd.DataFrame(data = principalComponents)\n",
    "exp_var_cumul = np.cumsum(pca.explained_variance_ratio_)\n",
    "\n",
    "px.area(\n",
    "    x=range(1, exp_var_cumul.shape[0] + 1),\n",
    "    y=exp_var_cumul,\n",
    "    labels={\"x\": \"# Components\", \"y\": \"Explained Variance\"}\n",
    ")"
   ]
  },
  {
   "cell_type": "markdown",
   "metadata": {},
   "source": [
    "Percentage of variance explained by each of the selected components"
   ]
  },
  {
   "cell_type": "code",
   "execution_count": 254,
   "metadata": {},
   "outputs": [
    {
     "name": "stdout",
     "output_type": "stream",
     "text": [
      "[0.40325797 0.15644432 0.09504684 0.06354329 0.04455785 0.03704055\n",
      " 0.0319005  0.02922428 0.02469029 0.01894229 0.01481768 0.01232795\n",
      " 0.00980449 0.00890237]\n"
     ]
    }
   ],
   "source": [
    "print(pca.explained_variance_ratio_)"
   ]
  },
  {
   "cell_type": "code",
   "execution_count": null,
   "metadata": {},
   "outputs": [],
   "source": []
  }
 ],
 "metadata": {
  "kernelspec": {
   "display_name": "Python 3",
   "language": "python",
   "name": "python3"
  },
  "language_info": {
   "codemirror_mode": {
    "name": "ipython",
    "version": 3
   },
   "file_extension": ".py",
   "mimetype": "text/x-python",
   "name": "python",
   "nbconvert_exporter": "python",
   "pygments_lexer": "ipython3",
   "version": "3.8.5"
  }
 },
 "nbformat": 4,
 "nbformat_minor": 5
}
