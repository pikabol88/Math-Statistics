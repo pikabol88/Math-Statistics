{
 "cells": [
  {
   "cell_type": "code",
   "execution_count": 1,
   "metadata": {},
   "outputs": [],
   "source": [
    "import numpy as np\n",
    "import matplotlib.pyplot as plt\n",
    "import scipy.stats as stats\n",
    "import scipy.optimize as opt"
   ]
  },
  {
   "cell_type": "markdown",
   "metadata": {},
   "source": [
    "## Постановка задачи:\n",
    "Найти оценки коэффициентов линейной регрессии $$y_i = a + bx_i + e_i$$ используя 20 точек на отрезке $[-1.8; 2]$ с равномерным шагом равным 0.2. Ошибку $e_i$ считать нормально распределённой с параметрами (0,1). \n",
    "В качестве эталонной зависимости взять $$y_i = 2 + 2x_i + e_i$$\n",
    "При построении оценок коэффициентов использовать два критерия: критерий наименьших квадратов и критерий наименьших модулей. Проделать то же самое для выборки, у которой в значения $𝑦_1$ и $𝑦_{20}$ вносятся возмущения 10 и -10\n"
   ]
  },
  {
   "cell_type": "code",
   "execution_count": 2,
   "metadata": {},
   "outputs": [],
   "source": [
    "points = 20\n",
    "start, end = -1.8, 2\n",
    "step = 0.2\n",
    "mu, sigma_squared = 0, 1\n",
    "perturbations = [10, -10]  \n",
    "\n",
    "\n",
    "coefs = 2, 2"
   ]
  },
  {
   "cell_type": "markdown",
   "metadata": {},
   "source": [
    "## Метод наименьших квадратов"
   ]
  },
  {
   "cell_type": "code",
   "execution_count": 3,
   "metadata": {},
   "outputs": [],
   "source": [
    "def LST(x,y):\n",
    "    b1 = (np.mean(x * y) - np.mean(x) * np.mean(y)) / (np.mean(x * x) - np.mean(x) ** 2)\n",
    "    b0 = np.mean(y) - b1 * np.mean(x)\n",
    "    return b0, b1"
   ]
  },
  {
   "cell_type": "markdown",
   "metadata": {},
   "source": [
    "## Метод наименьших модулей"
   ]
  },
  {
   "cell_type": "code",
   "execution_count": 10,
   "metadata": {},
   "outputs": [],
   "source": [
    "def LMT(x,y, initial):\n",
    "    fun = lambda beta: np.sum(np.abs(y - beta[0] - beta[1] * x))\n",
    "    result = opt.minimize(fun, initial)\n",
    "    b0 = result['x'][0]\n",
    "    b1 = result['x'][1]\n",
    "    return b0,b1\n"
   ]
  },
  {
   "cell_type": "markdown",
   "metadata": {},
   "source": [
    "## Оценки коэффициентов линейной регрессии"
   ]
  },
  {
   "cell_type": "code",
   "execution_count": 11,
   "metadata": {},
   "outputs": [],
   "source": [
    "def find_all_coefs(x,y):\n",
    "    bs0, bs1 = LST(x, y)\n",
    "    bm0, bm1 = LMT(x, y, np.array([bs0, bs1]))\n",
    "    return  bs0, bs1, bm0, bm1"
   ]
  },
  {
   "cell_type": "code",
   "execution_count": 15,
   "metadata": {},
   "outputs": [],
   "source": [
    "def printResults(type, all_coef):\n",
    "    bs0, bs1, bm0, bm1 = all_coef\n",
    "    print(type)\n",
    "    print(\"Критерий наименьших квадратов\")\n",
    "    print('a_lst = ' + str(np.around(bs0, decimals=2)))\n",
    "    print('b_lst = ' + str(np.around(bs1, decimals=2)))\n",
    "    print(\"Критерий наименьших модулей\")\n",
    "    print('a_lmt = ' + str(np.around(bm0, decimals=2)))\n",
    "    print('b_lmt = ' + str(np.around(bm1, decimals=2)))"
   ]
  },
  {
   "cell_type": "code",
   "execution_count": 23,
   "metadata": {},
   "outputs": [],
   "source": [
    "def criteriaComparison(x, all_coef):\n",
    "    a_lst, b_lst, a_lmt, b_lmt = all_coef\n",
    "    model = lambda x: coefs[0] + coefs[1] * x\n",
    "    lsc = lambda x: a_lst + b_lst * x\n",
    "    lmc = lambda x: a_lmt + b_lmt * x\n",
    "    \n",
    "    sum_lst, sum_lmt = 0, 0\n",
    "    for el in x:\n",
    "        y_lst = lsc(el)\n",
    "        y_lmt = lmc(el)\n",
    "        y_model = model(el)\n",
    "        sum_lst += pow(y_model - y_lst, 2)\n",
    "        sum_lmt += pow(y_model - y_lmt, 2)\n",
    "        \n",
    "    if sum_lst < sum_lmt:\n",
    "        print(\"LS approximate better! - \", sum_lst, \" < \", sum_lmt) \n",
    "    else:\n",
    "        print(\"LM approximates better! - \", sum_lmt, \" < \", sum_lst)"
   ]
  },
  {
   "cell_type": "code",
   "execution_count": 57,
   "metadata": {},
   "outputs": [],
   "source": [
    "def plotRegression(x, y, type, estimates):\n",
    "    a_ls, b_ls, a_lm, b_lm = estimates\n",
    "    plt.scatter(x, y, label=\"Sample\", edgecolor='gray', color = 'gray')\n",
    "    plt.plot(x, x * (2 * np.ones(len(x))) + 2 * np.ones(len(x)), label='Model', color='black')\n",
    "    plt.plot(x, x * (b_ls * np.ones(len(x))) + a_ls * np.ones(len(x)), label='Least Squares', color='aqua')\n",
    "    plt.plot(x, x * (b_lm * np.ones(len(x))) + a_lm * np.ones(len(x)), label='Least Modulo', color='blue')\n",
    "    plt.xlabel(\"x\")\n",
    "    plt.ylabel(\"y\")\n",
    "    plt.xlim([-1.8, 2])\n",
    "    plt.legend()\n",
    "    plt.title(type)\n",
    "    plt.savefig(type + '.png', format='png')\n",
    "    plt.show()\n",
    "    plt.close()"
   ]
  },
  {
   "cell_type": "markdown",
   "metadata": {},
   "source": [
    "## Выборка без возмущений"
   ]
  },
  {
   "cell_type": "code",
   "execution_count": 58,
   "metadata": {
    "scrolled": false
   },
   "outputs": [
    {
     "name": "stdout",
     "output_type": "stream",
     "text": [
      "WITHOUT PERTURBATIONS\n",
      "Критерий наименьших квадратов\n",
      "a_lst = 1.82\n",
      "b_lst = 2.46\n",
      "Критерий наименьших модулей\n",
      "a_lmt = 1.85\n",
      "b_lmt = 2.49\n",
      "LS approximate better! -  5.921355431686597  <  6.484655863694067\n"
     ]
    },
    {
     "data": {
      "image/png": "[encoded data removed]",
      "text/plain": [
       "<Figure size 432x288 with 1 Axes>"
      ]
     },
     "metadata": {
      "needs_background": "light"
     },
     "output_type": "display_data"
    },
    {
     "name": "stdout",
     "output_type": "stream",
     "text": [
      "\n",
      "\n"
     ]
    }
   ],
   "source": [
    "x = np.linspace(start, end, points)\n",
    "y = coefs[0] + coefs[1] * x + stats.norm(0, 1).rvs(points)\n",
    "mode = 'WITHOUT PERTURBATIONS'\n",
    "all_coefs = find_all_coefs(x, y)\n",
    "printResults(mode, all_coefs)    \n",
    "criteriaComparison(x, all_coefs)\n",
    "plotRegression(x, y, mode, all_coefs)\n",
    "print(\"\\n\")"
   ]
  },
  {
   "cell_type": "markdown",
   "metadata": {},
   "source": [
    "## Выборка c возмущениями"
   ]
  },
  {
   "cell_type": "code",
   "execution_count": 59,
   "metadata": {},
   "outputs": [
    {
     "name": "stdout",
     "output_type": "stream",
     "text": [
      "WITH PERTURBATIONS\n",
      "Критерий наименьших квадратов\n",
      "a_lst = 1.96\n",
      "b_lst = 1.03\n",
      "Критерий наименьших модулей\n",
      "a_lmt = 1.56\n",
      "b_lmt = 1.86\n",
      "LM approximates better! -  4.660476924677528  <  25.511327099183575\n"
     ]
    },
    {
     "data": {
      "image/png": "[encoded data removed]",
      "text/plain": [
       "<Figure size 432x288 with 1 Axes>"
      ]
     },
     "metadata": {
      "needs_background": "light"
     },
     "output_type": "display_data"
    },
    {
     "name": "stdout",
     "output_type": "stream",
     "text": [
      "\n",
      "\n"
     ]
    }
   ],
   "source": [
    "mode = 'WITH PERTURBATIONS'\n",
    "y[0] += perturbations[0]\n",
    "y[-1] += perturbations[1]\n",
    "all_coefs = find_all_coefs(x, y)\n",
    "printResults(mode, all_coefs)    \n",
    "criteriaComparison(x, all_coefs)\n",
    "plotRegression(x, y, mode, all_coefs)\n",
    "print(\"\\n\")"
   ]
  },
  {
   "cell_type": "code",
   "execution_count": null,
   "metadata": {},
   "outputs": [],
   "source": []
  }
 ],
 "metadata": {
  "kernelspec": {
   "display_name": "Python 3",
   "language": "python",
   "name": "python3"
  },
  "language_info": {
   "codemirror_mode": {
    "name": "ipython",
    "version": 3
   },
   "file_extension": ".py",
   "mimetype": "text/x-python",
   "name": "python",
   "nbconvert_exporter": "python",
   "pygments_lexer": "ipython3",
   "version": "3.8.5"
  }
 },
 "nbformat": 4,
 "nbformat_minor": 4
}
