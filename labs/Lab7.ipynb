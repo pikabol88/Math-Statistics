{
 "cells": [
  {
   "cell_type": "code",
   "execution_count": 64,
   "metadata": {},
   "outputs": [],
   "source": [
    "import numpy as np\n",
    "import matplotlib.pyplot as plt\n",
    "import scipy.stats as stats\n",
    "import scipy.optimize as opt\n",
    "from tabulate import tabulate\n",
    "from scipy.stats import laplace, uniform\n",
    "import math"
   ]
  },
  {
   "cell_type": "markdown",
   "metadata": {},
   "source": [
    "## Постановка задачи:\n",
    "Сгенерировать выборку объёмом $100$ элементов для нормального распределения $N(x,0,1).$ \n",
    "\n",
    "По сгенерированной выборке оценить параметры $\\mu$ и $\\sigma$ нормального закона методом максимального правдоподобия. В качестве основной гипотезы $H_{0}$ будем считать, что сгенерированное распределение имеет вид $N(x,\\hat{\\mu}, \\hat{\\sigma})$. Проверить основную гипотезу, используя критерий согласия $\\chi^{2}$. В качестве уровня значимости взять $\\alpha = 0.05$. Привести таблицу вычислений $\\chi^{2}$. \n",
    "\n",
    "\n",
    "Сгенерировать выборку объемом $20$ элементов для распределения Лапласа. Проверить гипотезу $H_0^*$ нормальности этой выборки, используя критерий согласия $\\chi^{2}$.\n",
    "\t\n"
   ]
  },
  {
   "cell_type": "code",
   "execution_count": 130,
   "metadata": {},
   "outputs": [],
   "source": [
    "points = 20\n",
    "sample_size_normal = 100\n",
    "sample_size_laplace = sample_size_uniform = 20\n",
    "start, end = -1.5, 1.5\n",
    "alpha = 0.05\n",
    "p_ = 1 - alpha\n",
    "\n",
    "mu_, sigma_squared = 0, 1\n",
    "\n",
    "\n",
    "def find_k(size):\n",
    "    return math.ceil(1.72 * (size) ** (1/3))"
   ]
  },
  {
   "cell_type": "markdown",
   "metadata": {},
   "source": [
    "## Метод максимального правдоподобия"
   ]
  },
  {
   "cell_type": "code",
   "execution_count": 131,
   "metadata": {},
   "outputs": [],
   "source": [
    "def max_likelihood_estimation(sample):\n",
    "    mu = np.mean(sample)\n",
    "    sigma = np.std(sample)\n",
    "    print(\"mu = \", np.around(mu, decimals=2),\n",
    "          \" sigma=\", np.around(sigma, decimals=2))\n",
    "    return mu, sigma"
   ]
  },
  {
   "cell_type": "markdown",
   "metadata": {},
   "source": [
    "## Критерий согласия $\\chi^{2}$"
   ]
  },
  {
   "cell_type": "code",
   "execution_count": 139,
   "metadata": {},
   "outputs": [],
   "source": [
    "def calculate_chi2(p,n,sample_size):\n",
    "    tmp = np.multiply((n - sample_size * p), (n - sample_size * p))\n",
    "    chi2 = np.divide(tmp, p * sample_size)\n",
    "    return chi2\n",
    "\n",
    "def is_hypo_accepted(quantile, chi2):\n",
    "    if quantile > np.sum(chi2):\n",
    "        return True\n",
    "    return False\n",
    "\n",
    "def find_all_probabilities(borders, hypothesis, sample):\n",
    "    p = np.array(hypothesis(start))\n",
    "    n = np.array(len(sample[sample < start]))\n",
    "\n",
    "    for i in range(k - 2):\n",
    "        p_i = hypothesis(borders[i + 1]) - hypothesis(borders[i])\n",
    "        p = np.append(p, p_i)\n",
    "        n_i = len(sample[(sample < borders[i + 1]) & (sample >= borders[i])])\n",
    "        n = np.append(n, n_i)\n",
    "\n",
    "    p = np.append(p, 1 - hypothesis(end))\n",
    "    n = np.append(n, len(sample[sample >= end]))\n",
    "    \n",
    "    return p,n\n",
    "\n",
    "    \n",
    "def chi_square_criterion(sample, mu, sigma):\n",
    "    hypothesis = lambda x: stats.norm.cdf(x, loc=mu, scale=sigma)\n",
    "    borders = np.linspace(start, end, num=k - 1)\n",
    "    p,n = find_all_probabilities(borders, hypothesis, sample)\n",
    "    chi2 = calculate_chi2(p,n, len(sample))\n",
    "    quantile = stats.chi2.ppf(p_, k - 1)\n",
    "    isAccepted = is_hypo_accepted(quantile, chi2)\n",
    "    return chi2, isAccepted, borders, p, n"
   ]
  },
  {
   "cell_type": "markdown",
   "metadata": {},
   "source": [
    "## Вывод результатов в таблицу"
   ]
  },
  {
   "cell_type": "code",
   "execution_count": 154,
   "metadata": {},
   "outputs": [],
   "source": [
    "def build_table(chi2, borders, p, n, sample_size):\n",
    "    rows = []\n",
    "    headers = [\"$i$\", \"$\\\\Delta_i = [a_{i-1}, a_i)$\", \"$n_i$\", \"$p_i$\",\n",
    "               \"$np_i$\", \"$n_i - np_i$\", \"$(n_i - np_i)^2/np_i$\"]   \n",
    "    for i in range(0, len(n)):\n",
    "        if i == 0:\n",
    "            limits = [\"$-\\infty$\", np.around(borders[0], decimals=2)]\n",
    "        elif i == len(n) - 1:\n",
    "            limits = [np.around(borders[-1], decimals=2), \"$\\infty$\"]\n",
    "        else:\n",
    "            limits = [np.around(borders[i - 1], decimals=2), np.around(borders[i], decimals=2)]\n",
    "        rows.append([i + 1, limits, n[i],\n",
    "             np.around(p[i], decimals=4),\n",
    "             np.around(p[i] * sample_size, decimals=2),\n",
    "             np.around(n[i] - sample_size * p[i], decimals=2),\n",
    "             np.around(chi2[i], decimals=2)] )\n",
    "    rows.append([\"\\\\sum\", \"--\", np.sum(n), np.around(np.sum(p), decimals=4),\n",
    "                 np.around(np.sum(p * sample_size), decimals=2),\n",
    "                 -np.around(np.sum(n - sample_size * p), decimals=2),\n",
    "                 np.around(np.sum(chi2), decimals=2)]\n",
    "    )\n",
    "    return tabulate(rows, headers, tablefmt=\"latex_raw\")\n"
   ]
  },
  {
   "cell_type": "code",
   "execution_count": 155,
   "metadata": {},
   "outputs": [],
   "source": [
    "def checkAcception(isAccepted):\n",
    "    if isAccepted:\n",
    "        print(\"\\nHypothesis Accepted!\")\n",
    "    else:\n",
    "        print(\"\\nHypothesis Not Accepted!\")"
   ]
  },
  {
   "cell_type": "markdown",
   "metadata": {},
   "source": [
    "### Нормальное распределение"
   ]
  },
  {
   "cell_type": "code",
   "execution_count": 156,
   "metadata": {},
   "outputs": [
    {
     "name": "stdout",
     "output_type": "stream",
     "text": [
      "mu =  0.04  sigma= 0.86\n",
      "\\begin{tabular}{llrrrrr}\n",
      "\\hline\n",
      " $i$   & $\\Delta_i = [a_{i-1}, a_i)$   &   $n_i$ &   $p_i$ &   $np_i$ &   $n_i - np_i$ &   $(n_i - np_i)^2/np_i$ \\\\\n",
      "\\hline\n",
      " 1     & ['$-\\\\infty$', -1.5]          &       4 &  0.0364 &     3.64 &           0.36 &                    0.04 \\\\\n",
      " 2     & [-1.5, -1.0]                  &       7 &  0.0764 &     7.64 &          -0.64 &                    0.05 \\\\\n",
      " 3     & [-1.0, -0.5]                  &      12 &  0.1518 &    15.18 &          -3.18 &                    0.67 \\\\\n",
      " 4     & [-0.5, 0.0]                   &      27 &  0.2168 &    21.68 &           5.32 &                    1.31 \\\\\n",
      " 5     & [0.0, 0.5]                    &      25 &  0.2226 &    22.26 &           2.74 &                    0.34 \\\\\n",
      " 6     & [0.5, 1.0]                    &      14 &  0.1643 &    16.43 &          -2.43 &                    0.36 \\\\\n",
      " 7     & [1.0, 1.5]                    &       6 &  0.0872 &     8.72 &          -2.72 &                    0.85 \\\\\n",
      " 8     & [1.5, '$\\\\infty$']            &       5 &  0.0445 &     4.45 &           0.55 &                    0.07 \\\\\n",
      " \\sum  & --                            &     100 &  1      &   100    &           0    &                    3.68 \\\\\n",
      "\\hline\n",
      "\\end{tabular}\n",
      "\n",
      "Hypothesis Accepted!\n"
     ]
    }
   ],
   "source": [
    "k = find_k(sample_size_normal)\n",
    "normal_sample = np.random.normal(0, 1 , sample_size_normal)\n",
    "mu, sigma = max_likelihood_estimation(normal_sample)\n",
    "chi2, isAccepted, borders, p, n = chi_square_criterion(normal_sample, mu, sigma)\n",
    "print(build_table(chi2, borders, p, n, 100))\n",
    "checkAcception(isAccepted)"
   ]
  },
  {
   "cell_type": "markdown",
   "metadata": {},
   "source": [
    "### Распределение Лапласа"
   ]
  },
  {
   "cell_type": "code",
   "execution_count": 157,
   "metadata": {},
   "outputs": [
    {
     "name": "stdout",
     "output_type": "stream",
     "text": [
      "mu =  -0.21  sigma= 1.01\n",
      "\\begin{tabular}{llrrrrr}\n",
      "\\hline\n",
      " $i$   & $\\Delta_i = [a_{i-1}, a_i)$   &   $n_i$ &   $p_i$ &   $np_i$ &   $n_i - np_i$ &   $(n_i - np_i)^2/np_i$ \\\\\n",
      "\\hline\n",
      " 1     & ['$-\\\\infty$', -1.5]          &       2 &  0.101  &     2.02 &          -0.02 &                    0    \\\\\n",
      " 2     & [-1.5, -0.5]                  &       5 &  0.2854 &     5.71 &          -0.71 &                    0.09 \\\\\n",
      " 3     & [-0.5, 0.5]                   &       8 &  0.3711 &     7.42 &           0.58 &                    0.04 \\\\\n",
      " 4     & [0.5, 1.5]                    &       5 &  0.1965 &     3.93 &           1.07 &                    0.29 \\\\\n",
      " 5     & [1.5, '$\\\\infty$']            &       0 &  0.0459 &     0.92 &          -0.92 &                    0.92 \\\\\n",
      " \\sum  & --                            &      20 &  1      &    20    &          -0    &                    1.34 \\\\\n",
      "\\hline\n",
      "\\end{tabular}\n",
      "\n",
      "Hypothesis Accepted!\n"
     ]
    }
   ],
   "source": [
    "k = find_k(sample_size_laplace)\n",
    "laplace_sample = distribution = laplace.rvs(size=20, scale=1 / math.sqrt(2), loc=0)\n",
    "mu, sigma = max_likelihood_estimation(laplace_sample)\n",
    "chi2, isAccepted, borders, p, n = chi_square_criterion(laplace_sample, mu, sigma)\n",
    "print(build_table(chi2, borders, p, n,20 ))\n",
    "checkAcception(isAccepted)"
   ]
  },
  {
   "cell_type": "markdown",
   "metadata": {},
   "source": [
    "### Равномерное распределение"
   ]
  },
  {
   "cell_type": "code",
   "execution_count": 158,
   "metadata": {},
   "outputs": [
    {
     "name": "stdout",
     "output_type": "stream",
     "text": [
      "mu =  -0.0  sigma= 0.97\n",
      "\\begin{tabular}{llrrrrr}\n",
      "\\hline\n",
      " $i$   & $\\Delta_i = [a_{i-1}, a_i)$   &   $n_i$ &   $p_i$ &   $np_i$ &   $n_i - np_i$ &   $(n_i - np_i)^2/np_i$ \\\\\n",
      "\\hline\n",
      " 1     & ['$-\\\\infty$', -1.5]          &       0 &  0.062  &     1.24 &          -1.24 &                    1.24 \\\\\n",
      " 2     & [-1.5, -0.5]                  &       6 &  0.2421 &     4.84 &           1.16 &                    0.28 \\\\\n",
      " 3     & [-0.5, 0.5]                   &       9 &  0.392  &     7.84 &           1.16 &                    0.17 \\\\\n",
      " 4     & [0.5, 1.5]                    &       4 &  0.242  &     4.84 &          -0.84 &                    0.15 \\\\\n",
      " 5     & [1.5, '$\\\\infty$']            &       1 &  0.0619 &     1.24 &          -0.24 &                    0.05 \\\\\n",
      " \\sum  & --                            &      20 &  1      &    20    &           0    &                    1.88 \\\\\n",
      "\\hline\n",
      "\\end{tabular}\n",
      "\n",
      "Hypothesis Accepted!\n"
     ]
    }
   ],
   "source": [
    "k = find_k(sample_size_uniform)\n",
    "uniform_sample = distribution =  uniform.rvs(size=20, loc=-math.sqrt(3), scale=2 * math.sqrt(3))\n",
    "mu, sigma = max_likelihood_estimation(uniform_sample)\n",
    "chi2, isAccepted, borders, p, n = chi_square_criterion(uniform_sample, mu, sigma)\n",
    "print(build_table(chi2, borders, p, n, 20))\n",
    "checkAcception(isAccepted)"
   ]
  },
  {
   "cell_type": "code",
   "execution_count": null,
   "metadata": {},
   "outputs": [],
   "source": []
  }
 ],
 "metadata": {
  "kernelspec": {
   "display_name": "Python 3",
   "language": "python",
   "name": "python3"
  },
  "language_info": {
   "codemirror_mode": {
    "name": "ipython",
    "version": 3
   },
   "file_extension": ".py",
   "mimetype": "text/x-python",
   "name": "python",
   "nbconvert_exporter": "python",
   "pygments_lexer": "ipython3",
   "version": "3.8.5"
  }
 },
 "nbformat": 4,
 "nbformat_minor": 4
}
