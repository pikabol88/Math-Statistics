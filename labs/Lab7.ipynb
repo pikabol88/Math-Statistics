{
 "cells": [
  {
   "cell_type": "code",
   "execution_count": 64,
   "metadata": {},
   "outputs": [],
   "source": [
    "import numpy as np\n",
    "import matplotlib.pyplot as plt\n",
    "import scipy.stats as stats\n",
    "import scipy.optimize as opt\n",
    "from tabulate import tabulate\n",
    "from scipy.stats import laplace, uniform\n",
    "import math"
   ]
  },
  {
   "cell_type": "markdown",
   "metadata": {},
   "source": [
    "## Постановка задачи:\n",
    "Сгенерировать выборку объёмом $100$ элементов для нормального распределения $N(x,0,1).$ \n",
    "\n",
    "По сгенерированной выборке оценить параметры $\\mu$ и $\\sigma$ нормального закона методом максимального правдоподобия. В качестве основной гипотезы $H_{0}$ будем считать, что сгенерированное распределение имеет вид $N(x,\\hat{\\mu}, \\hat{\\sigma})$. Проверить основную гипотезу, используя критерий согласия $\\chi^{2}$. В качестве уровня значимости взять $\\alpha = 0.05$. Привести таблицу вычислений $\\chi^{2}$. \n",
    "\n",
    "\n",
    "Сгенерировать выборку объемом $20$ элементов для распределения Лапласа. Проверить гипотезу $H_0^*$ нормальности этой выборки, используя критерий согласия $\\chi^{2}$.\n",
    "\t\n"
   ]
  },
  {
   "cell_type": "code",
   "execution_count": 98,
   "metadata": {},
   "outputs": [],
   "source": [
    "points = 20\n",
    "sample_size = 100\n",
    "start, end = -1.5, 1.5\n",
    "alpha = 0.05\n",
    "p_ = 1 - alpha\n",
    "k = 7\n",
    "\n",
    "mu_, sigma_squared = 0, 1\n",
    "\n",
    "\n",
    "def get_k(size):\n",
    "    return math.ceil(1.72 * (size) ** (1/3))"
   ]
  },
  {
   "cell_type": "markdown",
   "metadata": {},
   "source": [
    "## Метод максимального правдоподобия"
   ]
  },
  {
   "cell_type": "code",
   "execution_count": 81,
   "metadata": {},
   "outputs": [],
   "source": [
    "def max_likelihood_estimation(sample):\n",
    "    mu = np.mean(sample)\n",
    "    sigma = np.std(sample)\n",
    "    print(\"mu = \", np.around(mu, decimals=2),\n",
    "          \" sigma=\", np.around(sigma, decimals=2))\n",
    "    return mu, sigma"
   ]
  },
  {
   "cell_type": "markdown",
   "metadata": {},
   "source": [
    "## Критерий согласия $\\chi^{2}$"
   ]
  },
  {
   "cell_type": "code",
   "execution_count": 103,
   "metadata": {},
   "outputs": [],
   "source": [
    "def calculate_chi2(p,n):\n",
    "    tmp = np.multiply((n - sample_size * p), (n - sample_size * p))\n",
    "    chi2 = np.divide(tmp, p * sample_size)\n",
    "    return chi2\n",
    "\n",
    "def is_hypo_accepted(quantile, chi2):\n",
    "    if quantile > np.sum(chi2):\n",
    "        return True\n",
    "    return False\n",
    "\n",
    "def find_all_probabilities(borders, hypothesis, sample):\n",
    "    p = np.array(hypothesis(start))\n",
    "    n = np.array(len(sample[sample < start]))\n",
    "\n",
    "    for i in range(k - 2):\n",
    "        p_i = hypothesis(borders[i + 1]) - hypothesis(borders[i])\n",
    "        p = np.append(p, p_i)\n",
    "        n_i = len(sample[(sample < borders[i + 1]) & (sample >= borders[i])])\n",
    "        n = np.append(n, n_i)\n",
    "\n",
    "    p = np.append(p, 1 - hypothesis(end))\n",
    "    n = np.append(n, len(sample[sample >= end]))\n",
    "    \n",
    "    return p,n\n",
    "\n",
    "    \n",
    "def chi_square_criterion(sample, mu, sigma):\n",
    "    hypothesis = lambda x: stats.norm.cdf(x, loc=mu, scale=sigma)\n",
    "    borders = np.linspace(start, end, num=k - 1)\n",
    "    p,n = find_all_probabilities(borders, hypothesis, sample)\n",
    "    chi2 = calculate_chi2(p,n)\n",
    "    quantile = stats.chi2.ppf(p_, k - 1)\n",
    "    isAccepted = is_hypo_accepted(quantile, chi2)\n",
    "    return chi2, isAccepted, borders, p, n"
   ]
  },
  {
   "cell_type": "markdown",
   "metadata": {},
   "source": [
    "## Вывод результатов в таблицу"
   ]
  },
  {
   "cell_type": "code",
   "execution_count": 104,
   "metadata": {},
   "outputs": [],
   "source": [
    "def build_table(chi2, borders, p, n, sample_size):\n",
    "    rows = []\n",
    "    headers = [\"$i$\", \"$\\\\Delta_i = [a_{i-1}, a_i)$\", \"$n_i$\", \"$p_i$\",\n",
    "               \"$np_i$\", \"$n_i - np_i$\", \"$(n_i - np_i)^2/np_i$\"]   \n",
    "    for i in range(0, len(n)):\n",
    "        if i == 0:\n",
    "            limits = [\"$-\\infty$\", np.around(borders[0], decimals=2)]\n",
    "        elif i == len(n) - 1:\n",
    "            limits = [np.around(borders[-1], decimals=2), \"$\\infty$\"]\n",
    "        else:\n",
    "            limits = [np.around(borders[i - 1], decimals=2), np.around(borders[i], decimals=2)]\n",
    "        rows.append([i + 1, limits, n[i],\n",
    "             np.around(p[i], decimals=4),\n",
    "             np.around(p[i] * sample_size, decimals=2),\n",
    "             np.around(p[i] - sample_size * p[i], decimals=2),\n",
    "             np.around(chi2[i], decimals=2)] )\n",
    "    rows.append([\"\\\\sum\", \"--\", np.sum(n), np.around(np.sum(p), decimals=4),\n",
    "                 np.around(np.sum(p * sample_size), decimals=2),\n",
    "                 -np.around(np.sum(n - sample_size * p), decimals=2),\n",
    "                 np.around(np.sum(chi2), decimals=2)]\n",
    "    )\n",
    "    return tabulate(rows, headers, tablefmt=\"latex_raw\")\n"
   ]
  },
  {
   "cell_type": "code",
   "execution_count": 105,
   "metadata": {},
   "outputs": [
    {
     "name": "stdout",
     "output_type": "stream",
     "text": [
      "mu =  0.03  sigma= 0.88\n",
      "\\begin{tabular}{llrrrrr}\n",
      "\\hline\n",
      " $i$   & $\\Delta_i = [a_{i-1}, a_i)$   &   $n_i$ &   $p_i$ &   $np_i$ &   $n_i - np_i$ &   $(n_i - np_i)^2/np_i$ \\\\\n",
      "\\hline\n",
      " 1     & ['$-\\\\infty$', -1.5]          &       2 &  0.0405 &     4.05 &          -4.01 &                    1.04 \\\\\n",
      " 2     & [-1.5, -1.0]                  &      15 &  0.0794 &     7.94 &          -7.86 &                    6.27 \\\\\n",
      " 3     & [-1.0, -0.5]                  &      11 &  0.1524 &    15.24 &         -15.08 &                    1.18 \\\\\n",
      " 4     & [-0.5, 0.0]                   &      22 &  0.2132 &    21.32 &         -21.1  &                    0.02 \\\\\n",
      " 5     & [0.0, 0.5]                    &      18 &  0.2175 &    21.75 &         -21.53 &                    0.65 \\\\\n",
      " 6     & [0.5, 1.0]                    &      18 &  0.1619 &    16.19 &         -16.03 &                    0.2  \\\\\n",
      " 7     & [1.0, 1.5]                    &      12 &  0.0879 &     8.79 &          -8.7  &                    1.18 \\\\\n",
      " 8     & [1.5, '$\\\\infty$']            &       2 &  0.0473 &     4.73 &          -4.68 &                    1.57 \\\\\n",
      " \\sum  & --                            &     100 &  1      &   100    &          -0    &                   12.11 \\\\\n",
      "\\hline\n",
      "\\end{tabular}\n",
      "Hypothesis Accepted!\n"
     ]
    }
   ],
   "source": [
    "k = get_k(100)\n",
    "normal_s = np.random.normal(0, 1 , sample_size)\n",
    "mu, sigma = max_likelihood_estimation(normal_s)\n",
    "chi2, isAccepted, borders, p, n = chi_square_criterion(normal_s, mu, sigma)\n",
    "print(build_table(chi2, borders, p, n, 100))\n",
    "if isAccepted:\n",
    "    print(\"Hypothesis Accepted!\")\n",
    "else:\n",
    "    print(\"Hypothesis Not Accepted!\")"
   ]
  },
  {
   "cell_type": "code",
   "execution_count": 96,
   "metadata": {},
   "outputs": [
    {
     "name": "stdout",
     "output_type": "stream",
     "text": [
      "mu =  0.12  sigma= 0.97\n",
      "\\begin{tabular}{llrrrrr}\n",
      "\\hline\n",
      " $i$   & $\\Delta_i = [a_{i-1}, a_i)$   &   $n_i$ &   $p_i$ &   $np_i$ &   $n_i - np_i$ &   $(n_i - np_i)^2/np_i$ \\\\\n",
      "\\hline\n",
      " 1     & ['$-\\\\infty$', -1.5]          &       0 &  0.047  &     0.94 &          -0.89 &                    0.69 \\\\\n",
      " 2     & [-1.5, -0.5]                  &       4 &  0.2129 &     4.26 &          -4.05 &                    1.72 \\\\\n",
      " 3     & [-0.5, 0.5]                   &      12 &  0.3909 &     7.82 &          -7.43 &                    2.7  \\\\\n",
      " 4     & [0.5, 1.5]                    &       1 &  0.2712 &     5.42 &          -5.15 &                    2.04 \\\\\n",
      " 5     & [1.5, '$\\\\infty$']            &       3 &  0.078  &     1.56 &          -1.48 &                    0.92 \\\\\n",
      " \\sum  & --                            &      20 &  1      &    20    &           0    &                    8.06 \\\\\n",
      "\\hline\n",
      "\\end{tabular}\n",
      "Hypothesis Accepted!\n"
     ]
    }
   ],
   "source": [
    "k = get_k(20)\n",
    "normal_s = distribution = laplace.rvs(size=20, scale=1 / math.sqrt(2), loc=0)\n",
    "mu, sigma = max_likelihood_estimation(normal_s)\n",
    "chi2, isAccepted, borders, p, n = chi_square_criterion(normal_s, mu, sigma)\n",
    "print(build_table(chi2, borders, p, n,20 ))\n",
    "if isAccepted:\n",
    "    print(\"Hypothesis Accepted!\")\n",
    "else:\n",
    "    print(\"Hypothesis Not Accepted!\")"
   ]
  },
  {
   "cell_type": "code",
   "execution_count": 97,
   "metadata": {},
   "outputs": [
    {
     "name": "stdout",
     "output_type": "stream",
     "text": [
      "mu =  -0.15  sigma= 0.77\n",
      "\\begin{tabular}{llrrrrr}\n",
      "\\hline\n",
      " $i$   & $\\Delta_i = [a_{i-1}, a_i)$   &   $n_i$ &   $p_i$ &   $np_i$ &   $n_i - np_i$ &   $(n_i - np_i)^2/np_i$ \\\\\n",
      "\\hline\n",
      " 1     & ['$-\\\\infty$', -1.5]          &       1 &  0.04   &     0.8  &          -0.76 &                    0.63 \\\\\n",
      " 2     & [-1.5, -0.5]                  &       6 &  0.2841 &     5.68 &          -5.4  &                    2.11 \\\\\n",
      " 3     & [-0.5, 0.5]                   &       8 &  0.4748 &     9.5  &          -9.02 &                    3.2  \\\\\n",
      " 4     & [0.5, 1.5]                    &       5 &  0.1845 &     3.69 &          -3.51 &                    1.56 \\\\\n",
      " 5     & [1.5, '$\\\\infty$']            &       0 &  0.0165 &     0.33 &          -0.31 &                    0.39 \\\\\n",
      " \\sum  & --                            &      20 &  1      &    20    &           0    &                    7.88 \\\\\n",
      "\\hline\n",
      "\\end{tabular}\n",
      "Hypothesis Accepted!\n"
     ]
    }
   ],
   "source": [
    "k = get_k(20)\n",
    "normal_s = distribution =  uniform.rvs(size=20, loc=-math.sqrt(3), scale=2 * math.sqrt(3))\n",
    "mu, sigma = max_likelihood_estimation(normal_s)\n",
    "chi2, isAccepted, borders, p, n = chi_square_criterion(normal_s, mu, sigma)\n",
    "print(build_table(chi2, borders, p, n, 20))\n",
    "if isAccepted:\n",
    "    print(\"Hypothesis Accepted!\")\n",
    "else:\n",
    "    print(\"Hypothesis Not Accepted!\")"
   ]
  },
  {
   "cell_type": "code",
   "execution_count": null,
   "metadata": {},
   "outputs": [],
   "source": []
  },
  {
   "cell_type": "code",
   "execution_count": null,
   "metadata": {},
   "outputs": [],
   "source": []
  }
 ],
 "metadata": {
  "kernelspec": {
   "display_name": "Python 3",
   "language": "python",
   "name": "python3"
  },
  "language_info": {
   "codemirror_mode": {
    "name": "ipython",
    "version": 3
   },
   "file_extension": ".py",
   "mimetype": "text/x-python",
   "name": "python",
   "nbconvert_exporter": "python",
   "pygments_lexer": "ipython3",
   "version": "3.8.5"
  }
 },
 "nbformat": 4,
 "nbformat_minor": 4
}
