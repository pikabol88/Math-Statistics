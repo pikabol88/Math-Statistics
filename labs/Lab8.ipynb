{
 "cells": [
  {
   "cell_type": "code",
   "execution_count": null,
   "metadata": {},
   "outputs": [],
   "source": [
    "import numpy as np\n",
    "import matplotlib.pyplot as plt\n",
    "import scipy.stats as stats\n",
    "import scipy.optimize as opt\n",
    "from tabulate import tabulate\n",
    "from scipy.stats import laplace, uniform\n",
    "import math"
   ]
  },
  {
   "cell_type": "markdown",
   "metadata": {},
   "source": [
    "## Постановка задачи:\n",
    "Провести дисперсионный анализ с применением крритерия Фишера по данным регистраторов для одного сигнала. Определить области однородности сигнала, переходные области, шум/ фон. Длину сигнала взять равной 1024.\n",
    "\n",
    "\t\n"
   ]
  },
  {
   "cell_type": "code",
   "execution_count": 40,
   "metadata": {},
   "outputs": [],
   "source": [
    "signal_size = 1024\n",
    "file_name = \"wave_ampl.txt\"\n",
    "my_types = {\"b\":\"Фон\", \"t\":\"Переход\", \"s\":\"Сигнал\"}\n",
    "signal_num = 18"
   ]
  },
  {
   "cell_type": "code",
   "execution_count": 41,
   "metadata": {},
   "outputs": [],
   "source": [
    "def get_data(filename, signal_size):\n",
    "    data = []\n",
    "    with open(filename, 'r') as file:\n",
    "        for line in file.readlines():\n",
    "            remove_dirst_str = line.replace(\"[\", \"\")\n",
    "            remove_next_str = remove_dirst_str.replace(\"]\", \"\")\n",
    "            data.append(remove_next_str.split(\", \"))\n",
    "\n",
    "    data_float_format = []\n",
    "    for item in data:\n",
    "        data_float_format.append([float(x) for x in item])\n",
    "\n",
    "    new_data = np.asarray(data_float_format)\n",
    "    data = np.reshape(new_data, (new_data.shape[1] // signal_size, signal_size))\n",
    "    return data"
   ]
  },
  {
   "cell_type": "code",
   "execution_count": 42,
   "metadata": {},
   "outputs": [],
   "source": [
    "def draw_signal_data(signal):\n",
    "    plt.title(\"Signal\")    \n",
    "    plt.grid()\n",
    "    plt.plot(signal, 'magenta')\n",
    "    plt.savefig('signal.png')\n",
    "    plt.show()"
   ]
  },
  {
   "cell_type": "code",
   "execution_count": 43,
   "metadata": {},
   "outputs": [],
   "source": [
    "def draw_hist(signal):\n",
    "    plt.title(\"Signal histogram\")\n",
    "    plt.grid() \n",
    "    bin = int(math.log2(len(signal) + 1))\n",
    "    hist = plt.hist(signal, bins=bin)  \n",
    "    plt.savefig('hist.png')\n",
    "    plt.show()\n",
    "    return bin, hist"
   ]
  },
  {
   "cell_type": "code",
   "execution_count": 44,
   "metadata": {},
   "outputs": [],
   "source": [
    "def get_areas(signal):\n",
    "    bin, hist = draw_hist(signal)\n",
    "    \n",
    "    count = []\n",
    "    start = []\n",
    "    end = []\n",
    "    types = [0] * bin\n",
    "\n",
    "    for i in range(bin):\n",
    "        count.append(hist[0][i])\n",
    "        start.append(hist[1][i])\n",
    "        end.append(hist[1][i + 1])\n",
    "\n",
    "    sortedHist = sorted(count)\n",
    "    repeat = 0\n",
    "    for i in range(bin):\n",
    "        for j in range(bin):\n",
    "            if sortedHist[len(sortedHist) - 1 - i] == count[j]:\n",
    "                if repeat == 0: types[j] = \"b\"\n",
    "                elif repeat == 1: types[j] = \"s\"\n",
    "                else: types[j] = \"t\"\n",
    "                repeat += 1\n",
    "\n",
    "    return start, end, types"
   ]
  },
  {
   "cell_type": "code",
   "execution_count": 45,
   "metadata": {},
   "outputs": [],
   "source": [
    "def get_converted_data(signal, start, end, types):\n",
    "    new_types = [0] * len(signal)\n",
    "    zones = []\n",
    "    zones_type = []\n",
    "\n",
    "    for i in range(len(signal)):\n",
    "        for j in range(len(types)):\n",
    "            if (signal[i] >= start[j]) and (signal[i] <= end[j]):\n",
    "                new_types[i] = types[j]\n",
    "\n",
    "    currType = new_types[0]\n",
    "    start = 0\n",
    "    for i in range(len(new_types)):\n",
    "        if currType != new_types[i]:\n",
    "            end = i\n",
    "            zones_type.append(currType)\n",
    "            zones.append([start, end])\n",
    "            start = end\n",
    "            currType = new_types[i]\n",
    "\n",
    "    if currType != zones_type[len(zones_type) - 1]:\n",
    "        zones_type.append(currType)\n",
    "        zones.append([end, len(signal) - 1])\n",
    "        \n",
    "    signal_data = list()\n",
    "    for limits in zones:\n",
    "        data_part = list()\n",
    "        for j in range(limits[0], limits[1]):\n",
    "            data_part.append(signal[j])\n",
    "        signal_data.append(data_part)\n",
    "\n",
    "    return zones, zones_type, signal_data"
   ]
  },
  {
   "cell_type": "code",
   "execution_count": 52,
   "metadata": {},
   "outputs": [],
   "source": [
    "def draw_areas(signal, area_data, types):\n",
    "    plt.title(\"Divided areas for a signal without outliers\")\n",
    "    print(types)\n",
    "    for i in range(len(area_data)):\n",
    "        if types[i] == \"b\":\n",
    "            color_ = 'r'\n",
    "        if types[i] == \"s\":\n",
    "            color_ = 'g'\n",
    "        if types[i] == \"t\":\n",
    "            color_ = 'b'\n",
    "        plt.plot([num for num in range(area_data[i][0], area_data[i][1], 1)], signal_data[i], color=color_, label=my_types[types[i]])\n",
    "   \n",
    "    plt.grid()\n",
    "    plt.legend()\n",
    "    plt.savefig('areas.png')\n",
    "    plt.show()"
   ]
  },
  {
   "cell_type": "code",
   "execution_count": 53,
   "metadata": {},
   "outputs": [],
   "source": [
    "def get_inter_group_D(signal):\n",
    "    summ = 0.0\n",
    "    mean = np.empty(signal.shape[0])\n",
    "    for i in range(len(signal)):\n",
    "        mean[i] = np.mean(signal[i])\n",
    "    meanMean = np.mean(mean)\n",
    "\n",
    "    for i in range(len(mean)):\n",
    "        summ += (mean[i] - meanMean) ** 2\n",
    "    summ /= (signal.shape[0] - 1)\n",
    "\n",
    "    return len(signal) * summ\n",
    "\n",
    "\n",
    "def get_intar_group_D(signal):\n",
    "    result = 0.0\n",
    "    for i in range(signal.shape[0]):\n",
    "        mean = np.mean(signal[i])\n",
    "        summ = 0.0\n",
    "        for j in range(signal.shape[1]):\n",
    "            summ += (signal[i][j] - mean) ** 2\n",
    "        summ /= (signal.shape[0] - 1)\n",
    "        result += summ\n",
    "\n",
    "    return result / signal.shape[0]\n",
    "\n",
    "\n",
    "def get_F(signal, k):\n",
    "    newSizeY = int(signal.size / k)\n",
    "    newSizeX = k\n",
    "    print(\"k = \" + str(k))\n",
    "    splitData = np.reshape(signal, (newSizeX, newSizeY))\n",
    "    interGroup = get_inter_group_D(splitData)\n",
    "    print(\"Inter = \" + str(interGroup))\n",
    "    intraGroup = get_intar_group_D(splitData)\n",
    "    print(\"Intar = \" + str(intraGroup))\n",
    "    print(\"F = \" + str(interGroup / intraGroup))\n",
    "    return interGroup / intraGroup\n",
    "\n",
    "\n",
    "def get_K(num):\n",
    "    i = 4\n",
    "    while num % i != 0:\n",
    "        i += 1\n",
    "    return i\n",
    "\n",
    "\n",
    "def get_Fisher(signal, area_data):\n",
    "    fishers = []\n",
    "    for i in range(len(area_data)):\n",
    "        start = area_data[i][0]\n",
    "        finish = area_data[i][1]\n",
    "        k = get_K(finish - start)\n",
    "        while k == finish - start:\n",
    "            finish += 1\n",
    "            k = get_K(finish - start)\n",
    "        fishers.append(get_F(signal[start:finish], int(k)))\n",
    "    return fishers"
   ]
  },
  {
   "cell_type": "code",
   "execution_count": 54,
   "metadata": {},
   "outputs": [
    {
     "data": {
      "image/png": "[encoded data removed]",
      "text/plain": [
       "<Figure size 432x288 with 1 Axes>"
      ]
     },
     "metadata": {
      "needs_background": "light"
     },
     "output_type": "display_data"
    },
    {
     "data": {
      "image/png": "[encoded data removed]",
      "text/plain": [
       "<Figure size 432x288 with 1 Axes>"
      ]
     },
     "metadata": {
      "needs_background": "light"
     },
     "output_type": "display_data"
    }
   ],
   "source": [
    "signal = get_data(file_name, signal_size)\n",
    "signal = signal[signal_num]\n",
    "draw_signal_data(signal)\n",
    "start, finish, types = get_areas(signal)"
   ]
  },
  {
   "cell_type": "code",
   "execution_count": 55,
   "metadata": {},
   "outputs": [
    {
     "name": "stdout",
     "output_type": "stream",
     "text": [
      "k = 4\n",
      "Inter = 3.802969965507401e-05\n",
      "Intar = 0.0005496889159818828\n",
      "F = 0.06918403946192618\n",
      "k = 6\n",
      "Inter = 0.10262108570572664\n",
      "Intar = 0.0006147307623573052\n",
      "F = 166.93663631246636\n",
      "k = 4\n",
      "Inter = 5.100911798514388e-05\n",
      "Intar = 0.0011512230722079248\n",
      "F = 0.04430863072203179\n",
      "k = 5\n",
      "Inter = 0.08551932864081377\n",
      "Intar = 0.0013646711586216948\n",
      "F = 62.66661979372928\n",
      "k = 5\n",
      "Inter = 0.00010741346878913218\n",
      "Intar = 0.00020892286220927143\n",
      "F = 0.5141297972528229\n",
      "[0.06918403946192618, 166.93663631246636, 0.04430863072203179, 62.66661979372928, 0.5141297972528229]\n"
     ]
    }
   ],
   "source": [
    "zones, zones_types, signal_data = get_converted_data(signal, start, finish, types)\n",
    "print(get_Fisher(signal, zones))"
   ]
  },
  {
   "cell_type": "code",
   "execution_count": 56,
   "metadata": {},
   "outputs": [
    {
     "name": "stdout",
     "output_type": "stream",
     "text": [
      "['b', 't', 's', 't', 'b']\n"
     ]
    },
    {
     "ename": "TypeError",
     "evalue": "'float' object cannot be interpreted as an integer",
     "output_type": "error",
     "traceback": [
      "\u001b[1;31m---------------------------------------------------------------------------\u001b[0m",
      "\u001b[1;31mTypeError\u001b[0m                                 Traceback (most recent call last)",
      "\u001b[1;32m<ipython-input-56-ca920e3195ae>\u001b[0m in \u001b[0;36m<module>\u001b[1;34m\u001b[0m\n\u001b[0;32m      1\u001b[0m \u001b[0mtypes\u001b[0m \u001b[1;33m=\u001b[0m \u001b[1;33m[\u001b[0m\u001b[1;34m'b'\u001b[0m\u001b[1;33m,\u001b[0m \u001b[1;34m't'\u001b[0m\u001b[1;33m,\u001b[0m \u001b[1;34m's'\u001b[0m\u001b[1;33m,\u001b[0m \u001b[1;34m't'\u001b[0m\u001b[1;33m,\u001b[0m \u001b[1;34m'b'\u001b[0m\u001b[1;33m]\u001b[0m\u001b[1;33m\u001b[0m\u001b[1;33m\u001b[0m\u001b[0m\n\u001b[1;32m----> 2\u001b[1;33m \u001b[0mdraw_areas\u001b[0m\u001b[1;33m(\u001b[0m\u001b[0msignal_data\u001b[0m\u001b[1;33m,\u001b[0m \u001b[0mzones\u001b[0m\u001b[1;33m,\u001b[0m \u001b[0mtypes\u001b[0m\u001b[1;33m)\u001b[0m\u001b[1;33m\u001b[0m\u001b[1;33m\u001b[0m\u001b[0m\n\u001b[0m",
      "\u001b[1;32m<ipython-input-52-260d1152c9d1>\u001b[0m in \u001b[0;36mdraw_areas\u001b[1;34m(signal, area_data, types)\u001b[0m\n\u001b[0;32m      9\u001b[0m         \u001b[1;32mif\u001b[0m \u001b[0mtypes\u001b[0m\u001b[1;33m[\u001b[0m\u001b[0mi\u001b[0m\u001b[1;33m]\u001b[0m \u001b[1;33m==\u001b[0m \u001b[1;34m\"t\"\u001b[0m\u001b[1;33m:\u001b[0m\u001b[1;33m\u001b[0m\u001b[1;33m\u001b[0m\u001b[0m\n\u001b[0;32m     10\u001b[0m             \u001b[0mcolor_\u001b[0m \u001b[1;33m=\u001b[0m \u001b[1;34m'b'\u001b[0m\u001b[1;33m\u001b[0m\u001b[1;33m\u001b[0m\u001b[0m\n\u001b[1;32m---> 11\u001b[1;33m         \u001b[0mplt\u001b[0m\u001b[1;33m.\u001b[0m\u001b[0mplot\u001b[0m\u001b[1;33m(\u001b[0m\u001b[1;33m[\u001b[0m\u001b[0mnum\u001b[0m \u001b[1;32mfor\u001b[0m \u001b[0mnum\u001b[0m \u001b[1;32min\u001b[0m \u001b[0mrange\u001b[0m\u001b[1;33m(\u001b[0m\u001b[0marea_data\u001b[0m\u001b[1;33m[\u001b[0m\u001b[0mi\u001b[0m\u001b[1;33m]\u001b[0m\u001b[1;33m[\u001b[0m\u001b[1;36m0\u001b[0m\u001b[1;33m]\u001b[0m\u001b[1;33m,\u001b[0m \u001b[0marea_data\u001b[0m\u001b[1;33m[\u001b[0m\u001b[0mi\u001b[0m\u001b[1;33m]\u001b[0m\u001b[1;33m[\u001b[0m\u001b[1;36m1\u001b[0m\u001b[1;33m]\u001b[0m \u001b[1;33m-\u001b[0m\u001b[1;36m0.5\u001b[0m\u001b[1;33m,\u001b[0m \u001b[1;36m1\u001b[0m\u001b[1;33m)\u001b[0m\u001b[1;33m]\u001b[0m\u001b[1;33m,\u001b[0m \u001b[0msignal_data\u001b[0m\u001b[1;33m[\u001b[0m\u001b[0mi\u001b[0m\u001b[1;33m]\u001b[0m\u001b[1;33m,\u001b[0m \u001b[0mcolor\u001b[0m\u001b[1;33m=\u001b[0m\u001b[0mcolor_\u001b[0m\u001b[1;33m,\u001b[0m \u001b[0mlabel\u001b[0m\u001b[1;33m=\u001b[0m\u001b[0mmy_types\u001b[0m\u001b[1;33m[\u001b[0m\u001b[0mtypes\u001b[0m\u001b[1;33m[\u001b[0m\u001b[0mi\u001b[0m\u001b[1;33m]\u001b[0m\u001b[1;33m]\u001b[0m\u001b[1;33m)\u001b[0m\u001b[1;33m\u001b[0m\u001b[1;33m\u001b[0m\u001b[0m\n\u001b[0m\u001b[0;32m     12\u001b[0m \u001b[1;33m\u001b[0m\u001b[0m\n\u001b[0;32m     13\u001b[0m     \u001b[0mplt\u001b[0m\u001b[1;33m.\u001b[0m\u001b[0mgrid\u001b[0m\u001b[1;33m(\u001b[0m\u001b[1;33m)\u001b[0m\u001b[1;33m\u001b[0m\u001b[1;33m\u001b[0m\u001b[0m\n",
      "\u001b[1;31mTypeError\u001b[0m: 'float' object cannot be interpreted as an integer"
     ]
    },
    {
     "data": {
      "image/png": "[encoded data removed]",
      "text/plain": [
       "<Figure size 432x288 with 1 Axes>"
      ]
     },
     "metadata": {
      "needs_background": "light"
     },
     "output_type": "display_data"
    }
   ],
   "source": [
    "types = ['b', 't', 's', 't', 'b']\n",
    "draw_areas(signal_data, zones, types)"
   ]
  },
  {
   "cell_type": "code",
   "execution_count": 57,
   "metadata": {},
   "outputs": [
    {
     "name": "stdout",
     "output_type": "stream",
     "text": [
      "[[0, 248], [248, 302], [302, 738], [738, 793], [793, 1023]]\n"
     ]
    }
   ],
   "source": [
    "print(zones)"
   ]
  },
  {
   "cell_type": "code",
   "execution_count": null,
   "metadata": {},
   "outputs": [],
   "source": []
  },
  {
   "cell_type": "code",
   "execution_count": null,
   "metadata": {},
   "outputs": [],
   "source": []
  }
 ],
 "metadata": {
  "kernelspec": {
   "display_name": "Python 3",
   "language": "python",
   "name": "python3"
  },
  "language_info": {
   "codemirror_mode": {
    "name": "ipython",
    "version": 3
   },
   "file_extension": ".py",
   "mimetype": "text/x-python",
   "name": "python",
   "nbconvert_exporter": "python",
   "pygments_lexer": "ipython3",
   "version": "3.8.5"
  }
 },
 "nbformat": 4,
 "nbformat_minor": 4
}
