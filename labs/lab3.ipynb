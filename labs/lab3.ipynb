{
 "cells": [
  {
   "cell_type": "code",
   "execution_count": 14,
   "metadata": {},
   "outputs": [],
   "source": [
    "from numpy import random\n",
    "from tabulate import tabulate\n",
    "import numpy as np\n",
    "import matplotlib.pyplot as plt"
   ]
  },
  {
   "cell_type": "markdown",
   "metadata": {},
   "source": [
    "## Постановка задачи\n",
    "Сгенерировать выборки размером 20 и 100 элементов.\n",
    "Построить для них боксплот Тьюки.\n",
    "Для каждого распределения определить долю выбросов экспериментально (сгенерировав выборку, соответствующую распределению 1000\n",
    "раз, и вычислив среднюю долю выбросов) и сравнить с результатами, полученными теоретически."
   ]
  },
  {
   "cell_type": "code",
   "execution_count": 15,
   "metadata": {},
   "outputs": [],
   "source": [
    "sample_size = [20,100]\n",
    "loc, scale = 0.0, 1.0\n",
    "EXP_NUM = 3"
   ]
  },
  {
   "cell_type": "code",
   "execution_count": 34,
   "metadata": {},
   "outputs": [],
   "source": [
    "def norm(size):\n",
    "    return random.normal(loc, scale, size)\n",
    "\n",
    "def cauchy(size):\n",
    "    return random.standard_cauchy(size)\n",
    "\n",
    "def laplace(size):\n",
    "    return random.laplace(loc, 1 / np.sqrt(2), size)\n",
    "\n",
    "def poisson(size):\n",
    "    return random.poisson(10, size)\n",
    "\n",
    "def uniform(size):\n",
    "    return  random.uniform(-np.sqrt(3), np.sqrt(3), size)\n",
    "\n",
    "distribution_fun = { 'norm' : norm,\n",
    "                     'cauchy' : cauchy,\n",
    "                     'laplace' : laplace,\n",
    "                     'poisson' : poisson,\n",
    "                     'uniform' : uniform, }"
   ]
  },
  {
   "cell_type": "markdown",
   "metadata": {},
   "source": [
    "## Построение боксплота Тьюки"
   ]
  },
  {
   "cell_type": "code",
   "execution_count": 17,
   "metadata": {},
   "outputs": [
    {
     "data": {
      "image/png": "[encoded data removed]",
      "text/plain": [
       "<Figure size 432x288 with 1 Axes>"
      ]
     },
     "metadata": {
      "needs_background": "light"
     },
     "output_type": "display_data"
    },
    {
     "data": {
      "image/png": "[encoded data removed]",
      "text/plain": [
       "<Figure size 432x288 with 1 Axes>"
      ]
     },
     "metadata": {
      "needs_background": "light"
     },
     "output_type": "display_data"
    },
    {
     "data": {
      "image/png": "[encoded data removed]",
      "text/plain": [
       "<Figure size 432x288 with 1 Axes>"
      ]
     },
     "metadata": {
      "needs_background": "light"
     },
     "output_type": "display_data"
    },
    {
     "data": {
      "image/png": "[encoded data removed]",
      "text/plain": [
       "<Figure size 432x288 with 1 Axes>"
      ]
     },
     "metadata": {
      "needs_background": "light"
     },
     "output_type": "display_data"
    },
    {
     "data": {
      "image/png": "[encoded data removed]",
      "text/plain": [
       "<Figure size 432x288 with 1 Axes>"
      ]
     },
     "metadata": {
      "needs_background": "light"
     },
     "output_type": "display_data"
    }
   ],
   "source": [
    "for dist in distribution_fun:\n",
    "    sample_20 = distribution_fun[dist](20)\n",
    "    sample_100 = distribution_fun[dist](100)\n",
    "    plt.boxplot((sample_20, sample_100), labels=[\"n = 20\", \"n = 100\"])\n",
    "    plt.ylabel(\"X\")\n",
    "    plt.title(dist)\n",
    "    plt.show()    "
   ]
  },
  {
   "cell_type": "markdown",
   "metadata": {},
   "source": [
    "## Определение доли выбросов"
   ]
  },
  {
   "cell_type": "code",
   "execution_count": 18,
   "metadata": {},
   "outputs": [],
   "source": [
    "def findMinBoarder(sample):\n",
    "    return np.quantile(sample, 0.25) - 1.5 * (np.quantile(sample, 0.75) - np.quantile(sample, 0.25))\n",
    "\n",
    "def findMaxBoarder(sample):\n",
    "    return np.quantile(sample, 0.25) + 1.5 * (np.quantile(sample, 0.75) - np.quantile(sample, 0.25))"
   ]
  },
  {
   "cell_type": "code",
   "execution_count": 19,
   "metadata": {},
   "outputs": [],
   "source": [
    "def findEjectionFraction(sample, min, max):\n",
    "    result = 0\n",
    "    for el in sample:\n",
    "        if el < min or el > max:\n",
    "            result+=1\n",
    "    return result"
   ]
  },
  {
   "cell_type": "code",
   "execution_count": 40,
   "metadata": {},
   "outputs": [
    {
     "name": "stdout",
     "output_type": "stream",
     "text": [
      "Выборка             Доля выбросов\n",
      "----------------  ---------------\n",
      "norm, n = 20                 0.12\n",
      "cauchy, n = 20               0.27\n",
      "laplace, n = 20              0.2\n",
      "poisson, n = 20              0.03\n",
      "uniform, n = 20              0\n",
      "\n",
      "norm, n = 100                0.14\n",
      "cauchy, n = 100              0.21\n",
      "laplace, n = 100             0.18\n",
      "poisson, n = 100             0.07\n",
      "uniform, n = 100             0.04\n",
      "\n"
     ]
    }
   ],
   "source": [
    "header = [\"Выборка\", \"Доля выбросов\"]\n",
    "rows = []\n",
    "    \n",
    "for size in sample_size:\n",
    "    for dist in distribution_fun:\n",
    "        ejection = 0\n",
    "        for i in range(EXP_NUM):\n",
    "            sample = distribution_fun[dist](size)\n",
    "            min = findMinBoarder(sample)\n",
    "            max = findMaxBoarder(sample)\n",
    "\n",
    "            ejection += findEjectionFraction(sample, min, max)\n",
    "\n",
    "        ejection/=EXP_NUM\n",
    "\n",
    "        rows.append([dist + \", n = \" + str(size), np.around(ejection / size, decimals=2)])\n",
    "    rows.append(\"\")\n",
    "\n",
    "print(tabulate(rows, header))\n",
    "\n",
    "    \n",
    "        "
   ]
  },
  {
   "cell_type": "code",
   "execution_count": null,
   "metadata": {},
   "outputs": [],
   "source": []
  }
 ],
 "metadata": {
  "kernelspec": {
   "display_name": "Python 3",
   "language": "python",
   "name": "python3"
  },
  "language_info": {
   "codemirror_mode": {
    "name": "ipython",
    "version": 3
   },
   "file_extension": ".py",
   "mimetype": "text/x-python",
   "name": "python",
   "nbconvert_exporter": "python",
   "pygments_lexer": "ipython3",
   "version": "3.8.5"
  }
 },
 "nbformat": 4,
 "nbformat_minor": 4
}
